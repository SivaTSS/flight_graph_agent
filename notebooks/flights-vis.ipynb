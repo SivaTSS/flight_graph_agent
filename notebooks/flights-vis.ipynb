{
 "cells": [
  {
   "cell_type": "markdown",
   "metadata": {},
   "source": [
    "#  Flight Graph Insights: A Divide-and-Conquer Strategy"
   ]
  },
  {
   "cell_type": "markdown",
   "metadata": {},
   "source": [
    "This notebook demonstrates a workflow to analyze flight data using a graph-based approach with ArangoDB, NetworkX, LangChain, and LangGraph. \n",
    "\n",
    "The notebook is divided into several sections:\n",
    "1. Installation of required packages.\n",
    "2. Importing and configuring packages.\n",
    "3. Connecting to the ArangoDB database and preparing the flight dataset.\n",
    "4. Persisting and materializing the graph.\n",
    "5. Building a query agent using LangChain & LangGraph.\n",
    "6. Building a user interface using Gradio."
   ]
  },
  {
   "cell_type": "markdown",
   "metadata": {},
   "source": [
    "<p align=\"center\">\n",
    "    <img src=\"https://raw.githubusercontent.com/SivaTSS/flight_graph_agent/main/images/intro_flights.png\" style=\"height: 500px;\">\n",
    "</p>"
   ]
  },
  {
   "cell_type": "markdown",
   "metadata": {
    "id": "L4nmLCFf3HoC"
   },
   "source": [
    "## Install Required Packages"
   ]
  },
  {
   "cell_type": "code",
   "execution_count": 1,
   "metadata": {
    "id": "pV0dx8Ny1q64"
   },
   "outputs": [],
   "source": [
    "# # 1. Install nx-arangodb via pip\n",
    "# # Github: https://github.com/arangodb/nx-arangodb\n",
    "\n",
    "# !pip install nx-arangodb"
   ]
  },
  {
   "cell_type": "code",
   "execution_count": 2,
   "metadata": {},
   "outputs": [],
   "source": [
    "# # 2. Check if you have an NVIDIA GPU\n",
    "# # Note: If this returns \"command not found\", then GPU-based algorithms via cuGraph are unavailable\n",
    "\n",
    "# !nvidia-smi\n",
    "# !nvcc --version"
   ]
  },
  {
   "cell_type": "code",
   "execution_count": 3,
   "metadata": {},
   "outputs": [],
   "source": [
    "# # 3. Install nx-cugraph via pip\n",
    "# # Note: Only enable this installation if the step above is working!\n",
    "\n",
    "# !pip install nx-cugraph-cu12 --extra-index-url https://pypi.nvidia.com # Requires CUDA-capable GPU"
   ]
  },
  {
   "cell_type": "code",
   "execution_count": 4,
   "metadata": {},
   "outputs": [],
   "source": [
    "# # 4. Install LangChain & LangGraph\n",
    "\n",
    "# !pip install --upgrade langchain langchain-community langchain-openai langgraph"
   ]
  },
  {
   "cell_type": "code",
   "execution_count": 5,
   "metadata": {},
   "outputs": [],
   "source": [
    "# !pip install pandas\n",
    "# !pip install matplotlib\n",
    "# !pip install networkx"
   ]
  },
  {
   "cell_type": "code",
   "execution_count": 6,
   "metadata": {},
   "outputs": [],
   "source": [
    "# ! pip install arango_datasets\n"
   ]
  },
  {
   "cell_type": "markdown",
   "metadata": {},
   "source": [
    "---\n",
    "## Import Packages and Configure"
   ]
  },
  {
   "cell_type": "code",
   "execution_count": 7,
   "metadata": {},
   "outputs": [
    {
     "name": "stderr",
     "output_type": "stream",
     "text": [
      "[22:03:23 -0400] [INFO]: NetworkX-cuGraph is unavailable: No module named 'cupy'.\n"
     ]
    }
   ],
   "source": [
    "# Import the required modules\n",
    "\n",
    "import networkx as nx\n",
    "import nx_arangodb as nxadb\n",
    "\n",
    "from arango import ArangoClient\n",
    "\n",
    "import pandas as pd\n",
    "import numpy as np\n",
    "import networkx as nx\n",
    "import matplotlib.pyplot as plt\n",
    "from random import randint\n",
    "import re\n",
    "\n",
    "from langgraph.prebuilt import create_react_agent\n",
    "from langgraph.checkpoint.memory import MemorySaver\n",
    "from langchain_openai import ChatOpenAI\n",
    "from langchain_community.graphs import ArangoGraph\n",
    "from langchain_community.chains.graph_qa.arangodb import ArangoGraphQAChain\n",
    "from langchain_core.tools import tool"
   ]
  },
  {
   "cell_type": "code",
   "execution_count": 8,
   "metadata": {},
   "outputs": [],
   "source": [
    "import json\n",
    "\n",
    "# Load credentials from the JSON file\n",
    "file_path=\"../keys.json\"\n",
    "with open(file_path, 'r', encoding='utf-8') as file:\n",
    "    key_data = json.load(file)\n"
   ]
  },
  {
   "cell_type": "code",
   "execution_count": 9,
   "metadata": {},
   "outputs": [
    {
     "name": "stdout",
     "output_type": "stream",
     "text": [
      "<StandardDatabase _system>\n"
     ]
    }
   ],
   "source": [
    "# Connect to the ArangoDB database \n",
    "\n",
    "db = ArangoClient(hosts=key_data[\"arangodb_host\"]).db(username=\"root\", password=key_data[\"arangodb_password\"], verify=True)\n",
    "\n",
    "print(db)"
   ]
  },
  {
   "cell_type": "markdown",
   "metadata": {},
   "source": [
    "---\n",
    "## Prepare flights dataset"
   ]
  },
  {
   "cell_type": "markdown",
   "metadata": {},
   "source": [
    "### About the dataset:\n",
    "This dataset represents a comprehensive record of flights and airports, organized as a graph in ArangoDB. It is divided into two main collections: airports and flights.\n",
    "\n",
    "### Graph Schema\n",
    "**Graph Name:** FLIGHTS\n",
    "#### Edge Definitions:\n",
    "- **Edge Collection:** flights\n",
    "- **From Vertex Collection:** airports\n",
    "- **To Vertex Collection:** airports\n",
    "\n",
    "This graph schema indicates that each flight (an edge) connects two airports (nodes). By modeling the data this way, we can easily explore relationships and connectivity between airports.\n",
    "\n"
   ]
  },
  {
   "cell_type": "markdown",
   "metadata": {},
   "source": [
    "---\n",
    "### Collection Schema Details\n",
    "\n",
    "#### Airports Collection\n",
    "\n",
    "- **Type**: Document  \n",
    "- **Key Attributes**:\n",
    "  - `_key`, `_id`, `_rev`: Standard document identifiers.\n",
    "  - `name`, `city`, `state`, `country`: Provide detailed location information for each airport.\n",
    "  - `lat`, `long`: Geographic coordinates used for mapping and spatial analysis.\n",
    "  - `vip`: A Boolean flag that might indicate whether the airport has special status or features.\n",
    "\n",
    "##### Example document from the airports collection:\n",
    "\n",
    "```json\n",
    "{\n",
    "  \"_key\": \"00M\",\n",
    "  \"_id\": \"airports/00M\",\n",
    "  \"_rev\": \"_jVk9JKu---\",\n",
    "  \"name\": \"Thigpen \",\n",
    "  \"city\": \"Bay Springs\",\n",
    "  \"state\": \"MS\",\n",
    "  \"country\": \"USA\",\n",
    "  \"lat\": 31.95376472,\n",
    "  \"long\": -89.23450472,\n",
    "  \"vip\": false\n",
    "}\n",
    "```\n",
    "\n",
    "---\n",
    "\n",
    "#### Flights Collection\n",
    "\n",
    "- **Type**: Edge  \n",
    "- **Key Attributes**:\n",
    "  - `_key`, `_id`, `_rev`: Standard edge identifiers.\n",
    "  - `_from`, `_to`: References to the departure and arrival airports in the `airports` collection.\n",
    "- **Flight Details**:\n",
    "  - `Year`, `Month`, `Day`, `DayOfWeek`: Date information for the flight.\n",
    "  - `DepTime`, `ArrTime`, `DepTimeUTC`, `ArrTimeUTC`: Time information, including both local and UTC times.\n",
    "  - `UniqueCarrier`, `FlightNum`, `TailNum`: Airline and flight-specific identifiers.\n",
    "  - `Distance`: The flight distance, which can be used for further analysis such as calculating fuel efficiency or route optimization.\n",
    "\n",
    "##### Example edge from the flights collection:\n",
    "\n",
    "```json\n",
    "{\n",
    "  \"_key\": \"306520629\",\n",
    "  \"_id\": \"flights/306520629\",\n",
    "  \"_from\": \"airports/ATL\",\n",
    "  \"_to\": \"airports/CHS\",\n",
    "  \"_rev\": \"_jVk9djm---\",\n",
    "  \"Year\": 2008,\n",
    "  \"Month\": 1,\n",
    "  \"Day\": 1,\n",
    "  \"DayOfWeek\": 2,\n",
    "  \"DepTime\": 2,\n",
    "  \"ArrTime\": 57,\n",
    "  \"DepTimeUTC\": \"2008-01-01T05:02:00.000Z\",\n",
    "  \"ArrTimeUTC\": \"2008-01-01T05:57:00.000Z\",\n",
    "  \"UniqueCarrier\": \"FL\",\n",
    "  \"FlightNum\": 579,\n",
    "  \"TailNum\": \"N937AT\",\n",
    "  \"Distance\": 259\n",
    "}\n",
    "```\n"
   ]
  },
  {
   "cell_type": "markdown",
   "metadata": {},
   "source": [
    "The following commented-out code demonstrates how to load the flights dataset from ArangoDB. It needs to be run only once and this will create the flights, airport collections and also make a graph named FLIGHTS with flights collection as edges and airports as nodes."
   ]
  },
  {
   "cell_type": "code",
   "execution_count": 10,
   "metadata": {},
   "outputs": [],
   "source": [
    "# from arango_datasets import Datasets\n"
   ]
  },
  {
   "cell_type": "code",
   "execution_count": 11,
   "metadata": {},
   "outputs": [],
   "source": [
    "# # Connect to the datasets interface\n",
    "# datasets = Datasets(db)\n",
    "\n",
    "# # List all available datasets\n",
    "# print(\"Available datasets:\")\n",
    "# print(datasets.list_datasets())\n",
    "\n",
    "# # Show information about the FLIGHTS dataset\n",
    "# print(\"\\nFlights dataset info:\")\n",
    "# print(datasets.dataset_info(\"FLIGHTS\"))\n",
    "\n",
    "# # Load the FLIGHTS dataset (assumed to be returned as a Pandas DataFrame)\n",
    "# flights_data = datasets.load(\"FLIGHTS\")\n",
    "\n"
   ]
  },
  {
   "cell_type": "markdown",
   "metadata": {},
   "source": [
    "---\n",
    "## Persist the Graph in ArangoDB"
   ]
  },
  {
   "cell_type": "markdown",
   "metadata": {},
   "source": [
    "In this section, a connection to the ArangoDB database is made and FLIGHTS graph is retrieved. The graph is initially in a \"lazy\" state, meaning it fetches data on demand. To work more efficiently with the graph using NetworkX, we create a fully materialized copy in memory. This process ensures that all nodes and edges are loaded and available for our analysis."
   ]
  },
  {
   "cell_type": "markdown",
   "metadata": {},
   "source": [
    "<p align=\"center\">\n",
    "    <img src=\"https://raw.githubusercontent.com/arangodb/nx-arangodb/main/doc/_static/nxadb.png\" style=\"height: 200px;\">\n",
    "    <img src=\"https://raw.githubusercontent.com/arangodb/nx-arangodb/main/doc/_static/dispatch.png\" style=\"height: 200px;\">\n",
    "</p>"
   ]
  },
  {
   "cell_type": "code",
   "execution_count": 12,
   "metadata": {},
   "outputs": [],
   "source": [
    "def materialize_graph(lazy_graph):\n",
    "    \"\"\"\n",
    "    Create a materialized copy of a lazy graph.\n",
    "    This function copies all nodes and edges from a lazy graph into a new NetworkX MultiDiGraph.\n",
    "    \"\"\"\n",
    "    materialized = nx.MultiDiGraph()\n",
    "    materialized.add_nodes_from(lazy_graph.nodes(data=True))\n",
    "    materialized.add_edges_from(lazy_graph.edges(data=True))\n",
    "    return materialized"
   ]
  },
  {
   "cell_type": "code",
   "execution_count": 13,
   "metadata": {},
   "outputs": [
    {
     "name": "stderr",
     "output_type": "stream",
     "text": [
      "[22:03:34 -0400] [INFO]: Graph 'FLIGHTS' exists.\n",
      "[22:03:34 -0400] [INFO]: Default node type set to 'airports'\n"
     ]
    },
    {
     "name": "stdout",
     "output_type": "stream",
     "text": [
      "Graph materialized and loaded into memory.\n",
      "MultiDiGraph with 3375 nodes and 286463 edges\n"
     ]
    }
   ],
   "source": [
    "# Create the lazy graph from ArangoDB and materialize it.\n",
    "G_adb = nxadb.MultiDiGraph(name=\"FLIGHTS\", db=db)\n",
    "G_adb = materialize_graph(G_adb)\n",
    "print(\"Graph materialized and loaded into memory.\")\n",
    "\n",
    "print(G_adb)"
   ]
  },
  {
   "cell_type": "code",
   "execution_count": 14,
   "metadata": {},
   "outputs": [
    {
     "data": {
      "text/plain": [
       "15270"
      ]
     },
     "execution_count": 14,
     "metadata": {},
     "output_type": "execute_result"
    }
   ],
   "source": [
    "# Example: Print the degree of a specific airport node.\n",
    "G_adb.degree(\"airports/IAH\")"
   ]
  },
  {
   "cell_type": "markdown",
   "metadata": {},
   "source": [
    "## Building the Agentic App with LangChain & LangGraph"
   ]
  },
  {
   "cell_type": "markdown",
   "metadata": {},
   "source": [
    "In this section, the focus is on creating an intelligent application that processes natural language queries related to the flight network. Key aspects of this section include:\n",
    "\n",
    "#### **Agent Creation:**  \n",
    "  An agent is developed to interpret and process natural language queries. It is equipped with multiple tools that convert queries either to AQL for direct database interrogation or to executable Python code for NetworkX-based graph analysis.\n",
    "\n",
    "#### **Tool Integration:**  \n",
    "  Tools are integrated to handle distinct tasks:\n",
    "  - One tool translates natural language queries into AQL, executes them against the graph, and returns the results.\n",
    "  - Another tool converts queries into Python code, which is executed using NetworkX algorithms to perform tasks like graph traversal and centrality calculations.\n",
    "  - A hybrid approach is implemented to decompose complex queries into manageable sub-tasks, ensuring that each sub-task produces a concise output.\n",
    "\n",
    "#### **Execution Flow:**  \n",
    "  The process involves three primary steps:\n",
    "  1. **Query Translation:** Natural language queries are transformed into either AQL or Python code.\n",
    "  2. **Code Execution:** The generated code is executed on the materialized FLIGHTS graph to obtain relevant metrics and insights.\n",
    "  3. **Result Synthesis:** The outputs are synthesized into a clear and concise final answer that addresses the original query.\n",
    "\n",
    "#### **Frameworks and Libraries:**  \n",
    "  The application leverages LangChain for language model interactions, LangGraph for graph-based functionalities, and NetworkX for in-memory graph analysis. Rich is also used to enhance console output with detailed step-by-step information.\n",
    "\n",
    "This section demonstrates the integration of advanced language processing with graph analytics, providing the framework necessary for interactive and insightful analysis of the flight network."
   ]
  },
  {
   "cell_type": "markdown",
   "metadata": {},
   "source": [
    "<p align=\"center\">\n",
    "    <img src=\"https://raw.githubusercontent.com/SivaTSS/flight_graph_agent/main/images/pipeline.png\" style=\"height: 500px;\">\n",
    "</p>"
   ]
  },
  {
   "cell_type": "code",
   "execution_count": 15,
   "metadata": {},
   "outputs": [],
   "source": [
    "# Create the ArangoGraph LangChain wrapper\n",
    "arango_graph = ArangoGraph(db)"
   ]
  },
  {
   "cell_type": "code",
   "execution_count": 16,
   "metadata": {},
   "outputs": [
    {
     "data": {
      "text/plain": [
       "{'Graph Schema': [{'graph_name': 'FLIGHTS',\n",
       "   'edge_definitions': [{'edge_collection': 'flights',\n",
       "     'from_vertex_collections': ['airports'],\n",
       "     'to_vertex_collections': ['airports']}]}],\n",
       " 'Collection Schema': [{'collection_name': 'airports',\n",
       "   'collection_type': 'document',\n",
       "   'document_properties': [{'name': '_key', 'type': 'str'},\n",
       "    {'name': '_id', 'type': 'str'},\n",
       "    {'name': '_rev', 'type': 'str'},\n",
       "    {'name': 'name', 'type': 'str'},\n",
       "    {'name': 'city', 'type': 'str'},\n",
       "    {'name': 'state', 'type': 'str'},\n",
       "    {'name': 'country', 'type': 'str'},\n",
       "    {'name': 'lat', 'type': 'float'},\n",
       "    {'name': 'long', 'type': 'float'},\n",
       "    {'name': 'vip', 'type': 'bool'}],\n",
       "   'example_document': {'_key': '00M',\n",
       "    '_id': 'airports/00M',\n",
       "    '_rev': '_jVk9JKu---',\n",
       "    'name': 'Thigpen ',\n",
       "    'city': 'Bay Springs',\n",
       "    'state': 'MS',\n",
       "    'country': 'USA',\n",
       "    'lat': 31.95376472,\n",
       "    'long': -89.23450472,\n",
       "    'vip': False}},\n",
       "  {'collection_name': 'flights',\n",
       "   'collection_type': 'edge',\n",
       "   'edge_properties': [{'name': '_key', 'type': 'str'},\n",
       "    {'name': '_id', 'type': 'str'},\n",
       "    {'name': '_from', 'type': 'str'},\n",
       "    {'name': '_to', 'type': 'str'},\n",
       "    {'name': '_rev', 'type': 'str'},\n",
       "    {'name': 'Year', 'type': 'int'},\n",
       "    {'name': 'Month', 'type': 'int'},\n",
       "    {'name': 'Day', 'type': 'int'},\n",
       "    {'name': 'DayOfWeek', 'type': 'int'},\n",
       "    {'name': 'DepTime', 'type': 'int'},\n",
       "    {'name': 'ArrTime', 'type': 'int'},\n",
       "    {'name': 'DepTimeUTC', 'type': 'str'},\n",
       "    {'name': 'ArrTimeUTC', 'type': 'str'},\n",
       "    {'name': 'UniqueCarrier', 'type': 'str'},\n",
       "    {'name': 'FlightNum', 'type': 'int'},\n",
       "    {'name': 'TailNum', 'type': 'str'},\n",
       "    {'name': 'Distance', 'type': 'int'}],\n",
       "   'example_edge': {'_key': '306520629',\n",
       "    '_id': 'flights/306520629',\n",
       "    '_from': 'airports/ATL',\n",
       "    '_to': 'airports/CHS',\n",
       "    '_rev': '_jVk9djm---',\n",
       "    'Year': 2008,\n",
       "    'Month': 1,\n",
       "    'Day': 1,\n",
       "    'DayOfWeek': 2,\n",
       "    'DepTime': 2,\n",
       "    'ArrTime': 57,\n",
       "    'DepTimeUTC': '2008-01-01T05:02:00.000Z',\n",
       "    'ArrTimeUTC': '2008-01-01T05:57:00.000Z',\n",
       "    'UniqueCarrier': 'FL',\n",
       "    'FlightNum': 579,\n",
       "    'TailNum': 'N937AT',\n",
       "    'Distance': 259}}]}"
      ]
     },
     "execution_count": 16,
     "metadata": {},
     "output_type": "execute_result"
    }
   ],
   "source": [
    "arango_graph.schema"
   ]
  },
  {
   "cell_type": "code",
   "execution_count": 17,
   "metadata": {},
   "outputs": [],
   "source": [
    "# Set openai api key\n",
    "import os\n",
    "os.environ[\"OPENAI_API_KEY\"] = key_data[\"openai_api_key\"]\n",
    "\n",
    "model_name=\"gpt-4o-mini\""
   ]
  },
  {
   "cell_type": "code",
   "execution_count": 18,
   "metadata": {},
   "outputs": [],
   "source": [
    "from rich.console import Console\n",
    "from rich.panel import Panel\n",
    "from rich.rule import Rule\n",
    "from rich.text import Text\n",
    "\n",
    "# Initialize the Rich console for colored output\n",
    "console = Console()"
   ]
  },
  {
   "cell_type": "code",
   "execution_count": 19,
   "metadata": {},
   "outputs": [],
   "source": [
    "# Text to AQL Tool\n",
    "\n",
    "@tool\n",
    "def text_to_aql_to_text(query: str):\n",
    "    \"\"\"This tool is available to invoke the\n",
    "    ArangoGraphQAChain object, which enables you to\n",
    "    translate a Natural Language Query into AQL, execute\n",
    "    the query, and translate the result back into Natural Language.\n",
    "    \"\"\"\n",
    "\n",
    "    chain = ArangoGraphQAChain.from_llm(\n",
    "    \tllm=llm,\n",
    "    \tgraph=arango_graph,\n",
    "    \tverbose=True,\n",
    "        allow_dangerous_requests=True,\n",
    "        max_aql_generation_attempts=1\n",
    "    )\n",
    "    \n",
    "    result = chain.invoke(query)\n",
    "\n",
    "    return str(result[\"result\"])"
   ]
  },
  {
   "cell_type": "code",
   "execution_count": 20,
   "metadata": {},
   "outputs": [],
   "source": [
    "# Text to NetworkX/cuGraph Tool with code corrector\n",
    "\n",
    "@tool\n",
    "def text_to_nx_algorithm_to_text(query):\n",
    "    \"\"\"This tool is available to invoke a NetworkX Algorithm on\n",
    "    the ArangoDB Graph. You are responsible for accepting the\n",
    "    Natural Language Query, establishing which algorithm needs to\n",
    "    be executed, executing the algorithm, and translating the results back\n",
    "    to Natural Language, with respect to the original query.\n",
    "\n",
    "    If the query (e.g traversals, shortest path, etc.) can be solved using the Arango Query Language, then do not use\n",
    "    this tool.\n",
    "    \"\"\"\n",
    "\n",
    "\n",
    "    # --- Step 1: Generate NetworkX Code ---\n",
    "    \n",
    "    console.rule(\"[bold cyan]Step 1: Generating NetworkX Code[/bold cyan]\")\n",
    "\n",
    "    text_to_nx = llm.invoke(f\"\"\"\n",
    "    I have a NetworkX Graph called `G_adb`. It has the following schema: {arango_graph.schema}\n",
    "\n",
    "    I have the following graph analysis query: {query}.\n",
    "\n",
    "    Generate the Python Code required to answer the query using the `G_adb` object.\n",
    "\n",
    "    Be very precise on the NetworkX algorithm you select to answer this query. Think step by step.\n",
    "\n",
    "    Only assume that networkx is installed, and other base python dependencies.\n",
    "\n",
    "    Always set the last variable as `FINAL_RESULT`, which represents the answer to the original query.\n",
    "\n",
    "    Only provide python code that I can directly execute via `exec()`. Do not provide any instructions.\n",
    "\n",
    "    Make sure that `FINAL_RESULT` stores a short & concise answer. Avoid setting this variable to a long sequence.\n",
    "\n",
    "    Your code:\n",
    "    \"\"\").content\n",
    "\n",
    "    text_to_nx_cleaned = re.sub(r\"^```python\\n|```$\", \"\", text_to_nx, flags=re.MULTILINE).strip()\n",
    "    \n",
    "    console.rule(\"[bold green]Generated NetworkX Code[/bold green]\")\n",
    "    console.print(text_to_nx_cleaned, style=\"green\")\n",
    "    console.rule()\n",
    "\n",
    "    \n",
    "    # --- Step 2: Execute Generated Code with code corrector---\n",
    "\n",
    "    console.rule(\"[bold cyan]Step 2: Executing NetworkX Code[/bold cyan]\")\n",
    "    global_vars = {\"G_adb\": G_adb, \"nx\": nx}\n",
    "    local_vars = {}\n",
    "    current_code = text_to_nx_cleaned\n",
    "    success = False\n",
    "\n",
    "    # Code corrector implementation\n",
    "    attempt = 1\n",
    "    MAX_ATTEMPTS = 3\n",
    "        \n",
    "\n",
    "    while attempt <= MAX_ATTEMPTS and not success:\n",
    "        console.print(f\"[bold blue]Attempt {attempt}: Executing code[/bold blue]\")\n",
    "        try:\n",
    "            exec(current_code, global_vars, local_vars)\n",
    "            success = True\n",
    "        except Exception as e:\n",
    "            error_message = str(e)\n",
    "            print(f\"EXEC ERROR on attempt {attempt}: {error_message}\")\n",
    "\n",
    "            correction_prompt = f\"\"\"\n",
    "            I have the following Python code that is intended to operate on a NetworkX Graph called `G_adb` with the schema: {arango_graph.schema}\n",
    "\n",
    "            The code was generated to answer the graph analysis query: {query}.\n",
    "\n",
    "            However, when executing, it produced the following error: {error_message}\n",
    "\n",
    "            Please correct the Python code to fix this error. Ensure that the final variable `FINAL_RESULT` contains a short and concise answer to the query.\n",
    "            \n",
    "            Only provide corrected Python code that can be directly executed via `exec()`, without any additional explanation.\n",
    "\n",
    "            Make sure that `FINAL_RESULT` stores a short & concise answer. Avoid setting this variable to a long sequence.\n",
    "\n",
    "            Your corrected code:\n",
    "            \"\"\"\n",
    "            corrected_code = llm.invoke(correction_prompt).content\n",
    "            current_code = re.sub(r\"^```python\\n|```$\", \"\", corrected_code, flags=re.MULTILINE).strip()\n",
    "            console.print(\"[bold yellow]Corrected Code:[/bold yellow]\")\n",
    "            console.print(current_code, style=\"yellow\")\n",
    "            attempt += 1\n",
    "            local_vars = {}\n",
    "            \n",
    "    if not success:\n",
    "        return f\"EXEC ERROR after {MAX_ATTEMPTS} attempts: {error_message}\"\n",
    "\n",
    "    console.rule(\"[bold green]Final Execution Result[/bold green]\")\n",
    "    FINAL_RESULT = local_vars[\"FINAL_RESULT\"]\n",
    "    console.print(f\"[bold magenta]FINAL_RESULT:[/bold magenta] {FINAL_RESULT}\", style=\"magenta\")\n",
    "    console.rule()\n",
    "\n",
    "    # --- Step 3: Generate Final Answer ---\n",
    "\n",
    "    console.rule(\"[bold cyan]Step 3: Formulating Final Answer[/bold cyan]\")\n",
    "\n",
    "    nx_to_text = llm.invoke(f\"\"\"\n",
    "        I have a NetworkX Graph called `G_adb`. It has the following schema: {arango_graph.schema}\n",
    "\n",
    "        I have the following graph analysis query: {query}.\n",
    "\n",
    "        I have executed the following python code to help me answer my query:\n",
    "\n",
    "        ---\n",
    "        {current_code}\n",
    "        ---\n",
    "\n",
    "        The `FINAL_RESULT` variable is set to the following: {FINAL_RESULT}.\n",
    "\n",
    "        Based on my original Query and FINAL_RESULT, generate a short and concise response to\n",
    "        answer my query.\n",
    "        \n",
    "        Your response:\n",
    "    \"\"\").content\n",
    "    console.rule(\"[bold green]Final Answer Generated[/bold green]\")\n",
    "    return nx_to_text"
   ]
  },
  {
   "cell_type": "code",
   "execution_count": 21,
   "metadata": {},
   "outputs": [],
   "source": [
    "import yaml\n",
    "def print_section(title, message=None):\n",
    "    \"\"\"\n",
    "    Helper function to print a section header and an optional message using Rich.\n",
    "    \"\"\"\n",
    "    header = f\"[bold cyan]== {title} ==\"\n",
    "    if message:\n",
    "        panel = Panel(Text(message), title=header, expand=False)\n",
    "    else:\n",
    "        panel = Panel(\"\", title=header, expand=False)\n",
    "    console.print(panel)\n",
    "\n",
    "def query_graph_taskwise(query):\n",
    "    \"\"\"\n",
    "    Process a graph query task using the task-wise agent approach.\n",
    "    \"\"\"\n",
    "    llm_task_wise = ChatOpenAI(temperature=0, model_name=model_name)\n",
    "    tools = [text_to_aql_to_text, text_to_nx_algorithm_to_text]\n",
    "    app = create_react_agent(llm_task_wise, tools)    \n",
    "    final_state = app.invoke({\"messages\": [{\"role\": \"user\", \"content\": query}]})\n",
    "    return final_state[\"messages\"][-1].content\n"
   ]
  },
  {
   "cell_type": "code",
   "execution_count": 22,
   "metadata": {},
   "outputs": [],
   "source": [
    "# Define a hybrid tool to split a complex query into manageable sub-tasks.\n",
    "@tool\n",
    "def text_to_hybrid_model_to_text(query: str):\n",
    "    \"\"\"\n",
    "    This tool is available to answer a graph analysis query on the ArangoDB Graph using a hybrid approach.\n",
    "    It splits the query into smaller, actionable sub-tasks when the original query is too complex for a \n",
    "    single AQL or code-based solution. Each sub-task must specify a limited output size (for example, top 10, top 20)\n",
    "    and ensure that no sub-task returns more than 25 items.\n",
    "    The results from sub-tasks are combined into a concise natural language answer.\n",
    "    \"\"\"\n",
    "    \n",
    "    print_section(\"Hybrid Mode Activated\", f\"Processing query: {query}\")\n",
    "    \n",
    "    # Split the query into simpler sub-tasks\n",
    "    split_prompt = f\"\"\"\n",
    "    I have an ArangoDB Database with the following schema: {arango_graph.schema}\n",
    "    The original query is: {query}\n",
    "    This query is complex. Please split it into 2 or 3 high-level, actionable sub-tasks that need to be performed.\n",
    "    IMPORTANT:\n",
    "      - Do NOT include any AQL queries or code in your output—only describe the sub-tasks succinctly.\n",
    "      - If a sub-task involves listing or ranking items (e.g., airlines), specify an output limit (for example, 'top 10', 'top 20').\n",
    "      - Ensure that no sub-task is expected to return more than 25 items.\n",
    "    Output your answer as a YAML list. For example:\n",
    "    - Determine the top 10 airlines based on flight volume.\n",
    "    - Compute a network metric (e.g., clustering coefficient) for these airlines, limiting results to the top 20.\n",
    "    Your response:\n",
    "    \"\"\"\n",
    "    sub_queries_yaml = llm.invoke(split_prompt).content.strip()\n",
    "    sub_queries_yaml = re.sub(r\"^```yaml\\n|```$\", \"\", sub_queries_yaml, flags=re.MULTILINE).strip()\n",
    "    print_section(\"LLM Returned YAML\", sub_queries_yaml)\n",
    "    \n",
    "    try:\n",
    "        sub_queries = yaml.safe_load(sub_queries_yaml)\n",
    "        if not isinstance(sub_queries, list):\n",
    "            raise Exception(\"Parsed output is not a list.\")\n",
    "        print_section(\"Parsed Sub-Queries\", str(sub_queries))\n",
    "    except Exception as e:\n",
    "        print_section(\"Error Parsing YAML\", f\"{e}\\nUsing original query as single sub-task.\")\n",
    "        sub_queries = [query]\n",
    "    \n",
    "    branch_results = []\n",
    "    for i, sub_query in enumerate(sub_queries):\n",
    "        print_section(f\"Processing Sub-Task {i+1}/{len(sub_queries)}\", sub_query)\n",
    "        \n",
    "        # Include previously obtained results in the prompt context.\n",
    "        if branch_results:\n",
    "            context = \"\\n\".join([f\"Result {j+1}: {result}\" for j, result in enumerate(branch_results)])\n",
    "            context_prompt = f\"Previously obtained results:\\n{context}\\n\"\n",
    "        else:\n",
    "            context_prompt = \"\"\n",
    "        \n",
    "        # Prepare a cumulative query that incorporates previous results.\n",
    "        cumulative_query = f\"\"\"\n",
    "        {context_prompt}\n",
    "        Now, process the following sub-task, taking into account the previous results:\n",
    "        {sub_query}\n",
    "        Provide an answer that builds on the previous information and ensure that any list output is limited (e.g., top 10, top 20, and not more than 25 items).\n",
    "        \"\"\"\n",
    "        sub_result = query_graph_taskwise(cumulative_query)\n",
    "        print_section(f\"Result for Sub-Task {i+1}\", sub_result)\n",
    "        branch_results.append(sub_result)\n",
    "    \n",
    "    combine_prompt = f\"\"\"\n",
    "    I have the following answers from sub-tasks:\n",
    "    {branch_results}\n",
    "    Combine these results into a concise final answer to the original query:\n",
    "    {query}\n",
    "    Provide only the final answer.\n",
    "    \"\"\"\n",
    "    combined_result = llm.invoke(combine_prompt).content.strip()\n",
    "    print_section(\"Combined Final Result\", combined_result)\n",
    "    return combined_result\n"
   ]
  },
  {
   "cell_type": "code",
   "execution_count": 23,
   "metadata": {},
   "outputs": [],
   "source": [
    "# Create the Agentic Application\n",
    "llm = ChatOpenAI(temperature=0, model_name=model_name)\n",
    "tools = [text_to_aql_to_text, text_to_nx_algorithm_to_text, text_to_hybrid_model_to_text]\n",
    "\n",
    "def query_graph(query):\n",
    "    app = create_react_agent(llm, tools)    \n",
    "    final_state = app.invoke({\"messages\": [{\"role\": \"user\", \"content\": query}]})\n",
    "    return final_state[\"messages\"][-1].content"
   ]
  },
  {
   "cell_type": "markdown",
   "metadata": {},
   "source": [
    "---\n",
    "### Sample Queries Execution "
   ]
  },
  {
   "cell_type": "code",
   "execution_count": 24,
   "metadata": {
    "scrolled": true
   },
   "outputs": [
    {
     "data": {
      "text/html": [
       "<pre style=\"white-space:pre;overflow-x:auto;line-height:normal;font-family:Menlo,'DejaVu Sans Mono',consolas,'Courier New',monospace\">╭─────────────────────────── <span style=\"color: #008080; text-decoration-color: #008080; font-weight: bold\">== Hybrid Mode Activated ==</span> ───────────────────────────╮\n",
       "│ Processing query: Identify the airline operating the most flights in the dataset. │\n",
       "╰───────────────────────────────────────────────────────────────────────────────────╯\n",
       "</pre>\n"
      ],
      "text/plain": [
       "╭─────────────────────────── \u001b[1;36m== Hybrid Mode Activated ==\u001b[0m ───────────────────────────╮\n",
       "│ Processing query: Identify the airline operating the most flights in the dataset. │\n",
       "╰───────────────────────────────────────────────────────────────────────────────────╯\n"
      ]
     },
     "metadata": {},
     "output_type": "display_data"
    },
    {
     "data": {
      "text/html": [
       "<pre style=\"white-space:pre;overflow-x:auto;line-height:normal;font-family:Menlo,'DejaVu Sans Mono',consolas,'Courier New',monospace\">╭─────────────────────────────── <span style=\"color: #008080; text-decoration-color: #008080; font-weight: bold\">== LLM Returned YAML ==</span> ───────────────────────────────╮\n",
       "│ - Count the number of flights for each airline in the dataset.                        │\n",
       "│ - Identify the top 5 airlines with the highest flight counts.                         │\n",
       "│ - Retrieve details of the top airline, including its flight numbers and destinations. │\n",
       "╰───────────────────────────────────────────────────────────────────────────────────────╯\n",
       "</pre>\n"
      ],
      "text/plain": [
       "╭─────────────────────────────── \u001b[1;36m== LLM Returned YAML ==\u001b[0m ───────────────────────────────╮\n",
       "│ - Count the number of flights for each airline in the dataset.                        │\n",
       "│ - Identify the top 5 airlines with the highest flight counts.                         │\n",
       "│ - Retrieve details of the top airline, including its flight numbers and destinations. │\n",
       "╰───────────────────────────────────────────────────────────────────────────────────────╯\n"
      ]
     },
     "metadata": {},
     "output_type": "display_data"
    },
    {
     "data": {
      "text/html": [
       "<pre style=\"white-space:pre;overflow-x:auto;line-height:normal;font-family:Menlo,'DejaVu Sans Mono',consolas,'Courier New',monospace\">╭─────────────────────────────────────────── <span style=\"color: #008080; text-decoration-color: #008080; font-weight: bold\">== Parsed Sub-Queries ==</span> ────────────────────────────────────────────╮\n",
       "│ ['Count the number of flights for each airline in the dataset.', 'Identify the top 5 airlines with the highest  │\n",
       "│ flight counts.', 'Retrieve details of the top airline, including its flight numbers and destinations.']         │\n",
       "╰─────────────────────────────────────────────────────────────────────────────────────────────────────────────────╯\n",
       "</pre>\n"
      ],
      "text/plain": [
       "╭─────────────────────────────────────────── \u001b[1;36m== Parsed Sub-Queries ==\u001b[0m ────────────────────────────────────────────╮\n",
       "│ ['Count the number of flights for each airline in the dataset.', 'Identify the top 5 airlines with the highest  │\n",
       "│ flight counts.', 'Retrieve details of the top airline, including its flight numbers and destinations.']         │\n",
       "╰─────────────────────────────────────────────────────────────────────────────────────────────────────────────────╯\n"
      ]
     },
     "metadata": {},
     "output_type": "display_data"
    },
    {
     "data": {
      "text/html": [
       "<pre style=\"white-space:pre;overflow-x:auto;line-height:normal;font-family:Menlo,'DejaVu Sans Mono',consolas,'Courier New',monospace\">╭─────────────── <span style=\"color: #008080; text-decoration-color: #008080; font-weight: bold\">== Processing Sub-Task 1/3 ==</span> ────────────────╮\n",
       "│ Count the number of flights for each airline in the dataset. │\n",
       "╰──────────────────────────────────────────────────────────────╯\n",
       "</pre>\n"
      ],
      "text/plain": [
       "╭─────────────── \u001b[1;36m== Processing Sub-Task 1/3 ==\u001b[0m ────────────────╮\n",
       "│ Count the number of flights for each airline in the dataset. │\n",
       "╰──────────────────────────────────────────────────────────────╯\n"
      ]
     },
     "metadata": {},
     "output_type": "display_data"
    },
    {
     "name": "stdout",
     "output_type": "stream",
     "text": [
      "\n",
      "\n",
      "\u001b[1m> Entering new ArangoGraphQAChain chain...\u001b[0m\n",
      "AQL Query (1):\u001b[32;1m\u001b[1;3m\n",
      "WITH flights\n",
      "FOR flight IN flights\n",
      "    COLLECT airline = flight.UniqueCarrier WITH COUNT INTO count\n",
      "    SORT count DESC\n",
      "    LIMIT 10\n",
      "    RETURN { airline: airline, count: count }\n",
      "\u001b[0m\n",
      "AQL Result:\n",
      "\u001b[32;1m\u001b[1;3m[{'airline': 'WN', 'count': 48065}, {'airline': 'AA', 'count': 24797}, {'airline': 'OO', 'count': 22509}, {'airline': 'MQ', 'count': 19945}, {'airline': 'US', 'count': 18596}, {'airline': 'DL', 'count': 18107}, {'airline': 'UA', 'count': 17945}, {'airline': 'XE', 'count': 16764}, {'airline': 'NW', 'count': 15244}, {'airline': 'CO', 'count': 12398}]\u001b[0m\n",
      "\n",
      "\u001b[1m> Finished chain.\u001b[0m\n"
     ]
    },
    {
     "data": {
      "text/html": [
       "<pre style=\"white-space:pre;overflow-x:auto;line-height:normal;font-family:Menlo,'DejaVu Sans Mono',consolas,'Courier New',monospace\">╭────────────────────────────────── <span style=\"color: #008080; text-decoration-color: #008080; font-weight: bold\">== Result for Sub-Task 1 ==</span> ───────────────────────────────────╮\n",
       "│ The analysis of flight data reveals the top 10 airlines based on the number of flights operated: │\n",
       "│                                                                                                  │\n",
       "│ 1. **Southwest Airlines (WN)** - 48,065 flights                                                  │\n",
       "│ 2. **American Airlines (AA)** - 24,797 flights                                                   │\n",
       "│ 3. **SkyWest Airlines (OO)** - 22,509 flights                                                    │\n",
       "│ 4. **Envoy Air (MQ)** - 19,945 flights                                                           │\n",
       "│ 5. **US Airways (US)** - 18,596 flights                                                          │\n",
       "│ 6. **Delta Air Lines (DL)** - 18,107 flights                                                     │\n",
       "│ 7. **United Airlines (UA)** - 17,945 flights                                                     │\n",
       "│ 8. **ExpressJet Airlines (XE)** - 16,764 flights                                                 │\n",
       "│ 9. **Northwest Airlines (NW)** - 15,244 flights                                                  │\n",
       "│ 10. **Continental Airlines (CO)** - 12,398 flights                                               │\n",
       "│                                                                                                  │\n",
       "│ This data provides a clear picture of the most active airlines in terms of flight operations.    │\n",
       "╰──────────────────────────────────────────────────────────────────────────────────────────────────╯\n",
       "</pre>\n"
      ],
      "text/plain": [
       "╭────────────────────────────────── \u001b[1;36m== Result for Sub-Task 1 ==\u001b[0m ───────────────────────────────────╮\n",
       "│ The analysis of flight data reveals the top 10 airlines based on the number of flights operated: │\n",
       "│                                                                                                  │\n",
       "│ 1. **Southwest Airlines (WN)** - 48,065 flights                                                  │\n",
       "│ 2. **American Airlines (AA)** - 24,797 flights                                                   │\n",
       "│ 3. **SkyWest Airlines (OO)** - 22,509 flights                                                    │\n",
       "│ 4. **Envoy Air (MQ)** - 19,945 flights                                                           │\n",
       "│ 5. **US Airways (US)** - 18,596 flights                                                          │\n",
       "│ 6. **Delta Air Lines (DL)** - 18,107 flights                                                     │\n",
       "│ 7. **United Airlines (UA)** - 17,945 flights                                                     │\n",
       "│ 8. **ExpressJet Airlines (XE)** - 16,764 flights                                                 │\n",
       "│ 9. **Northwest Airlines (NW)** - 15,244 flights                                                  │\n",
       "│ 10. **Continental Airlines (CO)** - 12,398 flights                                               │\n",
       "│                                                                                                  │\n",
       "│ This data provides a clear picture of the most active airlines in terms of flight operations.    │\n",
       "╰──────────────────────────────────────────────────────────────────────────────────────────────────╯\n"
      ]
     },
     "metadata": {},
     "output_type": "display_data"
    },
    {
     "data": {
      "text/html": [
       "<pre style=\"white-space:pre;overflow-x:auto;line-height:normal;font-family:Menlo,'DejaVu Sans Mono',consolas,'Courier New',monospace\">╭─────────────── <span style=\"color: #008080; text-decoration-color: #008080; font-weight: bold\">== Processing Sub-Task 2/3 ==</span> ───────────────╮\n",
       "│ Identify the top 5 airlines with the highest flight counts. │\n",
       "╰─────────────────────────────────────────────────────────────╯\n",
       "</pre>\n"
      ],
      "text/plain": [
       "╭─────────────── \u001b[1;36m== Processing Sub-Task 2/3 ==\u001b[0m ───────────────╮\n",
       "│ Identify the top 5 airlines with the highest flight counts. │\n",
       "╰─────────────────────────────────────────────────────────────╯\n"
      ]
     },
     "metadata": {},
     "output_type": "display_data"
    },
    {
     "data": {
      "text/html": [
       "<pre style=\"white-space:pre;overflow-x:auto;line-height:normal;font-family:Menlo,'DejaVu Sans Mono',consolas,'Courier New',monospace\">╭────────────────────────────────── <span style=\"color: #008080; text-decoration-color: #008080; font-weight: bold\">== Result for Sub-Task 2 ==</span> ───────────────────────────────────╮\n",
       "│ Based on the previously obtained results, the top 5 airlines with the highest flight counts are: │\n",
       "│                                                                                                  │\n",
       "│ 1. **Southwest Airlines (WN)** - 48,065 flights                                                  │\n",
       "│ 2. **American Airlines (AA)** - 24,797 flights                                                   │\n",
       "│ 3. **SkyWest Airlines (OO)** - 22,509 flights                                                    │\n",
       "│ 4. **Envoy Air (MQ)** - 19,945 flights                                                           │\n",
       "│ 5. **US Airways (US)** - 18,596 flights                                                          │\n",
       "│                                                                                                  │\n",
       "│ These airlines represent the most active operators in terms of the number of flights conducted.  │\n",
       "╰──────────────────────────────────────────────────────────────────────────────────────────────────╯\n",
       "</pre>\n"
      ],
      "text/plain": [
       "╭────────────────────────────────── \u001b[1;36m== Result for Sub-Task 2 ==\u001b[0m ───────────────────────────────────╮\n",
       "│ Based on the previously obtained results, the top 5 airlines with the highest flight counts are: │\n",
       "│                                                                                                  │\n",
       "│ 1. **Southwest Airlines (WN)** - 48,065 flights                                                  │\n",
       "│ 2. **American Airlines (AA)** - 24,797 flights                                                   │\n",
       "│ 3. **SkyWest Airlines (OO)** - 22,509 flights                                                    │\n",
       "│ 4. **Envoy Air (MQ)** - 19,945 flights                                                           │\n",
       "│ 5. **US Airways (US)** - 18,596 flights                                                          │\n",
       "│                                                                                                  │\n",
       "│ These airlines represent the most active operators in terms of the number of flights conducted.  │\n",
       "╰──────────────────────────────────────────────────────────────────────────────────────────────────╯\n"
      ]
     },
     "metadata": {},
     "output_type": "display_data"
    },
    {
     "data": {
      "text/html": [
       "<pre style=\"white-space:pre;overflow-x:auto;line-height:normal;font-family:Menlo,'DejaVu Sans Mono',consolas,'Courier New',monospace\">╭─────────────────────────── <span style=\"color: #008080; text-decoration-color: #008080; font-weight: bold\">== Processing Sub-Task 3/3 ==</span> ───────────────────────────╮\n",
       "│ Retrieve details of the top airline, including its flight numbers and destinations. │\n",
       "╰─────────────────────────────────────────────────────────────────────────────────────╯\n",
       "</pre>\n"
      ],
      "text/plain": [
       "╭─────────────────────────── \u001b[1;36m== Processing Sub-Task 3/3 ==\u001b[0m ───────────────────────────╮\n",
       "│ Retrieve details of the top airline, including its flight numbers and destinations. │\n",
       "╰─────────────────────────────────────────────────────────────────────────────────────╯\n"
      ]
     },
     "metadata": {},
     "output_type": "display_data"
    },
    {
     "name": "stdout",
     "output_type": "stream",
     "text": [
      "\n",
      "\n",
      "\u001b[1m> Entering new ArangoGraphQAChain chain...\u001b[0m\n",
      "AQL Query (1):\u001b[32;1m\u001b[1;3m\n",
      "WITH airports, flights\n",
      "FOR flight IN flights\n",
      "    FILTER flight.UniqueCarrier == 'WN'\n",
      "    RETURN { \n",
      "        FlightNum: flight.FlightNum, \n",
      "        Destination: flight._to \n",
      "    }\n",
      "\u001b[0m\n",
      "AQL Result:\n",
      "\u001b[32;1m\u001b[1;3m[{'FlightNum': 680, 'Destination': 'airports/PBI'}, {'FlightNum': 3945, 'Destination': 'airports/BNA'}, {'FlightNum': 3558, 'Destination': 'airports/MCI'}, {'FlightNum': 106, 'Destination': 'airports/BWI'}, {'FlightNum': 1100, 'Destination': 'airports/TPA'}, {'FlightNum': 174, 'Destination': 'airports/DTW'}, {'FlightNum': 1663, 'Destination': 'airports/PHL'}, {'FlightNum': 2998, 'Destination': 'airports/PHL'}, {'FlightNum': 823, 'Destination': 'airports/PHX'}, {'FlightNum': 2449, 'Destination': 'airports/SAN'}]\u001b[0m\n",
      "\n",
      "\u001b[1m> Finished chain.\u001b[0m\n"
     ]
    },
    {
     "data": {
      "text/html": [
       "<pre style=\"white-space:pre;overflow-x:auto;line-height:normal;font-family:Menlo,'DejaVu Sans Mono',consolas,'Courier New',monospace\">╭────────────────────────────────────────── <span style=\"color: #008080; text-decoration-color: #008080; font-weight: bold\">== Result for Sub-Task 3 ==</span> ──────────────────────────────────────────╮\n",
       "│ Here are the details for Southwest Airlines (WN), the top airline based on flight operations, including its     │\n",
       "│ flight numbers and destinations:                                                                                │\n",
       "│                                                                                                                 │\n",
       "│ 1. **Flight Number 680** to Palm Beach International Airport (PBI)                                              │\n",
       "│ 2. **Flight Number 3945** to Nashville International Airport (BNA)                                              │\n",
       "│ 3. **Flight Number 3558** to Kansas City International Airport (MCI)                                            │\n",
       "│ 4. **Flight Number 106** to Baltimore/Washington International Thurgood Marshall Airport (BWI)                  │\n",
       "│ 5. **Flight Number 1100** to Tampa International Airport (TPA)                                                  │\n",
       "│ 6. **Flight Number 174** to Detroit Metropolitan Wayne County Airport (DTW)                                     │\n",
       "│ 7. **Flight Number 1663** to Philadelphia International Airport (PHL)                                           │\n",
       "│ 8. **Flight Number 2998** to Philadelphia International Airport (PHL)                                           │\n",
       "│ 9. **Flight Number 823** to Phoenix Sky Harbor International Airport (PHX)                                      │\n",
       "│ 10. **Flight Number 2449** to San Diego International Airport (SAN)                                             │\n",
       "│                                                                                                                 │\n",
       "│ These flights connect various destinations, showcasing the extensive network of Southwest Airlines.             │\n",
       "╰─────────────────────────────────────────────────────────────────────────────────────────────────────────────────╯\n",
       "</pre>\n"
      ],
      "text/plain": [
       "╭────────────────────────────────────────── \u001b[1;36m== Result for Sub-Task 3 ==\u001b[0m ──────────────────────────────────────────╮\n",
       "│ Here are the details for Southwest Airlines (WN), the top airline based on flight operations, including its     │\n",
       "│ flight numbers and destinations:                                                                                │\n",
       "│                                                                                                                 │\n",
       "│ 1. **Flight Number 680** to Palm Beach International Airport (PBI)                                              │\n",
       "│ 2. **Flight Number 3945** to Nashville International Airport (BNA)                                              │\n",
       "│ 3. **Flight Number 3558** to Kansas City International Airport (MCI)                                            │\n",
       "│ 4. **Flight Number 106** to Baltimore/Washington International Thurgood Marshall Airport (BWI)                  │\n",
       "│ 5. **Flight Number 1100** to Tampa International Airport (TPA)                                                  │\n",
       "│ 6. **Flight Number 174** to Detroit Metropolitan Wayne County Airport (DTW)                                     │\n",
       "│ 7. **Flight Number 1663** to Philadelphia International Airport (PHL)                                           │\n",
       "│ 8. **Flight Number 2998** to Philadelphia International Airport (PHL)                                           │\n",
       "│ 9. **Flight Number 823** to Phoenix Sky Harbor International Airport (PHX)                                      │\n",
       "│ 10. **Flight Number 2449** to San Diego International Airport (SAN)                                             │\n",
       "│                                                                                                                 │\n",
       "│ These flights connect various destinations, showcasing the extensive network of Southwest Airlines.             │\n",
       "╰─────────────────────────────────────────────────────────────────────────────────────────────────────────────────╯\n"
      ]
     },
     "metadata": {},
     "output_type": "display_data"
    },
    {
     "data": {
      "text/html": [
       "<pre style=\"white-space:pre;overflow-x:auto;line-height:normal;font-family:Menlo,'DejaVu Sans Mono',consolas,'Courier New',monospace\">╭────────────────────────────────────────── <span style=\"color: #008080; text-decoration-color: #008080; font-weight: bold\">== Combined Final Result ==</span> ──────────────────────────────────────────╮\n",
       "│ The airline operating the most flights in the dataset is **Southwest Airlines (WN)**, with a total of 48,065    │\n",
       "│ flights.                                                                                                        │\n",
       "╰─────────────────────────────────────────────────────────────────────────────────────────────────────────────────╯\n",
       "</pre>\n"
      ],
      "text/plain": [
       "╭────────────────────────────────────────── \u001b[1;36m== Combined Final Result ==\u001b[0m ──────────────────────────────────────────╮\n",
       "│ The airline operating the most flights in the dataset is **Southwest Airlines (WN)**, with a total of 48,065    │\n",
       "│ flights.                                                                                                        │\n",
       "╰─────────────────────────────────────────────────────────────────────────────────────────────────────────────────╯\n"
      ]
     },
     "metadata": {},
     "output_type": "display_data"
    },
    {
     "data": {
      "text/plain": [
       "'The airline operating the most flights in the dataset is **Southwest Airlines (WN)**, with a total of 48,065 flights.'"
      ]
     },
     "execution_count": 24,
     "metadata": {},
     "output_type": "execute_result"
    }
   ],
   "source": [
    "query_graph(\"Identify the airline operating the most flights in the dataset.\")"
   ]
  },
  {
   "cell_type": "code",
   "execution_count": 34,
   "metadata": {
    "scrolled": true
   },
   "outputs": [
    {
     "data": {
      "text/html": [
       "<pre style=\"white-space:pre;overflow-x:auto;line-height:normal;font-family:Menlo,'DejaVu Sans Mono',consolas,'Courier New',monospace\"><span style=\"color: #00ff00; text-decoration-color: #00ff00\">──────────────────────────────────────── </span><span style=\"color: #008080; text-decoration-color: #008080; font-weight: bold\">Step </span><span style=\"color: #008080; text-decoration-color: #008080; font-weight: bold\">1</span><span style=\"color: #008080; text-decoration-color: #008080; font-weight: bold\">: Generating NetworkX Code</span><span style=\"color: #00ff00; text-decoration-color: #00ff00\"> ─────────────────────────────────────────</span>\n",
       "</pre>\n"
      ],
      "text/plain": [
       "\u001b[92m──────────────────────────────────────── \u001b[0m\u001b[1;36mStep \u001b[0m\u001b[1;36m1\u001b[0m\u001b[1;36m: Generating NetworkX Code\u001b[0m\u001b[92m ─────────────────────────────────────────\u001b[0m\n"
      ]
     },
     "metadata": {},
     "output_type": "display_data"
    },
    {
     "data": {
      "text/html": [
       "<pre style=\"white-space:pre;overflow-x:auto;line-height:normal;font-family:Menlo,'DejaVu Sans Mono',consolas,'Courier New',monospace\"><span style=\"color: #00ff00; text-decoration-color: #00ff00\">───────────────────────────────────────────── </span><span style=\"color: #008000; text-decoration-color: #008000; font-weight: bold\">Generated NetworkX Code</span><span style=\"color: #00ff00; text-decoration-color: #00ff00\"> ─────────────────────────────────────────────</span>\n",
       "</pre>\n"
      ],
      "text/plain": [
       "\u001b[92m───────────────────────────────────────────── \u001b[0m\u001b[1;32mGenerated NetworkX Code\u001b[0m\u001b[92m ─────────────────────────────────────────────\u001b[0m\n"
      ]
     },
     "metadata": {},
     "output_type": "display_data"
    },
    {
     "data": {
      "text/html": [
       "<pre style=\"white-space:pre;overflow-x:auto;line-height:normal;font-family:Menlo,'DejaVu Sans Mono',consolas,'Courier New',monospace\"><span style=\"color: #008000; text-decoration-color: #008000\">import networkx as nx</span>\n",
       "\n",
       "<span style=\"color: #008000; text-decoration-color: #008000\"># Assuming G_adb is already defined as a NetworkX graph</span>\n",
       "<span style=\"color: #008000; text-decoration-color: #008000\"># Calculate betweenness centrality for all nodes in the graph</span>\n",
       "<span style=\"color: #008000; text-decoration-color: #008000\">betweenness_centrality = </span><span style=\"color: #800080; text-decoration-color: #800080; font-weight: bold\">nx.betweenness_centrality</span><span style=\"color: #008000; text-decoration-color: #008000; font-weight: bold\">(</span><span style=\"color: #008000; text-decoration-color: #008000\">G_adb</span><span style=\"color: #008000; text-decoration-color: #008000; font-weight: bold\">)</span>\n",
       "\n",
       "<span style=\"color: #008000; text-decoration-color: #008000\"># Find the airport with the highest betweenness centrality</span>\n",
       "<span style=\"color: #008000; text-decoration-color: #008000\">highest_betweenness_airport = </span><span style=\"color: #800080; text-decoration-color: #800080; font-weight: bold\">max</span><span style=\"color: #008000; text-decoration-color: #008000; font-weight: bold\">(</span><span style=\"color: #008000; text-decoration-color: #008000\">betweenness_centrality, </span><span style=\"color: #808000; text-decoration-color: #808000\">key</span><span style=\"color: #008000; text-decoration-color: #008000\">=</span><span style=\"color: #800080; text-decoration-color: #800080\">betweenness_centrality</span><span style=\"color: #008000; text-decoration-color: #008000\">.get</span><span style=\"color: #008000; text-decoration-color: #008000; font-weight: bold\">)</span>\n",
       "\n",
       "<span style=\"color: #008000; text-decoration-color: #008000\"># Store the result in FINAL_RESULT</span>\n",
       "<span style=\"color: #008000; text-decoration-color: #008000\">FINAL_RESULT = highest_betweenness_airport</span>\n",
       "</pre>\n"
      ],
      "text/plain": [
       "\u001b[32mimport networkx as nx\u001b[0m\n",
       "\n",
       "\u001b[32m# Assuming G_adb is already defined as a NetworkX graph\u001b[0m\n",
       "\u001b[32m# Calculate betweenness centrality for all nodes in the graph\u001b[0m\n",
       "\u001b[32mbetweenness_centrality = \u001b[0m\u001b[1;35mnx.betweenness_centrality\u001b[0m\u001b[1;32m(\u001b[0m\u001b[32mG_adb\u001b[0m\u001b[1;32m)\u001b[0m\n",
       "\n",
       "\u001b[32m# Find the airport with the highest betweenness centrality\u001b[0m\n",
       "\u001b[32mhighest_betweenness_airport = \u001b[0m\u001b[1;35mmax\u001b[0m\u001b[1;32m(\u001b[0m\u001b[32mbetweenness_centrality, \u001b[0m\u001b[33mkey\u001b[0m\u001b[32m=\u001b[0m\u001b[35mbetweenness_centrality\u001b[0m\u001b[32m.get\u001b[0m\u001b[1;32m)\u001b[0m\n",
       "\n",
       "\u001b[32m# Store the result in FINAL_RESULT\u001b[0m\n",
       "\u001b[32mFINAL_RESULT = highest_betweenness_airport\u001b[0m\n"
      ]
     },
     "metadata": {},
     "output_type": "display_data"
    },
    {
     "data": {
      "text/html": [
       "<pre style=\"white-space:pre;overflow-x:auto;line-height:normal;font-family:Menlo,'DejaVu Sans Mono',consolas,'Courier New',monospace\"><span style=\"color: #00ff00; text-decoration-color: #00ff00\">───────────────────────────────────────────────────────────────────────────────────────────────────────────────────</span>\n",
       "</pre>\n"
      ],
      "text/plain": [
       "\u001b[92m───────────────────────────────────────────────────────────────────────────────────────────────────────────────────\u001b[0m\n"
      ]
     },
     "metadata": {},
     "output_type": "display_data"
    },
    {
     "data": {
      "text/html": [
       "<pre style=\"white-space:pre;overflow-x:auto;line-height:normal;font-family:Menlo,'DejaVu Sans Mono',consolas,'Courier New',monospace\"><span style=\"color: #00ff00; text-decoration-color: #00ff00\">───────────────────────────────────────── </span><span style=\"color: #008080; text-decoration-color: #008080; font-weight: bold\">Step </span><span style=\"color: #008080; text-decoration-color: #008080; font-weight: bold\">2</span><span style=\"color: #008080; text-decoration-color: #008080; font-weight: bold\">: Executing NetworkX Code</span><span style=\"color: #00ff00; text-decoration-color: #00ff00\"> ─────────────────────────────────────────</span>\n",
       "</pre>\n"
      ],
      "text/plain": [
       "\u001b[92m───────────────────────────────────────── \u001b[0m\u001b[1;36mStep \u001b[0m\u001b[1;36m2\u001b[0m\u001b[1;36m: Executing NetworkX Code\u001b[0m\u001b[92m ─────────────────────────────────────────\u001b[0m\n"
      ]
     },
     "metadata": {},
     "output_type": "display_data"
    },
    {
     "data": {
      "text/html": [
       "<pre style=\"white-space:pre;overflow-x:auto;line-height:normal;font-family:Menlo,'DejaVu Sans Mono',consolas,'Courier New',monospace\"><span style=\"color: #000080; text-decoration-color: #000080; font-weight: bold\">Attempt </span><span style=\"color: #000080; text-decoration-color: #000080; font-weight: bold\">1</span><span style=\"color: #000080; text-decoration-color: #000080; font-weight: bold\">: Executing code</span>\n",
       "</pre>\n"
      ],
      "text/plain": [
       "\u001b[1;34mAttempt \u001b[0m\u001b[1;34m1\u001b[0m\u001b[1;34m: Executing code\u001b[0m\n"
      ]
     },
     "metadata": {},
     "output_type": "display_data"
    },
    {
     "data": {
      "text/html": [
       "<pre style=\"white-space:pre;overflow-x:auto;line-height:normal;font-family:Menlo,'DejaVu Sans Mono',consolas,'Courier New',monospace\"><span style=\"color: #00ff00; text-decoration-color: #00ff00\">───────────────────────────────────────────── </span><span style=\"color: #008000; text-decoration-color: #008000; font-weight: bold\">Final Execution Result</span><span style=\"color: #00ff00; text-decoration-color: #00ff00\"> ──────────────────────────────────────────────</span>\n",
       "</pre>\n"
      ],
      "text/plain": [
       "\u001b[92m───────────────────────────────────────────── \u001b[0m\u001b[1;32mFinal Execution Result\u001b[0m\u001b[92m ──────────────────────────────────────────────\u001b[0m\n"
      ]
     },
     "metadata": {},
     "output_type": "display_data"
    },
    {
     "data": {
      "text/html": [
       "<pre style=\"white-space:pre;overflow-x:auto;line-height:normal;font-family:Menlo,'DejaVu Sans Mono',consolas,'Courier New',monospace\"><span style=\"color: #800080; text-decoration-color: #800080; font-weight: bold\">FINAL_RESULT:</span><span style=\"color: #800080; text-decoration-color: #800080\"> airports/ATL</span>\n",
       "</pre>\n"
      ],
      "text/plain": [
       "\u001b[1;35mFINAL_RESULT:\u001b[0m\u001b[35m airports/ATL\u001b[0m\n"
      ]
     },
     "metadata": {},
     "output_type": "display_data"
    },
    {
     "data": {
      "text/html": [
       "<pre style=\"white-space:pre;overflow-x:auto;line-height:normal;font-family:Menlo,'DejaVu Sans Mono',consolas,'Courier New',monospace\"><span style=\"color: #00ff00; text-decoration-color: #00ff00\">───────────────────────────────────────────────────────────────────────────────────────────────────────────────────</span>\n",
       "</pre>\n"
      ],
      "text/plain": [
       "\u001b[92m───────────────────────────────────────────────────────────────────────────────────────────────────────────────────\u001b[0m\n"
      ]
     },
     "metadata": {},
     "output_type": "display_data"
    },
    {
     "data": {
      "text/html": [
       "<pre style=\"white-space:pre;overflow-x:auto;line-height:normal;font-family:Menlo,'DejaVu Sans Mono',consolas,'Courier New',monospace\"><span style=\"color: #00ff00; text-decoration-color: #00ff00\">──────────────────────────────────────── </span><span style=\"color: #008080; text-decoration-color: #008080; font-weight: bold\">Step </span><span style=\"color: #008080; text-decoration-color: #008080; font-weight: bold\">3</span><span style=\"color: #008080; text-decoration-color: #008080; font-weight: bold\">: Formulating Final Answer</span><span style=\"color: #00ff00; text-decoration-color: #00ff00\"> ─────────────────────────────────────────</span>\n",
       "</pre>\n"
      ],
      "text/plain": [
       "\u001b[92m──────────────────────────────────────── \u001b[0m\u001b[1;36mStep \u001b[0m\u001b[1;36m3\u001b[0m\u001b[1;36m: Formulating Final Answer\u001b[0m\u001b[92m ─────────────────────────────────────────\u001b[0m\n"
      ]
     },
     "metadata": {},
     "output_type": "display_data"
    },
    {
     "data": {
      "text/html": [
       "<pre style=\"white-space:pre;overflow-x:auto;line-height:normal;font-family:Menlo,'DejaVu Sans Mono',consolas,'Courier New',monospace\"><span style=\"color: #00ff00; text-decoration-color: #00ff00\">───────────────────────────────────────────── </span><span style=\"color: #008000; text-decoration-color: #008000; font-weight: bold\">Final Answer Generated</span><span style=\"color: #00ff00; text-decoration-color: #00ff00\"> ──────────────────────────────────────────────</span>\n",
       "</pre>\n"
      ],
      "text/plain": [
       "\u001b[92m───────────────────────────────────────────── \u001b[0m\u001b[1;32mFinal Answer Generated\u001b[0m\u001b[92m ──────────────────────────────────────────────\u001b[0m\n"
      ]
     },
     "metadata": {},
     "output_type": "display_data"
    },
    {
     "data": {
      "text/plain": [
       "'The airport with the highest betweenness centrality in the network is Hartsfield-Jackson Atlanta International Airport (ATL).'"
      ]
     },
     "execution_count": 34,
     "metadata": {},
     "output_type": "execute_result"
    }
   ],
   "source": [
    "query_graph(\"Determine the airport with the highest betweenness centrality in the network.\")"
   ]
  },
  {
   "cell_type": "code",
   "execution_count": 35,
   "metadata": {
    "scrolled": true
   },
   "outputs": [
    {
     "data": {
      "text/html": [
       "<pre style=\"white-space:pre;overflow-x:auto;line-height:normal;font-family:Menlo,'DejaVu Sans Mono',consolas,'Courier New',monospace\"><span style=\"color: #00ff00; text-decoration-color: #00ff00\">──────────────────────────────────────── </span><span style=\"color: #008080; text-decoration-color: #008080; font-weight: bold\">Step </span><span style=\"color: #008080; text-decoration-color: #008080; font-weight: bold\">1</span><span style=\"color: #008080; text-decoration-color: #008080; font-weight: bold\">: Generating NetworkX Code</span><span style=\"color: #00ff00; text-decoration-color: #00ff00\"> ─────────────────────────────────────────</span>\n",
       "</pre>\n"
      ],
      "text/plain": [
       "\u001b[92m──────────────────────────────────────── \u001b[0m\u001b[1;36mStep \u001b[0m\u001b[1;36m1\u001b[0m\u001b[1;36m: Generating NetworkX Code\u001b[0m\u001b[92m ─────────────────────────────────────────\u001b[0m\n"
      ]
     },
     "metadata": {},
     "output_type": "display_data"
    },
    {
     "data": {
      "text/html": [
       "<pre style=\"white-space:pre;overflow-x:auto;line-height:normal;font-family:Menlo,'DejaVu Sans Mono',consolas,'Courier New',monospace\"><span style=\"color: #00ff00; text-decoration-color: #00ff00\">───────────────────────────────────────────── </span><span style=\"color: #008000; text-decoration-color: #008000; font-weight: bold\">Generated NetworkX Code</span><span style=\"color: #00ff00; text-decoration-color: #00ff00\"> ─────────────────────────────────────────────</span>\n",
       "</pre>\n"
      ],
      "text/plain": [
       "\u001b[92m───────────────────────────────────────────── \u001b[0m\u001b[1;32mGenerated NetworkX Code\u001b[0m\u001b[92m ─────────────────────────────────────────────\u001b[0m\n"
      ]
     },
     "metadata": {},
     "output_type": "display_data"
    },
    {
     "data": {
      "text/html": [
       "<pre style=\"white-space:pre;overflow-x:auto;line-height:normal;font-family:Menlo,'DejaVu Sans Mono',consolas,'Courier New',monospace\"><span style=\"color: #008000; text-decoration-color: #008000\">import networkx as nx</span>\n",
       "\n",
       "<span style=\"color: #008000; text-decoration-color: #008000\"># Assuming G_adb is already defined as a NetworkX graph</span>\n",
       "<span style=\"color: #008000; text-decoration-color: #008000\"># Calculate degree centrality</span>\n",
       "<span style=\"color: #008000; text-decoration-color: #008000\">degree_centrality = </span><span style=\"color: #800080; text-decoration-color: #800080; font-weight: bold\">nx.degree_centrality</span><span style=\"color: #008000; text-decoration-color: #008000; font-weight: bold\">(</span><span style=\"color: #008000; text-decoration-color: #008000\">G_adb</span><span style=\"color: #008000; text-decoration-color: #008000; font-weight: bold\">)</span>\n",
       "\n",
       "<span style=\"color: #008000; text-decoration-color: #008000\"># Sort airports by degree centrality and get the top </span><span style=\"color: #008080; text-decoration-color: #008080; font-weight: bold\">5</span>\n",
       "<span style=\"color: #008000; text-decoration-color: #008000\">top_airports = </span><span style=\"color: #800080; text-decoration-color: #800080; font-weight: bold\">sorted</span><span style=\"color: #008000; text-decoration-color: #008000; font-weight: bold\">(</span><span style=\"color: #800080; text-decoration-color: #800080; font-weight: bold\">degree_centrality.items</span><span style=\"color: #008000; text-decoration-color: #008000; font-weight: bold\">()</span><span style=\"color: #008000; text-decoration-color: #008000\">, </span><span style=\"color: #808000; text-decoration-color: #808000\">key</span><span style=\"color: #008000; text-decoration-color: #008000\">=</span><span style=\"color: #800080; text-decoration-color: #800080\">lambda</span><span style=\"color: #008000; text-decoration-color: #008000\"> x: x</span><span style=\"color: #008000; text-decoration-color: #008000; font-weight: bold\">[</span><span style=\"color: #008080; text-decoration-color: #008080; font-weight: bold\">1</span><span style=\"color: #008000; text-decoration-color: #008000; font-weight: bold\">]</span><span style=\"color: #008000; text-decoration-color: #008000\">, </span><span style=\"color: #808000; text-decoration-color: #808000\">reverse</span><span style=\"color: #008000; text-decoration-color: #008000\">=</span><span style=\"color: #00ff00; text-decoration-color: #00ff00; font-style: italic\">True</span><span style=\"color: #008000; text-decoration-color: #008000; font-weight: bold\">)[</span><span style=\"color: #008000; text-decoration-color: #008000\">:</span><span style=\"color: #008080; text-decoration-color: #008080; font-weight: bold\">5</span><span style=\"color: #008000; text-decoration-color: #008000; font-weight: bold\">]</span>\n",
       "\n",
       "<span style=\"color: #008000; text-decoration-color: #008000\"># Extract just the airport names</span>\n",
       "<span style=\"color: #008000; text-decoration-color: #008000\">FINAL_RESULT = </span><span style=\"color: #008000; text-decoration-color: #008000; font-weight: bold\">[</span><span style=\"color: #008000; text-decoration-color: #008000\">airport</span><span style=\"color: #008000; text-decoration-color: #008000; font-weight: bold\">[</span><span style=\"color: #008080; text-decoration-color: #008080; font-weight: bold\">0</span><span style=\"color: #008000; text-decoration-color: #008000; font-weight: bold\">]</span><span style=\"color: #008000; text-decoration-color: #008000\"> for airport in top_airports</span><span style=\"color: #008000; text-decoration-color: #008000; font-weight: bold\">]</span>\n",
       "</pre>\n"
      ],
      "text/plain": [
       "\u001b[32mimport networkx as nx\u001b[0m\n",
       "\n",
       "\u001b[32m# Assuming G_adb is already defined as a NetworkX graph\u001b[0m\n",
       "\u001b[32m# Calculate degree centrality\u001b[0m\n",
       "\u001b[32mdegree_centrality = \u001b[0m\u001b[1;35mnx.degree_centrality\u001b[0m\u001b[1;32m(\u001b[0m\u001b[32mG_adb\u001b[0m\u001b[1;32m)\u001b[0m\n",
       "\n",
       "\u001b[32m# Sort airports by degree centrality and get the top \u001b[0m\u001b[1;36m5\u001b[0m\n",
       "\u001b[32mtop_airports = \u001b[0m\u001b[1;35msorted\u001b[0m\u001b[1;32m(\u001b[0m\u001b[1;35mdegree_centrality.items\u001b[0m\u001b[1;32m(\u001b[0m\u001b[1;32m)\u001b[0m\u001b[32m, \u001b[0m\u001b[33mkey\u001b[0m\u001b[32m=\u001b[0m\u001b[35mlambda\u001b[0m\u001b[32m x: x\u001b[0m\u001b[1;32m[\u001b[0m\u001b[1;36m1\u001b[0m\u001b[1;32m]\u001b[0m\u001b[32m, \u001b[0m\u001b[33mreverse\u001b[0m\u001b[32m=\u001b[0m\u001b[3;92mTrue\u001b[0m\u001b[1;32m)\u001b[0m\u001b[1;32m[\u001b[0m\u001b[32m:\u001b[0m\u001b[1;36m5\u001b[0m\u001b[1;32m]\u001b[0m\n",
       "\n",
       "\u001b[32m# Extract just the airport names\u001b[0m\n",
       "\u001b[32mFINAL_RESULT = \u001b[0m\u001b[1;32m[\u001b[0m\u001b[32mairport\u001b[0m\u001b[1;32m[\u001b[0m\u001b[1;36m0\u001b[0m\u001b[1;32m]\u001b[0m\u001b[32m for airport in top_airports\u001b[0m\u001b[1;32m]\u001b[0m\n"
      ]
     },
     "metadata": {},
     "output_type": "display_data"
    },
    {
     "data": {
      "text/html": [
       "<pre style=\"white-space:pre;overflow-x:auto;line-height:normal;font-family:Menlo,'DejaVu Sans Mono',consolas,'Courier New',monospace\"><span style=\"color: #00ff00; text-decoration-color: #00ff00\">───────────────────────────────────────────────────────────────────────────────────────────────────────────────────</span>\n",
       "</pre>\n"
      ],
      "text/plain": [
       "\u001b[92m───────────────────────────────────────────────────────────────────────────────────────────────────────────────────\u001b[0m\n"
      ]
     },
     "metadata": {},
     "output_type": "display_data"
    },
    {
     "data": {
      "text/html": [
       "<pre style=\"white-space:pre;overflow-x:auto;line-height:normal;font-family:Menlo,'DejaVu Sans Mono',consolas,'Courier New',monospace\"><span style=\"color: #00ff00; text-decoration-color: #00ff00\">───────────────────────────────────────── </span><span style=\"color: #008080; text-decoration-color: #008080; font-weight: bold\">Step </span><span style=\"color: #008080; text-decoration-color: #008080; font-weight: bold\">2</span><span style=\"color: #008080; text-decoration-color: #008080; font-weight: bold\">: Executing NetworkX Code</span><span style=\"color: #00ff00; text-decoration-color: #00ff00\"> ─────────────────────────────────────────</span>\n",
       "</pre>\n"
      ],
      "text/plain": [
       "\u001b[92m───────────────────────────────────────── \u001b[0m\u001b[1;36mStep \u001b[0m\u001b[1;36m2\u001b[0m\u001b[1;36m: Executing NetworkX Code\u001b[0m\u001b[92m ─────────────────────────────────────────\u001b[0m\n"
      ]
     },
     "metadata": {},
     "output_type": "display_data"
    },
    {
     "data": {
      "text/html": [
       "<pre style=\"white-space:pre;overflow-x:auto;line-height:normal;font-family:Menlo,'DejaVu Sans Mono',consolas,'Courier New',monospace\"><span style=\"color: #000080; text-decoration-color: #000080; font-weight: bold\">Attempt </span><span style=\"color: #000080; text-decoration-color: #000080; font-weight: bold\">1</span><span style=\"color: #000080; text-decoration-color: #000080; font-weight: bold\">: Executing code</span>\n",
       "</pre>\n"
      ],
      "text/plain": [
       "\u001b[1;34mAttempt \u001b[0m\u001b[1;34m1\u001b[0m\u001b[1;34m: Executing code\u001b[0m\n"
      ]
     },
     "metadata": {},
     "output_type": "display_data"
    },
    {
     "data": {
      "text/html": [
       "<pre style=\"white-space:pre;overflow-x:auto;line-height:normal;font-family:Menlo,'DejaVu Sans Mono',consolas,'Courier New',monospace\"><span style=\"color: #00ff00; text-decoration-color: #00ff00\">───────────────────────────────────────────── </span><span style=\"color: #008000; text-decoration-color: #008000; font-weight: bold\">Final Execution Result</span><span style=\"color: #00ff00; text-decoration-color: #00ff00\"> ──────────────────────────────────────────────</span>\n",
       "</pre>\n"
      ],
      "text/plain": [
       "\u001b[92m───────────────────────────────────────────── \u001b[0m\u001b[1;32mFinal Execution Result\u001b[0m\u001b[92m ──────────────────────────────────────────────\u001b[0m\n"
      ]
     },
     "metadata": {},
     "output_type": "display_data"
    },
    {
     "data": {
      "text/html": [
       "<pre style=\"white-space:pre;overflow-x:auto;line-height:normal;font-family:Menlo,'DejaVu Sans Mono',consolas,'Courier New',monospace\"><span style=\"color: #800080; text-decoration-color: #800080; font-weight: bold\">FINAL_RESULT:</span><span style=\"color: #800080; text-decoration-color: #800080\"> </span><span style=\"color: #800080; text-decoration-color: #800080; font-weight: bold\">[</span><span style=\"color: #008000; text-decoration-color: #008000\">'airports/ATL'</span><span style=\"color: #800080; text-decoration-color: #800080\">, </span><span style=\"color: #008000; text-decoration-color: #008000\">'airports/ORD'</span><span style=\"color: #800080; text-decoration-color: #800080\">, </span><span style=\"color: #008000; text-decoration-color: #008000\">'airports/DFW'</span><span style=\"color: #800080; text-decoration-color: #800080\">, </span><span style=\"color: #008000; text-decoration-color: #008000\">'airports/DEN'</span><span style=\"color: #800080; text-decoration-color: #800080\">, </span><span style=\"color: #008000; text-decoration-color: #008000\">'airports/LAX'</span><span style=\"color: #800080; text-decoration-color: #800080; font-weight: bold\">]</span>\n",
       "</pre>\n"
      ],
      "text/plain": [
       "\u001b[1;35mFINAL_RESULT:\u001b[0m\u001b[35m \u001b[0m\u001b[1;35m[\u001b[0m\u001b[32m'airports/ATL'\u001b[0m\u001b[35m, \u001b[0m\u001b[32m'airports/ORD'\u001b[0m\u001b[35m, \u001b[0m\u001b[32m'airports/DFW'\u001b[0m\u001b[35m, \u001b[0m\u001b[32m'airports/DEN'\u001b[0m\u001b[35m, \u001b[0m\u001b[32m'airports/LAX'\u001b[0m\u001b[1;35m]\u001b[0m\n"
      ]
     },
     "metadata": {},
     "output_type": "display_data"
    },
    {
     "data": {
      "text/html": [
       "<pre style=\"white-space:pre;overflow-x:auto;line-height:normal;font-family:Menlo,'DejaVu Sans Mono',consolas,'Courier New',monospace\"><span style=\"color: #00ff00; text-decoration-color: #00ff00\">───────────────────────────────────────────────────────────────────────────────────────────────────────────────────</span>\n",
       "</pre>\n"
      ],
      "text/plain": [
       "\u001b[92m───────────────────────────────────────────────────────────────────────────────────────────────────────────────────\u001b[0m\n"
      ]
     },
     "metadata": {},
     "output_type": "display_data"
    },
    {
     "data": {
      "text/html": [
       "<pre style=\"white-space:pre;overflow-x:auto;line-height:normal;font-family:Menlo,'DejaVu Sans Mono',consolas,'Courier New',monospace\"><span style=\"color: #00ff00; text-decoration-color: #00ff00\">──────────────────────────────────────── </span><span style=\"color: #008080; text-decoration-color: #008080; font-weight: bold\">Step </span><span style=\"color: #008080; text-decoration-color: #008080; font-weight: bold\">3</span><span style=\"color: #008080; text-decoration-color: #008080; font-weight: bold\">: Formulating Final Answer</span><span style=\"color: #00ff00; text-decoration-color: #00ff00\"> ─────────────────────────────────────────</span>\n",
       "</pre>\n"
      ],
      "text/plain": [
       "\u001b[92m──────────────────────────────────────── \u001b[0m\u001b[1;36mStep \u001b[0m\u001b[1;36m3\u001b[0m\u001b[1;36m: Formulating Final Answer\u001b[0m\u001b[92m ─────────────────────────────────────────\u001b[0m\n"
      ]
     },
     "metadata": {},
     "output_type": "display_data"
    },
    {
     "data": {
      "text/html": [
       "<pre style=\"white-space:pre;overflow-x:auto;line-height:normal;font-family:Menlo,'DejaVu Sans Mono',consolas,'Courier New',monospace\"><span style=\"color: #00ff00; text-decoration-color: #00ff00\">───────────────────────────────────────────── </span><span style=\"color: #008000; text-decoration-color: #008000; font-weight: bold\">Final Answer Generated</span><span style=\"color: #00ff00; text-decoration-color: #00ff00\"> ──────────────────────────────────────────────</span>\n",
       "</pre>\n"
      ],
      "text/plain": [
       "\u001b[92m───────────────────────────────────────────── \u001b[0m\u001b[1;32mFinal Answer Generated\u001b[0m\u001b[92m ──────────────────────────────────────────────\u001b[0m\n"
      ]
     },
     "metadata": {},
     "output_type": "display_data"
    },
    {
     "data": {
      "text/plain": [
       "\"The top 5 airports by degree centrality are:\\n\\n1. ATL (Hartsfield-Jackson Atlanta International Airport)\\n2. ORD (O'Hare International Airport)\\n3. DFW (Dallas/Fort Worth International Airport)\\n4. DEN (Denver International Airport)\\n5. LAX (Los Angeles International Airport)\""
      ]
     },
     "execution_count": 35,
     "metadata": {},
     "output_type": "execute_result"
    }
   ],
   "source": [
    "query_graph(\"Identify the top 5 airports by degree centrality.\")"
   ]
  },
  {
   "cell_type": "code",
   "execution_count": 36,
   "metadata": {
    "scrolled": true
   },
   "outputs": [
    {
     "data": {
      "text/html": [
       "<pre style=\"white-space:pre;overflow-x:auto;line-height:normal;font-family:Menlo,'DejaVu Sans Mono',consolas,'Courier New',monospace\"><span style=\"color: #00ff00; text-decoration-color: #00ff00\">──────────────────────────────────────── </span><span style=\"color: #008080; text-decoration-color: #008080; font-weight: bold\">Step </span><span style=\"color: #008080; text-decoration-color: #008080; font-weight: bold\">1</span><span style=\"color: #008080; text-decoration-color: #008080; font-weight: bold\">: Generating NetworkX Code</span><span style=\"color: #00ff00; text-decoration-color: #00ff00\"> ─────────────────────────────────────────</span>\n",
       "</pre>\n"
      ],
      "text/plain": [
       "\u001b[92m──────────────────────────────────────── \u001b[0m\u001b[1;36mStep \u001b[0m\u001b[1;36m1\u001b[0m\u001b[1;36m: Generating NetworkX Code\u001b[0m\u001b[92m ─────────────────────────────────────────\u001b[0m\n"
      ]
     },
     "metadata": {},
     "output_type": "display_data"
    },
    {
     "data": {
      "text/html": [
       "<pre style=\"white-space:pre;overflow-x:auto;line-height:normal;font-family:Menlo,'DejaVu Sans Mono',consolas,'Courier New',monospace\"><span style=\"color: #00ff00; text-decoration-color: #00ff00\">───────────────────────────────────────────── </span><span style=\"color: #008000; text-decoration-color: #008000; font-weight: bold\">Generated NetworkX Code</span><span style=\"color: #00ff00; text-decoration-color: #00ff00\"> ─────────────────────────────────────────────</span>\n",
       "</pre>\n"
      ],
      "text/plain": [
       "\u001b[92m───────────────────────────────────────────── \u001b[0m\u001b[1;32mGenerated NetworkX Code\u001b[0m\u001b[92m ─────────────────────────────────────────────\u001b[0m\n"
      ]
     },
     "metadata": {},
     "output_type": "display_data"
    },
    {
     "data": {
      "text/html": [
       "<pre style=\"white-space:pre;overflow-x:auto;line-height:normal;font-family:Menlo,'DejaVu Sans Mono',consolas,'Courier New',monospace\"><span style=\"color: #008000; text-decoration-color: #008000\">import networkx as nx</span>\n",
       "\n",
       "<span style=\"color: #008000; text-decoration-color: #008000\"># Assuming G_adb is already defined as a NetworkX graph</span>\n",
       "<span style=\"color: #008000; text-decoration-color: #008000\"># Check if the graph is strongly connected</span>\n",
       "<span style=\"color: #008000; text-decoration-color: #008000\">is_strongly_connected = </span><span style=\"color: #800080; text-decoration-color: #800080; font-weight: bold\">nx.is_strongly_connected</span><span style=\"color: #008000; text-decoration-color: #008000; font-weight: bold\">(</span><span style=\"color: #008000; text-decoration-color: #008000\">G_adb</span><span style=\"color: #008000; text-decoration-color: #008000; font-weight: bold\">)</span>\n",
       "\n",
       "<span style=\"color: #008000; text-decoration-color: #008000\"># Check if the graph is weakly connected</span>\n",
       "<span style=\"color: #008000; text-decoration-color: #008000\">is_weakly_connected = </span><span style=\"color: #800080; text-decoration-color: #800080; font-weight: bold\">nx.is_weakly_connected</span><span style=\"color: #008000; text-decoration-color: #008000; font-weight: bold\">(</span><span style=\"color: #008000; text-decoration-color: #008000\">G_adb</span><span style=\"color: #008000; text-decoration-color: #008000; font-weight: bold\">)</span>\n",
       "\n",
       "<span style=\"color: #008000; text-decoration-color: #008000\"># Determine the final result based on the connectivity checks</span>\n",
       "<span style=\"color: #008000; text-decoration-color: #008000\">if is_strongly_connected:</span>\n",
       "<span style=\"color: #008000; text-decoration-color: #008000\">    FINAL_RESULT = </span><span style=\"color: #008000; text-decoration-color: #008000\">\"Strongly Connected\"</span>\n",
       "<span style=\"color: #008000; text-decoration-color: #008000\">elif is_weakly_connected:</span>\n",
       "<span style=\"color: #008000; text-decoration-color: #008000\">    FINAL_RESULT = </span><span style=\"color: #008000; text-decoration-color: #008000\">\"Weakly Connected\"</span>\n",
       "<span style=\"color: #008000; text-decoration-color: #008000\">else:</span>\n",
       "<span style=\"color: #008000; text-decoration-color: #008000\">    FINAL_RESULT = </span><span style=\"color: #008000; text-decoration-color: #008000\">\"Not Connected\"</span>\n",
       "</pre>\n"
      ],
      "text/plain": [
       "\u001b[32mimport networkx as nx\u001b[0m\n",
       "\n",
       "\u001b[32m# Assuming G_adb is already defined as a NetworkX graph\u001b[0m\n",
       "\u001b[32m# Check if the graph is strongly connected\u001b[0m\n",
       "\u001b[32mis_strongly_connected = \u001b[0m\u001b[1;35mnx.is_strongly_connected\u001b[0m\u001b[1;32m(\u001b[0m\u001b[32mG_adb\u001b[0m\u001b[1;32m)\u001b[0m\n",
       "\n",
       "\u001b[32m# Check if the graph is weakly connected\u001b[0m\n",
       "\u001b[32mis_weakly_connected = \u001b[0m\u001b[1;35mnx.is_weakly_connected\u001b[0m\u001b[1;32m(\u001b[0m\u001b[32mG_adb\u001b[0m\u001b[1;32m)\u001b[0m\n",
       "\n",
       "\u001b[32m# Determine the final result based on the connectivity checks\u001b[0m\n",
       "\u001b[32mif is_strongly_connected:\u001b[0m\n",
       "\u001b[32m    FINAL_RESULT = \u001b[0m\u001b[32m\"Strongly Connected\"\u001b[0m\n",
       "\u001b[32melif is_weakly_connected:\u001b[0m\n",
       "\u001b[32m    FINAL_RESULT = \u001b[0m\u001b[32m\"Weakly Connected\"\u001b[0m\n",
       "\u001b[32melse:\u001b[0m\n",
       "\u001b[32m    FINAL_RESULT = \u001b[0m\u001b[32m\"Not Connected\"\u001b[0m\n"
      ]
     },
     "metadata": {},
     "output_type": "display_data"
    },
    {
     "data": {
      "text/html": [
       "<pre style=\"white-space:pre;overflow-x:auto;line-height:normal;font-family:Menlo,'DejaVu Sans Mono',consolas,'Courier New',monospace\"><span style=\"color: #00ff00; text-decoration-color: #00ff00\">───────────────────────────────────────────────────────────────────────────────────────────────────────────────────</span>\n",
       "</pre>\n"
      ],
      "text/plain": [
       "\u001b[92m───────────────────────────────────────────────────────────────────────────────────────────────────────────────────\u001b[0m\n"
      ]
     },
     "metadata": {},
     "output_type": "display_data"
    },
    {
     "data": {
      "text/html": [
       "<pre style=\"white-space:pre;overflow-x:auto;line-height:normal;font-family:Menlo,'DejaVu Sans Mono',consolas,'Courier New',monospace\"><span style=\"color: #00ff00; text-decoration-color: #00ff00\">───────────────────────────────────────── </span><span style=\"color: #008080; text-decoration-color: #008080; font-weight: bold\">Step </span><span style=\"color: #008080; text-decoration-color: #008080; font-weight: bold\">2</span><span style=\"color: #008080; text-decoration-color: #008080; font-weight: bold\">: Executing NetworkX Code</span><span style=\"color: #00ff00; text-decoration-color: #00ff00\"> ─────────────────────────────────────────</span>\n",
       "</pre>\n"
      ],
      "text/plain": [
       "\u001b[92m───────────────────────────────────────── \u001b[0m\u001b[1;36mStep \u001b[0m\u001b[1;36m2\u001b[0m\u001b[1;36m: Executing NetworkX Code\u001b[0m\u001b[92m ─────────────────────────────────────────\u001b[0m\n"
      ]
     },
     "metadata": {},
     "output_type": "display_data"
    },
    {
     "data": {
      "text/html": [
       "<pre style=\"white-space:pre;overflow-x:auto;line-height:normal;font-family:Menlo,'DejaVu Sans Mono',consolas,'Courier New',monospace\"><span style=\"color: #000080; text-decoration-color: #000080; font-weight: bold\">Attempt </span><span style=\"color: #000080; text-decoration-color: #000080; font-weight: bold\">1</span><span style=\"color: #000080; text-decoration-color: #000080; font-weight: bold\">: Executing code</span>\n",
       "</pre>\n"
      ],
      "text/plain": [
       "\u001b[1;34mAttempt \u001b[0m\u001b[1;34m1\u001b[0m\u001b[1;34m: Executing code\u001b[0m\n"
      ]
     },
     "metadata": {},
     "output_type": "display_data"
    },
    {
     "data": {
      "text/html": [
       "<pre style=\"white-space:pre;overflow-x:auto;line-height:normal;font-family:Menlo,'DejaVu Sans Mono',consolas,'Courier New',monospace\"><span style=\"color: #00ff00; text-decoration-color: #00ff00\">───────────────────────────────────────────── </span><span style=\"color: #008000; text-decoration-color: #008000; font-weight: bold\">Final Execution Result</span><span style=\"color: #00ff00; text-decoration-color: #00ff00\"> ──────────────────────────────────────────────</span>\n",
       "</pre>\n"
      ],
      "text/plain": [
       "\u001b[92m───────────────────────────────────────────── \u001b[0m\u001b[1;32mFinal Execution Result\u001b[0m\u001b[92m ──────────────────────────────────────────────\u001b[0m\n"
      ]
     },
     "metadata": {},
     "output_type": "display_data"
    },
    {
     "data": {
      "text/html": [
       "<pre style=\"white-space:pre;overflow-x:auto;line-height:normal;font-family:Menlo,'DejaVu Sans Mono',consolas,'Courier New',monospace\"><span style=\"color: #800080; text-decoration-color: #800080; font-weight: bold\">FINAL_RESULT:</span><span style=\"color: #800080; text-decoration-color: #800080\"> Not Connected</span>\n",
       "</pre>\n"
      ],
      "text/plain": [
       "\u001b[1;35mFINAL_RESULT:\u001b[0m\u001b[35m Not Connected\u001b[0m\n"
      ]
     },
     "metadata": {},
     "output_type": "display_data"
    },
    {
     "data": {
      "text/html": [
       "<pre style=\"white-space:pre;overflow-x:auto;line-height:normal;font-family:Menlo,'DejaVu Sans Mono',consolas,'Courier New',monospace\"><span style=\"color: #00ff00; text-decoration-color: #00ff00\">───────────────────────────────────────────────────────────────────────────────────────────────────────────────────</span>\n",
       "</pre>\n"
      ],
      "text/plain": [
       "\u001b[92m───────────────────────────────────────────────────────────────────────────────────────────────────────────────────\u001b[0m\n"
      ]
     },
     "metadata": {},
     "output_type": "display_data"
    },
    {
     "data": {
      "text/html": [
       "<pre style=\"white-space:pre;overflow-x:auto;line-height:normal;font-family:Menlo,'DejaVu Sans Mono',consolas,'Courier New',monospace\"><span style=\"color: #00ff00; text-decoration-color: #00ff00\">──────────────────────────────────────── </span><span style=\"color: #008080; text-decoration-color: #008080; font-weight: bold\">Step </span><span style=\"color: #008080; text-decoration-color: #008080; font-weight: bold\">3</span><span style=\"color: #008080; text-decoration-color: #008080; font-weight: bold\">: Formulating Final Answer</span><span style=\"color: #00ff00; text-decoration-color: #00ff00\"> ─────────────────────────────────────────</span>\n",
       "</pre>\n"
      ],
      "text/plain": [
       "\u001b[92m──────────────────────────────────────── \u001b[0m\u001b[1;36mStep \u001b[0m\u001b[1;36m3\u001b[0m\u001b[1;36m: Formulating Final Answer\u001b[0m\u001b[92m ─────────────────────────────────────────\u001b[0m\n"
      ]
     },
     "metadata": {},
     "output_type": "display_data"
    },
    {
     "data": {
      "text/html": [
       "<pre style=\"white-space:pre;overflow-x:auto;line-height:normal;font-family:Menlo,'DejaVu Sans Mono',consolas,'Courier New',monospace\"><span style=\"color: #00ff00; text-decoration-color: #00ff00\">───────────────────────────────────────────── </span><span style=\"color: #008000; text-decoration-color: #008000; font-weight: bold\">Final Answer Generated</span><span style=\"color: #00ff00; text-decoration-color: #00ff00\"> ──────────────────────────────────────────────</span>\n",
       "</pre>\n"
      ],
      "text/plain": [
       "\u001b[92m───────────────────────────────────────────── \u001b[0m\u001b[1;32mFinal Answer Generated\u001b[0m\u001b[92m ──────────────────────────────────────────────\u001b[0m\n"
      ]
     },
     "metadata": {},
     "output_type": "display_data"
    },
    {
     "data": {
      "text/plain": [
       "'The flight network is not connected, meaning it is neither strongly connected nor weakly connected. This indicates that there are segments of the network that are isolated from others, preventing complete connectivity among all nodes (airports).'"
      ]
     },
     "execution_count": 36,
     "metadata": {},
     "output_type": "execute_result"
    }
   ],
   "source": [
    "query_graph(\"Is the flight network strongly connected or weakly connected? Provide details.\")"
   ]
  },
  {
   "cell_type": "code",
   "execution_count": 38,
   "metadata": {},
   "outputs": [
    {
     "name": "stdout",
     "output_type": "stream",
     "text": [
      "\n",
      "\n",
      "\u001b[1m> Entering new ArangoGraphQAChain chain...\u001b[0m\n",
      "AQL Query (1):\u001b[32;1m\u001b[1;3m\n",
      "WITH airports\n",
      "FOR airport IN airports SORT airport.outgoingFlights DESC LIMIT 1 RETURN airport\n",
      "\u001b[0m\n",
      "AQL Result:\n",
      "\u001b[32;1m\u001b[1;3m[{'_key': 'ZZV', '_id': 'airports/ZZV', '_rev': '_jVk9J1C-_n', 'name': 'Zanesville Municipal', 'city': 'Zanesville', 'state': 'OH', 'country': 'USA', 'lat': 39.94445833, 'long': -81.89210528, 'vip': False}]\u001b[0m\n",
      "\n",
      "\u001b[1m> Finished chain.\u001b[0m\n"
     ]
    },
    {
     "data": {
      "text/plain": [
       "\"The airport with the highest number of outgoing flights is Zanesville Municipal, located in Zanesville, Ohio, USA. This airport is identified by the key 'ZZV' and has geographical coordinates of approximately 39.94° latitude and -81.89° longitude. It is not classified as a VIP airport.\""
      ]
     },
     "execution_count": 38,
     "metadata": {},
     "output_type": "execute_result"
    }
   ],
   "source": [
    "query_graph(\"Find the airport with the highest number of outgoing flights.\")"
   ]
  },
  {
   "cell_type": "code",
   "execution_count": 39,
   "metadata": {},
   "outputs": [
    {
     "name": "stdout",
     "output_type": "stream",
     "text": [
      "\n",
      "\n",
      "\u001b[1m> Entering new ArangoGraphQAChain chain...\u001b[0m\n",
      "AQL Query (1):\u001b[32;1m\u001b[1;3m\n",
      "WITH airports, flights\n",
      "FOR v IN 1..1 OUTBOUND 'airports/0' flights RETURN v\n",
      "\u001b[0m\n",
      "AQL Result:\n",
      "\u001b[32;1m\u001b[1;3m[]\u001b[0m\n",
      "\n",
      "\u001b[1m> Finished chain.\u001b[0m\n"
     ]
    },
    {
     "data": {
      "text/plain": [
       "'It seems that there are currently no connections from Node 0. This could mean that Node 0 does not have any outbound connections or that it may not exist in the database. If you have another node in mind or would like to explore different connections, please let me know!'"
      ]
     },
     "execution_count": 39,
     "metadata": {},
     "output_type": "execute_result"
    }
   ],
   "source": [
    "query_graph(\"Who is connected to Node 0?\")"
   ]
  },
  {
   "cell_type": "code",
   "execution_count": 42,
   "metadata": {
    "scrolled": true
   },
   "outputs": [
    {
     "data": {
      "text/html": [
       "<pre style=\"white-space:pre;overflow-x:auto;line-height:normal;font-family:Menlo,'DejaVu Sans Mono',consolas,'Courier New',monospace\"><span style=\"color: #00ff00; text-decoration-color: #00ff00\">──────────────────────────────────────── </span><span style=\"color: #008080; text-decoration-color: #008080; font-weight: bold\">Step </span><span style=\"color: #008080; text-decoration-color: #008080; font-weight: bold\">1</span><span style=\"color: #008080; text-decoration-color: #008080; font-weight: bold\">: Generating NetworkX Code</span><span style=\"color: #00ff00; text-decoration-color: #00ff00\"> ─────────────────────────────────────────</span>\n",
       "</pre>\n"
      ],
      "text/plain": [
       "\u001b[92m──────────────────────────────────────── \u001b[0m\u001b[1;36mStep \u001b[0m\u001b[1;36m1\u001b[0m\u001b[1;36m: Generating NetworkX Code\u001b[0m\u001b[92m ─────────────────────────────────────────\u001b[0m\n"
      ]
     },
     "metadata": {},
     "output_type": "display_data"
    },
    {
     "data": {
      "text/html": [
       "<pre style=\"white-space:pre;overflow-x:auto;line-height:normal;font-family:Menlo,'DejaVu Sans Mono',consolas,'Courier New',monospace\"><span style=\"color: #00ff00; text-decoration-color: #00ff00\">───────────────────────────────────────────── </span><span style=\"color: #008000; text-decoration-color: #008000; font-weight: bold\">Generated NetworkX Code</span><span style=\"color: #00ff00; text-decoration-color: #00ff00\"> ─────────────────────────────────────────────</span>\n",
       "</pre>\n"
      ],
      "text/plain": [
       "\u001b[92m───────────────────────────────────────────── \u001b[0m\u001b[1;32mGenerated NetworkX Code\u001b[0m\u001b[92m ─────────────────────────────────────────────\u001b[0m\n"
      ]
     },
     "metadata": {},
     "output_type": "display_data"
    },
    {
     "data": {
      "text/html": [
       "<pre style=\"white-space:pre;overflow-x:auto;line-height:normal;font-family:Menlo,'DejaVu Sans Mono',consolas,'Courier New',monospace\"><span style=\"color: #008000; text-decoration-color: #008000\">import networkx as nx</span>\n",
       "\n",
       "<span style=\"color: #008000; text-decoration-color: #008000\"># Assuming G_adb is already defined as a NetworkX graph</span>\n",
       "<span style=\"color: #008000; text-decoration-color: #008000\"># Calculate the connected components</span>\n",
       "<span style=\"color: #008000; text-decoration-color: #008000\">connected_components = </span><span style=\"color: #800080; text-decoration-color: #800080; font-weight: bold\">list</span><span style=\"color: #008000; text-decoration-color: #008000; font-weight: bold\">(</span><span style=\"color: #800080; text-decoration-color: #800080; font-weight: bold\">nx.connected_components</span><span style=\"color: #008000; text-decoration-color: #008000; font-weight: bold\">(</span><span style=\"color: #008000; text-decoration-color: #008000\">G_adb</span><span style=\"color: #008000; text-decoration-color: #008000; font-weight: bold\">))</span>\n",
       "\n",
       "<span style=\"color: #008000; text-decoration-color: #008000\"># Determine the number of connected components</span>\n",
       "<span style=\"color: #008000; text-decoration-color: #008000\">num_connected_components = </span><span style=\"color: #800080; text-decoration-color: #800080; font-weight: bold\">len</span><span style=\"color: #008000; text-decoration-color: #008000; font-weight: bold\">(</span><span style=\"color: #008000; text-decoration-color: #008000\">connected_components</span><span style=\"color: #008000; text-decoration-color: #008000; font-weight: bold\">)</span>\n",
       "\n",
       "<span style=\"color: #008000; text-decoration-color: #008000\"># Determine if the graph is strongly connected</span>\n",
       "<span style=\"color: #008000; text-decoration-color: #008000\">is_strongly_connected = num_connected_components == </span><span style=\"color: #008080; text-decoration-color: #008080; font-weight: bold\">1</span>\n",
       "\n",
       "<span style=\"color: #008000; text-decoration-color: #008000\"># Prepare the final result</span>\n",
       "<span style=\"color: #008000; text-decoration-color: #008000\">FINAL_RESULT = </span><span style=\"color: #008000; text-decoration-color: #008000\">\"Strongly connected\"</span><span style=\"color: #008000; text-decoration-color: #008000\"> if is_strongly_connected else f\"Not strongly connected, </span>\n",
       "<span style=\"color: #008000; text-decoration-color: #008000; font-weight: bold\">{</span><span style=\"color: #008000; text-decoration-color: #008000\">num_connected_components</span><span style=\"color: #008000; text-decoration-color: #008000; font-weight: bold\">}</span><span style=\"color: #008000; text-decoration-color: #008000\"> components\"</span>\n",
       "</pre>\n"
      ],
      "text/plain": [
       "\u001b[32mimport networkx as nx\u001b[0m\n",
       "\n",
       "\u001b[32m# Assuming G_adb is already defined as a NetworkX graph\u001b[0m\n",
       "\u001b[32m# Calculate the connected components\u001b[0m\n",
       "\u001b[32mconnected_components = \u001b[0m\u001b[1;35mlist\u001b[0m\u001b[1;32m(\u001b[0m\u001b[1;35mnx.connected_components\u001b[0m\u001b[1;32m(\u001b[0m\u001b[32mG_adb\u001b[0m\u001b[1;32m)\u001b[0m\u001b[1;32m)\u001b[0m\n",
       "\n",
       "\u001b[32m# Determine the number of connected components\u001b[0m\n",
       "\u001b[32mnum_connected_components = \u001b[0m\u001b[1;35mlen\u001b[0m\u001b[1;32m(\u001b[0m\u001b[32mconnected_components\u001b[0m\u001b[1;32m)\u001b[0m\n",
       "\n",
       "\u001b[32m# Determine if the graph is strongly connected\u001b[0m\n",
       "\u001b[32mis_strongly_connected = num_connected_components == \u001b[0m\u001b[1;36m1\u001b[0m\n",
       "\n",
       "\u001b[32m# Prepare the final result\u001b[0m\n",
       "\u001b[32mFINAL_RESULT = \u001b[0m\u001b[32m\"Strongly connected\"\u001b[0m\u001b[32m if is_strongly_connected else f\"Not strongly connected, \u001b[0m\n",
       "\u001b[1;32m{\u001b[0m\u001b[32mnum_connected_components\u001b[0m\u001b[1;32m}\u001b[0m\u001b[32m components\"\u001b[0m\n"
      ]
     },
     "metadata": {},
     "output_type": "display_data"
    },
    {
     "data": {
      "text/html": [
       "<pre style=\"white-space:pre;overflow-x:auto;line-height:normal;font-family:Menlo,'DejaVu Sans Mono',consolas,'Courier New',monospace\"><span style=\"color: #00ff00; text-decoration-color: #00ff00\">───────────────────────────────────────────────────────────────────────────────────────────────────────────────────</span>\n",
       "</pre>\n"
      ],
      "text/plain": [
       "\u001b[92m───────────────────────────────────────────────────────────────────────────────────────────────────────────────────\u001b[0m\n"
      ]
     },
     "metadata": {},
     "output_type": "display_data"
    },
    {
     "data": {
      "text/html": [
       "<pre style=\"white-space:pre;overflow-x:auto;line-height:normal;font-family:Menlo,'DejaVu Sans Mono',consolas,'Courier New',monospace\"><span style=\"color: #00ff00; text-decoration-color: #00ff00\">───────────────────────────────────────── </span><span style=\"color: #008080; text-decoration-color: #008080; font-weight: bold\">Step </span><span style=\"color: #008080; text-decoration-color: #008080; font-weight: bold\">2</span><span style=\"color: #008080; text-decoration-color: #008080; font-weight: bold\">: Executing NetworkX Code</span><span style=\"color: #00ff00; text-decoration-color: #00ff00\"> ─────────────────────────────────────────</span>\n",
       "</pre>\n"
      ],
      "text/plain": [
       "\u001b[92m───────────────────────────────────────── \u001b[0m\u001b[1;36mStep \u001b[0m\u001b[1;36m2\u001b[0m\u001b[1;36m: Executing NetworkX Code\u001b[0m\u001b[92m ─────────────────────────────────────────\u001b[0m\n"
      ]
     },
     "metadata": {},
     "output_type": "display_data"
    },
    {
     "data": {
      "text/html": [
       "<pre style=\"white-space:pre;overflow-x:auto;line-height:normal;font-family:Menlo,'DejaVu Sans Mono',consolas,'Courier New',monospace\"><span style=\"color: #000080; text-decoration-color: #000080; font-weight: bold\">Attempt </span><span style=\"color: #000080; text-decoration-color: #000080; font-weight: bold\">1</span><span style=\"color: #000080; text-decoration-color: #000080; font-weight: bold\">: Executing code</span>\n",
       "</pre>\n"
      ],
      "text/plain": [
       "\u001b[1;34mAttempt \u001b[0m\u001b[1;34m1\u001b[0m\u001b[1;34m: Executing code\u001b[0m\n"
      ]
     },
     "metadata": {},
     "output_type": "display_data"
    },
    {
     "name": "stdout",
     "output_type": "stream",
     "text": [
      "EXEC ERROR on attempt 1: not implemented for directed type\n"
     ]
    },
    {
     "data": {
      "text/html": [
       "<pre style=\"white-space:pre;overflow-x:auto;line-height:normal;font-family:Menlo,'DejaVu Sans Mono',consolas,'Courier New',monospace\"><span style=\"color: #808000; text-decoration-color: #808000; font-weight: bold\">Corrected Code:</span>\n",
       "</pre>\n"
      ],
      "text/plain": [
       "\u001b[1;33mCorrected Code:\u001b[0m\n"
      ]
     },
     "metadata": {},
     "output_type": "display_data"
    },
    {
     "data": {
      "text/html": [
       "<pre style=\"white-space:pre;overflow-x:auto;line-height:normal;font-family:Menlo,'DejaVu Sans Mono',consolas,'Courier New',monospace\"><span style=\"color: #808000; text-decoration-color: #808000\">import networkx as nx</span>\n",
       "\n",
       "<span style=\"color: #808000; text-decoration-color: #808000\"># Assuming G_adb is already defined as a directed graph</span>\n",
       "<span style=\"color: #808000; text-decoration-color: #808000\">G_adb = </span><span style=\"color: #800080; text-decoration-color: #800080; font-weight: bold\">nx.DiGraph</span><span style=\"color: #808000; text-decoration-color: #808000; font-weight: bold\">()</span><span style=\"color: #808000; text-decoration-color: #808000\">  # Replace this with your actual graph initialization</span>\n",
       "\n",
       "<span style=\"color: #808000; text-decoration-color: #808000\"># Add nodes and edges to G_adb based on your data</span>\n",
       "\n",
       "<span style=\"color: #808000; text-decoration-color: #808000\"># Use strongly connected components for directed graphs</span>\n",
       "<span style=\"color: #808000; text-decoration-color: #808000\">strongly_connected_components = </span><span style=\"color: #800080; text-decoration-color: #800080; font-weight: bold\">list</span><span style=\"color: #808000; text-decoration-color: #808000; font-weight: bold\">(</span><span style=\"color: #800080; text-decoration-color: #800080; font-weight: bold\">nx.strongly_connected_components</span><span style=\"color: #808000; text-decoration-color: #808000; font-weight: bold\">(</span><span style=\"color: #808000; text-decoration-color: #808000\">G_adb</span><span style=\"color: #808000; text-decoration-color: #808000; font-weight: bold\">))</span>\n",
       "<span style=\"color: #808000; text-decoration-color: #808000\">num_strongly_connected_components = </span><span style=\"color: #800080; text-decoration-color: #800080; font-weight: bold\">len</span><span style=\"color: #808000; text-decoration-color: #808000; font-weight: bold\">(</span><span style=\"color: #808000; text-decoration-color: #808000\">strongly_connected_components</span><span style=\"color: #808000; text-decoration-color: #808000; font-weight: bold\">)</span>\n",
       "\n",
       "<span style=\"color: #808000; text-decoration-color: #808000\"># Prepare the final result</span>\n",
       "<span style=\"color: #808000; text-decoration-color: #808000\">FINAL_RESULT = f\"The network has </span><span style=\"color: #808000; text-decoration-color: #808000; font-weight: bold\">{</span><span style=\"color: #808000; text-decoration-color: #808000\">num_strongly_connected_components</span><span style=\"color: #808000; text-decoration-color: #808000; font-weight: bold\">}</span><span style=\"color: #808000; text-decoration-color: #808000\"> strongly connected components.\"</span>\n",
       "</pre>\n"
      ],
      "text/plain": [
       "\u001b[33mimport networkx as nx\u001b[0m\n",
       "\n",
       "\u001b[33m# Assuming G_adb is already defined as a directed graph\u001b[0m\n",
       "\u001b[33mG_adb = \u001b[0m\u001b[1;35mnx.DiGraph\u001b[0m\u001b[1;33m(\u001b[0m\u001b[1;33m)\u001b[0m\u001b[33m  # Replace this with your actual graph initialization\u001b[0m\n",
       "\n",
       "\u001b[33m# Add nodes and edges to G_adb based on your data\u001b[0m\n",
       "\n",
       "\u001b[33m# Use strongly connected components for directed graphs\u001b[0m\n",
       "\u001b[33mstrongly_connected_components = \u001b[0m\u001b[1;35mlist\u001b[0m\u001b[1;33m(\u001b[0m\u001b[1;35mnx.strongly_connected_components\u001b[0m\u001b[1;33m(\u001b[0m\u001b[33mG_adb\u001b[0m\u001b[1;33m)\u001b[0m\u001b[1;33m)\u001b[0m\n",
       "\u001b[33mnum_strongly_connected_components = \u001b[0m\u001b[1;35mlen\u001b[0m\u001b[1;33m(\u001b[0m\u001b[33mstrongly_connected_components\u001b[0m\u001b[1;33m)\u001b[0m\n",
       "\n",
       "\u001b[33m# Prepare the final result\u001b[0m\n",
       "\u001b[33mFINAL_RESULT = f\"The network has \u001b[0m\u001b[1;33m{\u001b[0m\u001b[33mnum_strongly_connected_components\u001b[0m\u001b[1;33m}\u001b[0m\u001b[33m strongly connected components.\"\u001b[0m\n"
      ]
     },
     "metadata": {},
     "output_type": "display_data"
    },
    {
     "data": {
      "text/html": [
       "<pre style=\"white-space:pre;overflow-x:auto;line-height:normal;font-family:Menlo,'DejaVu Sans Mono',consolas,'Courier New',monospace\"><span style=\"color: #000080; text-decoration-color: #000080; font-weight: bold\">Attempt </span><span style=\"color: #000080; text-decoration-color: #000080; font-weight: bold\">2</span><span style=\"color: #000080; text-decoration-color: #000080; font-weight: bold\">: Executing code</span>\n",
       "</pre>\n"
      ],
      "text/plain": [
       "\u001b[1;34mAttempt \u001b[0m\u001b[1;34m2\u001b[0m\u001b[1;34m: Executing code\u001b[0m\n"
      ]
     },
     "metadata": {},
     "output_type": "display_data"
    },
    {
     "data": {
      "text/html": [
       "<pre style=\"white-space:pre;overflow-x:auto;line-height:normal;font-family:Menlo,'DejaVu Sans Mono',consolas,'Courier New',monospace\"><span style=\"color: #00ff00; text-decoration-color: #00ff00\">───────────────────────────────────────────── </span><span style=\"color: #008000; text-decoration-color: #008000; font-weight: bold\">Final Execution Result</span><span style=\"color: #00ff00; text-decoration-color: #00ff00\"> ──────────────────────────────────────────────</span>\n",
       "</pre>\n"
      ],
      "text/plain": [
       "\u001b[92m───────────────────────────────────────────── \u001b[0m\u001b[1;32mFinal Execution Result\u001b[0m\u001b[92m ──────────────────────────────────────────────\u001b[0m\n"
      ]
     },
     "metadata": {},
     "output_type": "display_data"
    },
    {
     "data": {
      "text/html": [
       "<pre style=\"white-space:pre;overflow-x:auto;line-height:normal;font-family:Menlo,'DejaVu Sans Mono',consolas,'Courier New',monospace\"><span style=\"color: #800080; text-decoration-color: #800080; font-weight: bold\">FINAL_RESULT:</span><span style=\"color: #800080; text-decoration-color: #800080\"> The network has </span><span style=\"color: #008080; text-decoration-color: #008080; font-weight: bold\">0</span><span style=\"color: #800080; text-decoration-color: #800080\"> strongly connected components.</span>\n",
       "</pre>\n"
      ],
      "text/plain": [
       "\u001b[1;35mFINAL_RESULT:\u001b[0m\u001b[35m The network has \u001b[0m\u001b[1;36m0\u001b[0m\u001b[35m strongly connected components.\u001b[0m\n"
      ]
     },
     "metadata": {},
     "output_type": "display_data"
    },
    {
     "data": {
      "text/html": [
       "<pre style=\"white-space:pre;overflow-x:auto;line-height:normal;font-family:Menlo,'DejaVu Sans Mono',consolas,'Courier New',monospace\"><span style=\"color: #00ff00; text-decoration-color: #00ff00\">───────────────────────────────────────────────────────────────────────────────────────────────────────────────────</span>\n",
       "</pre>\n"
      ],
      "text/plain": [
       "\u001b[92m───────────────────────────────────────────────────────────────────────────────────────────────────────────────────\u001b[0m\n"
      ]
     },
     "metadata": {},
     "output_type": "display_data"
    },
    {
     "data": {
      "text/html": [
       "<pre style=\"white-space:pre;overflow-x:auto;line-height:normal;font-family:Menlo,'DejaVu Sans Mono',consolas,'Courier New',monospace\"><span style=\"color: #00ff00; text-decoration-color: #00ff00\">──────────────────────────────────────── </span><span style=\"color: #008080; text-decoration-color: #008080; font-weight: bold\">Step </span><span style=\"color: #008080; text-decoration-color: #008080; font-weight: bold\">3</span><span style=\"color: #008080; text-decoration-color: #008080; font-weight: bold\">: Formulating Final Answer</span><span style=\"color: #00ff00; text-decoration-color: #00ff00\"> ─────────────────────────────────────────</span>\n",
       "</pre>\n"
      ],
      "text/plain": [
       "\u001b[92m──────────────────────────────────────── \u001b[0m\u001b[1;36mStep \u001b[0m\u001b[1;36m3\u001b[0m\u001b[1;36m: Formulating Final Answer\u001b[0m\u001b[92m ─────────────────────────────────────────\u001b[0m\n"
      ]
     },
     "metadata": {},
     "output_type": "display_data"
    },
    {
     "data": {
      "text/html": [
       "<pre style=\"white-space:pre;overflow-x:auto;line-height:normal;font-family:Menlo,'DejaVu Sans Mono',consolas,'Courier New',monospace\"><span style=\"color: #00ff00; text-decoration-color: #00ff00\">───────────────────────────────────────────── </span><span style=\"color: #008000; text-decoration-color: #008000; font-weight: bold\">Final Answer Generated</span><span style=\"color: #00ff00; text-decoration-color: #00ff00\"> ──────────────────────────────────────────────</span>\n",
       "</pre>\n"
      ],
      "text/plain": [
       "\u001b[92m───────────────────────────────────────────── \u001b[0m\u001b[1;32mFinal Answer Generated\u001b[0m\u001b[92m ──────────────────────────────────────────────\u001b[0m\n"
      ]
     },
     "metadata": {},
     "output_type": "display_data"
    },
    {
     "data": {
      "text/plain": [
       "'The network has no strongly connected components, which means there are no subsets of nodes where every node is reachable from every other node within the directed graph.'"
      ]
     },
     "execution_count": 42,
     "metadata": {},
     "output_type": "execute_result"
    }
   ],
   "source": [
    "query_graph(\"How strongly connected is the network? Used connected components\")"
   ]
  },
  {
   "cell_type": "code",
   "execution_count": 43,
   "metadata": {
    "scrolled": true
   },
   "outputs": [
    {
     "data": {
      "text/html": [
       "<pre style=\"white-space:pre;overflow-x:auto;line-height:normal;font-family:Menlo,'DejaVu Sans Mono',consolas,'Courier New',monospace\"><span style=\"color: #00ff00; text-decoration-color: #00ff00\">──────────────────────────────────────── </span><span style=\"color: #008080; text-decoration-color: #008080; font-weight: bold\">Step </span><span style=\"color: #008080; text-decoration-color: #008080; font-weight: bold\">1</span><span style=\"color: #008080; text-decoration-color: #008080; font-weight: bold\">: Generating NetworkX Code</span><span style=\"color: #00ff00; text-decoration-color: #00ff00\"> ─────────────────────────────────────────</span>\n",
       "</pre>\n"
      ],
      "text/plain": [
       "\u001b[92m──────────────────────────────────────── \u001b[0m\u001b[1;36mStep \u001b[0m\u001b[1;36m1\u001b[0m\u001b[1;36m: Generating NetworkX Code\u001b[0m\u001b[92m ─────────────────────────────────────────\u001b[0m\n"
      ]
     },
     "metadata": {},
     "output_type": "display_data"
    },
    {
     "data": {
      "text/html": [
       "<pre style=\"white-space:pre;overflow-x:auto;line-height:normal;font-family:Menlo,'DejaVu Sans Mono',consolas,'Courier New',monospace\"><span style=\"color: #00ff00; text-decoration-color: #00ff00\">───────────────────────────────────────────── </span><span style=\"color: #008000; text-decoration-color: #008000; font-weight: bold\">Generated NetworkX Code</span><span style=\"color: #00ff00; text-decoration-color: #00ff00\"> ─────────────────────────────────────────────</span>\n",
       "</pre>\n"
      ],
      "text/plain": [
       "\u001b[92m───────────────────────────────────────────── \u001b[0m\u001b[1;32mGenerated NetworkX Code\u001b[0m\u001b[92m ─────────────────────────────────────────────\u001b[0m\n"
      ]
     },
     "metadata": {},
     "output_type": "display_data"
    },
    {
     "data": {
      "text/html": [
       "<pre style=\"white-space:pre;overflow-x:auto;line-height:normal;font-family:Menlo,'DejaVu Sans Mono',consolas,'Courier New',monospace\"><span style=\"color: #008000; text-decoration-color: #008000\">import networkx as nx</span>\n",
       "\n",
       "<span style=\"color: #008000; text-decoration-color: #008000\"># Assuming G_adb is already defined as a NetworkX graph</span>\n",
       "\n",
       "<span style=\"color: #008000; text-decoration-color: #008000\"># Calculate PageRank for the airports in the graph</span>\n",
       "<span style=\"color: #008000; text-decoration-color: #008000\">pagerank_scores = </span><span style=\"color: #800080; text-decoration-color: #800080; font-weight: bold\">nx.pagerank</span><span style=\"color: #008000; text-decoration-color: #008000; font-weight: bold\">(</span><span style=\"color: #008000; text-decoration-color: #008000\">G_adb</span><span style=\"color: #008000; text-decoration-color: #008000; font-weight: bold\">)</span>\n",
       "\n",
       "<span style=\"color: #008000; text-decoration-color: #008000\"># Find the most influential airport based on PageRank score</span>\n",
       "<span style=\"color: #008000; text-decoration-color: #008000\">most_influential_airport = </span><span style=\"color: #800080; text-decoration-color: #800080; font-weight: bold\">max</span><span style=\"color: #008000; text-decoration-color: #008000; font-weight: bold\">(</span><span style=\"color: #008000; text-decoration-color: #008000\">pagerank_scores, </span><span style=\"color: #808000; text-decoration-color: #808000\">key</span><span style=\"color: #008000; text-decoration-color: #008000\">=</span><span style=\"color: #800080; text-decoration-color: #800080\">pagerank_scores</span><span style=\"color: #008000; text-decoration-color: #008000\">.get</span><span style=\"color: #008000; text-decoration-color: #008000; font-weight: bold\">)</span>\n",
       "\n",
       "<span style=\"color: #008000; text-decoration-color: #008000\"># Store the result in FINAL_RESULT</span>\n",
       "<span style=\"color: #008000; text-decoration-color: #008000\">FINAL_RESULT = most_influential_airport</span>\n",
       "</pre>\n"
      ],
      "text/plain": [
       "\u001b[32mimport networkx as nx\u001b[0m\n",
       "\n",
       "\u001b[32m# Assuming G_adb is already defined as a NetworkX graph\u001b[0m\n",
       "\n",
       "\u001b[32m# Calculate PageRank for the airports in the graph\u001b[0m\n",
       "\u001b[32mpagerank_scores = \u001b[0m\u001b[1;35mnx.pagerank\u001b[0m\u001b[1;32m(\u001b[0m\u001b[32mG_adb\u001b[0m\u001b[1;32m)\u001b[0m\n",
       "\n",
       "\u001b[32m# Find the most influential airport based on PageRank score\u001b[0m\n",
       "\u001b[32mmost_influential_airport = \u001b[0m\u001b[1;35mmax\u001b[0m\u001b[1;32m(\u001b[0m\u001b[32mpagerank_scores, \u001b[0m\u001b[33mkey\u001b[0m\u001b[32m=\u001b[0m\u001b[35mpagerank_scores\u001b[0m\u001b[32m.get\u001b[0m\u001b[1;32m)\u001b[0m\n",
       "\n",
       "\u001b[32m# Store the result in FINAL_RESULT\u001b[0m\n",
       "\u001b[32mFINAL_RESULT = most_influential_airport\u001b[0m\n"
      ]
     },
     "metadata": {},
     "output_type": "display_data"
    },
    {
     "data": {
      "text/html": [
       "<pre style=\"white-space:pre;overflow-x:auto;line-height:normal;font-family:Menlo,'DejaVu Sans Mono',consolas,'Courier New',monospace\"><span style=\"color: #00ff00; text-decoration-color: #00ff00\">───────────────────────────────────────────────────────────────────────────────────────────────────────────────────</span>\n",
       "</pre>\n"
      ],
      "text/plain": [
       "\u001b[92m───────────────────────────────────────────────────────────────────────────────────────────────────────────────────\u001b[0m\n"
      ]
     },
     "metadata": {},
     "output_type": "display_data"
    },
    {
     "data": {
      "text/html": [
       "<pre style=\"white-space:pre;overflow-x:auto;line-height:normal;font-family:Menlo,'DejaVu Sans Mono',consolas,'Courier New',monospace\"><span style=\"color: #00ff00; text-decoration-color: #00ff00\">───────────────────────────────────────── </span><span style=\"color: #008080; text-decoration-color: #008080; font-weight: bold\">Step </span><span style=\"color: #008080; text-decoration-color: #008080; font-weight: bold\">2</span><span style=\"color: #008080; text-decoration-color: #008080; font-weight: bold\">: Executing NetworkX Code</span><span style=\"color: #00ff00; text-decoration-color: #00ff00\"> ─────────────────────────────────────────</span>\n",
       "</pre>\n"
      ],
      "text/plain": [
       "\u001b[92m───────────────────────────────────────── \u001b[0m\u001b[1;36mStep \u001b[0m\u001b[1;36m2\u001b[0m\u001b[1;36m: Executing NetworkX Code\u001b[0m\u001b[92m ─────────────────────────────────────────\u001b[0m\n"
      ]
     },
     "metadata": {},
     "output_type": "display_data"
    },
    {
     "data": {
      "text/html": [
       "<pre style=\"white-space:pre;overflow-x:auto;line-height:normal;font-family:Menlo,'DejaVu Sans Mono',consolas,'Courier New',monospace\"><span style=\"color: #000080; text-decoration-color: #000080; font-weight: bold\">Attempt </span><span style=\"color: #000080; text-decoration-color: #000080; font-weight: bold\">1</span><span style=\"color: #000080; text-decoration-color: #000080; font-weight: bold\">: Executing code</span>\n",
       "</pre>\n"
      ],
      "text/plain": [
       "\u001b[1;34mAttempt \u001b[0m\u001b[1;34m1\u001b[0m\u001b[1;34m: Executing code\u001b[0m\n"
      ]
     },
     "metadata": {},
     "output_type": "display_data"
    },
    {
     "data": {
      "text/html": [
       "<pre style=\"white-space:pre;overflow-x:auto;line-height:normal;font-family:Menlo,'DejaVu Sans Mono',consolas,'Courier New',monospace\"><span style=\"color: #00ff00; text-decoration-color: #00ff00\">───────────────────────────────────────────── </span><span style=\"color: #008000; text-decoration-color: #008000; font-weight: bold\">Final Execution Result</span><span style=\"color: #00ff00; text-decoration-color: #00ff00\"> ──────────────────────────────────────────────</span>\n",
       "</pre>\n"
      ],
      "text/plain": [
       "\u001b[92m───────────────────────────────────────────── \u001b[0m\u001b[1;32mFinal Execution Result\u001b[0m\u001b[92m ──────────────────────────────────────────────\u001b[0m\n"
      ]
     },
     "metadata": {},
     "output_type": "display_data"
    },
    {
     "data": {
      "text/html": [
       "<pre style=\"white-space:pre;overflow-x:auto;line-height:normal;font-family:Menlo,'DejaVu Sans Mono',consolas,'Courier New',monospace\"><span style=\"color: #800080; text-decoration-color: #800080; font-weight: bold\">FINAL_RESULT:</span><span style=\"color: #800080; text-decoration-color: #800080\"> airports/ATL</span>\n",
       "</pre>\n"
      ],
      "text/plain": [
       "\u001b[1;35mFINAL_RESULT:\u001b[0m\u001b[35m airports/ATL\u001b[0m\n"
      ]
     },
     "metadata": {},
     "output_type": "display_data"
    },
    {
     "data": {
      "text/html": [
       "<pre style=\"white-space:pre;overflow-x:auto;line-height:normal;font-family:Menlo,'DejaVu Sans Mono',consolas,'Courier New',monospace\"><span style=\"color: #00ff00; text-decoration-color: #00ff00\">───────────────────────────────────────────────────────────────────────────────────────────────────────────────────</span>\n",
       "</pre>\n"
      ],
      "text/plain": [
       "\u001b[92m───────────────────────────────────────────────────────────────────────────────────────────────────────────────────\u001b[0m\n"
      ]
     },
     "metadata": {},
     "output_type": "display_data"
    },
    {
     "data": {
      "text/html": [
       "<pre style=\"white-space:pre;overflow-x:auto;line-height:normal;font-family:Menlo,'DejaVu Sans Mono',consolas,'Courier New',monospace\"><span style=\"color: #00ff00; text-decoration-color: #00ff00\">──────────────────────────────────────── </span><span style=\"color: #008080; text-decoration-color: #008080; font-weight: bold\">Step </span><span style=\"color: #008080; text-decoration-color: #008080; font-weight: bold\">3</span><span style=\"color: #008080; text-decoration-color: #008080; font-weight: bold\">: Formulating Final Answer</span><span style=\"color: #00ff00; text-decoration-color: #00ff00\"> ─────────────────────────────────────────</span>\n",
       "</pre>\n"
      ],
      "text/plain": [
       "\u001b[92m──────────────────────────────────────── \u001b[0m\u001b[1;36mStep \u001b[0m\u001b[1;36m3\u001b[0m\u001b[1;36m: Formulating Final Answer\u001b[0m\u001b[92m ─────────────────────────────────────────\u001b[0m\n"
      ]
     },
     "metadata": {},
     "output_type": "display_data"
    },
    {
     "data": {
      "text/html": [
       "<pre style=\"white-space:pre;overflow-x:auto;line-height:normal;font-family:Menlo,'DejaVu Sans Mono',consolas,'Courier New',monospace\"><span style=\"color: #00ff00; text-decoration-color: #00ff00\">───────────────────────────────────────────── </span><span style=\"color: #008000; text-decoration-color: #008000; font-weight: bold\">Final Answer Generated</span><span style=\"color: #00ff00; text-decoration-color: #00ff00\"> ──────────────────────────────────────────────</span>\n",
       "</pre>\n"
      ],
      "text/plain": [
       "\u001b[92m───────────────────────────────────────────── \u001b[0m\u001b[1;32mFinal Answer Generated\u001b[0m\u001b[92m ──────────────────────────────────────────────\u001b[0m\n"
      ]
     },
     "metadata": {},
     "output_type": "display_data"
    },
    {
     "data": {
      "text/plain": [
       "'The most influential airport based on PageRank analysis is Hartsfield-Jackson Atlanta International Airport (ATL).'"
      ]
     },
     "execution_count": 43,
     "metadata": {},
     "output_type": "execute_result"
    }
   ],
   "source": [
    "query_graph(\"Find the most influential airports using PageRank\")"
   ]
  },
  {
   "cell_type": "code",
   "execution_count": 44,
   "metadata": {
    "scrolled": true
   },
   "outputs": [
    {
     "data": {
      "text/html": [
       "<pre style=\"white-space:pre;overflow-x:auto;line-height:normal;font-family:Menlo,'DejaVu Sans Mono',consolas,'Courier New',monospace\">╭───────────────────────────────────── <span style=\"color: #008080; text-decoration-color: #008080; font-weight: bold\">== Hybrid Mode Activated ==</span> ─────────────────────────────────────╮\n",
       "│ Processing query: Compute the average path length for the flight network of the top 2 major airlines. │\n",
       "╰───────────────────────────────────────────────────────────────────────────────────────────────────────╯\n",
       "</pre>\n"
      ],
      "text/plain": [
       "╭───────────────────────────────────── \u001b[1;36m== Hybrid Mode Activated ==\u001b[0m ─────────────────────────────────────╮\n",
       "│ Processing query: Compute the average path length for the flight network of the top 2 major airlines. │\n",
       "╰───────────────────────────────────────────────────────────────────────────────────────────────────────╯\n"
      ]
     },
     "metadata": {},
     "output_type": "display_data"
    },
    {
     "data": {
      "text/html": [
       "<pre style=\"white-space:pre;overflow-x:auto;line-height:normal;font-family:Menlo,'DejaVu Sans Mono',consolas,'Courier New',monospace\">╭──────────── <span style=\"color: #008080; text-decoration-color: #008080; font-weight: bold\">== Hybrid Mode Activated ==</span> ─────────────╮\n",
       "│ Processing query: Identify the top 2 major airlines. │\n",
       "╰──────────────────────────────────────────────────────╯\n",
       "</pre>\n"
      ],
      "text/plain": [
       "╭──────────── \u001b[1;36m== Hybrid Mode Activated ==\u001b[0m ─────────────╮\n",
       "│ Processing query: Identify the top 2 major airlines. │\n",
       "╰──────────────────────────────────────────────────────╯\n"
      ]
     },
     "metadata": {},
     "output_type": "display_data"
    },
    {
     "data": {
      "text/html": [
       "<pre style=\"white-space:pre;overflow-x:auto;line-height:normal;font-family:Menlo,'DejaVu Sans Mono',consolas,'Courier New',monospace\">╭───────────────────── <span style=\"color: #008080; text-decoration-color: #008080; font-weight: bold\">== LLM Returned YAML ==</span> ─────────────────────╮\n",
       "│ - Determine the top 2 airlines based on flight volume.            │\n",
       "│ - Extract all flight paths for the top 2 airlines.                │\n",
       "│ - Compute the average path length for the extracted flight paths. │\n",
       "╰───────────────────────────────────────────────────────────────────╯\n",
       "</pre>\n"
      ],
      "text/plain": [
       "╭───────────────────── \u001b[1;36m== LLM Returned YAML ==\u001b[0m ─────────────────────╮\n",
       "│ - Determine the top 2 airlines based on flight volume.            │\n",
       "│ - Extract all flight paths for the top 2 airlines.                │\n",
       "│ - Compute the average path length for the extracted flight paths. │\n",
       "╰───────────────────────────────────────────────────────────────────╯\n"
      ]
     },
     "metadata": {},
     "output_type": "display_data"
    },
    {
     "data": {
      "text/html": [
       "<pre style=\"white-space:pre;overflow-x:auto;line-height:normal;font-family:Menlo,'DejaVu Sans Mono',consolas,'Courier New',monospace\">╭─────────────────────────────────────────── <span style=\"color: #008080; text-decoration-color: #008080; font-weight: bold\">== Parsed Sub-Queries ==</span> ────────────────────────────────────────────╮\n",
       "│ ['Determine the top 2 airlines based on flight volume.', 'Extract all flight paths for the top 2 airlines.',    │\n",
       "│ 'Compute the average path length for the extracted flight paths.']                                              │\n",
       "╰─────────────────────────────────────────────────────────────────────────────────────────────────────────────────╯\n",
       "</pre>\n"
      ],
      "text/plain": [
       "╭─────────────────────────────────────────── \u001b[1;36m== Parsed Sub-Queries ==\u001b[0m ────────────────────────────────────────────╮\n",
       "│ ['Determine the top 2 airlines based on flight volume.', 'Extract all flight paths for the top 2 airlines.',    │\n",
       "│ 'Compute the average path length for the extracted flight paths.']                                              │\n",
       "╰─────────────────────────────────────────────────────────────────────────────────────────────────────────────────╯\n"
      ]
     },
     "metadata": {},
     "output_type": "display_data"
    },
    {
     "data": {
      "text/html": [
       "<pre style=\"white-space:pre;overflow-x:auto;line-height:normal;font-family:Menlo,'DejaVu Sans Mono',consolas,'Courier New',monospace\">╭─────────── <span style=\"color: #008080; text-decoration-color: #008080; font-weight: bold\">== Processing Sub-Task 1/3 ==</span> ────────────╮\n",
       "│ Determine the top 2 airlines based on flight volume. │\n",
       "╰──────────────────────────────────────────────────────╯\n",
       "</pre>\n"
      ],
      "text/plain": [
       "╭─────────── \u001b[1;36m== Processing Sub-Task 1/3 ==\u001b[0m ────────────╮\n",
       "│ Determine the top 2 airlines based on flight volume. │\n",
       "╰──────────────────────────────────────────────────────╯\n"
      ]
     },
     "metadata": {},
     "output_type": "display_data"
    },
    {
     "data": {
      "text/html": [
       "<pre style=\"white-space:pre;overflow-x:auto;line-height:normal;font-family:Menlo,'DejaVu Sans Mono',consolas,'Courier New',monospace\">╭───────────────────────────────────────── <span style=\"color: #008080; text-decoration-color: #008080; font-weight: bold\">== LLM Returned YAML ==</span> ─────────────────────────────────────────╮\n",
       "│ - Determine the total number of flights for each airline by aggregating data from the flights collection. │\n",
       "│ - Identify the top 2 airlines based on the total number of flights calculated in the previous step.       │\n",
       "╰───────────────────────────────────────────────────────────────────────────────────────────────────────────╯\n",
       "</pre>\n"
      ],
      "text/plain": [
       "╭───────────────────────────────────────── \u001b[1;36m== LLM Returned YAML ==\u001b[0m ─────────────────────────────────────────╮\n",
       "│ - Determine the total number of flights for each airline by aggregating data from the flights collection. │\n",
       "│ - Identify the top 2 airlines based on the total number of flights calculated in the previous step.       │\n",
       "╰───────────────────────────────────────────────────────────────────────────────────────────────────────────╯\n"
      ]
     },
     "metadata": {},
     "output_type": "display_data"
    },
    {
     "data": {
      "text/html": [
       "<pre style=\"white-space:pre;overflow-x:auto;line-height:normal;font-family:Menlo,'DejaVu Sans Mono',consolas,'Courier New',monospace\">╭─────────────────────────────────────────── <span style=\"color: #008080; text-decoration-color: #008080; font-weight: bold\">== Parsed Sub-Queries ==</span> ────────────────────────────────────────────╮\n",
       "│ ['Determine the total number of flights for each airline by aggregating data from the flights collection.',     │\n",
       "│ 'Identify the top 2 airlines based on the total number of flights calculated in the previous step.']            │\n",
       "╰─────────────────────────────────────────────────────────────────────────────────────────────────────────────────╯\n",
       "</pre>\n"
      ],
      "text/plain": [
       "╭─────────────────────────────────────────── \u001b[1;36m== Parsed Sub-Queries ==\u001b[0m ────────────────────────────────────────────╮\n",
       "│ ['Determine the total number of flights for each airline by aggregating data from the flights collection.',     │\n",
       "│ 'Identify the top 2 airlines based on the total number of flights calculated in the previous step.']            │\n",
       "╰─────────────────────────────────────────────────────────────────────────────────────────────────────────────────╯\n"
      ]
     },
     "metadata": {},
     "output_type": "display_data"
    },
    {
     "data": {
      "text/html": [
       "<pre style=\"white-space:pre;overflow-x:auto;line-height:normal;font-family:Menlo,'DejaVu Sans Mono',consolas,'Courier New',monospace\">╭───────────────────────────────────── <span style=\"color: #008080; text-decoration-color: #008080; font-weight: bold\">== Processing Sub-Task 1/2 ==</span> ─────────────────────────────────────╮\n",
       "│ Determine the total number of flights for each airline by aggregating data from the flights collection. │\n",
       "╰─────────────────────────────────────────────────────────────────────────────────────────────────────────╯\n",
       "</pre>\n"
      ],
      "text/plain": [
       "╭───────────────────────────────────── \u001b[1;36m== Processing Sub-Task 1/2 ==\u001b[0m ─────────────────────────────────────╮\n",
       "│ Determine the total number of flights for each airline by aggregating data from the flights collection. │\n",
       "╰─────────────────────────────────────────────────────────────────────────────────────────────────────────╯\n"
      ]
     },
     "metadata": {},
     "output_type": "display_data"
    },
    {
     "name": "stdout",
     "output_type": "stream",
     "text": [
      "\n",
      "\n",
      "\u001b[1m> Entering new ArangoGraphQAChain chain...\u001b[0m\n",
      "AQL Query (1):\u001b[32;1m\u001b[1;3m\n",
      "WITH flights\n",
      "FOR airline IN (\n",
      "    FOR flight IN flights\n",
      "    COLLECT carrier = flight.UniqueCarrier WITH COUNT INTO flightCount\n",
      "    RETURN { airline: carrier, count: flightCount }\n",
      ")\n",
      "SORT airline.count DESC\n",
      "LIMIT 2\n",
      "RETURN airline\n",
      "\u001b[0m\n",
      "AQL Result:\n",
      "\u001b[32;1m\u001b[1;3m[{'airline': 'WN', 'count': 48065}, {'airline': 'AA', 'count': 24797}]\u001b[0m\n",
      "\n",
      "\u001b[1m> Finished chain.\u001b[0m\n",
      "\n",
      "\n",
      "\u001b[1m> Entering new ArangoGraphQAChain chain...\u001b[0m\n"
     ]
    },
    {
     "data": {
      "text/html": [
       "<pre style=\"white-space:pre;overflow-x:auto;line-height:normal;font-family:Menlo,'DejaVu Sans Mono',consolas,'Courier New',monospace\">╭────────── <span style=\"color: #008080; text-decoration-color: #008080; font-weight: bold\">== Result for Sub-Task 1 ==</span> ───────────╮\n",
       "│ The top two airlines based on flight volume are: │\n",
       "│                                                  │\n",
       "│ 1. **Southwest Airlines (WN)** - 48,065 flights  │\n",
       "│ 2. **American Airlines (AA)** - 24,797 flights   │\n",
       "╰──────────────────────────────────────────────────╯\n",
       "</pre>\n"
      ],
      "text/plain": [
       "╭────────── \u001b[1;36m== Result for Sub-Task 1 ==\u001b[0m ───────────╮\n",
       "│ The top two airlines based on flight volume are: │\n",
       "│                                                  │\n",
       "│ 1. **Southwest Airlines (WN)** - 48,065 flights  │\n",
       "│ 2. **American Airlines (AA)** - 24,797 flights   │\n",
       "╰──────────────────────────────────────────────────╯\n"
      ]
     },
     "metadata": {},
     "output_type": "display_data"
    },
    {
     "data": {
      "text/html": [
       "<pre style=\"white-space:pre;overflow-x:auto;line-height:normal;font-family:Menlo,'DejaVu Sans Mono',consolas,'Courier New',monospace\">╭───────── <span style=\"color: #008080; text-decoration-color: #008080; font-weight: bold\">== Processing Sub-Task 2/3 ==</span> ──────────╮\n",
       "│ Extract all flight paths for the top 2 airlines. │\n",
       "╰──────────────────────────────────────────────────╯\n",
       "</pre>\n"
      ],
      "text/plain": [
       "╭───────── \u001b[1;36m== Processing Sub-Task 2/3 ==\u001b[0m ──────────╮\n",
       "│ Extract all flight paths for the top 2 airlines. │\n",
       "╰──────────────────────────────────────────────────╯\n"
      ]
     },
     "metadata": {},
     "output_type": "display_data"
    },
    {
     "name": "stdout",
     "output_type": "stream",
     "text": [
      "AQL Query (1):\u001b[32;1m\u001b[1;3m\n",
      "WITH flights\n",
      "FOR flight IN flights COLLECT airline = flight.UniqueCarrier WITH COUNT INTO totalFlights RETURN { airline: airline, totalFlights: totalFlights }\n",
      "\u001b[0m\n",
      "AQL Result:\n",
      "\u001b[32;1m\u001b[1;3m[{'airline': '9E', 'totalFlights': 10493}, {'airline': 'AA', 'totalFlights': 24797}, {'airline': 'AQ', 'totalFlights': 1935}, {'airline': 'AS', 'totalFlights': 5993}, {'airline': 'B6', 'totalFlights': 8060}, {'airline': 'CO', 'totalFlights': 12398}, {'airline': 'DL', 'totalFlights': 18107}, {'airline': 'EV', 'totalFlights': 10762}, {'airline': 'F9', 'totalFlights': 3760}, {'airline': 'FL', 'totalFlights': 10148}]\u001b[0m\n",
      "\n",
      "\n",
      "\u001b[1m> Entering new ArangoGraphQAChain chain...\u001b[0m\n",
      "\n",
      "\n",
      "\u001b[1m> Entering new ArangoGraphQAChain chain...\u001b[0m\n",
      "AQL Query (1):\u001b[32;1m\u001b[1;3m\n",
      "WITH airports, flights\n",
      "FOR flight IN flights\n",
      "    FILTER flight.UniqueCarrier IN ['WN', 'AA']\n",
      "    LIMIT 10\n",
      "    RETURN flight\n",
      "\u001b[0m\n",
      "AQL Result:\n",
      "\u001b[32;1m\u001b[1;3m[{'_key': '306520635', '_id': 'flights/306520635', '_from': 'airports/MIA', '_to': 'airports/TPA', '_rev': '_jVk9djm--F', 'Year': 2008, 'Month': 1, 'Day': 1, 'DayOfWeek': 2, 'DepTime': 14, 'ArrTime': 105, 'DepTimeUTC': '2008-01-01T05:14:00.000Z', 'ArrTimeUTC': '2008-01-01T06:05:00.000Z', 'UniqueCarrier': 'AA', 'FlightNum': 1831, 'TailNum': 'N3CHAA', 'Distance': 204}, {'_key': '306520638', '_id': 'flights/306520638', '_from': 'airports/TPA', '_to': 'airports/PBI', '_rev': '_jVk9djm--I', 'Year': 2008, 'Month': 1, 'Day': 1, 'DayOfWeek': 2, 'DepTime': 29, 'ArrTime': 112, 'DepTimeUTC': '2008-01-01T05:29:00.000Z', 'ArrTimeUTC': '2008-01-01T06:12:00.000Z', 'UniqueCarrier': 'WN', 'FlightNum': 680, 'TailNum': 'N265WN', 'Distance': 174}, {'_key': '306520641', '_id': 'flights/306520641', '_from': 'airports/TPA', '_to': 'airports/BNA', '_rev': '_jVk9djm--L', 'Year': 2008, 'Month': 1, 'Day': 1, 'DayOfWeek': 2, 'DepTime': 38, 'ArrTime': 114, 'DepTimeUTC': '2008-01-01T05:38:00.000Z', 'ArrTimeUTC': '2008-01-01T07:14:00.000Z', 'UniqueCarrier': 'WN', 'FlightNum': 3945, 'TailNum': 'N432WN', 'Distance': 612}, {'_key': '306520645', '_id': 'flights/306520645', '_from': 'airports/MDW', '_to': 'airports/MCI', '_rev': '_jVk9djm--P', 'Year': 2008, 'Month': 1, 'Day': 1, 'DayOfWeek': 2, 'DepTime': 1, 'ArrTime': 117, 'DepTimeUTC': '2008-01-01T06:01:00.000Z', 'ArrTimeUTC': '2008-01-01T07:17:00.000Z', 'UniqueCarrier': 'WN', 'FlightNum': 3558, 'TailNum': 'N613SW', 'Distance': 405}, {'_key': '306520646', '_id': 'flights/306520646', '_from': 'airports/MDW', '_to': 'airports/BWI', '_rev': '_jVk9djm--Q', 'Year': 2008, 'Month': 1, 'Day': 1, 'DayOfWeek': 2, 'DepTime': 1, 'ArrTime': 228, 'DepTimeUTC': '2008-01-01T06:01:00.000Z', 'ArrTimeUTC': '2008-01-01T07:28:00.000Z', 'UniqueCarrier': 'WN', 'FlightNum': 106, 'TailNum': 'N736SA', 'Distance': 611}, {'_key': '306520648', '_id': 'flights/306520648', '_from': 'airports/MDW', '_to': 'airports/TPA', '_rev': '_jVk9djm--S', 'Year': 2008, 'Month': 1, 'Day': 1, 'DayOfWeek': 2, 'DepTime': 3, 'ArrTime': 323, 'DepTimeUTC': '2008-01-01T06:03:00.000Z', 'ArrTimeUTC': '2008-01-01T08:23:00.000Z', 'UniqueCarrier': 'WN', 'FlightNum': 1100, 'TailNum': 'N785SW', 'Distance': 997}, {'_key': '306520651', '_id': 'flights/306520651', '_from': 'airports/MDW', '_to': 'airports/DTW', '_rev': '_jVk9djm--V', 'Year': 2008, 'Month': 1, 'Day': 1, 'DayOfWeek': 2, 'DepTime': 8, 'ArrTime': 200, 'DepTimeUTC': '2008-01-01T06:08:00.000Z', 'ArrTimeUTC': '2008-01-01T07:00:00.000Z', 'UniqueCarrier': 'WN', 'FlightNum': 174, 'TailNum': 'N292WN', 'Distance': 229}, {'_key': '306520652', '_id': 'flights/306520652', '_from': 'airports/TPA', '_to': 'airports/PHL', '_rev': '_jVk9djq---', 'Year': 2008, 'Month': 1, 'Day': 1, 'DayOfWeek': 2, 'DepTime': 121, 'ArrTime': 315, 'DepTimeUTC': '2008-01-01T06:21:00.000Z', 'ArrTimeUTC': '2008-01-01T08:15:00.000Z', 'UniqueCarrier': 'WN', 'FlightNum': 1663, 'TailNum': 'N793SA', 'Distance': 920}, {'_key': '306520656', '_id': 'flights/306520656', '_from': 'airports/MDW', '_to': 'airports/PHL', '_rev': '_jVk9djq--C', 'Year': 2008, 'Month': 1, 'Day': 1, 'DayOfWeek': 2, 'DepTime': 37, 'ArrTime': 312, 'DepTimeUTC': '2008-01-01T06:37:00.000Z', 'ArrTimeUTC': '2008-01-01T08:12:00.000Z', 'UniqueCarrier': 'WN', 'FlightNum': 2998, 'TailNum': 'N299WN', 'Distance': 668}, {'_key': '306520667', '_id': 'flights/306520667', '_from': 'airports/ABQ', '_to': 'airports/PHX', '_rev': '_jVk9djq--N', 'Year': 2008, 'Month': 1, 'Day': 1, 'DayOfWeek': 2, 'DepTime': 23, 'ArrTime': 126, 'DepTimeUTC': '2008-01-01T07:23:00.000Z', 'ArrTimeUTC': '2008-01-01T08:26:00.000Z', 'UniqueCarrier': 'WN', 'FlightNum': 823, 'TailNum': 'N225WN', 'Distance': 328}]\u001b[0m\n",
      "\n",
      "\u001b[1m> Finished chain.\u001b[0m\n",
      "AQL Query (1):\u001b[32;1m\u001b[1;3m\n",
      "WITH airports, flights\n",
      "FOR flight IN flights\n",
      "    FILTER flight.UniqueCarrier IN ['WN', 'AA']\n",
      "    RETURN flight\n",
      "LIMIT 10\n",
      "\u001b[0m\n",
      "AQL Query Execution Error: \n",
      "\u001b[33;1m\u001b[1;3msyntax error, unexpected LIMIT declaration, expecting end of query string near 'LIMIT 10\n",
      "' at position 6:1\u001b[0m\n",
      "\n"
     ]
    },
    {
     "data": {
      "text/html": [
       "<pre style=\"white-space:pre;overflow-x:auto;line-height:normal;font-family:Menlo,'DejaVu Sans Mono',consolas,'Courier New',monospace\">╭────────────────────────────────────────── <span style=\"color: #008080; text-decoration-color: #008080; font-weight: bold\">== Result for Sub-Task 1 ==</span> ──────────────────────────────────────────╮\n",
       "│ The total number of flights for each airline has been aggregated from the flights collection. Here are the top  │\n",
       "│ airlines based on the number of flights:                                                                        │\n",
       "│                                                                                                                 │\n",
       "│ 1. **American Airlines (AA)**: 24,797 flights                                                                   │\n",
       "│ 2. **Delta Airlines (DL)**: 18,107 flights                                                                      │\n",
       "│ 3. **Continental Airlines (CO)**: 12,398 flights                                                                │\n",
       "│ 4. **SkyWest Airlines (9E)**: 10,493 flights                                                                    │\n",
       "│ 5. **Alaska Airlines (AS)**: 5,993 flights                                                                      │\n",
       "│ 6. **Frontier Airlines (F9)**: 3,760 flights                                                                    │\n",
       "│                                                                                                                 │\n",
       "│ This data reflects a diverse range of airlines and their respective flight operations. If you need more details │\n",
       "│ or additional airlines, please let me know!                                                                     │\n",
       "╰─────────────────────────────────────────────────────────────────────────────────────────────────────────────────╯\n",
       "</pre>\n"
      ],
      "text/plain": [
       "╭────────────────────────────────────────── \u001b[1;36m== Result for Sub-Task 1 ==\u001b[0m ──────────────────────────────────────────╮\n",
       "│ The total number of flights for each airline has been aggregated from the flights collection. Here are the top  │\n",
       "│ airlines based on the number of flights:                                                                        │\n",
       "│                                                                                                                 │\n",
       "│ 1. **American Airlines (AA)**: 24,797 flights                                                                   │\n",
       "│ 2. **Delta Airlines (DL)**: 18,107 flights                                                                      │\n",
       "│ 3. **Continental Airlines (CO)**: 12,398 flights                                                                │\n",
       "│ 4. **SkyWest Airlines (9E)**: 10,493 flights                                                                    │\n",
       "│ 5. **Alaska Airlines (AS)**: 5,993 flights                                                                      │\n",
       "│ 6. **Frontier Airlines (F9)**: 3,760 flights                                                                    │\n",
       "│                                                                                                                 │\n",
       "│ This data reflects a diverse range of airlines and their respective flight operations. If you need more details │\n",
       "│ or additional airlines, please let me know!                                                                     │\n",
       "╰─────────────────────────────────────────────────────────────────────────────────────────────────────────────────╯\n"
      ]
     },
     "metadata": {},
     "output_type": "display_data"
    },
    {
     "data": {
      "text/html": [
       "<pre style=\"white-space:pre;overflow-x:auto;line-height:normal;font-family:Menlo,'DejaVu Sans Mono',consolas,'Courier New',monospace\">╭────────────────────────────────── <span style=\"color: #008080; text-decoration-color: #008080; font-weight: bold\">== Processing Sub-Task 2/2 ==</span> ──────────────────────────────────╮\n",
       "│ Identify the top 2 airlines based on the total number of flights calculated in the previous step. │\n",
       "╰───────────────────────────────────────────────────────────────────────────────────────────────────╯\n",
       "</pre>\n"
      ],
      "text/plain": [
       "╭────────────────────────────────── \u001b[1;36m== Processing Sub-Task 2/2 ==\u001b[0m ──────────────────────────────────╮\n",
       "│ Identify the top 2 airlines based on the total number of flights calculated in the previous step. │\n",
       "╰───────────────────────────────────────────────────────────────────────────────────────────────────╯\n"
      ]
     },
     "metadata": {},
     "output_type": "display_data"
    },
    {
     "data": {
      "text/html": [
       "<pre style=\"white-space:pre;overflow-x:auto;line-height:normal;font-family:Menlo,'DejaVu Sans Mono',consolas,'Courier New',monospace\">╭────────────────────────────────────────── <span style=\"color: #008080; text-decoration-color: #008080; font-weight: bold\">== Result for Sub-Task 2 ==</span> ──────────────────────────────────────────╮\n",
       "│ Based on the previously obtained results, the top 2 airlines based on the total number of flights are:          │\n",
       "│                                                                                                                 │\n",
       "│ 1. **American Airlines (AA)**: 24,797 flights                                                                   │\n",
       "│ 2. **Delta Airlines (DL)**: 18,107 flights                                                                      │\n",
       "│                                                                                                                 │\n",
       "│ These airlines lead the list in terms of flight operations, showcasing their significant presence in the        │\n",
       "│ aviation industry. If you need further analysis or additional information, feel free to ask!                    │\n",
       "╰─────────────────────────────────────────────────────────────────────────────────────────────────────────────────╯\n",
       "</pre>\n"
      ],
      "text/plain": [
       "╭────────────────────────────────────────── \u001b[1;36m== Result for Sub-Task 2 ==\u001b[0m ──────────────────────────────────────────╮\n",
       "│ Based on the previously obtained results, the top 2 airlines based on the total number of flights are:          │\n",
       "│                                                                                                                 │\n",
       "│ 1. **American Airlines (AA)**: 24,797 flights                                                                   │\n",
       "│ 2. **Delta Airlines (DL)**: 18,107 flights                                                                      │\n",
       "│                                                                                                                 │\n",
       "│ These airlines lead the list in terms of flight operations, showcasing their significant presence in the        │\n",
       "│ aviation industry. If you need further analysis or additional information, feel free to ask!                    │\n",
       "╰─────────────────────────────────────────────────────────────────────────────────────────────────────────────────╯\n"
      ]
     },
     "metadata": {},
     "output_type": "display_data"
    },
    {
     "data": {
      "text/html": [
       "<pre style=\"white-space:pre;overflow-x:auto;line-height:normal;font-family:Menlo,'DejaVu Sans Mono',consolas,'Courier New',monospace\">╭────────── <span style=\"color: #008080; text-decoration-color: #008080; font-weight: bold\">== Combined Final Result ==</span> ──────────╮\n",
       "│ 1. **American Airlines (AA)**: 24,797 flights   │\n",
       "│ 2. **Delta Airlines (DL)**: 18,107 flights      │\n",
       "╰─────────────────────────────────────────────────╯\n",
       "</pre>\n"
      ],
      "text/plain": [
       "╭────────── \u001b[1;36m== Combined Final Result ==\u001b[0m ──────────╮\n",
       "│ 1. **American Airlines (AA)**: 24,797 flights   │\n",
       "│ 2. **Delta Airlines (DL)**: 18,107 flights      │\n",
       "╰─────────────────────────────────────────────────╯\n"
      ]
     },
     "metadata": {},
     "output_type": "display_data"
    },
    {
     "name": "stdout",
     "output_type": "stream",
     "text": [
      "\n",
      "\u001b[1m> Finished chain.\u001b[0m\n"
     ]
    },
    {
     "data": {
      "text/html": [
       "<pre style=\"white-space:pre;overflow-x:auto;line-height:normal;font-family:Menlo,'DejaVu Sans Mono',consolas,'Courier New',monospace\">╭────────────────────────────────────────── <span style=\"color: #008080; text-decoration-color: #008080; font-weight: bold\">== Result for Sub-Task 2 ==</span> ──────────────────────────────────────────╮\n",
       "│ Here are the flight paths for the top two airlines, Southwest Airlines (WN) and American Airlines (AA), limited │\n",
       "│ to ten paths:                                                                                                   │\n",
       "│                                                                                                                 │\n",
       "│ 1. **American Airlines (AA)**:                                                                                  │\n",
       "│    - Flight from Miami (MIA) to Tampa (TPA), Flight Number: 1831, Distance: 204 miles.                          │\n",
       "│                                                                                                                 │\n",
       "│ 2. **Southwest Airlines (WN)**:                                                                                 │\n",
       "│    - Flight from Tampa (TPA) to Palm Beach (PBI), Flight Number: 680, Distance: 174 miles.                      │\n",
       "│    - Flight from Tampa (TPA) to Nashville (BNA), Flight Number: 3945, Distance: 612 miles.                      │\n",
       "│    - Flight from Chicago Midway (MDW) to Kansas City (MCI), Flight Number: 3558, Distance: 405 miles.           │\n",
       "│    - Flight from Chicago Midway (MDW) to Baltimore/Washington (BWI), Flight Number: 106, Distance: 611 miles.   │\n",
       "│    - Flight from Chicago Midway (MDW) to Tampa (TPA), Flight Number: 1100, Distance: 997 miles.                 │\n",
       "│    - Flight from Chicago Midway (MDW) to Detroit (DTW), Flight Number: 174, Distance: 229 miles.                │\n",
       "│    - Flight from Tampa (TPA) to Philadelphia (PHL), Flight Number: 1663, Distance: 920 miles.                   │\n",
       "│    - Flight from Chicago Midway (MDW) to Philadelphia (PHL), Flight Number: 2998, Distance: 668 miles.          │\n",
       "│    - Flight from Albuquerque (ABQ) to Phoenix (PHX), Flight Number: 823, Distance: 328 miles.                   │\n",
       "│                                                                                                                 │\n",
       "│ This summary provides a clear overview of the selected flight paths for both airlines.                          │\n",
       "╰─────────────────────────────────────────────────────────────────────────────────────────────────────────────────╯\n",
       "</pre>\n"
      ],
      "text/plain": [
       "╭────────────────────────────────────────── \u001b[1;36m== Result for Sub-Task 2 ==\u001b[0m ──────────────────────────────────────────╮\n",
       "│ Here are the flight paths for the top two airlines, Southwest Airlines (WN) and American Airlines (AA), limited │\n",
       "│ to ten paths:                                                                                                   │\n",
       "│                                                                                                                 │\n",
       "│ 1. **American Airlines (AA)**:                                                                                  │\n",
       "│    - Flight from Miami (MIA) to Tampa (TPA), Flight Number: 1831, Distance: 204 miles.                          │\n",
       "│                                                                                                                 │\n",
       "│ 2. **Southwest Airlines (WN)**:                                                                                 │\n",
       "│    - Flight from Tampa (TPA) to Palm Beach (PBI), Flight Number: 680, Distance: 174 miles.                      │\n",
       "│    - Flight from Tampa (TPA) to Nashville (BNA), Flight Number: 3945, Distance: 612 miles.                      │\n",
       "│    - Flight from Chicago Midway (MDW) to Kansas City (MCI), Flight Number: 3558, Distance: 405 miles.           │\n",
       "│    - Flight from Chicago Midway (MDW) to Baltimore/Washington (BWI), Flight Number: 106, Distance: 611 miles.   │\n",
       "│    - Flight from Chicago Midway (MDW) to Tampa (TPA), Flight Number: 1100, Distance: 997 miles.                 │\n",
       "│    - Flight from Chicago Midway (MDW) to Detroit (DTW), Flight Number: 174, Distance: 229 miles.                │\n",
       "│    - Flight from Tampa (TPA) to Philadelphia (PHL), Flight Number: 1663, Distance: 920 miles.                   │\n",
       "│    - Flight from Chicago Midway (MDW) to Philadelphia (PHL), Flight Number: 2998, Distance: 668 miles.          │\n",
       "│    - Flight from Albuquerque (ABQ) to Phoenix (PHX), Flight Number: 823, Distance: 328 miles.                   │\n",
       "│                                                                                                                 │\n",
       "│ This summary provides a clear overview of the selected flight paths for both airlines.                          │\n",
       "╰─────────────────────────────────────────────────────────────────────────────────────────────────────────────────╯\n"
      ]
     },
     "metadata": {},
     "output_type": "display_data"
    },
    {
     "data": {
      "text/html": [
       "<pre style=\"white-space:pre;overflow-x:auto;line-height:normal;font-family:Menlo,'DejaVu Sans Mono',consolas,'Courier New',monospace\">╭───────────────── <span style=\"color: #008080; text-decoration-color: #008080; font-weight: bold\">== Processing Sub-Task 3/3 ==</span> ─────────────────╮\n",
       "│ Compute the average path length for the extracted flight paths. │\n",
       "╰─────────────────────────────────────────────────────────────────╯\n",
       "</pre>\n"
      ],
      "text/plain": [
       "╭───────────────── \u001b[1;36m== Processing Sub-Task 3/3 ==\u001b[0m ─────────────────╮\n",
       "│ Compute the average path length for the extracted flight paths. │\n",
       "╰─────────────────────────────────────────────────────────────────╯\n"
      ]
     },
     "metadata": {},
     "output_type": "display_data"
    },
    {
     "data": {
      "text/html": [
       "<pre style=\"white-space:pre;overflow-x:auto;line-height:normal;font-family:Menlo,'DejaVu Sans Mono',consolas,'Courier New',monospace\">╭────────────────────────────────────────── <span style=\"color: #008080; text-decoration-color: #008080; font-weight: bold\">== Result for Sub-Task 3 ==</span> ──────────────────────────────────────────╮\n",
       "│ To compute the average path length for the extracted flight paths from the top two airlines, we will first sum  │\n",
       "│ the distances of all the listed flights and then divide by the total number of flights.                         │\n",
       "│                                                                                                                 │\n",
       "│ ### Flight Paths and Distances:                                                                                 │\n",
       "│ 1. **American Airlines (AA)**:                                                                                  │\n",
       "│    - Flight from Miami (MIA) to Tampa (TPA): 204 miles                                                          │\n",
       "│                                                                                                                 │\n",
       "│ 2. **Southwest Airlines (WN)**:                                                                                 │\n",
       "│    - Flight from Tampa (TPA) to Palm Beach (PBI): 174 miles                                                     │\n",
       "│    - Flight from Tampa (TPA) to Nashville (BNA): 612 miles                                                      │\n",
       "│    - Flight from Chicago Midway (MDW) to Kansas City (MCI): 405 miles                                           │\n",
       "│    - Flight from Chicago Midway (MDW) to Baltimore/Washington (BWI): 611 miles                                  │\n",
       "│    - Flight from Chicago Midway (MDW) to Tampa (TPA): 997 miles                                                 │\n",
       "│    - Flight from Chicago Midway (MDW) to Detroit (DTW): 229 miles                                               │\n",
       "│    - Flight from Tampa (TPA) to Philadelphia (PHL): 920 miles                                                   │\n",
       "│    - Flight from Chicago Midway (MDW) to Philadelphia (PHL): 668 miles                                          │\n",
       "│    - Flight from Albuquerque (ABQ) to Phoenix (PHX): 328 miles                                                  │\n",
       "│                                                                                                                 │\n",
       "│ ### Total Distances:                                                                                            │\n",
       "│ - American Airlines (AA): 204 miles                                                                             │\n",
       "│ - Southwest Airlines (WN):                                                                                      │\n",
       "│   - 174 + 612 + 405 + 611 + 997 + 229 + 920 + 668 + 328 = 4,576 miles                                           │\n",
       "│                                                                                                                 │\n",
       "│ ### Total Distance Calculation:                                                                                 │\n",
       "│ - Total Distance = 204 + 4,576 = 4,780 miles                                                                    │\n",
       "│                                                                                                                 │\n",
       "│ ### Total Number of Flights:                                                                                    │\n",
       "│ - Total Flights = 1 (AA) + 9 (WN) = 10 flights                                                                  │\n",
       "│                                                                                                                 │\n",
       "│ ### Average Path Length:                                                                                        │\n",
       "│ - Average Path Length = Total Distance / Total Flights                                                          │\n",
       "│ - Average Path Length = 4,780 miles / 10 flights = 478 miles                                                    │\n",
       "│                                                                                                                 │\n",
       "│ ### Summary:                                                                                                    │\n",
       "│ The average path length for the extracted flight paths from the top two airlines, Southwest Airlines (WN) and   │\n",
       "│ American Airlines (AA), is **478 miles**.                                                                       │\n",
       "╰─────────────────────────────────────────────────────────────────────────────────────────────────────────────────╯\n",
       "</pre>\n"
      ],
      "text/plain": [
       "╭────────────────────────────────────────── \u001b[1;36m== Result for Sub-Task 3 ==\u001b[0m ──────────────────────────────────────────╮\n",
       "│ To compute the average path length for the extracted flight paths from the top two airlines, we will first sum  │\n",
       "│ the distances of all the listed flights and then divide by the total number of flights.                         │\n",
       "│                                                                                                                 │\n",
       "│ ### Flight Paths and Distances:                                                                                 │\n",
       "│ 1. **American Airlines (AA)**:                                                                                  │\n",
       "│    - Flight from Miami (MIA) to Tampa (TPA): 204 miles                                                          │\n",
       "│                                                                                                                 │\n",
       "│ 2. **Southwest Airlines (WN)**:                                                                                 │\n",
       "│    - Flight from Tampa (TPA) to Palm Beach (PBI): 174 miles                                                     │\n",
       "│    - Flight from Tampa (TPA) to Nashville (BNA): 612 miles                                                      │\n",
       "│    - Flight from Chicago Midway (MDW) to Kansas City (MCI): 405 miles                                           │\n",
       "│    - Flight from Chicago Midway (MDW) to Baltimore/Washington (BWI): 611 miles                                  │\n",
       "│    - Flight from Chicago Midway (MDW) to Tampa (TPA): 997 miles                                                 │\n",
       "│    - Flight from Chicago Midway (MDW) to Detroit (DTW): 229 miles                                               │\n",
       "│    - Flight from Tampa (TPA) to Philadelphia (PHL): 920 miles                                                   │\n",
       "│    - Flight from Chicago Midway (MDW) to Philadelphia (PHL): 668 miles                                          │\n",
       "│    - Flight from Albuquerque (ABQ) to Phoenix (PHX): 328 miles                                                  │\n",
       "│                                                                                                                 │\n",
       "│ ### Total Distances:                                                                                            │\n",
       "│ - American Airlines (AA): 204 miles                                                                             │\n",
       "│ - Southwest Airlines (WN):                                                                                      │\n",
       "│   - 174 + 612 + 405 + 611 + 997 + 229 + 920 + 668 + 328 = 4,576 miles                                           │\n",
       "│                                                                                                                 │\n",
       "│ ### Total Distance Calculation:                                                                                 │\n",
       "│ - Total Distance = 204 + 4,576 = 4,780 miles                                                                    │\n",
       "│                                                                                                                 │\n",
       "│ ### Total Number of Flights:                                                                                    │\n",
       "│ - Total Flights = 1 (AA) + 9 (WN) = 10 flights                                                                  │\n",
       "│                                                                                                                 │\n",
       "│ ### Average Path Length:                                                                                        │\n",
       "│ - Average Path Length = Total Distance / Total Flights                                                          │\n",
       "│ - Average Path Length = 4,780 miles / 10 flights = 478 miles                                                    │\n",
       "│                                                                                                                 │\n",
       "│ ### Summary:                                                                                                    │\n",
       "│ The average path length for the extracted flight paths from the top two airlines, Southwest Airlines (WN) and   │\n",
       "│ American Airlines (AA), is **478 miles**.                                                                       │\n",
       "╰─────────────────────────────────────────────────────────────────────────────────────────────────────────────────╯\n"
      ]
     },
     "metadata": {},
     "output_type": "display_data"
    },
    {
     "data": {
      "text/html": [
       "<pre style=\"white-space:pre;overflow-x:auto;line-height:normal;font-family:Menlo,'DejaVu Sans Mono',consolas,'Courier New',monospace\">╭────────────────────────────────────────── <span style=\"color: #008080; text-decoration-color: #008080; font-weight: bold\">== Combined Final Result ==</span> ──────────────────────────────────────────╮\n",
       "│ The average path length for the flight network of the top two major airlines, Southwest Airlines (WN) and       │\n",
       "│ American Airlines (AA), is **478 miles**.                                                                       │\n",
       "╰─────────────────────────────────────────────────────────────────────────────────────────────────────────────────╯\n",
       "</pre>\n"
      ],
      "text/plain": [
       "╭────────────────────────────────────────── \u001b[1;36m== Combined Final Result ==\u001b[0m ──────────────────────────────────────────╮\n",
       "│ The average path length for the flight network of the top two major airlines, Southwest Airlines (WN) and       │\n",
       "│ American Airlines (AA), is **478 miles**.                                                                       │\n",
       "╰─────────────────────────────────────────────────────────────────────────────────────────────────────────────────╯\n"
      ]
     },
     "metadata": {},
     "output_type": "display_data"
    },
    {
     "data": {
      "text/plain": [
       "'The top 2 major airlines are:\\n\\n1. **American Airlines (AA)**: 24,797 flights\\n2. **Delta Airlines (DL)**: 18,107 flights\\n\\nThe average path length for the flight network of these airlines is **478 miles**.'"
      ]
     },
     "execution_count": 44,
     "metadata": {},
     "output_type": "execute_result"
    }
   ],
   "source": [
    "query_graph(\"For top 2 major airline, compute network metrics such as average path length for their flight network.\")"
   ]
  },
  {
   "cell_type": "code",
   "execution_count": 45,
   "metadata": {
    "scrolled": true
   },
   "outputs": [
    {
     "data": {
      "text/html": [
       "<pre style=\"white-space:pre;overflow-x:auto;line-height:normal;font-family:Menlo,'DejaVu Sans Mono',consolas,'Courier New',monospace\">╭────────────────────────────────────── <span style=\"color: #008080; text-decoration-color: #008080; font-weight: bold\">== Hybrid Mode Activated ==</span> ───────────────────────────────────────╮\n",
       "│ Processing query: Find the top two airlines based on flight volume and compute their centrality metrics. │\n",
       "╰──────────────────────────────────────────────────────────────────────────────────────────────────────────╯\n",
       "</pre>\n"
      ],
      "text/plain": [
       "╭────────────────────────────────────── \u001b[1;36m== Hybrid Mode Activated ==\u001b[0m ───────────────────────────────────────╮\n",
       "│ Processing query: Find the top two airlines based on flight volume and compute their centrality metrics. │\n",
       "╰──────────────────────────────────────────────────────────────────────────────────────────────────────────╯\n"
      ]
     },
     "metadata": {},
     "output_type": "display_data"
    },
    {
     "data": {
      "text/html": [
       "<pre style=\"white-space:pre;overflow-x:auto;line-height:normal;font-family:Menlo,'DejaVu Sans Mono',consolas,'Courier New',monospace\">╭─────────────────────────── <span style=\"color: #008080; text-decoration-color: #008080; font-weight: bold\">== LLM Returned YAML ==</span> ────────────────────────────╮\n",
       "│ - Determine the top 2 airlines based on flight volume.                         │\n",
       "│ - Compute centrality metrics (e.g., degree centrality) for the top 2 airlines. │\n",
       "╰────────────────────────────────────────────────────────────────────────────────╯\n",
       "</pre>\n"
      ],
      "text/plain": [
       "╭─────────────────────────── \u001b[1;36m== LLM Returned YAML ==\u001b[0m ────────────────────────────╮\n",
       "│ - Determine the top 2 airlines based on flight volume.                         │\n",
       "│ - Compute centrality metrics (e.g., degree centrality) for the top 2 airlines. │\n",
       "╰────────────────────────────────────────────────────────────────────────────────╯\n"
      ]
     },
     "metadata": {},
     "output_type": "display_data"
    },
    {
     "data": {
      "text/html": [
       "<pre style=\"white-space:pre;overflow-x:auto;line-height:normal;font-family:Menlo,'DejaVu Sans Mono',consolas,'Courier New',monospace\">╭─────────────────────────────────────────── <span style=\"color: #008080; text-decoration-color: #008080; font-weight: bold\">== Parsed Sub-Queries ==</span> ────────────────────────────────────────────╮\n",
       "│ ['Determine the top 2 airlines based on flight volume.', 'Compute centrality metrics (e.g., degree centrality)  │\n",
       "│ for the top 2 airlines.']                                                                                       │\n",
       "╰─────────────────────────────────────────────────────────────────────────────────────────────────────────────────╯\n",
       "</pre>\n"
      ],
      "text/plain": [
       "╭─────────────────────────────────────────── \u001b[1;36m== Parsed Sub-Queries ==\u001b[0m ────────────────────────────────────────────╮\n",
       "│ ['Determine the top 2 airlines based on flight volume.', 'Compute centrality metrics (e.g., degree centrality)  │\n",
       "│ for the top 2 airlines.']                                                                                       │\n",
       "╰─────────────────────────────────────────────────────────────────────────────────────────────────────────────────╯\n"
      ]
     },
     "metadata": {},
     "output_type": "display_data"
    },
    {
     "data": {
      "text/html": [
       "<pre style=\"white-space:pre;overflow-x:auto;line-height:normal;font-family:Menlo,'DejaVu Sans Mono',consolas,'Courier New',monospace\">╭─────────── <span style=\"color: #008080; text-decoration-color: #008080; font-weight: bold\">== Processing Sub-Task 1/2 ==</span> ────────────╮\n",
       "│ Determine the top 2 airlines based on flight volume. │\n",
       "╰──────────────────────────────────────────────────────╯\n",
       "</pre>\n"
      ],
      "text/plain": [
       "╭─────────── \u001b[1;36m== Processing Sub-Task 1/2 ==\u001b[0m ────────────╮\n",
       "│ Determine the top 2 airlines based on flight volume. │\n",
       "╰──────────────────────────────────────────────────────╯\n"
      ]
     },
     "metadata": {},
     "output_type": "display_data"
    },
    {
     "name": "stdout",
     "output_type": "stream",
     "text": [
      "\n",
      "\n",
      "\u001b[1m> Entering new ArangoGraphQAChain chain...\u001b[0m\n",
      "AQL Query (1):\u001b[32;1m\u001b[1;3m\n",
      "WITH flights\n",
      "FOR airline IN (\n",
      "    FOR flight IN flights\n",
      "    COLLECT carrier = flight.UniqueCarrier WITH COUNT INTO flightCount\n",
      "    RETURN { airline: carrier, count: flightCount }\n",
      ")\n",
      "SORT airline.count DESC\n",
      "LIMIT 2\n",
      "RETURN airline\n",
      "\u001b[0m\n",
      "AQL Result:\n",
      "\u001b[32;1m\u001b[1;3m[{'airline': 'WN', 'count': 48065}, {'airline': 'AA', 'count': 24797}]\u001b[0m\n",
      "\n",
      "\u001b[1m> Finished chain.\u001b[0m\n"
     ]
    },
    {
     "data": {
      "text/html": [
       "<pre style=\"white-space:pre;overflow-x:auto;line-height:normal;font-family:Menlo,'DejaVu Sans Mono',consolas,'Courier New',monospace\">╭────────── <span style=\"color: #008080; text-decoration-color: #008080; font-weight: bold\">== Result for Sub-Task 1 ==</span> ───────────╮\n",
       "│ The top two airlines based on flight volume are: │\n",
       "│                                                  │\n",
       "│ 1. **Southwest Airlines (WN)** - 48,065 flights  │\n",
       "│ 2. **American Airlines (AA)** - 24,797 flights   │\n",
       "╰──────────────────────────────────────────────────╯\n",
       "</pre>\n"
      ],
      "text/plain": [
       "╭────────── \u001b[1;36m== Result for Sub-Task 1 ==\u001b[0m ───────────╮\n",
       "│ The top two airlines based on flight volume are: │\n",
       "│                                                  │\n",
       "│ 1. **Southwest Airlines (WN)** - 48,065 flights  │\n",
       "│ 2. **American Airlines (AA)** - 24,797 flights   │\n",
       "╰──────────────────────────────────────────────────╯\n"
      ]
     },
     "metadata": {},
     "output_type": "display_data"
    },
    {
     "data": {
      "text/html": [
       "<pre style=\"white-space:pre;overflow-x:auto;line-height:normal;font-family:Menlo,'DejaVu Sans Mono',consolas,'Courier New',monospace\">╭─────────────────────── <span style=\"color: #008080; text-decoration-color: #008080; font-weight: bold\">== Processing Sub-Task 2/2 ==</span> ────────────────────────╮\n",
       "│ Compute centrality metrics (e.g., degree centrality) for the top 2 airlines. │\n",
       "╰──────────────────────────────────────────────────────────────────────────────╯\n",
       "</pre>\n"
      ],
      "text/plain": [
       "╭─────────────────────── \u001b[1;36m== Processing Sub-Task 2/2 ==\u001b[0m ────────────────────────╮\n",
       "│ Compute centrality metrics (e.g., degree centrality) for the top 2 airlines. │\n",
       "╰──────────────────────────────────────────────────────────────────────────────╯\n"
      ]
     },
     "metadata": {},
     "output_type": "display_data"
    },
    {
     "data": {
      "text/html": [
       "<pre style=\"white-space:pre;overflow-x:auto;line-height:normal;font-family:Menlo,'DejaVu Sans Mono',consolas,'Courier New',monospace\"><span style=\"color: #00ff00; text-decoration-color: #00ff00\">──────────────────────────────────────── </span><span style=\"color: #008080; text-decoration-color: #008080; font-weight: bold\">Step </span><span style=\"color: #008080; text-decoration-color: #008080; font-weight: bold\">1</span><span style=\"color: #008080; text-decoration-color: #008080; font-weight: bold\">: Generating NetworkX Code</span><span style=\"color: #00ff00; text-decoration-color: #00ff00\"> ─────────────────────────────────────────</span>\n",
       "</pre>\n"
      ],
      "text/plain": [
       "\u001b[92m──────────────────────────────────────── \u001b[0m\u001b[1;36mStep \u001b[0m\u001b[1;36m1\u001b[0m\u001b[1;36m: Generating NetworkX Code\u001b[0m\u001b[92m ─────────────────────────────────────────\u001b[0m\n"
      ]
     },
     "metadata": {},
     "output_type": "display_data"
    },
    {
     "data": {
      "text/html": [
       "<pre style=\"white-space:pre;overflow-x:auto;line-height:normal;font-family:Menlo,'DejaVu Sans Mono',consolas,'Courier New',monospace\"><span style=\"color: #00ff00; text-decoration-color: #00ff00\">───────────────────────────────────────────── </span><span style=\"color: #008000; text-decoration-color: #008000; font-weight: bold\">Generated NetworkX Code</span><span style=\"color: #00ff00; text-decoration-color: #00ff00\"> ─────────────────────────────────────────────</span>\n",
       "</pre>\n"
      ],
      "text/plain": [
       "\u001b[92m───────────────────────────────────────────── \u001b[0m\u001b[1;32mGenerated NetworkX Code\u001b[0m\u001b[92m ─────────────────────────────────────────────\u001b[0m\n"
      ]
     },
     "metadata": {},
     "output_type": "display_data"
    },
    {
     "data": {
      "text/html": [
       "<pre style=\"white-space:pre;overflow-x:auto;line-height:normal;font-family:Menlo,'DejaVu Sans Mono',consolas,'Courier New',monospace\"><span style=\"color: #008000; text-decoration-color: #008000\">import networkx as nx</span>\n",
       "\n",
       "<span style=\"color: #008000; text-decoration-color: #008000\"># Create a subgraph for Southwest Airlines and American Airlines</span>\n",
       "<span style=\"color: #008000; text-decoration-color: #008000\">southwest_edges = </span><span style=\"color: #008000; text-decoration-color: #008000; font-weight: bold\">[(</span><span style=\"color: #008000; text-decoration-color: #008000\">u, v</span><span style=\"color: #008000; text-decoration-color: #008000; font-weight: bold\">)</span><span style=\"color: #008000; text-decoration-color: #008000\"> for u, v, d in </span><span style=\"color: #800080; text-decoration-color: #800080; font-weight: bold\">G_adb.edges</span><span style=\"color: #008000; text-decoration-color: #008000; font-weight: bold\">(</span><span style=\"color: #808000; text-decoration-color: #808000\">data</span><span style=\"color: #008000; text-decoration-color: #008000\">=</span><span style=\"color: #00ff00; text-decoration-color: #00ff00; font-style: italic\">True</span><span style=\"color: #008000; text-decoration-color: #008000; font-weight: bold\">)</span><span style=\"color: #008000; text-decoration-color: #008000\"> if d</span><span style=\"color: #008000; text-decoration-color: #008000; font-weight: bold\">[</span><span style=\"color: #008000; text-decoration-color: #008000\">'UniqueCarrier'</span><span style=\"color: #008000; text-decoration-color: #008000; font-weight: bold\">]</span><span style=\"color: #008000; text-decoration-color: #008000\"> == </span><span style=\"color: #008000; text-decoration-color: #008000\">'WN'</span><span style=\"color: #008000; text-decoration-color: #008000; font-weight: bold\">]</span>\n",
       "<span style=\"color: #008000; text-decoration-color: #008000\">american_edges = </span><span style=\"color: #008000; text-decoration-color: #008000; font-weight: bold\">[(</span><span style=\"color: #008000; text-decoration-color: #008000\">u, v</span><span style=\"color: #008000; text-decoration-color: #008000; font-weight: bold\">)</span><span style=\"color: #008000; text-decoration-color: #008000\"> for u, v, d in </span><span style=\"color: #800080; text-decoration-color: #800080; font-weight: bold\">G_adb.edges</span><span style=\"color: #008000; text-decoration-color: #008000; font-weight: bold\">(</span><span style=\"color: #808000; text-decoration-color: #808000\">data</span><span style=\"color: #008000; text-decoration-color: #008000\">=</span><span style=\"color: #00ff00; text-decoration-color: #00ff00; font-style: italic\">True</span><span style=\"color: #008000; text-decoration-color: #008000; font-weight: bold\">)</span><span style=\"color: #008000; text-decoration-color: #008000\"> if d</span><span style=\"color: #008000; text-decoration-color: #008000; font-weight: bold\">[</span><span style=\"color: #008000; text-decoration-color: #008000\">'UniqueCarrier'</span><span style=\"color: #008000; text-decoration-color: #008000; font-weight: bold\">]</span><span style=\"color: #008000; text-decoration-color: #008000\"> == </span><span style=\"color: #008000; text-decoration-color: #008000\">'AA'</span><span style=\"color: #008000; text-decoration-color: #008000; font-weight: bold\">]</span>\n",
       "\n",
       "<span style=\"color: #008000; text-decoration-color: #008000\"># Create subgraphs</span>\n",
       "<span style=\"color: #008000; text-decoration-color: #008000\">G_southwest = </span><span style=\"color: #800080; text-decoration-color: #800080; font-weight: bold\">nx.Graph</span><span style=\"color: #008000; text-decoration-color: #008000; font-weight: bold\">()</span>\n",
       "<span style=\"color: #800080; text-decoration-color: #800080; font-weight: bold\">G_southwest.add_edges_from</span><span style=\"color: #008000; text-decoration-color: #008000; font-weight: bold\">(</span><span style=\"color: #008000; text-decoration-color: #008000\">southwest_edges</span><span style=\"color: #008000; text-decoration-color: #008000; font-weight: bold\">)</span>\n",
       "\n",
       "<span style=\"color: #008000; text-decoration-color: #008000\">G_american = </span><span style=\"color: #800080; text-decoration-color: #800080; font-weight: bold\">nx.Graph</span><span style=\"color: #008000; text-decoration-color: #008000; font-weight: bold\">()</span>\n",
       "<span style=\"color: #800080; text-decoration-color: #800080; font-weight: bold\">G_american.add_edges_from</span><span style=\"color: #008000; text-decoration-color: #008000; font-weight: bold\">(</span><span style=\"color: #008000; text-decoration-color: #008000\">american_edges</span><span style=\"color: #008000; text-decoration-color: #008000; font-weight: bold\">)</span>\n",
       "\n",
       "<span style=\"color: #008000; text-decoration-color: #008000\"># Compute degree centrality</span>\n",
       "<span style=\"color: #008000; text-decoration-color: #008000\">southwest_centrality = </span><span style=\"color: #800080; text-decoration-color: #800080; font-weight: bold\">nx.degree_centrality</span><span style=\"color: #008000; text-decoration-color: #008000; font-weight: bold\">(</span><span style=\"color: #008000; text-decoration-color: #008000\">G_southwest</span><span style=\"color: #008000; text-decoration-color: #008000; font-weight: bold\">)</span>\n",
       "<span style=\"color: #008000; text-decoration-color: #008000\">american_centrality = </span><span style=\"color: #800080; text-decoration-color: #800080; font-weight: bold\">nx.degree_centrality</span><span style=\"color: #008000; text-decoration-color: #008000; font-weight: bold\">(</span><span style=\"color: #008000; text-decoration-color: #008000\">G_american</span><span style=\"color: #008000; text-decoration-color: #008000; font-weight: bold\">)</span>\n",
       "\n",
       "<span style=\"color: #008000; text-decoration-color: #008000\"># Prepare the final result</span>\n",
       "<span style=\"color: #008000; text-decoration-color: #008000\">FINAL_RESULT = </span><span style=\"color: #008000; text-decoration-color: #008000; font-weight: bold\">{</span>\n",
       "<span style=\"color: #008000; text-decoration-color: #008000\">    </span><span style=\"color: #008000; text-decoration-color: #008000\">'Southwest Airlines Degree Centrality'</span><span style=\"color: #008000; text-decoration-color: #008000\">: southwest_centrality,</span>\n",
       "<span style=\"color: #008000; text-decoration-color: #008000\">    </span><span style=\"color: #008000; text-decoration-color: #008000\">'American Airlines Degree Centrality'</span><span style=\"color: #008000; text-decoration-color: #008000\">: american_centrality</span>\n",
       "<span style=\"color: #008000; text-decoration-color: #008000; font-weight: bold\">}</span>\n",
       "</pre>\n"
      ],
      "text/plain": [
       "\u001b[32mimport networkx as nx\u001b[0m\n",
       "\n",
       "\u001b[32m# Create a subgraph for Southwest Airlines and American Airlines\u001b[0m\n",
       "\u001b[32msouthwest_edges = \u001b[0m\u001b[1;32m[\u001b[0m\u001b[1;32m(\u001b[0m\u001b[32mu, v\u001b[0m\u001b[1;32m)\u001b[0m\u001b[32m for u, v, d in \u001b[0m\u001b[1;35mG_adb.edges\u001b[0m\u001b[1;32m(\u001b[0m\u001b[33mdata\u001b[0m\u001b[32m=\u001b[0m\u001b[3;92mTrue\u001b[0m\u001b[1;32m)\u001b[0m\u001b[32m if d\u001b[0m\u001b[1;32m[\u001b[0m\u001b[32m'UniqueCarrier'\u001b[0m\u001b[1;32m]\u001b[0m\u001b[32m == \u001b[0m\u001b[32m'WN'\u001b[0m\u001b[1;32m]\u001b[0m\n",
       "\u001b[32mamerican_edges = \u001b[0m\u001b[1;32m[\u001b[0m\u001b[1;32m(\u001b[0m\u001b[32mu, v\u001b[0m\u001b[1;32m)\u001b[0m\u001b[32m for u, v, d in \u001b[0m\u001b[1;35mG_adb.edges\u001b[0m\u001b[1;32m(\u001b[0m\u001b[33mdata\u001b[0m\u001b[32m=\u001b[0m\u001b[3;92mTrue\u001b[0m\u001b[1;32m)\u001b[0m\u001b[32m if d\u001b[0m\u001b[1;32m[\u001b[0m\u001b[32m'UniqueCarrier'\u001b[0m\u001b[1;32m]\u001b[0m\u001b[32m == \u001b[0m\u001b[32m'AA'\u001b[0m\u001b[1;32m]\u001b[0m\n",
       "\n",
       "\u001b[32m# Create subgraphs\u001b[0m\n",
       "\u001b[32mG_southwest = \u001b[0m\u001b[1;35mnx.Graph\u001b[0m\u001b[1;32m(\u001b[0m\u001b[1;32m)\u001b[0m\n",
       "\u001b[1;35mG_southwest.add_edges_from\u001b[0m\u001b[1;32m(\u001b[0m\u001b[32msouthwest_edges\u001b[0m\u001b[1;32m)\u001b[0m\n",
       "\n",
       "\u001b[32mG_american = \u001b[0m\u001b[1;35mnx.Graph\u001b[0m\u001b[1;32m(\u001b[0m\u001b[1;32m)\u001b[0m\n",
       "\u001b[1;35mG_american.add_edges_from\u001b[0m\u001b[1;32m(\u001b[0m\u001b[32mamerican_edges\u001b[0m\u001b[1;32m)\u001b[0m\n",
       "\n",
       "\u001b[32m# Compute degree centrality\u001b[0m\n",
       "\u001b[32msouthwest_centrality = \u001b[0m\u001b[1;35mnx.degree_centrality\u001b[0m\u001b[1;32m(\u001b[0m\u001b[32mG_southwest\u001b[0m\u001b[1;32m)\u001b[0m\n",
       "\u001b[32mamerican_centrality = \u001b[0m\u001b[1;35mnx.degree_centrality\u001b[0m\u001b[1;32m(\u001b[0m\u001b[32mG_american\u001b[0m\u001b[1;32m)\u001b[0m\n",
       "\n",
       "\u001b[32m# Prepare the final result\u001b[0m\n",
       "\u001b[32mFINAL_RESULT = \u001b[0m\u001b[1;32m{\u001b[0m\n",
       "\u001b[32m    \u001b[0m\u001b[32m'Southwest Airlines Degree Centrality'\u001b[0m\u001b[32m: southwest_centrality,\u001b[0m\n",
       "\u001b[32m    \u001b[0m\u001b[32m'American Airlines Degree Centrality'\u001b[0m\u001b[32m: american_centrality\u001b[0m\n",
       "\u001b[1;32m}\u001b[0m\n"
      ]
     },
     "metadata": {},
     "output_type": "display_data"
    },
    {
     "data": {
      "text/html": [
       "<pre style=\"white-space:pre;overflow-x:auto;line-height:normal;font-family:Menlo,'DejaVu Sans Mono',consolas,'Courier New',monospace\"><span style=\"color: #00ff00; text-decoration-color: #00ff00\">───────────────────────────────────────────────────────────────────────────────────────────────────────────────────</span>\n",
       "</pre>\n"
      ],
      "text/plain": [
       "\u001b[92m───────────────────────────────────────────────────────────────────────────────────────────────────────────────────\u001b[0m\n"
      ]
     },
     "metadata": {},
     "output_type": "display_data"
    },
    {
     "data": {
      "text/html": [
       "<pre style=\"white-space:pre;overflow-x:auto;line-height:normal;font-family:Menlo,'DejaVu Sans Mono',consolas,'Courier New',monospace\"><span style=\"color: #00ff00; text-decoration-color: #00ff00\">───────────────────────────────────────── </span><span style=\"color: #008080; text-decoration-color: #008080; font-weight: bold\">Step </span><span style=\"color: #008080; text-decoration-color: #008080; font-weight: bold\">2</span><span style=\"color: #008080; text-decoration-color: #008080; font-weight: bold\">: Executing NetworkX Code</span><span style=\"color: #00ff00; text-decoration-color: #00ff00\"> ─────────────────────────────────────────</span>\n",
       "</pre>\n"
      ],
      "text/plain": [
       "\u001b[92m───────────────────────────────────────── \u001b[0m\u001b[1;36mStep \u001b[0m\u001b[1;36m2\u001b[0m\u001b[1;36m: Executing NetworkX Code\u001b[0m\u001b[92m ─────────────────────────────────────────\u001b[0m\n"
      ]
     },
     "metadata": {},
     "output_type": "display_data"
    },
    {
     "data": {
      "text/html": [
       "<pre style=\"white-space:pre;overflow-x:auto;line-height:normal;font-family:Menlo,'DejaVu Sans Mono',consolas,'Courier New',monospace\"><span style=\"color: #000080; text-decoration-color: #000080; font-weight: bold\">Attempt </span><span style=\"color: #000080; text-decoration-color: #000080; font-weight: bold\">1</span><span style=\"color: #000080; text-decoration-color: #000080; font-weight: bold\">: Executing code</span>\n",
       "</pre>\n"
      ],
      "text/plain": [
       "\u001b[1;34mAttempt \u001b[0m\u001b[1;34m1\u001b[0m\u001b[1;34m: Executing code\u001b[0m\n"
      ]
     },
     "metadata": {},
     "output_type": "display_data"
    },
    {
     "data": {
      "text/html": [
       "<pre style=\"white-space:pre;overflow-x:auto;line-height:normal;font-family:Menlo,'DejaVu Sans Mono',consolas,'Courier New',monospace\"><span style=\"color: #00ff00; text-decoration-color: #00ff00\">───────────────────────────────────────────── </span><span style=\"color: #008000; text-decoration-color: #008000; font-weight: bold\">Final Execution Result</span><span style=\"color: #00ff00; text-decoration-color: #00ff00\"> ──────────────────────────────────────────────</span>\n",
       "</pre>\n"
      ],
      "text/plain": [
       "\u001b[92m───────────────────────────────────────────── \u001b[0m\u001b[1;32mFinal Execution Result\u001b[0m\u001b[92m ──────────────────────────────────────────────\u001b[0m\n"
      ]
     },
     "metadata": {},
     "output_type": "display_data"
    },
    {
     "data": {
      "text/html": [
       "<pre style=\"white-space:pre;overflow-x:auto;line-height:normal;font-family:Menlo,'DejaVu Sans Mono',consolas,'Courier New',monospace\"><span style=\"color: #800080; text-decoration-color: #800080; font-weight: bold\">FINAL_RESULT:</span><span style=\"color: #800080; text-decoration-color: #800080\"> </span><span style=\"color: #800080; text-decoration-color: #800080; font-weight: bold\">{</span><span style=\"color: #008000; text-decoration-color: #008000\">'Southwest Airlines Degree Centrality'</span><span style=\"color: #800080; text-decoration-color: #800080\">: </span><span style=\"color: #800080; text-decoration-color: #800080; font-weight: bold\">{</span><span style=\"color: #008000; text-decoration-color: #008000\">'airports/MAF'</span><span style=\"color: #800080; text-decoration-color: #800080\">: </span><span style=\"color: #008080; text-decoration-color: #008080; font-weight: bold\">0.07936507936507936</span><span style=\"color: #800080; text-decoration-color: #800080\">, </span><span style=\"color: #008000; text-decoration-color: #008000\">'airports/DAL'</span><span style=\"color: #800080; text-decoration-color: #800080\">: </span>\n",
       "<span style=\"color: #008080; text-decoration-color: #008080; font-weight: bold\">0.23809523809523808</span><span style=\"color: #800080; text-decoration-color: #800080\">, </span><span style=\"color: #008000; text-decoration-color: #008000\">'airports/LAS'</span><span style=\"color: #800080; text-decoration-color: #800080\">: </span><span style=\"color: #008080; text-decoration-color: #008080; font-weight: bold\">0.8571428571428571</span><span style=\"color: #800080; text-decoration-color: #800080\">, </span><span style=\"color: #008000; text-decoration-color: #008000\">'airports/HOU'</span><span style=\"color: #800080; text-decoration-color: #800080\">: </span><span style=\"color: #008080; text-decoration-color: #008080; font-weight: bold\">0.4603174603174603</span><span style=\"color: #800080; text-decoration-color: #800080\">, </span><span style=\"color: #008000; text-decoration-color: #008000\">'airports/AUS'</span><span style=\"color: #800080; text-decoration-color: #800080\">: </span>\n",
       "<span style=\"color: #008080; text-decoration-color: #008080; font-weight: bold\">0.25396825396825395</span><span style=\"color: #800080; text-decoration-color: #800080\">, </span><span style=\"color: #008000; text-decoration-color: #008000\">'airports/ABQ'</span><span style=\"color: #800080; text-decoration-color: #800080\">: </span><span style=\"color: #008080; text-decoration-color: #008080; font-weight: bold\">0.3492063492063492</span><span style=\"color: #800080; text-decoration-color: #800080\">, </span><span style=\"color: #008000; text-decoration-color: #008000\">'airports/SAN'</span><span style=\"color: #800080; text-decoration-color: #800080\">: </span><span style=\"color: #008080; text-decoration-color: #008080; font-weight: bold\">0.2698412698412698</span><span style=\"color: #800080; text-decoration-color: #800080\">, </span><span style=\"color: #008000; text-decoration-color: #008000\">'airports/BNA'</span><span style=\"color: #800080; text-decoration-color: #800080\">: </span>\n",
       "<span style=\"color: #008080; text-decoration-color: #008080; font-weight: bold\">0.42857142857142855</span><span style=\"color: #800080; text-decoration-color: #800080\">, </span><span style=\"color: #008000; text-decoration-color: #008000\">'airports/PHX'</span><span style=\"color: #800080; text-decoration-color: #800080\">: </span><span style=\"color: #008080; text-decoration-color: #008080; font-weight: bold\">0.6666666666666666</span><span style=\"color: #800080; text-decoration-color: #800080\">, </span><span style=\"color: #008000; text-decoration-color: #008000\">'airports/ELP'</span><span style=\"color: #800080; text-decoration-color: #800080\">: </span><span style=\"color: #008080; text-decoration-color: #008080; font-weight: bold\">0.15873015873015872</span><span style=\"color: #800080; text-decoration-color: #800080\">, </span><span style=\"color: #008000; text-decoration-color: #008000\">'airports/MDW'</span><span style=\"color: #800080; text-decoration-color: #800080\">: </span>\n",
       "<span style=\"color: #008080; text-decoration-color: #008080; font-weight: bold\">0.746031746031746</span><span style=\"color: #800080; text-decoration-color: #800080\">, </span><span style=\"color: #008000; text-decoration-color: #008000\">'airports/SFO'</span><span style=\"color: #800080; text-decoration-color: #800080\">: </span><span style=\"color: #008080; text-decoration-color: #008080; font-weight: bold\">0.06349206349206349</span><span style=\"color: #800080; text-decoration-color: #800080\">, </span><span style=\"color: #008000; text-decoration-color: #008000\">'airports/MCI'</span><span style=\"color: #800080; text-decoration-color: #800080\">: </span><span style=\"color: #008080; text-decoration-color: #008080; font-weight: bold\">0.31746031746031744</span><span style=\"color: #800080; text-decoration-color: #800080\">, </span><span style=\"color: #008000; text-decoration-color: #008000\">'airports/OAK'</span><span style=\"color: #800080; text-decoration-color: #800080\">: </span>\n",
       "<span style=\"color: #008080; text-decoration-color: #008080; font-weight: bold\">0.31746031746031744</span><span style=\"color: #800080; text-decoration-color: #800080\">, </span><span style=\"color: #008000; text-decoration-color: #008000\">'airports/SJC'</span><span style=\"color: #800080; text-decoration-color: #800080\">: </span><span style=\"color: #008080; text-decoration-color: #008080; font-weight: bold\">0.1746031746031746</span><span style=\"color: #800080; text-decoration-color: #800080\">, </span><span style=\"color: #008000; text-decoration-color: #008000\">'airports/TUS'</span><span style=\"color: #800080; text-decoration-color: #800080\">: </span><span style=\"color: #008080; text-decoration-color: #008080; font-weight: bold\">0.09523809523809523</span><span style=\"color: #800080; text-decoration-color: #800080\">, </span><span style=\"color: #008000; text-decoration-color: #008000\">'airports/BWI'</span><span style=\"color: #800080; text-decoration-color: #800080\">: </span>\n",
       "<span style=\"color: #008080; text-decoration-color: #008080; font-weight: bold\">0.6031746031746031</span><span style=\"color: #800080; text-decoration-color: #800080\">, </span><span style=\"color: #008000; text-decoration-color: #008000\">'airports/SMF'</span><span style=\"color: #800080; text-decoration-color: #800080\">: </span><span style=\"color: #008080; text-decoration-color: #008080; font-weight: bold\">0.1746031746031746</span><span style=\"color: #800080; text-decoration-color: #800080\">, </span><span style=\"color: #008000; text-decoration-color: #008000\">'airports/RNO'</span><span style=\"color: #800080; text-decoration-color: #800080\">: </span><span style=\"color: #008080; text-decoration-color: #008080; font-weight: bold\">0.1746031746031746</span><span style=\"color: #800080; text-decoration-color: #800080\">, </span><span style=\"color: #008000; text-decoration-color: #008000\">'airports/SAT'</span><span style=\"color: #800080; text-decoration-color: #800080\">: </span>\n",
       "<span style=\"color: #008080; text-decoration-color: #008080; font-weight: bold\">0.20634920634920634</span><span style=\"color: #800080; text-decoration-color: #800080\">, </span><span style=\"color: #008000; text-decoration-color: #008000\">'airports/BUR'</span><span style=\"color: #800080; text-decoration-color: #800080\">: </span><span style=\"color: #008080; text-decoration-color: #008080; font-weight: bold\">0.07936507936507936</span><span style=\"color: #800080; text-decoration-color: #800080\">, </span><span style=\"color: #008000; text-decoration-color: #008000\">'airports/SNA'</span><span style=\"color: #800080; text-decoration-color: #800080\">: </span><span style=\"color: #008080; text-decoration-color: #008080; font-weight: bold\">0.07936507936507936</span><span style=\"color: #800080; text-decoration-color: #800080\">, </span><span style=\"color: #008000; text-decoration-color: #008000\">'airports/PDX'</span><span style=\"color: #800080; text-decoration-color: #800080\">: </span>\n",
       "<span style=\"color: #008080; text-decoration-color: #008080; font-weight: bold\">0.19047619047619047</span><span style=\"color: #800080; text-decoration-color: #800080\">, </span><span style=\"color: #008000; text-decoration-color: #008000\">'airports/LAX'</span><span style=\"color: #800080; text-decoration-color: #800080\">: </span><span style=\"color: #008080; text-decoration-color: #008080; font-weight: bold\">0.2857142857142857</span><span style=\"color: #800080; text-decoration-color: #800080\">, </span><span style=\"color: #008000; text-decoration-color: #008000\">'airports/SEA'</span><span style=\"color: #800080; text-decoration-color: #800080\">: </span><span style=\"color: #008080; text-decoration-color: #008080; font-weight: bold\">0.2222222222222222</span><span style=\"color: #800080; text-decoration-color: #800080\">, </span><span style=\"color: #008000; text-decoration-color: #008000\">'airports/ONT'</span><span style=\"color: #800080; text-decoration-color: #800080\">: </span>\n",
       "<span style=\"color: #008080; text-decoration-color: #008080; font-weight: bold\">0.09523809523809523</span><span style=\"color: #800080; text-decoration-color: #800080\">, </span><span style=\"color: #008000; text-decoration-color: #008000\">'airports/MHT'</span><span style=\"color: #800080; text-decoration-color: #800080\">: </span><span style=\"color: #008080; text-decoration-color: #008080; font-weight: bold\">0.1111111111111111</span><span style=\"color: #800080; text-decoration-color: #800080\">, </span><span style=\"color: #008000; text-decoration-color: #008000\">'airports/PHL'</span><span style=\"color: #800080; text-decoration-color: #800080\">: </span><span style=\"color: #008080; text-decoration-color: #008080; font-weight: bold\">0.25396825396825395</span><span style=\"color: #800080; text-decoration-color: #800080\">, </span><span style=\"color: #008000; text-decoration-color: #008000\">'airports/MCO'</span><span style=\"color: #800080; text-decoration-color: #800080\">: </span>\n",
       "<span style=\"color: #008080; text-decoration-color: #008080; font-weight: bold\">0.5238095238095237</span><span style=\"color: #800080; text-decoration-color: #800080\">, </span><span style=\"color: #008000; text-decoration-color: #008000\">'airports/TPA'</span><span style=\"color: #800080; text-decoration-color: #800080\">: </span><span style=\"color: #008080; text-decoration-color: #008080; font-weight: bold\">0.49206349206349204</span><span style=\"color: #800080; text-decoration-color: #800080\">, </span><span style=\"color: #008000; text-decoration-color: #008000\">'airports/BHM'</span><span style=\"color: #800080; text-decoration-color: #800080\">: </span><span style=\"color: #008080; text-decoration-color: #008080; font-weight: bold\">0.20634920634920634</span><span style=\"color: #800080; text-decoration-color: #800080\">, </span><span style=\"color: #008000; text-decoration-color: #008000\">'airports/FLL'</span><span style=\"color: #800080; text-decoration-color: #800080\">: </span>\n",
       "<span style=\"color: #008080; text-decoration-color: #008080; font-weight: bold\">0.19047619047619047</span><span style=\"color: #800080; text-decoration-color: #800080\">, </span><span style=\"color: #008000; text-decoration-color: #008000\">'airports/MSY'</span><span style=\"color: #800080; text-decoration-color: #800080\">: </span><span style=\"color: #008080; text-decoration-color: #008080; font-weight: bold\">0.1746031746031746</span><span style=\"color: #800080; text-decoration-color: #800080\">, </span><span style=\"color: #008000; text-decoration-color: #008000\">'airports/BUF'</span><span style=\"color: #800080; text-decoration-color: #800080\">: </span><span style=\"color: #008080; text-decoration-color: #008080; font-weight: bold\">0.09523809523809523</span><span style=\"color: #800080; text-decoration-color: #800080\">, </span><span style=\"color: #008000; text-decoration-color: #008000\">'airports/BDL'</span><span style=\"color: #800080; text-decoration-color: #800080\">: </span>\n",
       "<span style=\"color: #008080; text-decoration-color: #008080; font-weight: bold\">0.09523809523809523</span><span style=\"color: #800080; text-decoration-color: #800080\">, </span><span style=\"color: #008000; text-decoration-color: #008000\">'airports/DTW'</span><span style=\"color: #800080; text-decoration-color: #800080\">: </span><span style=\"color: #008080; text-decoration-color: #008080; font-weight: bold\">0.09523809523809523</span><span style=\"color: #800080; text-decoration-color: #800080\">, </span><span style=\"color: #008000; text-decoration-color: #008000\">'airports/CMH'</span><span style=\"color: #800080; text-decoration-color: #800080\">: </span><span style=\"color: #008080; text-decoration-color: #008080; font-weight: bold\">0.14285714285714285</span><span style=\"color: #800080; text-decoration-color: #800080\">, </span><span style=\"color: #008000; text-decoration-color: #008000\">'airports/PIT'</span><span style=\"color: #800080; text-decoration-color: #800080\">: </span>\n",
       "<span style=\"color: #008080; text-decoration-color: #008080; font-weight: bold\">0.1111111111111111</span><span style=\"color: #800080; text-decoration-color: #800080\">, </span><span style=\"color: #008000; text-decoration-color: #008000\">'airports/SDF'</span><span style=\"color: #800080; text-decoration-color: #800080\">: </span><span style=\"color: #008080; text-decoration-color: #008080; font-weight: bold\">0.12698412698412698</span><span style=\"color: #800080; text-decoration-color: #800080\">, </span><span style=\"color: #008000; text-decoration-color: #008000\">'airports/STL'</span><span style=\"color: #800080; text-decoration-color: #800080\">: </span><span style=\"color: #008080; text-decoration-color: #008080; font-weight: bold\">0.3492063492063492</span><span style=\"color: #800080; text-decoration-color: #800080\">, </span><span style=\"color: #008000; text-decoration-color: #008000\">'airports/RSW'</span><span style=\"color: #800080; text-decoration-color: #800080\">: </span>\n",
       "<span style=\"color: #008080; text-decoration-color: #008080; font-weight: bold\">0.07936507936507936</span><span style=\"color: #800080; text-decoration-color: #800080\">, </span><span style=\"color: #008000; text-decoration-color: #008000\">'airports/IND'</span><span style=\"color: #800080; text-decoration-color: #800080\">: </span><span style=\"color: #008080; text-decoration-color: #008080; font-weight: bold\">0.12698412698412698</span><span style=\"color: #800080; text-decoration-color: #800080\">, </span><span style=\"color: #008000; text-decoration-color: #008000\">'airports/JAN'</span><span style=\"color: #800080; text-decoration-color: #800080\">: </span><span style=\"color: #008080; text-decoration-color: #008080; font-weight: bold\">0.06349206349206349</span><span style=\"color: #800080; text-decoration-color: #800080\">, </span><span style=\"color: #008000; text-decoration-color: #008000\">'airports/IAD'</span><span style=\"color: #800080; text-decoration-color: #800080\">: </span>\n",
       "<span style=\"color: #008080; text-decoration-color: #008080; font-weight: bold\">0.06349206349206349</span><span style=\"color: #800080; text-decoration-color: #800080\">, </span><span style=\"color: #008000; text-decoration-color: #008000\">'airports/PVD'</span><span style=\"color: #800080; text-decoration-color: #800080\">: </span><span style=\"color: #008080; text-decoration-color: #008080; font-weight: bold\">0.14285714285714285</span><span style=\"color: #800080; text-decoration-color: #800080\">, </span><span style=\"color: #008000; text-decoration-color: #008000\">'airports/ISP'</span><span style=\"color: #800080; text-decoration-color: #800080\">: </span><span style=\"color: #008080; text-decoration-color: #008080; font-weight: bold\">0.12698412698412698</span><span style=\"color: #800080; text-decoration-color: #800080\">, </span><span style=\"color: #008000; text-decoration-color: #008000\">'airports/DEN'</span><span style=\"color: #800080; text-decoration-color: #800080\">: </span>\n",
       "<span style=\"color: #008080; text-decoration-color: #008080; font-weight: bold\">0.25396825396825395</span><span style=\"color: #800080; text-decoration-color: #800080\">, </span><span style=\"color: #008000; text-decoration-color: #008000\">'airports/ALB'</span><span style=\"color: #800080; text-decoration-color: #800080\">: </span><span style=\"color: #008080; text-decoration-color: #008080; font-weight: bold\">0.07936507936507936</span><span style=\"color: #800080; text-decoration-color: #800080\">, </span><span style=\"color: #008000; text-decoration-color: #008000\">'airports/RDU'</span><span style=\"color: #800080; text-decoration-color: #800080\">: </span><span style=\"color: #008080; text-decoration-color: #008080; font-weight: bold\">0.12698412698412698</span><span style=\"color: #800080; text-decoration-color: #800080\">, </span><span style=\"color: #008000; text-decoration-color: #008000\">'airports/ORF'</span><span style=\"color: #800080; text-decoration-color: #800080\">: </span>\n",
       "<span style=\"color: #008080; text-decoration-color: #008080; font-weight: bold\">0.09523809523809523</span><span style=\"color: #800080; text-decoration-color: #800080\">, </span><span style=\"color: #008000; text-decoration-color: #008000\">'airports/CLE'</span><span style=\"color: #800080; text-decoration-color: #800080\">: </span><span style=\"color: #008080; text-decoration-color: #008080; font-weight: bold\">0.09523809523809523</span><span style=\"color: #800080; text-decoration-color: #800080\">, </span><span style=\"color: #008000; text-decoration-color: #008000\">'airports/BOI'</span><span style=\"color: #800080; text-decoration-color: #800080\">: </span><span style=\"color: #008080; text-decoration-color: #008080; font-weight: bold\">0.1111111111111111</span><span style=\"color: #800080; text-decoration-color: #800080\">, </span><span style=\"color: #008000; text-decoration-color: #008000\">'airports/SLC'</span><span style=\"color: #800080; text-decoration-color: #800080\">: </span>\n",
       "<span style=\"color: #008080; text-decoration-color: #008080; font-weight: bold\">0.2222222222222222</span><span style=\"color: #800080; text-decoration-color: #800080\">, </span><span style=\"color: #008000; text-decoration-color: #008000\">'airports/GEG'</span><span style=\"color: #800080; text-decoration-color: #800080\">: </span><span style=\"color: #008080; text-decoration-color: #008080; font-weight: bold\">0.09523809523809523</span><span style=\"color: #800080; text-decoration-color: #800080\">, </span><span style=\"color: #008000; text-decoration-color: #008000\">'airports/TUL'</span><span style=\"color: #800080; text-decoration-color: #800080\">: </span><span style=\"color: #008080; text-decoration-color: #008080; font-weight: bold\">0.09523809523809523</span><span style=\"color: #800080; text-decoration-color: #800080\">, </span><span style=\"color: #008000; text-decoration-color: #008000\">'airports/OKC'</span><span style=\"color: #800080; text-decoration-color: #800080\">: </span>\n",
       "<span style=\"color: #008080; text-decoration-color: #008080; font-weight: bold\">0.12698412698412698</span><span style=\"color: #800080; text-decoration-color: #800080\">, </span><span style=\"color: #008000; text-decoration-color: #008000\">'airports/LIT'</span><span style=\"color: #800080; text-decoration-color: #800080\">: </span><span style=\"color: #008080; text-decoration-color: #008080; font-weight: bold\">0.1111111111111111</span><span style=\"color: #800080; text-decoration-color: #800080\">, </span><span style=\"color: #008000; text-decoration-color: #008000\">'airports/OMA'</span><span style=\"color: #800080; text-decoration-color: #800080\">: </span><span style=\"color: #008080; text-decoration-color: #008080; font-weight: bold\">0.06349206349206349</span><span style=\"color: #800080; text-decoration-color: #800080\">, </span><span style=\"color: #008000; text-decoration-color: #008000\">'airports/JAX'</span><span style=\"color: #800080; text-decoration-color: #800080\">: </span>\n",
       "<span style=\"color: #008080; text-decoration-color: #008080; font-weight: bold\">0.14285714285714285</span><span style=\"color: #800080; text-decoration-color: #800080\">, </span><span style=\"color: #008000; text-decoration-color: #008000\">'airports/PBI'</span><span style=\"color: #800080; text-decoration-color: #800080\">: </span><span style=\"color: #008080; text-decoration-color: #008080; font-weight: bold\">0.06349206349206349</span><span style=\"color: #800080; text-decoration-color: #800080\">, </span><span style=\"color: #008000; text-decoration-color: #008000\">'airports/LBB'</span><span style=\"color: #800080; text-decoration-color: #800080\">: </span><span style=\"color: #008080; text-decoration-color: #008080; font-weight: bold\">0.07936507936507936</span><span style=\"color: #800080; text-decoration-color: #800080\">, </span><span style=\"color: #008000; text-decoration-color: #008000\">'airports/HRL'</span><span style=\"color: #800080; text-decoration-color: #800080\">: </span>\n",
       "<span style=\"color: #008080; text-decoration-color: #008080; font-weight: bold\">0.047619047619047616</span><span style=\"color: #800080; text-decoration-color: #800080\">, </span><span style=\"color: #008000; text-decoration-color: #008000\">'airports/AMA'</span><span style=\"color: #800080; text-decoration-color: #800080\">: </span><span style=\"color: #008080; text-decoration-color: #008080; font-weight: bold\">0.06349206349206349</span><span style=\"color: #800080; text-decoration-color: #800080\">, </span><span style=\"color: #008000; text-decoration-color: #008000\">'airports/CRP'</span><span style=\"color: #800080; text-decoration-color: #800080\">: </span><span style=\"color: #008080; text-decoration-color: #008080; font-weight: bold\">0.015873015873015872</span><span style=\"color: #800080; text-decoration-color: #800080; font-weight: bold\">}</span><span style=\"color: #800080; text-decoration-color: #800080\">, </span><span style=\"color: #008000; text-decoration-color: #008000\">'American </span>\n",
       "<span style=\"color: #008000; text-decoration-color: #008000\">Airlines Degree Centrality'</span><span style=\"color: #800080; text-decoration-color: #800080\">: </span><span style=\"color: #800080; text-decoration-color: #800080; font-weight: bold\">{</span><span style=\"color: #008000; text-decoration-color: #008000\">'airports/SAN'</span><span style=\"color: #800080; text-decoration-color: #800080\">: </span><span style=\"color: #008080; text-decoration-color: #008080; font-weight: bold\">0.0641025641025641</span><span style=\"color: #800080; text-decoration-color: #800080\">, </span><span style=\"color: #008000; text-decoration-color: #008000\">'airports/BOS'</span><span style=\"color: #800080; text-decoration-color: #800080\">: </span><span style=\"color: #008080; text-decoration-color: #008080; font-weight: bold\">0.11538461538461538</span><span style=\"color: #800080; text-decoration-color: #800080\">, </span>\n",
       "<span style=\"color: #008000; text-decoration-color: #008000\">'airports/STL'</span><span style=\"color: #800080; text-decoration-color: #800080\">: </span><span style=\"color: #008080; text-decoration-color: #008080; font-weight: bold\">0.24358974358974358</span><span style=\"color: #800080; text-decoration-color: #800080\">, </span><span style=\"color: #008000; text-decoration-color: #008000\">'airports/DFW'</span><span style=\"color: #800080; text-decoration-color: #800080\">: </span><span style=\"color: #008080; text-decoration-color: #008080; font-weight: bold\">0.9487179487179487</span><span style=\"color: #800080; text-decoration-color: #800080\">, </span><span style=\"color: #008000; text-decoration-color: #008000\">'airports/ORD'</span><span style=\"color: #800080; text-decoration-color: #800080\">: </span><span style=\"color: #008080; text-decoration-color: #008080; font-weight: bold\">0.6025641025641025</span><span style=\"color: #800080; text-decoration-color: #800080\">, </span>\n",
       "<span style=\"color: #008000; text-decoration-color: #008000\">'airports/JFK'</span><span style=\"color: #800080; text-decoration-color: #800080\">: </span><span style=\"color: #008080; text-decoration-color: #008080; font-weight: bold\">0.14102564102564102</span><span style=\"color: #800080; text-decoration-color: #800080\">, </span><span style=\"color: #008000; text-decoration-color: #008000\">'airports/DCA'</span><span style=\"color: #800080; text-decoration-color: #800080\">: </span><span style=\"color: #008080; text-decoration-color: #008080; font-weight: bold\">0.05128205128205128</span><span style=\"color: #800080; text-decoration-color: #800080\">, </span><span style=\"color: #008000; text-decoration-color: #008000\">'airports/MIA'</span><span style=\"color: #800080; text-decoration-color: #800080\">: </span><span style=\"color: #008080; text-decoration-color: #008080; font-weight: bold\">0.3846153846153846</span><span style=\"color: #800080; text-decoration-color: #800080\">, </span>\n",
       "<span style=\"color: #008000; text-decoration-color: #008000\">'airports/SMF'</span><span style=\"color: #800080; text-decoration-color: #800080\">: </span><span style=\"color: #008080; text-decoration-color: #008080; font-weight: bold\">0.01282051282051282</span><span style=\"color: #800080; text-decoration-color: #800080\">, </span><span style=\"color: #008000; text-decoration-color: #008000\">'airports/EWR'</span><span style=\"color: #800080; text-decoration-color: #800080\">: </span><span style=\"color: #008080; text-decoration-color: #008080; font-weight: bold\">0.07692307692307693</span><span style=\"color: #800080; text-decoration-color: #800080\">, </span><span style=\"color: #008000; text-decoration-color: #008000\">'airports/SJU'</span><span style=\"color: #800080; text-decoration-color: #800080\">: </span><span style=\"color: #008080; text-decoration-color: #008080; font-weight: bold\">0.1923076923076923</span><span style=\"color: #800080; text-decoration-color: #800080\">, </span>\n",
       "<span style=\"color: #008000; text-decoration-color: #008000\">'airports/EGE'</span><span style=\"color: #800080; text-decoration-color: #800080\">: </span><span style=\"color: #008080; text-decoration-color: #008080; font-weight: bold\">0.07692307692307693</span><span style=\"color: #800080; text-decoration-color: #800080\">, </span><span style=\"color: #008000; text-decoration-color: #008000\">'airports/LAX'</span><span style=\"color: #800080; text-decoration-color: #800080\">: </span><span style=\"color: #008080; text-decoration-color: #008080; font-weight: bold\">0.28205128205128205</span><span style=\"color: #800080; text-decoration-color: #800080\">, </span><span style=\"color: #008000; text-decoration-color: #008000\">'airports/MCO'</span><span style=\"color: #800080; text-decoration-color: #800080\">: </span><span style=\"color: #008080; text-decoration-color: #008080; font-weight: bold\">0.10256410256410256</span><span style=\"color: #800080; text-decoration-color: #800080\">, </span>\n",
       "<span style=\"color: #008000; text-decoration-color: #008000\">'airports/STT'</span><span style=\"color: #800080; text-decoration-color: #800080\">: </span><span style=\"color: #008080; text-decoration-color: #008080; font-weight: bold\">0.05128205128205128</span><span style=\"color: #800080; text-decoration-color: #800080\">, </span><span style=\"color: #008000; text-decoration-color: #008000\">'airports/LAS'</span><span style=\"color: #800080; text-decoration-color: #800080\">: </span><span style=\"color: #008080; text-decoration-color: #008080; font-weight: bold\">0.07692307692307693</span><span style=\"color: #800080; text-decoration-color: #800080\">, </span><span style=\"color: #008000; text-decoration-color: #008000\">'airports/SFO'</span><span style=\"color: #800080; text-decoration-color: #800080\">: </span><span style=\"color: #008080; text-decoration-color: #008080; font-weight: bold\">0.10256410256410256</span><span style=\"color: #800080; text-decoration-color: #800080\">, </span>\n",
       "<span style=\"color: #008000; text-decoration-color: #008000\">'airports/SEA'</span><span style=\"color: #800080; text-decoration-color: #800080\">: </span><span style=\"color: #008080; text-decoration-color: #008080; font-weight: bold\">0.05128205128205128</span><span style=\"color: #800080; text-decoration-color: #800080\">, </span><span style=\"color: #008000; text-decoration-color: #008000\">'airports/HNL'</span><span style=\"color: #800080; text-decoration-color: #800080\">: </span><span style=\"color: #008080; text-decoration-color: #008080; font-weight: bold\">0.05128205128205128</span><span style=\"color: #800080; text-decoration-color: #800080\">, </span><span style=\"color: #008000; text-decoration-color: #008000\">'airports/LGA'</span><span style=\"color: #800080; text-decoration-color: #800080\">: </span><span style=\"color: #008080; text-decoration-color: #008080; font-weight: bold\">0.1794871794871795</span><span style=\"color: #800080; text-decoration-color: #800080\">, </span>\n",
       "<span style=\"color: #008000; text-decoration-color: #008000\">'airports/SDF'</span><span style=\"color: #800080; text-decoration-color: #800080\">: </span><span style=\"color: #008080; text-decoration-color: #008080; font-weight: bold\">0.01282051282051282</span><span style=\"color: #800080; text-decoration-color: #800080\">, </span><span style=\"color: #008000; text-decoration-color: #008000\">'airports/ONT'</span><span style=\"color: #800080; text-decoration-color: #800080\">: </span><span style=\"color: #008080; text-decoration-color: #008080; font-weight: bold\">0.01282051282051282</span><span style=\"color: #800080; text-decoration-color: #800080\">, </span><span style=\"color: #008000; text-decoration-color: #008000\">'airports/OAK'</span><span style=\"color: #800080; text-decoration-color: #800080\">: </span><span style=\"color: #008080; text-decoration-color: #008080; font-weight: bold\">0.01282051282051282</span><span style=\"color: #800080; text-decoration-color: #800080\">, </span>\n",
       "<span style=\"color: #008000; text-decoration-color: #008000\">'airports/IAD'</span><span style=\"color: #800080; text-decoration-color: #800080\">: </span><span style=\"color: #008080; text-decoration-color: #008080; font-weight: bold\">0.05128205128205128</span><span style=\"color: #800080; text-decoration-color: #800080\">, </span><span style=\"color: #008000; text-decoration-color: #008000\">'airports/LIH'</span><span style=\"color: #800080; text-decoration-color: #800080\">: </span><span style=\"color: #008080; text-decoration-color: #008080; font-weight: bold\">0.01282051282051282</span><span style=\"color: #800080; text-decoration-color: #800080\">, </span><span style=\"color: #008000; text-decoration-color: #008000\">'airports/ATL'</span><span style=\"color: #800080; text-decoration-color: #800080\">: </span><span style=\"color: #008080; text-decoration-color: #008080; font-weight: bold\">0.05128205128205128</span><span style=\"color: #800080; text-decoration-color: #800080\">, </span>\n",
       "<span style=\"color: #008000; text-decoration-color: #008000\">'airports/MSP'</span><span style=\"color: #800080; text-decoration-color: #800080\">: </span><span style=\"color: #008080; text-decoration-color: #008080; font-weight: bold\">0.05128205128205128</span><span style=\"color: #800080; text-decoration-color: #800080\">, </span><span style=\"color: #008000; text-decoration-color: #008000\">'airports/BNA'</span><span style=\"color: #800080; text-decoration-color: #800080\">: </span><span style=\"color: #008080; text-decoration-color: #008080; font-weight: bold\">0.0641025641025641</span><span style=\"color: #800080; text-decoration-color: #800080\">, </span><span style=\"color: #008000; text-decoration-color: #008000\">'airports/RDU'</span><span style=\"color: #800080; text-decoration-color: #800080\">: </span><span style=\"color: #008080; text-decoration-color: #008080; font-weight: bold\">0.07692307692307693</span><span style=\"color: #800080; text-decoration-color: #800080\">, </span>\n",
       "<span style=\"color: #008000; text-decoration-color: #008000\">'airports/PBI'</span><span style=\"color: #800080; text-decoration-color: #800080\">: </span><span style=\"color: #008080; text-decoration-color: #008080; font-weight: bold\">0.038461538461538464</span><span style=\"color: #800080; text-decoration-color: #800080\">, </span><span style=\"color: #008000; text-decoration-color: #008000\">'airports/MSY'</span><span style=\"color: #800080; text-decoration-color: #800080\">: </span><span style=\"color: #008080; text-decoration-color: #008080; font-weight: bold\">0.05128205128205128</span><span style=\"color: #800080; text-decoration-color: #800080\">, </span><span style=\"color: #008000; text-decoration-color: #008000\">'airports/FLL'</span><span style=\"color: #800080; text-decoration-color: #800080\">: </span><span style=\"color: #008080; text-decoration-color: #008080; font-weight: bold\">0.07692307692307693</span><span style=\"color: #800080; text-decoration-color: #800080\">, </span>\n",
       "<span style=\"color: #008000; text-decoration-color: #008000\">'airports/TPA'</span><span style=\"color: #800080; text-decoration-color: #800080\">: </span><span style=\"color: #008080; text-decoration-color: #008080; font-weight: bold\">0.07692307692307693</span><span style=\"color: #800080; text-decoration-color: #800080\">, </span><span style=\"color: #008000; text-decoration-color: #008000\">'airports/DAY'</span><span style=\"color: #800080; text-decoration-color: #800080\">: </span><span style=\"color: #008080; text-decoration-color: #008080; font-weight: bold\">0.01282051282051282</span><span style=\"color: #800080; text-decoration-color: #800080\">, </span><span style=\"color: #008000; text-decoration-color: #008000\">'airports/MCI'</span><span style=\"color: #800080; text-decoration-color: #800080\">: </span><span style=\"color: #008080; text-decoration-color: #008080; font-weight: bold\">0.02564102564102564</span><span style=\"color: #800080; text-decoration-color: #800080\">, </span>\n",
       "<span style=\"color: #008000; text-decoration-color: #008000\">'airports/BWI'</span><span style=\"color: #800080; text-decoration-color: #800080\">: </span><span style=\"color: #008080; text-decoration-color: #008080; font-weight: bold\">0.038461538461538464</span><span style=\"color: #800080; text-decoration-color: #800080\">, </span><span style=\"color: #008000; text-decoration-color: #008000\">'airports/HDN'</span><span style=\"color: #800080; text-decoration-color: #800080\">: </span><span style=\"color: #008080; text-decoration-color: #008080; font-weight: bold\">0.02564102564102564</span><span style=\"color: #800080; text-decoration-color: #800080\">, </span><span style=\"color: #008000; text-decoration-color: #008000\">'airports/OMA'</span><span style=\"color: #800080; text-decoration-color: #800080\">: </span><span style=\"color: #008080; text-decoration-color: #008080; font-weight: bold\">0.01282051282051282</span><span style=\"color: #800080; text-decoration-color: #800080\">, </span>\n",
       "<span style=\"color: #008000; text-decoration-color: #008000\">'airports/XNA'</span><span style=\"color: #800080; text-decoration-color: #800080\">: </span><span style=\"color: #008080; text-decoration-color: #008080; font-weight: bold\">0.01282051282051282</span><span style=\"color: #800080; text-decoration-color: #800080\">, </span><span style=\"color: #008000; text-decoration-color: #008000\">'airports/BDL'</span><span style=\"color: #800080; text-decoration-color: #800080\">: </span><span style=\"color: #008080; text-decoration-color: #008080; font-weight: bold\">0.038461538461538464</span><span style=\"color: #800080; text-decoration-color: #800080\">, </span><span style=\"color: #008000; text-decoration-color: #008000\">'airports/PHL'</span><span style=\"color: #800080; text-decoration-color: #800080\">: </span><span style=\"color: #008080; text-decoration-color: #008080; font-weight: bold\">0.05128205128205128</span><span style=\"color: #800080; text-decoration-color: #800080\">, </span>\n",
       "<span style=\"color: #008000; text-decoration-color: #008000\">'airports/CLT'</span><span style=\"color: #800080; text-decoration-color: #800080\">: </span><span style=\"color: #008080; text-decoration-color: #008080; font-weight: bold\">0.01282051282051282</span><span style=\"color: #800080; text-decoration-color: #800080\">, </span><span style=\"color: #008000; text-decoration-color: #008000\">'airports/BUR'</span><span style=\"color: #800080; text-decoration-color: #800080\">: </span><span style=\"color: #008080; text-decoration-color: #008080; font-weight: bold\">0.01282051282051282</span><span style=\"color: #800080; text-decoration-color: #800080\">, </span><span style=\"color: #008000; text-decoration-color: #008000\">'airports/SNA'</span><span style=\"color: #800080; text-decoration-color: #800080\">: </span><span style=\"color: #008080; text-decoration-color: #008080; font-weight: bold\">0.0641025641025641</span><span style=\"color: #800080; text-decoration-color: #800080\">, </span>\n",
       "<span style=\"color: #008000; text-decoration-color: #008000\">'airports/AUS'</span><span style=\"color: #800080; text-decoration-color: #800080\">: </span><span style=\"color: #008080; text-decoration-color: #008080; font-weight: bold\">0.08974358974358974</span><span style=\"color: #800080; text-decoration-color: #800080\">, </span><span style=\"color: #008000; text-decoration-color: #008000\">'airports/SJC'</span><span style=\"color: #800080; text-decoration-color: #800080\">: </span><span style=\"color: #008080; text-decoration-color: #008080; font-weight: bold\">0.05128205128205128</span><span style=\"color: #800080; text-decoration-color: #800080\">, </span><span style=\"color: #008000; text-decoration-color: #008000\">'airports/COS'</span><span style=\"color: #800080; text-decoration-color: #800080\">: </span><span style=\"color: #008080; text-decoration-color: #008080; font-weight: bold\">0.01282051282051282</span><span style=\"color: #800080; text-decoration-color: #800080\">, </span>\n",
       "<span style=\"color: #008000; text-decoration-color: #008000\">'airports/MFE'</span><span style=\"color: #800080; text-decoration-color: #800080\">: </span><span style=\"color: #008080; text-decoration-color: #008080; font-weight: bold\">0.01282051282051282</span><span style=\"color: #800080; text-decoration-color: #800080\">, </span><span style=\"color: #008000; text-decoration-color: #008000\">'airports/MTJ'</span><span style=\"color: #800080; text-decoration-color: #800080\">: </span><span style=\"color: #008080; text-decoration-color: #008080; font-weight: bold\">0.02564102564102564</span><span style=\"color: #800080; text-decoration-color: #800080\">, </span><span style=\"color: #008000; text-decoration-color: #008000\">'airports/CMH'</span><span style=\"color: #800080; text-decoration-color: #800080\">: </span><span style=\"color: #008080; text-decoration-color: #008080; font-weight: bold\">0.01282051282051282</span><span style=\"color: #800080; text-decoration-color: #800080\">, </span>\n",
       "<span style=\"color: #008000; text-decoration-color: #008000\">'airports/PSP'</span><span style=\"color: #800080; text-decoration-color: #800080\">: </span><span style=\"color: #008080; text-decoration-color: #008080; font-weight: bold\">0.02564102564102564</span><span style=\"color: #800080; text-decoration-color: #800080\">, </span><span style=\"color: #008000; text-decoration-color: #008000\">'airports/FAT'</span><span style=\"color: #800080; text-decoration-color: #800080\">: </span><span style=\"color: #008080; text-decoration-color: #008080; font-weight: bold\">0.01282051282051282</span><span style=\"color: #800080; text-decoration-color: #800080\">, </span><span style=\"color: #008000; text-decoration-color: #008000\">'airports/DEN'</span><span style=\"color: #800080; text-decoration-color: #800080\">: </span><span style=\"color: #008080; text-decoration-color: #008080; font-weight: bold\">0.05128205128205128</span><span style=\"color: #800080; text-decoration-color: #800080\">, </span>\n",
       "<span style=\"color: #008000; text-decoration-color: #008000\">'airports/SAT'</span><span style=\"color: #800080; text-decoration-color: #800080\">: </span><span style=\"color: #008080; text-decoration-color: #008080; font-weight: bold\">0.05128205128205128</span><span style=\"color: #800080; text-decoration-color: #800080\">, </span><span style=\"color: #008000; text-decoration-color: #008000\">'airports/IND'</span><span style=\"color: #800080; text-decoration-color: #800080\">: </span><span style=\"color: #008080; text-decoration-color: #008080; font-weight: bold\">0.02564102564102564</span><span style=\"color: #800080; text-decoration-color: #800080\">, </span><span style=\"color: #008000; text-decoration-color: #008000\">'airports/TUL'</span><span style=\"color: #800080; text-decoration-color: #800080\">: </span><span style=\"color: #008080; text-decoration-color: #008080; font-weight: bold\">0.02564102564102564</span><span style=\"color: #800080; text-decoration-color: #800080\">, </span>\n",
       "<span style=\"color: #008000; text-decoration-color: #008000\">'airports/RSW'</span><span style=\"color: #800080; text-decoration-color: #800080\">: </span><span style=\"color: #008080; text-decoration-color: #008080; font-weight: bold\">0.038461538461538464</span><span style=\"color: #800080; text-decoration-color: #800080\">, </span><span style=\"color: #008000; text-decoration-color: #008000\">'airports/JAC'</span><span style=\"color: #800080; text-decoration-color: #800080\">: </span><span style=\"color: #008080; text-decoration-color: #008080; font-weight: bold\">0.02564102564102564</span><span style=\"color: #800080; text-decoration-color: #800080\">, </span><span style=\"color: #008000; text-decoration-color: #008000\">'airports/DTW'</span><span style=\"color: #800080; text-decoration-color: #800080\">: </span><span style=\"color: #008080; text-decoration-color: #008080; font-weight: bold\">0.038461538461538464</span><span style=\"color: #800080; text-decoration-color: #800080\">, </span>\n",
       "<span style=\"color: #008000; text-decoration-color: #008000\">'airports/ABQ'</span><span style=\"color: #800080; text-decoration-color: #800080\">: </span><span style=\"color: #008080; text-decoration-color: #008080; font-weight: bold\">0.02564102564102564</span><span style=\"color: #800080; text-decoration-color: #800080\">, </span><span style=\"color: #008000; text-decoration-color: #008000\">'airports/ELP'</span><span style=\"color: #800080; text-decoration-color: #800080\">: </span><span style=\"color: #008080; text-decoration-color: #008080; font-weight: bold\">0.02564102564102564</span><span style=\"color: #800080; text-decoration-color: #800080\">, </span><span style=\"color: #008000; text-decoration-color: #008000\">'airports/TUS'</span><span style=\"color: #800080; text-decoration-color: #800080\">: </span><span style=\"color: #008080; text-decoration-color: #008080; font-weight: bold\">0.02564102564102564</span><span style=\"color: #800080; text-decoration-color: #800080\">, </span>\n",
       "<span style=\"color: #008000; text-decoration-color: #008000\">'airports/SLC'</span><span style=\"color: #800080; text-decoration-color: #800080\">: </span><span style=\"color: #008080; text-decoration-color: #008080; font-weight: bold\">0.02564102564102564</span><span style=\"color: #800080; text-decoration-color: #800080\">, </span><span style=\"color: #008000; text-decoration-color: #008000\">'airports/IAH'</span><span style=\"color: #800080; text-decoration-color: #800080\">: </span><span style=\"color: #008080; text-decoration-color: #008080; font-weight: bold\">0.038461538461538464</span><span style=\"color: #800080; text-decoration-color: #800080\">, </span><span style=\"color: #008000; text-decoration-color: #008000\">'airports/PHX'</span><span style=\"color: #800080; text-decoration-color: #800080\">: </span><span style=\"color: #008080; text-decoration-color: #008080; font-weight: bold\">0.038461538461538464</span><span style=\"color: #800080; text-decoration-color: #800080\">, </span>\n",
       "<span style=\"color: #008000; text-decoration-color: #008000\">'airports/RNO'</span><span style=\"color: #800080; text-decoration-color: #800080\">: </span><span style=\"color: #008080; text-decoration-color: #008080; font-weight: bold\">0.02564102564102564</span><span style=\"color: #800080; text-decoration-color: #800080\">, </span><span style=\"color: #008000; text-decoration-color: #008000\">'airports/JAX'</span><span style=\"color: #800080; text-decoration-color: #800080\">: </span><span style=\"color: #008080; text-decoration-color: #008080; font-weight: bold\">0.01282051282051282</span><span style=\"color: #800080; text-decoration-color: #800080\">, </span><span style=\"color: #008000; text-decoration-color: #008000\">'airports/ICT'</span><span style=\"color: #800080; text-decoration-color: #800080\">: </span><span style=\"color: #008080; text-decoration-color: #008080; font-weight: bold\">0.01282051282051282</span><span style=\"color: #800080; text-decoration-color: #800080\">, </span>\n",
       "<span style=\"color: #008000; text-decoration-color: #008000\">'airports/MEM'</span><span style=\"color: #800080; text-decoration-color: #800080\">: </span><span style=\"color: #008080; text-decoration-color: #008080; font-weight: bold\">0.01282051282051282</span><span style=\"color: #800080; text-decoration-color: #800080\">, </span><span style=\"color: #008000; text-decoration-color: #008000\">'airports/OGG'</span><span style=\"color: #800080; text-decoration-color: #800080\">: </span><span style=\"color: #008080; text-decoration-color: #008080; font-weight: bold\">0.02564102564102564</span><span style=\"color: #800080; text-decoration-color: #800080\">, </span><span style=\"color: #008000; text-decoration-color: #008000\">'airports/KOA'</span><span style=\"color: #800080; text-decoration-color: #800080\">: </span><span style=\"color: #008080; text-decoration-color: #008080; font-weight: bold\">0.01282051282051282</span><span style=\"color: #800080; text-decoration-color: #800080\">, </span>\n",
       "<span style=\"color: #008000; text-decoration-color: #008000\">'airports/HSV'</span><span style=\"color: #800080; text-decoration-color: #800080\">: </span><span style=\"color: #008080; text-decoration-color: #008080; font-weight: bold\">0.01282051282051282</span><span style=\"color: #800080; text-decoration-color: #800080\">, </span><span style=\"color: #008000; text-decoration-color: #008000\">'airports/STX'</span><span style=\"color: #800080; text-decoration-color: #800080\">: </span><span style=\"color: #008080; text-decoration-color: #008080; font-weight: bold\">0.01282051282051282</span><span style=\"color: #800080; text-decoration-color: #800080\">, </span><span style=\"color: #008000; text-decoration-color: #008000\">'airports/PDX'</span><span style=\"color: #800080; text-decoration-color: #800080\">: </span><span style=\"color: #008080; text-decoration-color: #008080; font-weight: bold\">0.01282051282051282</span><span style=\"color: #800080; text-decoration-color: #800080\">, </span>\n",
       "<span style=\"color: #008000; text-decoration-color: #008000\">'airports/ORF'</span><span style=\"color: #800080; text-decoration-color: #800080\">: </span><span style=\"color: #008080; text-decoration-color: #008080; font-weight: bold\">0.01282051282051282</span><span style=\"color: #800080; text-decoration-color: #800080\">, </span><span style=\"color: #008000; text-decoration-color: #008000\">'airports/OKC'</span><span style=\"color: #800080; text-decoration-color: #800080\">: </span><span style=\"color: #008080; text-decoration-color: #008080; font-weight: bold\">0.01282051282051282</span><span style=\"color: #800080; text-decoration-color: #800080\">, </span><span style=\"color: #008000; text-decoration-color: #008000\">'airports/RIC'</span><span style=\"color: #800080; text-decoration-color: #800080\">: </span><span style=\"color: #008080; text-decoration-color: #008080; font-weight: bold\">0.01282051282051282</span><span style=\"color: #800080; text-decoration-color: #800080\">, </span>\n",
       "<span style=\"color: #008000; text-decoration-color: #008000\">'airports/GUC'</span><span style=\"color: #800080; text-decoration-color: #800080\">: </span><span style=\"color: #008080; text-decoration-color: #008080; font-weight: bold\">0.01282051282051282</span><span style=\"color: #800080; text-decoration-color: #800080\">, </span><span style=\"color: #008000; text-decoration-color: #008000\">'airports/BHM'</span><span style=\"color: #800080; text-decoration-color: #800080\">: </span><span style=\"color: #008080; text-decoration-color: #008080; font-weight: bold\">0.01282051282051282</span><span style=\"color: #800080; text-decoration-color: #800080; font-weight: bold\">}}</span>\n",
       "</pre>\n"
      ],
      "text/plain": [
       "\u001b[1;35mFINAL_RESULT:\u001b[0m\u001b[35m \u001b[0m\u001b[1;35m{\u001b[0m\u001b[32m'Southwest Airlines Degree Centrality'\u001b[0m\u001b[35m: \u001b[0m\u001b[1;35m{\u001b[0m\u001b[32m'airports/MAF'\u001b[0m\u001b[35m: \u001b[0m\u001b[1;36m0.07936507936507936\u001b[0m\u001b[35m, \u001b[0m\u001b[32m'airports/DAL'\u001b[0m\u001b[35m: \u001b[0m\n",
       "\u001b[1;36m0.23809523809523808\u001b[0m\u001b[35m, \u001b[0m\u001b[32m'airports/LAS'\u001b[0m\u001b[35m: \u001b[0m\u001b[1;36m0.8571428571428571\u001b[0m\u001b[35m, \u001b[0m\u001b[32m'airports/HOU'\u001b[0m\u001b[35m: \u001b[0m\u001b[1;36m0.4603174603174603\u001b[0m\u001b[35m, \u001b[0m\u001b[32m'airports/AUS'\u001b[0m\u001b[35m: \u001b[0m\n",
       "\u001b[1;36m0.25396825396825395\u001b[0m\u001b[35m, \u001b[0m\u001b[32m'airports/ABQ'\u001b[0m\u001b[35m: \u001b[0m\u001b[1;36m0.3492063492063492\u001b[0m\u001b[35m, \u001b[0m\u001b[32m'airports/SAN'\u001b[0m\u001b[35m: \u001b[0m\u001b[1;36m0.2698412698412698\u001b[0m\u001b[35m, \u001b[0m\u001b[32m'airports/BNA'\u001b[0m\u001b[35m: \u001b[0m\n",
       "\u001b[1;36m0.42857142857142855\u001b[0m\u001b[35m, \u001b[0m\u001b[32m'airports/PHX'\u001b[0m\u001b[35m: \u001b[0m\u001b[1;36m0.6666666666666666\u001b[0m\u001b[35m, \u001b[0m\u001b[32m'airports/ELP'\u001b[0m\u001b[35m: \u001b[0m\u001b[1;36m0.15873015873015872\u001b[0m\u001b[35m, \u001b[0m\u001b[32m'airports/MDW'\u001b[0m\u001b[35m: \u001b[0m\n",
       "\u001b[1;36m0.746031746031746\u001b[0m\u001b[35m, \u001b[0m\u001b[32m'airports/SFO'\u001b[0m\u001b[35m: \u001b[0m\u001b[1;36m0.06349206349206349\u001b[0m\u001b[35m, \u001b[0m\u001b[32m'airports/MCI'\u001b[0m\u001b[35m: \u001b[0m\u001b[1;36m0.31746031746031744\u001b[0m\u001b[35m, \u001b[0m\u001b[32m'airports/OAK'\u001b[0m\u001b[35m: \u001b[0m\n",
       "\u001b[1;36m0.31746031746031744\u001b[0m\u001b[35m, \u001b[0m\u001b[32m'airports/SJC'\u001b[0m\u001b[35m: \u001b[0m\u001b[1;36m0.1746031746031746\u001b[0m\u001b[35m, \u001b[0m\u001b[32m'airports/TUS'\u001b[0m\u001b[35m: \u001b[0m\u001b[1;36m0.09523809523809523\u001b[0m\u001b[35m, \u001b[0m\u001b[32m'airports/BWI'\u001b[0m\u001b[35m: \u001b[0m\n",
       "\u001b[1;36m0.6031746031746031\u001b[0m\u001b[35m, \u001b[0m\u001b[32m'airports/SMF'\u001b[0m\u001b[35m: \u001b[0m\u001b[1;36m0.1746031746031746\u001b[0m\u001b[35m, \u001b[0m\u001b[32m'airports/RNO'\u001b[0m\u001b[35m: \u001b[0m\u001b[1;36m0.1746031746031746\u001b[0m\u001b[35m, \u001b[0m\u001b[32m'airports/SAT'\u001b[0m\u001b[35m: \u001b[0m\n",
       "\u001b[1;36m0.20634920634920634\u001b[0m\u001b[35m, \u001b[0m\u001b[32m'airports/BUR'\u001b[0m\u001b[35m: \u001b[0m\u001b[1;36m0.07936507936507936\u001b[0m\u001b[35m, \u001b[0m\u001b[32m'airports/SNA'\u001b[0m\u001b[35m: \u001b[0m\u001b[1;36m0.07936507936507936\u001b[0m\u001b[35m, \u001b[0m\u001b[32m'airports/PDX'\u001b[0m\u001b[35m: \u001b[0m\n",
       "\u001b[1;36m0.19047619047619047\u001b[0m\u001b[35m, \u001b[0m\u001b[32m'airports/LAX'\u001b[0m\u001b[35m: \u001b[0m\u001b[1;36m0.2857142857142857\u001b[0m\u001b[35m, \u001b[0m\u001b[32m'airports/SEA'\u001b[0m\u001b[35m: \u001b[0m\u001b[1;36m0.2222222222222222\u001b[0m\u001b[35m, \u001b[0m\u001b[32m'airports/ONT'\u001b[0m\u001b[35m: \u001b[0m\n",
       "\u001b[1;36m0.09523809523809523\u001b[0m\u001b[35m, \u001b[0m\u001b[32m'airports/MHT'\u001b[0m\u001b[35m: \u001b[0m\u001b[1;36m0.1111111111111111\u001b[0m\u001b[35m, \u001b[0m\u001b[32m'airports/PHL'\u001b[0m\u001b[35m: \u001b[0m\u001b[1;36m0.25396825396825395\u001b[0m\u001b[35m, \u001b[0m\u001b[32m'airports/MCO'\u001b[0m\u001b[35m: \u001b[0m\n",
       "\u001b[1;36m0.5238095238095237\u001b[0m\u001b[35m, \u001b[0m\u001b[32m'airports/TPA'\u001b[0m\u001b[35m: \u001b[0m\u001b[1;36m0.49206349206349204\u001b[0m\u001b[35m, \u001b[0m\u001b[32m'airports/BHM'\u001b[0m\u001b[35m: \u001b[0m\u001b[1;36m0.20634920634920634\u001b[0m\u001b[35m, \u001b[0m\u001b[32m'airports/FLL'\u001b[0m\u001b[35m: \u001b[0m\n",
       "\u001b[1;36m0.19047619047619047\u001b[0m\u001b[35m, \u001b[0m\u001b[32m'airports/MSY'\u001b[0m\u001b[35m: \u001b[0m\u001b[1;36m0.1746031746031746\u001b[0m\u001b[35m, \u001b[0m\u001b[32m'airports/BUF'\u001b[0m\u001b[35m: \u001b[0m\u001b[1;36m0.09523809523809523\u001b[0m\u001b[35m, \u001b[0m\u001b[32m'airports/BDL'\u001b[0m\u001b[35m: \u001b[0m\n",
       "\u001b[1;36m0.09523809523809523\u001b[0m\u001b[35m, \u001b[0m\u001b[32m'airports/DTW'\u001b[0m\u001b[35m: \u001b[0m\u001b[1;36m0.09523809523809523\u001b[0m\u001b[35m, \u001b[0m\u001b[32m'airports/CMH'\u001b[0m\u001b[35m: \u001b[0m\u001b[1;36m0.14285714285714285\u001b[0m\u001b[35m, \u001b[0m\u001b[32m'airports/PIT'\u001b[0m\u001b[35m: \u001b[0m\n",
       "\u001b[1;36m0.1111111111111111\u001b[0m\u001b[35m, \u001b[0m\u001b[32m'airports/SDF'\u001b[0m\u001b[35m: \u001b[0m\u001b[1;36m0.12698412698412698\u001b[0m\u001b[35m, \u001b[0m\u001b[32m'airports/STL'\u001b[0m\u001b[35m: \u001b[0m\u001b[1;36m0.3492063492063492\u001b[0m\u001b[35m, \u001b[0m\u001b[32m'airports/RSW'\u001b[0m\u001b[35m: \u001b[0m\n",
       "\u001b[1;36m0.07936507936507936\u001b[0m\u001b[35m, \u001b[0m\u001b[32m'airports/IND'\u001b[0m\u001b[35m: \u001b[0m\u001b[1;36m0.12698412698412698\u001b[0m\u001b[35m, \u001b[0m\u001b[32m'airports/JAN'\u001b[0m\u001b[35m: \u001b[0m\u001b[1;36m0.06349206349206349\u001b[0m\u001b[35m, \u001b[0m\u001b[32m'airports/IAD'\u001b[0m\u001b[35m: \u001b[0m\n",
       "\u001b[1;36m0.06349206349206349\u001b[0m\u001b[35m, \u001b[0m\u001b[32m'airports/PVD'\u001b[0m\u001b[35m: \u001b[0m\u001b[1;36m0.14285714285714285\u001b[0m\u001b[35m, \u001b[0m\u001b[32m'airports/ISP'\u001b[0m\u001b[35m: \u001b[0m\u001b[1;36m0.12698412698412698\u001b[0m\u001b[35m, \u001b[0m\u001b[32m'airports/DEN'\u001b[0m\u001b[35m: \u001b[0m\n",
       "\u001b[1;36m0.25396825396825395\u001b[0m\u001b[35m, \u001b[0m\u001b[32m'airports/ALB'\u001b[0m\u001b[35m: \u001b[0m\u001b[1;36m0.07936507936507936\u001b[0m\u001b[35m, \u001b[0m\u001b[32m'airports/RDU'\u001b[0m\u001b[35m: \u001b[0m\u001b[1;36m0.12698412698412698\u001b[0m\u001b[35m, \u001b[0m\u001b[32m'airports/ORF'\u001b[0m\u001b[35m: \u001b[0m\n",
       "\u001b[1;36m0.09523809523809523\u001b[0m\u001b[35m, \u001b[0m\u001b[32m'airports/CLE'\u001b[0m\u001b[35m: \u001b[0m\u001b[1;36m0.09523809523809523\u001b[0m\u001b[35m, \u001b[0m\u001b[32m'airports/BOI'\u001b[0m\u001b[35m: \u001b[0m\u001b[1;36m0.1111111111111111\u001b[0m\u001b[35m, \u001b[0m\u001b[32m'airports/SLC'\u001b[0m\u001b[35m: \u001b[0m\n",
       "\u001b[1;36m0.2222222222222222\u001b[0m\u001b[35m, \u001b[0m\u001b[32m'airports/GEG'\u001b[0m\u001b[35m: \u001b[0m\u001b[1;36m0.09523809523809523\u001b[0m\u001b[35m, \u001b[0m\u001b[32m'airports/TUL'\u001b[0m\u001b[35m: \u001b[0m\u001b[1;36m0.09523809523809523\u001b[0m\u001b[35m, \u001b[0m\u001b[32m'airports/OKC'\u001b[0m\u001b[35m: \u001b[0m\n",
       "\u001b[1;36m0.12698412698412698\u001b[0m\u001b[35m, \u001b[0m\u001b[32m'airports/LIT'\u001b[0m\u001b[35m: \u001b[0m\u001b[1;36m0.1111111111111111\u001b[0m\u001b[35m, \u001b[0m\u001b[32m'airports/OMA'\u001b[0m\u001b[35m: \u001b[0m\u001b[1;36m0.06349206349206349\u001b[0m\u001b[35m, \u001b[0m\u001b[32m'airports/JAX'\u001b[0m\u001b[35m: \u001b[0m\n",
       "\u001b[1;36m0.14285714285714285\u001b[0m\u001b[35m, \u001b[0m\u001b[32m'airports/PBI'\u001b[0m\u001b[35m: \u001b[0m\u001b[1;36m0.06349206349206349\u001b[0m\u001b[35m, \u001b[0m\u001b[32m'airports/LBB'\u001b[0m\u001b[35m: \u001b[0m\u001b[1;36m0.07936507936507936\u001b[0m\u001b[35m, \u001b[0m\u001b[32m'airports/HRL'\u001b[0m\u001b[35m: \u001b[0m\n",
       "\u001b[1;36m0.047619047619047616\u001b[0m\u001b[35m, \u001b[0m\u001b[32m'airports/AMA'\u001b[0m\u001b[35m: \u001b[0m\u001b[1;36m0.06349206349206349\u001b[0m\u001b[35m, \u001b[0m\u001b[32m'airports/CRP'\u001b[0m\u001b[35m: \u001b[0m\u001b[1;36m0.015873015873015872\u001b[0m\u001b[1;35m}\u001b[0m\u001b[35m, \u001b[0m\u001b[32m'American \u001b[0m\n",
       "\u001b[32mAirlines Degree Centrality'\u001b[0m\u001b[35m: \u001b[0m\u001b[1;35m{\u001b[0m\u001b[32m'airports/SAN'\u001b[0m\u001b[35m: \u001b[0m\u001b[1;36m0.0641025641025641\u001b[0m\u001b[35m, \u001b[0m\u001b[32m'airports/BOS'\u001b[0m\u001b[35m: \u001b[0m\u001b[1;36m0.11538461538461538\u001b[0m\u001b[35m, \u001b[0m\n",
       "\u001b[32m'airports/STL'\u001b[0m\u001b[35m: \u001b[0m\u001b[1;36m0.24358974358974358\u001b[0m\u001b[35m, \u001b[0m\u001b[32m'airports/DFW'\u001b[0m\u001b[35m: \u001b[0m\u001b[1;36m0.9487179487179487\u001b[0m\u001b[35m, \u001b[0m\u001b[32m'airports/ORD'\u001b[0m\u001b[35m: \u001b[0m\u001b[1;36m0.6025641025641025\u001b[0m\u001b[35m, \u001b[0m\n",
       "\u001b[32m'airports/JFK'\u001b[0m\u001b[35m: \u001b[0m\u001b[1;36m0.14102564102564102\u001b[0m\u001b[35m, \u001b[0m\u001b[32m'airports/DCA'\u001b[0m\u001b[35m: \u001b[0m\u001b[1;36m0.05128205128205128\u001b[0m\u001b[35m, \u001b[0m\u001b[32m'airports/MIA'\u001b[0m\u001b[35m: \u001b[0m\u001b[1;36m0.3846153846153846\u001b[0m\u001b[35m, \u001b[0m\n",
       "\u001b[32m'airports/SMF'\u001b[0m\u001b[35m: \u001b[0m\u001b[1;36m0.01282051282051282\u001b[0m\u001b[35m, \u001b[0m\u001b[32m'airports/EWR'\u001b[0m\u001b[35m: \u001b[0m\u001b[1;36m0.07692307692307693\u001b[0m\u001b[35m, \u001b[0m\u001b[32m'airports/SJU'\u001b[0m\u001b[35m: \u001b[0m\u001b[1;36m0.1923076923076923\u001b[0m\u001b[35m, \u001b[0m\n",
       "\u001b[32m'airports/EGE'\u001b[0m\u001b[35m: \u001b[0m\u001b[1;36m0.07692307692307693\u001b[0m\u001b[35m, \u001b[0m\u001b[32m'airports/LAX'\u001b[0m\u001b[35m: \u001b[0m\u001b[1;36m0.28205128205128205\u001b[0m\u001b[35m, \u001b[0m\u001b[32m'airports/MCO'\u001b[0m\u001b[35m: \u001b[0m\u001b[1;36m0.10256410256410256\u001b[0m\u001b[35m, \u001b[0m\n",
       "\u001b[32m'airports/STT'\u001b[0m\u001b[35m: \u001b[0m\u001b[1;36m0.05128205128205128\u001b[0m\u001b[35m, \u001b[0m\u001b[32m'airports/LAS'\u001b[0m\u001b[35m: \u001b[0m\u001b[1;36m0.07692307692307693\u001b[0m\u001b[35m, \u001b[0m\u001b[32m'airports/SFO'\u001b[0m\u001b[35m: \u001b[0m\u001b[1;36m0.10256410256410256\u001b[0m\u001b[35m, \u001b[0m\n",
       "\u001b[32m'airports/SEA'\u001b[0m\u001b[35m: \u001b[0m\u001b[1;36m0.05128205128205128\u001b[0m\u001b[35m, \u001b[0m\u001b[32m'airports/HNL'\u001b[0m\u001b[35m: \u001b[0m\u001b[1;36m0.05128205128205128\u001b[0m\u001b[35m, \u001b[0m\u001b[32m'airports/LGA'\u001b[0m\u001b[35m: \u001b[0m\u001b[1;36m0.1794871794871795\u001b[0m\u001b[35m, \u001b[0m\n",
       "\u001b[32m'airports/SDF'\u001b[0m\u001b[35m: \u001b[0m\u001b[1;36m0.01282051282051282\u001b[0m\u001b[35m, \u001b[0m\u001b[32m'airports/ONT'\u001b[0m\u001b[35m: \u001b[0m\u001b[1;36m0.01282051282051282\u001b[0m\u001b[35m, \u001b[0m\u001b[32m'airports/OAK'\u001b[0m\u001b[35m: \u001b[0m\u001b[1;36m0.01282051282051282\u001b[0m\u001b[35m, \u001b[0m\n",
       "\u001b[32m'airports/IAD'\u001b[0m\u001b[35m: \u001b[0m\u001b[1;36m0.05128205128205128\u001b[0m\u001b[35m, \u001b[0m\u001b[32m'airports/LIH'\u001b[0m\u001b[35m: \u001b[0m\u001b[1;36m0.01282051282051282\u001b[0m\u001b[35m, \u001b[0m\u001b[32m'airports/ATL'\u001b[0m\u001b[35m: \u001b[0m\u001b[1;36m0.05128205128205128\u001b[0m\u001b[35m, \u001b[0m\n",
       "\u001b[32m'airports/MSP'\u001b[0m\u001b[35m: \u001b[0m\u001b[1;36m0.05128205128205128\u001b[0m\u001b[35m, \u001b[0m\u001b[32m'airports/BNA'\u001b[0m\u001b[35m: \u001b[0m\u001b[1;36m0.0641025641025641\u001b[0m\u001b[35m, \u001b[0m\u001b[32m'airports/RDU'\u001b[0m\u001b[35m: \u001b[0m\u001b[1;36m0.07692307692307693\u001b[0m\u001b[35m, \u001b[0m\n",
       "\u001b[32m'airports/PBI'\u001b[0m\u001b[35m: \u001b[0m\u001b[1;36m0.038461538461538464\u001b[0m\u001b[35m, \u001b[0m\u001b[32m'airports/MSY'\u001b[0m\u001b[35m: \u001b[0m\u001b[1;36m0.05128205128205128\u001b[0m\u001b[35m, \u001b[0m\u001b[32m'airports/FLL'\u001b[0m\u001b[35m: \u001b[0m\u001b[1;36m0.07692307692307693\u001b[0m\u001b[35m, \u001b[0m\n",
       "\u001b[32m'airports/TPA'\u001b[0m\u001b[35m: \u001b[0m\u001b[1;36m0.07692307692307693\u001b[0m\u001b[35m, \u001b[0m\u001b[32m'airports/DAY'\u001b[0m\u001b[35m: \u001b[0m\u001b[1;36m0.01282051282051282\u001b[0m\u001b[35m, \u001b[0m\u001b[32m'airports/MCI'\u001b[0m\u001b[35m: \u001b[0m\u001b[1;36m0.02564102564102564\u001b[0m\u001b[35m, \u001b[0m\n",
       "\u001b[32m'airports/BWI'\u001b[0m\u001b[35m: \u001b[0m\u001b[1;36m0.038461538461538464\u001b[0m\u001b[35m, \u001b[0m\u001b[32m'airports/HDN'\u001b[0m\u001b[35m: \u001b[0m\u001b[1;36m0.02564102564102564\u001b[0m\u001b[35m, \u001b[0m\u001b[32m'airports/OMA'\u001b[0m\u001b[35m: \u001b[0m\u001b[1;36m0.01282051282051282\u001b[0m\u001b[35m, \u001b[0m\n",
       "\u001b[32m'airports/XNA'\u001b[0m\u001b[35m: \u001b[0m\u001b[1;36m0.01282051282051282\u001b[0m\u001b[35m, \u001b[0m\u001b[32m'airports/BDL'\u001b[0m\u001b[35m: \u001b[0m\u001b[1;36m0.038461538461538464\u001b[0m\u001b[35m, \u001b[0m\u001b[32m'airports/PHL'\u001b[0m\u001b[35m: \u001b[0m\u001b[1;36m0.05128205128205128\u001b[0m\u001b[35m, \u001b[0m\n",
       "\u001b[32m'airports/CLT'\u001b[0m\u001b[35m: \u001b[0m\u001b[1;36m0.01282051282051282\u001b[0m\u001b[35m, \u001b[0m\u001b[32m'airports/BUR'\u001b[0m\u001b[35m: \u001b[0m\u001b[1;36m0.01282051282051282\u001b[0m\u001b[35m, \u001b[0m\u001b[32m'airports/SNA'\u001b[0m\u001b[35m: \u001b[0m\u001b[1;36m0.0641025641025641\u001b[0m\u001b[35m, \u001b[0m\n",
       "\u001b[32m'airports/AUS'\u001b[0m\u001b[35m: \u001b[0m\u001b[1;36m0.08974358974358974\u001b[0m\u001b[35m, \u001b[0m\u001b[32m'airports/SJC'\u001b[0m\u001b[35m: \u001b[0m\u001b[1;36m0.05128205128205128\u001b[0m\u001b[35m, \u001b[0m\u001b[32m'airports/COS'\u001b[0m\u001b[35m: \u001b[0m\u001b[1;36m0.01282051282051282\u001b[0m\u001b[35m, \u001b[0m\n",
       "\u001b[32m'airports/MFE'\u001b[0m\u001b[35m: \u001b[0m\u001b[1;36m0.01282051282051282\u001b[0m\u001b[35m, \u001b[0m\u001b[32m'airports/MTJ'\u001b[0m\u001b[35m: \u001b[0m\u001b[1;36m0.02564102564102564\u001b[0m\u001b[35m, \u001b[0m\u001b[32m'airports/CMH'\u001b[0m\u001b[35m: \u001b[0m\u001b[1;36m0.01282051282051282\u001b[0m\u001b[35m, \u001b[0m\n",
       "\u001b[32m'airports/PSP'\u001b[0m\u001b[35m: \u001b[0m\u001b[1;36m0.02564102564102564\u001b[0m\u001b[35m, \u001b[0m\u001b[32m'airports/FAT'\u001b[0m\u001b[35m: \u001b[0m\u001b[1;36m0.01282051282051282\u001b[0m\u001b[35m, \u001b[0m\u001b[32m'airports/DEN'\u001b[0m\u001b[35m: \u001b[0m\u001b[1;36m0.05128205128205128\u001b[0m\u001b[35m, \u001b[0m\n",
       "\u001b[32m'airports/SAT'\u001b[0m\u001b[35m: \u001b[0m\u001b[1;36m0.05128205128205128\u001b[0m\u001b[35m, \u001b[0m\u001b[32m'airports/IND'\u001b[0m\u001b[35m: \u001b[0m\u001b[1;36m0.02564102564102564\u001b[0m\u001b[35m, \u001b[0m\u001b[32m'airports/TUL'\u001b[0m\u001b[35m: \u001b[0m\u001b[1;36m0.02564102564102564\u001b[0m\u001b[35m, \u001b[0m\n",
       "\u001b[32m'airports/RSW'\u001b[0m\u001b[35m: \u001b[0m\u001b[1;36m0.038461538461538464\u001b[0m\u001b[35m, \u001b[0m\u001b[32m'airports/JAC'\u001b[0m\u001b[35m: \u001b[0m\u001b[1;36m0.02564102564102564\u001b[0m\u001b[35m, \u001b[0m\u001b[32m'airports/DTW'\u001b[0m\u001b[35m: \u001b[0m\u001b[1;36m0.038461538461538464\u001b[0m\u001b[35m, \u001b[0m\n",
       "\u001b[32m'airports/ABQ'\u001b[0m\u001b[35m: \u001b[0m\u001b[1;36m0.02564102564102564\u001b[0m\u001b[35m, \u001b[0m\u001b[32m'airports/ELP'\u001b[0m\u001b[35m: \u001b[0m\u001b[1;36m0.02564102564102564\u001b[0m\u001b[35m, \u001b[0m\u001b[32m'airports/TUS'\u001b[0m\u001b[35m: \u001b[0m\u001b[1;36m0.02564102564102564\u001b[0m\u001b[35m, \u001b[0m\n",
       "\u001b[32m'airports/SLC'\u001b[0m\u001b[35m: \u001b[0m\u001b[1;36m0.02564102564102564\u001b[0m\u001b[35m, \u001b[0m\u001b[32m'airports/IAH'\u001b[0m\u001b[35m: \u001b[0m\u001b[1;36m0.038461538461538464\u001b[0m\u001b[35m, \u001b[0m\u001b[32m'airports/PHX'\u001b[0m\u001b[35m: \u001b[0m\u001b[1;36m0.038461538461538464\u001b[0m\u001b[35m, \u001b[0m\n",
       "\u001b[32m'airports/RNO'\u001b[0m\u001b[35m: \u001b[0m\u001b[1;36m0.02564102564102564\u001b[0m\u001b[35m, \u001b[0m\u001b[32m'airports/JAX'\u001b[0m\u001b[35m: \u001b[0m\u001b[1;36m0.01282051282051282\u001b[0m\u001b[35m, \u001b[0m\u001b[32m'airports/ICT'\u001b[0m\u001b[35m: \u001b[0m\u001b[1;36m0.01282051282051282\u001b[0m\u001b[35m, \u001b[0m\n",
       "\u001b[32m'airports/MEM'\u001b[0m\u001b[35m: \u001b[0m\u001b[1;36m0.01282051282051282\u001b[0m\u001b[35m, \u001b[0m\u001b[32m'airports/OGG'\u001b[0m\u001b[35m: \u001b[0m\u001b[1;36m0.02564102564102564\u001b[0m\u001b[35m, \u001b[0m\u001b[32m'airports/KOA'\u001b[0m\u001b[35m: \u001b[0m\u001b[1;36m0.01282051282051282\u001b[0m\u001b[35m, \u001b[0m\n",
       "\u001b[32m'airports/HSV'\u001b[0m\u001b[35m: \u001b[0m\u001b[1;36m0.01282051282051282\u001b[0m\u001b[35m, \u001b[0m\u001b[32m'airports/STX'\u001b[0m\u001b[35m: \u001b[0m\u001b[1;36m0.01282051282051282\u001b[0m\u001b[35m, \u001b[0m\u001b[32m'airports/PDX'\u001b[0m\u001b[35m: \u001b[0m\u001b[1;36m0.01282051282051282\u001b[0m\u001b[35m, \u001b[0m\n",
       "\u001b[32m'airports/ORF'\u001b[0m\u001b[35m: \u001b[0m\u001b[1;36m0.01282051282051282\u001b[0m\u001b[35m, \u001b[0m\u001b[32m'airports/OKC'\u001b[0m\u001b[35m: \u001b[0m\u001b[1;36m0.01282051282051282\u001b[0m\u001b[35m, \u001b[0m\u001b[32m'airports/RIC'\u001b[0m\u001b[35m: \u001b[0m\u001b[1;36m0.01282051282051282\u001b[0m\u001b[35m, \u001b[0m\n",
       "\u001b[32m'airports/GUC'\u001b[0m\u001b[35m: \u001b[0m\u001b[1;36m0.01282051282051282\u001b[0m\u001b[35m, \u001b[0m\u001b[32m'airports/BHM'\u001b[0m\u001b[35m: \u001b[0m\u001b[1;36m0.01282051282051282\u001b[0m\u001b[1;35m}\u001b[0m\u001b[1;35m}\u001b[0m\n"
      ]
     },
     "metadata": {},
     "output_type": "display_data"
    },
    {
     "data": {
      "text/html": [
       "<pre style=\"white-space:pre;overflow-x:auto;line-height:normal;font-family:Menlo,'DejaVu Sans Mono',consolas,'Courier New',monospace\"><span style=\"color: #00ff00; text-decoration-color: #00ff00\">───────────────────────────────────────────────────────────────────────────────────────────────────────────────────</span>\n",
       "</pre>\n"
      ],
      "text/plain": [
       "\u001b[92m───────────────────────────────────────────────────────────────────────────────────────────────────────────────────\u001b[0m\n"
      ]
     },
     "metadata": {},
     "output_type": "display_data"
    },
    {
     "data": {
      "text/html": [
       "<pre style=\"white-space:pre;overflow-x:auto;line-height:normal;font-family:Menlo,'DejaVu Sans Mono',consolas,'Courier New',monospace\"><span style=\"color: #00ff00; text-decoration-color: #00ff00\">──────────────────────────────────────── </span><span style=\"color: #008080; text-decoration-color: #008080; font-weight: bold\">Step </span><span style=\"color: #008080; text-decoration-color: #008080; font-weight: bold\">3</span><span style=\"color: #008080; text-decoration-color: #008080; font-weight: bold\">: Formulating Final Answer</span><span style=\"color: #00ff00; text-decoration-color: #00ff00\"> ─────────────────────────────────────────</span>\n",
       "</pre>\n"
      ],
      "text/plain": [
       "\u001b[92m──────────────────────────────────────── \u001b[0m\u001b[1;36mStep \u001b[0m\u001b[1;36m3\u001b[0m\u001b[1;36m: Formulating Final Answer\u001b[0m\u001b[92m ─────────────────────────────────────────\u001b[0m\n"
      ]
     },
     "metadata": {},
     "output_type": "display_data"
    },
    {
     "data": {
      "text/html": [
       "<pre style=\"white-space:pre;overflow-x:auto;line-height:normal;font-family:Menlo,'DejaVu Sans Mono',consolas,'Courier New',monospace\"><span style=\"color: #00ff00; text-decoration-color: #00ff00\">───────────────────────────────────────────── </span><span style=\"color: #008000; text-decoration-color: #008000; font-weight: bold\">Final Answer Generated</span><span style=\"color: #00ff00; text-decoration-color: #00ff00\"> ──────────────────────────────────────────────</span>\n",
       "</pre>\n"
      ],
      "text/plain": [
       "\u001b[92m───────────────────────────────────────────── \u001b[0m\u001b[1;32mFinal Answer Generated\u001b[0m\u001b[92m ──────────────────────────────────────────────\u001b[0m\n"
      ]
     },
     "metadata": {},
     "output_type": "display_data"
    },
    {
     "data": {
      "text/html": [
       "<pre style=\"white-space:pre;overflow-x:auto;line-height:normal;font-family:Menlo,'DejaVu Sans Mono',consolas,'Courier New',monospace\">╭────────────────────────────────────────── <span style=\"color: #008080; text-decoration-color: #008080; font-weight: bold\">== Result for Sub-Task 2 ==</span> ──────────────────────────────────────────╮\n",
       "│ Building on the previous results regarding flight volume, here are the degree centrality metrics for the top    │\n",
       "│ two airlines:                                                                                                   │\n",
       "│                                                                                                                 │\n",
       "│ 1. **Southwest Airlines (WN)**:                                                                                 │\n",
       "│    - **Highest Degree Centrality**:                                                                             │\n",
       "│      - **Las Vegas (LAS)**: 0.857                                                                               │\n",
       "│    - **Notable Airports**:                                                                                      │\n",
       "│      - **Chicago Midway (MDW)**: 0.746                                                                          │\n",
       "│      - **Phoenix (PHX)**: 0.667                                                                                 │\n",
       "│                                                                                                                 │\n",
       "│ 2. **American Airlines (AA)**:                                                                                  │\n",
       "│    - **Highest Degree Centrality**:                                                                             │\n",
       "│      - **Dallas/Fort Worth (DFW)**: 0.949                                                                       │\n",
       "│    - **Notable Airports**:                                                                                      │\n",
       "│      - **Chicago O'Hare (ORD)**: 0.603                                                                          │\n",
       "│      - **Miami (MIA)**: 0.385                                                                                   │\n",
       "│                                                                                                                 │\n",
       "│ These degree centrality values reflect the relative importance of each airport in the network for the           │\n",
       "│ respective airlines, indicating where they have the most connections.                                           │\n",
       "╰─────────────────────────────────────────────────────────────────────────────────────────────────────────────────╯\n",
       "</pre>\n"
      ],
      "text/plain": [
       "╭────────────────────────────────────────── \u001b[1;36m== Result for Sub-Task 2 ==\u001b[0m ──────────────────────────────────────────╮\n",
       "│ Building on the previous results regarding flight volume, here are the degree centrality metrics for the top    │\n",
       "│ two airlines:                                                                                                   │\n",
       "│                                                                                                                 │\n",
       "│ 1. **Southwest Airlines (WN)**:                                                                                 │\n",
       "│    - **Highest Degree Centrality**:                                                                             │\n",
       "│      - **Las Vegas (LAS)**: 0.857                                                                               │\n",
       "│    - **Notable Airports**:                                                                                      │\n",
       "│      - **Chicago Midway (MDW)**: 0.746                                                                          │\n",
       "│      - **Phoenix (PHX)**: 0.667                                                                                 │\n",
       "│                                                                                                                 │\n",
       "│ 2. **American Airlines (AA)**:                                                                                  │\n",
       "│    - **Highest Degree Centrality**:                                                                             │\n",
       "│      - **Dallas/Fort Worth (DFW)**: 0.949                                                                       │\n",
       "│    - **Notable Airports**:                                                                                      │\n",
       "│      - **Chicago O'Hare (ORD)**: 0.603                                                                          │\n",
       "│      - **Miami (MIA)**: 0.385                                                                                   │\n",
       "│                                                                                                                 │\n",
       "│ These degree centrality values reflect the relative importance of each airport in the network for the           │\n",
       "│ respective airlines, indicating where they have the most connections.                                           │\n",
       "╰─────────────────────────────────────────────────────────────────────────────────────────────────────────────────╯\n"
      ]
     },
     "metadata": {},
     "output_type": "display_data"
    },
    {
     "data": {
      "text/html": [
       "<pre style=\"white-space:pre;overflow-x:auto;line-height:normal;font-family:Menlo,'DejaVu Sans Mono',consolas,'Courier New',monospace\">╭───────────────────────── <span style=\"color: #008080; text-decoration-color: #008080; font-weight: bold\">== Combined Final Result ==</span> ──────────────────────────╮\n",
       "│ The top two airlines based on flight volume are:                               │\n",
       "│                                                                                │\n",
       "│ 1. **Southwest Airlines (WN)** - 48,065 flights                                │\n",
       "│    - **Highest Degree Centrality**: Las Vegas (LAS) - 0.857                    │\n",
       "│    - **Notable Airports**: Chicago Midway (MDW) - 0.746, Phoenix (PHX) - 0.667 │\n",
       "│                                                                                │\n",
       "│ 2. **American Airlines (AA)** - 24,797 flights                                 │\n",
       "│    - **Highest Degree Centrality**: Dallas/Fort Worth (DFW) - 0.949            │\n",
       "│    - **Notable Airports**: Chicago O'Hare (ORD) - 0.603, Miami (MIA) - 0.385   │\n",
       "╰────────────────────────────────────────────────────────────────────────────────╯\n",
       "</pre>\n"
      ],
      "text/plain": [
       "╭───────────────────────── \u001b[1;36m== Combined Final Result ==\u001b[0m ──────────────────────────╮\n",
       "│ The top two airlines based on flight volume are:                               │\n",
       "│                                                                                │\n",
       "│ 1. **Southwest Airlines (WN)** - 48,065 flights                                │\n",
       "│    - **Highest Degree Centrality**: Las Vegas (LAS) - 0.857                    │\n",
       "│    - **Notable Airports**: Chicago Midway (MDW) - 0.746, Phoenix (PHX) - 0.667 │\n",
       "│                                                                                │\n",
       "│ 2. **American Airlines (AA)** - 24,797 flights                                 │\n",
       "│    - **Highest Degree Centrality**: Dallas/Fort Worth (DFW) - 0.949            │\n",
       "│    - **Notable Airports**: Chicago O'Hare (ORD) - 0.603, Miami (MIA) - 0.385   │\n",
       "╰────────────────────────────────────────────────────────────────────────────────╯\n"
      ]
     },
     "metadata": {},
     "output_type": "display_data"
    },
    {
     "data": {
      "text/plain": [
       "\"The top two airlines based on flight volume are:\\n\\n1. **Southwest Airlines (WN)** with 48,065 flights\\n   - **Highest Degree Centrality**: Las Vegas (LAS) - 0.857\\n   - **Notable Airports**: Chicago Midway (MDW) - 0.746, Phoenix (PHX) - 0.667\\n\\n2. **American Airlines (AA)** with 24,797 flights\\n   - **Highest Degree Centrality**: Dallas/Fort Worth (DFW) - 0.949\\n   - **Notable Airports**: Chicago O'Hare (ORD) - 0.603, Miami (MIA) - 0.385\\n\\nThese metrics indicate the centrality of the airlines and their key airports in the network.\""
      ]
     },
     "execution_count": 45,
     "metadata": {},
     "output_type": "execute_result"
    }
   ],
   "source": [
    "query_graph(\"For the top two airlines based on flight volume, compute the centrality metrics\")"
   ]
  },
  {
   "cell_type": "markdown",
   "metadata": {},
   "source": [
    "---\n",
    "## Building UI using Gradio"
   ]
  },
  {
   "cell_type": "code",
   "execution_count": 25,
   "metadata": {},
   "outputs": [],
   "source": [
    "# ! pip install seaborn"
   ]
  },
  {
   "cell_type": "code",
   "execution_count": 26,
   "metadata": {},
   "outputs": [],
   "source": [
    "# ! pip install plotly"
   ]
  },
  {
   "cell_type": "code",
   "execution_count": 27,
   "metadata": {},
   "outputs": [],
   "source": [
    "def text_to_visualizer_llm_to_plot(query: str, result: str):\n",
    "    \"\"\"\n",
    "    This function generates a visualization for a graph query using only matplotlib.\n",
    "    It receives the original query and its textual result, then asks the LLM to produce Python code \n",
    "    that creates a plot using matplotlib. The code should assign the resulting matplotlib figure \n",
    "    object to a variable named FINAL_PLOT. Do NOT include any saving or display commands in the generated code.\n",
    "    \n",
    "    After executing the generated code, the function will automatically save the figure to a hard-coded \n",
    "    filename \"visualization_output.png\" and then load and return that image.\n",
    "    \"\"\"\n",
    "    console.rule(\"[bold cyan]Step 1: Generating Visualization Code (Matplotlib Only)[/bold cyan]\")\n",
    "    prompt = f\"\"\"\n",
    "    I have a graph query: {query}\n",
    "    and its result is: {result}.\n",
    "    Generate Python code using matplotlib to produce a visualization plot relevant to the query and its result.\n",
    "    Assign the resulting matplotlib figure object to a variable named FINAL_PLOT.\n",
    "    Do NOT include any code to save or display the plot.\n",
    "    Your code:\n",
    "    \"\"\"\n",
    "    vis_code = llm.invoke(prompt).content\n",
    "    vis_code_cleaned = re.sub(r\"^```python\\n|```$\", \"\", vis_code, flags=re.MULTILINE).strip()\n",
    "    console.rule(\"[bold green]Generated Visualization Code[/bold green]\")\n",
    "    console.print(vis_code_cleaned, style=\"green\")\n",
    "    console.rule(\"[bold cyan]Step 2: Executing Visualization Code[/bold cyan]\")\n",
    "    global_vars = {\"G_adb\": G_adb, \"nx\": nx, \"plt\": plt, \"pd\": pd}\n",
    "    local_vars = {}\n",
    "    current_code = vis_code_cleaned\n",
    "    success = False\n",
    "    attempt = 1\n",
    "    MAX_ATTEMPTS = 3\n",
    "\n",
    "    while attempt <= MAX_ATTEMPTS and not success:\n",
    "        console.print(f\"[bold blue]Attempt {attempt}: Executing visualization code[/bold blue]\")\n",
    "        try:\n",
    "            exec(current_code, global_vars, local_vars)\n",
    "            success = True\n",
    "        except Exception as e:\n",
    "            error_message = str(e)\n",
    "            print(f\"Visualization EXEC ERROR on attempt {attempt}: {error_message}\")\n",
    "            correction_prompt = f\"\"\"\n",
    "            I have the following Python code intended to generate a visualization plot for a graph query using matplotlib.\n",
    "            The query is: {query}\n",
    "            The result of the query is: {result}\n",
    "            The code produced the following error: {error_message}\n",
    "            Please correct the code to fix this error. Ensure that the final variable FINAL_PLOT is assigned \n",
    "            to a matplotlib figure object. Do NOT include any code to save or display the plot.\n",
    "            Your corrected code:\n",
    "            \"\"\"\n",
    "            corrected_code = llm.invoke(correction_prompt).content\n",
    "            current_code = re.sub(r\"^```python\\n|```$\", \"\", corrected_code, flags=re.MULTILINE).strip()\n",
    "            console.print(\"[bold yellow]Corrected Visualization Code:[/bold yellow]\")\n",
    "            console.print(current_code, style=\"yellow\")\n",
    "            attempt += 1\n",
    "            local_vars = {}\n",
    "    if not success:\n",
    "        return None\n",
    "\n",
    "    console.rule(\"[bold green]Final Visualization Code Executed[/bold green]\")\n",
    "    FINAL_PLOT = local_vars.get(\"FINAL_PLOT\", None)\n",
    "    if FINAL_PLOT is None:\n",
    "        console.print(\"[bold red]No plot was generated.[/bold red]\")\n",
    "        return None\n",
    "\n",
    "    # Saving of the plot to \"visualization_output.png\"\n",
    "    try:\n",
    "        output_filename = \"visualization_output.png\"\n",
    "        FINAL_PLOT.savefig(output_filename, format=\"png\")\n",
    "        plt.close(FINAL_PLOT)\n",
    "        abs_path = os.path.abspath(output_filename)\n",
    "        print(\"Plot saved to:\", abs_path)\n",
    "        time.sleep(0.5)\n",
    "        with open(output_filename, \"rb\") as f:\n",
    "            img_bytes = f.read()\n",
    "            \n",
    "        vis_image = Image.open(io.BytesIO(img_bytes))\n",
    "        print(\"Loaded image size:\", vis_image.size, \"mode:\", vis_image.mode)\n",
    "        return img_bytes\n",
    "    except Exception as e:\n",
    "        console.print(f\"[bold red]Error saving or loading plot: {e}[/bold red]\")\n",
    "        return None\n"
   ]
  },
  {
   "cell_type": "code",
   "execution_count": 28,
   "metadata": {},
   "outputs": [],
   "source": [
    "# !pip install --upgrade gradio"
   ]
  },
  {
   "cell_type": "code",
   "execution_count": 29,
   "metadata": {},
   "outputs": [],
   "source": [
    "# !pip install ansi2html"
   ]
  },
  {
   "cell_type": "code",
   "execution_count": 30,
   "metadata": {},
   "outputs": [],
   "source": [
    "import gradio as gr\n",
    "import io\n",
    "import sys\n",
    "import time\n",
    "import threading\n",
    "import builtins\n",
    "import re\n",
    "from contextlib import redirect_stdout, redirect_stderr\n",
    "from rich.console import Console\n",
    "from ansi2html import Ansi2HTMLConverter\n",
    "from PIL import Image"
   ]
  },
  {
   "cell_type": "code",
   "execution_count": 31,
   "metadata": {},
   "outputs": [],
   "source": [
    "def run_query_generator_with_visualization(user_query, sample_query):\n",
    "    \"\"\"\n",
    "    Executes the graph query and then calls the visualization function.\n",
    "    Yields three outputs: final text answer, full logs, and the visualization (if generated).\n",
    "    \"\"\"\n",
    "    final_query = user_query.strip() if user_query.strip() else sample_query\n",
    "    captured_output = io.StringIO()\n",
    "\n",
    "    original_stdout = sys.stdout\n",
    "    original_stderr = sys.stderr\n",
    "    original_print = builtins.print\n",
    "    original_console = console\n",
    "\n",
    "    new_console = Console(file=captured_output, force_terminal=True)\n",
    "\n",
    "    def custom_print(*args, **kwargs):\n",
    "        original_print(*args, **kwargs)\n",
    "        message = \" \".join(map(str, args)) + \"\\n\"\n",
    "        captured_output.write(message)\n",
    "\n",
    "    builtins.print = custom_print\n",
    "    sys.stdout = captured_output\n",
    "    sys.stderr = captured_output\n",
    "    globals()['console'] = new_console\n",
    "\n",
    "    result_container = {}\n",
    "\n",
    "    def target():\n",
    "        try:\n",
    "            result_container[\"result\"] = query_graph(final_query)\n",
    "        except Exception as e:\n",
    "            result_container[\"result\"] = f\"Error: {str(e)}\"\n",
    "\n",
    "    thread = threading.Thread(target=target)\n",
    "    thread.start()\n",
    "    conv = Ansi2HTMLConverter(inline=True)\n",
    "\n",
    "    while thread.is_alive():\n",
    "        time.sleep(0.5)\n",
    "        ansi_output = captured_output.getvalue()\n",
    "        html_output = conv.convert(ansi_output, full=False)\n",
    "        html_output_wrapped = f'<pre style=\"white-space: pre-wrap;\">{html_output}</pre>'\n",
    "        yield \"\", html_output_wrapped, None\n",
    "\n",
    "    thread.join()\n",
    "    final_logs = conv.convert(captured_output.getvalue(), full=False)\n",
    "    final_logs_wrapped = f'<pre style=\"white-space: pre-wrap;\">{final_logs}</pre>'\n",
    "    final_result = result_container.get(\"result\", \"No result\")\n",
    "\n",
    "    sys.stdout = original_stdout\n",
    "    sys.stderr = original_stderr\n",
    "    globals()['console'] = original_console\n",
    "    builtins.print = original_print\n",
    "\n",
    "    try:\n",
    "        vis_image = text_to_visualizer_llm_to_plot(final_query, final_result)\n",
    "        if vis_image is not None:\n",
    "            vis_image = Image.open(io.BytesIO(vis_image))\n",
    "    except Exception as e:\n",
    "        vis_image = None\n",
    "\n",
    "    yield final_result, final_logs_wrapped, vis_image"
   ]
  },
  {
   "cell_type": "code",
   "execution_count": 32,
   "metadata": {},
   "outputs": [],
   "source": [
    "# Sample queries.\n",
    "sample_queries = [\n",
    "    \"List the top 10 popular airports\",\n",
    "    \"Identify the airline operating the most flights in the dataset.\",\n",
    "    \"Determine the airport with the highest betweenness centrality in the network.\",\n",
    "    \"Identify the top 5 airports by degree centrality.\",\n",
    "    \"Is the flight network strongly connected or weakly connected? Provide details.\",\n",
    "    \"Find the airport with the highest number of outgoing flights.\",\n",
    "    \"Who is connected to Node 0?\",\n",
    "    \"How strongly connected is the network? Used connected components\",\n",
    "    \"Find the most influential airports using PageRank\",\n",
    "    \"For top 2 major airline, compute network metrics such as average path length for their flight network.\",\n",
    "    \"For the top two airlines based on flight volume, compute the centrality metrics\"\n",
    "]\n"
   ]
  },
  {
   "cell_type": "code",
   "execution_count": 33,
   "metadata": {},
   "outputs": [
    {
     "name": "stdout",
     "output_type": "stream",
     "text": [
      "* Running on local URL:  http://127.0.0.1:7880\n",
      "\n",
      "To create a public link, set `share=True` in `launch()`.\n"
     ]
    },
    {
     "data": {
      "text/html": [
       "<div><iframe src=\"http://127.0.0.1:7880/\" width=\"100%\" height=\"500\" allow=\"autoplay; camera; microphone; clipboard-read; clipboard-write;\" frameborder=\"0\" allowfullscreen></iframe></div>"
      ],
      "text/plain": [
       "<IPython.core.display.HTML object>"
      ]
     },
     "metadata": {},
     "output_type": "display_data"
    },
    {
     "data": {
      "text/plain": []
     },
     "execution_count": 33,
     "metadata": {},
     "output_type": "execute_result"
    },
    {
     "data": {
      "text/html": [
       "<pre style=\"white-space:pre;overflow-x:auto;line-height:normal;font-family:Menlo,'DejaVu Sans Mono',consolas,'Courier New',monospace\"><span style=\"color: #00ff00; text-decoration-color: #00ff00\">───────────────────────────── </span><span style=\"color: #008080; text-decoration-color: #008080; font-weight: bold\">Step </span><span style=\"color: #008080; text-decoration-color: #008080; font-weight: bold\">1</span><span style=\"color: #008080; text-decoration-color: #008080; font-weight: bold\">: Generating Visualization Code (Matplotlib Only)</span><span style=\"color: #00ff00; text-decoration-color: #00ff00\"> ─────────────────────────────</span>\n",
       "</pre>\n"
      ],
      "text/plain": [
       "\u001b[92m───────────────────────────── \u001b[0m\u001b[1;36mStep \u001b[0m\u001b[1;36m1\u001b[0m\u001b[1;36m: Generating Visualization Code \u001b[0m\u001b[1;36m(\u001b[0m\u001b[1;36mMatplotlib Only\u001b[0m\u001b[1;36m)\u001b[0m\u001b[92m ─────────────────────────────\u001b[0m\n"
      ]
     },
     "metadata": {},
     "output_type": "display_data"
    },
    {
     "data": {
      "text/html": [
       "<pre style=\"white-space:pre;overflow-x:auto;line-height:normal;font-family:Menlo,'DejaVu Sans Mono',consolas,'Courier New',monospace\"><span style=\"color: #00ff00; text-decoration-color: #00ff00\">────────────────────────────────────────── </span><span style=\"color: #008000; text-decoration-color: #008000; font-weight: bold\">Generated Visualization Code</span><span style=\"color: #00ff00; text-decoration-color: #00ff00\"> ───────────────────────────────────────────</span>\n",
       "</pre>\n"
      ],
      "text/plain": [
       "\u001b[92m────────────────────────────────────────── \u001b[0m\u001b[1;32mGenerated Visualization Code\u001b[0m\u001b[92m ───────────────────────────────────────────\u001b[0m\n"
      ]
     },
     "metadata": {},
     "output_type": "display_data"
    },
    {
     "data": {
      "text/html": [
       "<pre style=\"white-space:pre;overflow-x:auto;line-height:normal;font-family:Menlo,'DejaVu Sans Mono',consolas,'Courier New',monospace\"><span style=\"color: #008000; text-decoration-color: #008000\">import matplotlib.pyplot as plt</span>\n",
       "\n",
       "<span style=\"color: #008000; text-decoration-color: #008000\"># Data for the top </span><span style=\"color: #008080; text-decoration-color: #008080; font-weight: bold\">10</span><span style=\"color: #008000; text-decoration-color: #008000\"> popular airports</span>\n",
       "<span style=\"color: #008000; text-decoration-color: #008000\">airports = </span><span style=\"color: #008000; text-decoration-color: #008000; font-weight: bold\">[</span>\n",
       "<span style=\"color: #008000; text-decoration-color: #008000\">    </span><span style=\"color: #008000; text-decoration-color: #008000\">\"Hartsfield-Atlanta International\"</span><span style=\"color: #008000; text-decoration-color: #008000\">,</span>\n",
       "<span style=\"color: #008000; text-decoration-color: #008000\">    </span><span style=\"color: #008000; text-decoration-color: #008000\">\"Chicago O'Hare International\"</span><span style=\"color: #008000; text-decoration-color: #008000\">,</span>\n",
       "<span style=\"color: #008000; text-decoration-color: #008000\">    </span><span style=\"color: #008000; text-decoration-color: #008000\">\"Dallas-Fort Worth International\"</span><span style=\"color: #008000; text-decoration-color: #008000\">,</span>\n",
       "<span style=\"color: #008000; text-decoration-color: #008000\">    </span><span style=\"color: #008000; text-decoration-color: #008000\">\"Denver International\"</span><span style=\"color: #008000; text-decoration-color: #008000\">,</span>\n",
       "<span style=\"color: #008000; text-decoration-color: #008000\">    </span><span style=\"color: #008000; text-decoration-color: #008000\">\"Los Angeles International\"</span><span style=\"color: #008000; text-decoration-color: #008000\">,</span>\n",
       "<span style=\"color: #008000; text-decoration-color: #008000\">    </span><span style=\"color: #008000; text-decoration-color: #008000\">\"Phoenix Sky Harbor International\"</span><span style=\"color: #008000; text-decoration-color: #008000\">,</span>\n",
       "<span style=\"color: #008000; text-decoration-color: #008000\">    </span><span style=\"color: #008000; text-decoration-color: #008000\">\"George Bush Intercontinental\"</span><span style=\"color: #008000; text-decoration-color: #008000\">,</span>\n",
       "<span style=\"color: #008000; text-decoration-color: #008000\">    </span><span style=\"color: #008000; text-decoration-color: #008000\">\"McCarran International\"</span><span style=\"color: #008000; text-decoration-color: #008000\">,</span>\n",
       "<span style=\"color: #008000; text-decoration-color: #008000\">    </span><span style=\"color: #008000; text-decoration-color: #008000\">\"Detroit Metropolitan-Wayne County\"</span><span style=\"color: #008000; text-decoration-color: #008000\">,</span>\n",
       "<span style=\"color: #008000; text-decoration-color: #008000\">    </span><span style=\"color: #008000; text-decoration-color: #008000\">\"Newark International\"</span>\n",
       "<span style=\"color: #008000; text-decoration-color: #008000; font-weight: bold\">]</span>\n",
       "\n",
       "<span style=\"color: #008000; text-decoration-color: #008000\">flights = </span><span style=\"color: #008000; text-decoration-color: #008000; font-weight: bold\">[</span>\n",
       "<span style=\"color: #008000; text-decoration-color: #008000\">    </span><span style=\"color: #008080; text-decoration-color: #008080; font-weight: bold\">15887</span><span style=\"color: #008000; text-decoration-color: #008000\">,</span>\n",
       "<span style=\"color: #008000; text-decoration-color: #008000\">    </span><span style=\"color: #008080; text-decoration-color: #008080; font-weight: bold\">13688</span><span style=\"color: #008000; text-decoration-color: #008000\">,</span>\n",
       "<span style=\"color: #008000; text-decoration-color: #008000\">    </span><span style=\"color: #008080; text-decoration-color: #008080; font-weight: bold\">11381</span><span style=\"color: #008000; text-decoration-color: #008000\">,</span>\n",
       "<span style=\"color: #008000; text-decoration-color: #008000\">    </span><span style=\"color: #008080; text-decoration-color: #008080; font-weight: bold\">9377</span><span style=\"color: #008000; text-decoration-color: #008000\">,</span>\n",
       "<span style=\"color: #008000; text-decoration-color: #008000\">    </span><span style=\"color: #008080; text-decoration-color: #008080; font-weight: bold\">9079</span><span style=\"color: #008000; text-decoration-color: #008000\">,</span>\n",
       "<span style=\"color: #008000; text-decoration-color: #008000\">    </span><span style=\"color: #008080; text-decoration-color: #008080; font-weight: bold\">8268</span><span style=\"color: #008000; text-decoration-color: #008000\">,</span>\n",
       "<span style=\"color: #008000; text-decoration-color: #008000\">    </span><span style=\"color: #008080; text-decoration-color: #008080; font-weight: bold\">7623</span><span style=\"color: #008000; text-decoration-color: #008000\">,</span>\n",
       "<span style=\"color: #008000; text-decoration-color: #008000\">    </span><span style=\"color: #008080; text-decoration-color: #008080; font-weight: bold\">7313</span><span style=\"color: #008000; text-decoration-color: #008000\">,</span>\n",
       "<span style=\"color: #008000; text-decoration-color: #008000\">    </span><span style=\"color: #008080; text-decoration-color: #008080; font-weight: bold\">6785</span><span style=\"color: #008000; text-decoration-color: #008000\">,</span>\n",
       "<span style=\"color: #008000; text-decoration-color: #008000\">    </span><span style=\"color: #008080; text-decoration-color: #008080; font-weight: bold\">5882</span>\n",
       "<span style=\"color: #008000; text-decoration-color: #008000; font-weight: bold\">]</span>\n",
       "\n",
       "<span style=\"color: #008000; text-decoration-color: #008000\"># Create a bar plot</span>\n",
       "<span style=\"color: #800080; text-decoration-color: #800080; font-weight: bold\">plt.figure</span><span style=\"color: #008000; text-decoration-color: #008000; font-weight: bold\">(</span><span style=\"color: #808000; text-decoration-color: #808000\">figsize</span><span style=\"color: #008000; text-decoration-color: #008000\">=</span><span style=\"color: #008000; text-decoration-color: #008000; font-weight: bold\">(</span><span style=\"color: #008080; text-decoration-color: #008080; font-weight: bold\">12</span><span style=\"color: #008000; text-decoration-color: #008000\">, </span><span style=\"color: #008080; text-decoration-color: #008080; font-weight: bold\">6</span><span style=\"color: #008000; text-decoration-color: #008000; font-weight: bold\">))</span>\n",
       "<span style=\"color: #800080; text-decoration-color: #800080; font-weight: bold\">plt.barh</span><span style=\"color: #008000; text-decoration-color: #008000; font-weight: bold\">(</span><span style=\"color: #008000; text-decoration-color: #008000\">airports, flights, </span><span style=\"color: #808000; text-decoration-color: #808000\">color</span><span style=\"color: #008000; text-decoration-color: #008000\">=</span><span style=\"color: #008000; text-decoration-color: #008000\">'skyblue'</span><span style=\"color: #008000; text-decoration-color: #008000; font-weight: bold\">)</span>\n",
       "<span style=\"color: #800080; text-decoration-color: #800080; font-weight: bold\">plt.xlabel</span><span style=\"color: #008000; text-decoration-color: #008000; font-weight: bold\">(</span><span style=\"color: #008000; text-decoration-color: #008000\">'Number of Flights'</span><span style=\"color: #008000; text-decoration-color: #008000; font-weight: bold\">)</span>\n",
       "<span style=\"color: #800080; text-decoration-color: #800080; font-weight: bold\">plt.title</span><span style=\"color: #008000; text-decoration-color: #008000; font-weight: bold\">(</span><span style=\"color: #008000; text-decoration-color: #008000\">'Top 10 Popular Airports Based on Flight Activity'</span><span style=\"color: #008000; text-decoration-color: #008000; font-weight: bold\">)</span>\n",
       "<span style=\"color: #800080; text-decoration-color: #800080; font-weight: bold\">plt.gca</span><span style=\"color: #008000; text-decoration-color: #008000; font-weight: bold\">()</span><span style=\"color: #800080; text-decoration-color: #800080; font-weight: bold\">.invert_yaxis</span><span style=\"color: #008000; text-decoration-color: #008000; font-weight: bold\">()</span><span style=\"color: #008000; text-decoration-color: #008000\">  # Invert y-axis to have the highest flights on top</span>\n",
       "\n",
       "<span style=\"color: #008000; text-decoration-color: #008000\"># Assign the resulting figure object to FINAL_PLOT</span>\n",
       "<span style=\"color: #008000; text-decoration-color: #008000\">FINAL_PLOT = </span><span style=\"color: #800080; text-decoration-color: #800080; font-weight: bold\">plt.gcf</span><span style=\"color: #008000; text-decoration-color: #008000; font-weight: bold\">()</span>\n",
       "</pre>\n"
      ],
      "text/plain": [
       "\u001b[32mimport matplotlib.pyplot as plt\u001b[0m\n",
       "\n",
       "\u001b[32m# Data for the top \u001b[0m\u001b[1;36m10\u001b[0m\u001b[32m popular airports\u001b[0m\n",
       "\u001b[32mairports = \u001b[0m\u001b[1;32m[\u001b[0m\n",
       "\u001b[32m    \u001b[0m\u001b[32m\"Hartsfield-Atlanta International\"\u001b[0m\u001b[32m,\u001b[0m\n",
       "\u001b[32m    \u001b[0m\u001b[32m\"Chicago O'Hare International\"\u001b[0m\u001b[32m,\u001b[0m\n",
       "\u001b[32m    \u001b[0m\u001b[32m\"Dallas-Fort Worth International\"\u001b[0m\u001b[32m,\u001b[0m\n",
       "\u001b[32m    \u001b[0m\u001b[32m\"Denver International\"\u001b[0m\u001b[32m,\u001b[0m\n",
       "\u001b[32m    \u001b[0m\u001b[32m\"Los Angeles International\"\u001b[0m\u001b[32m,\u001b[0m\n",
       "\u001b[32m    \u001b[0m\u001b[32m\"Phoenix Sky Harbor International\"\u001b[0m\u001b[32m,\u001b[0m\n",
       "\u001b[32m    \u001b[0m\u001b[32m\"George Bush Intercontinental\"\u001b[0m\u001b[32m,\u001b[0m\n",
       "\u001b[32m    \u001b[0m\u001b[32m\"McCarran International\"\u001b[0m\u001b[32m,\u001b[0m\n",
       "\u001b[32m    \u001b[0m\u001b[32m\"Detroit Metropolitan-Wayne County\"\u001b[0m\u001b[32m,\u001b[0m\n",
       "\u001b[32m    \u001b[0m\u001b[32m\"Newark International\"\u001b[0m\n",
       "\u001b[1;32m]\u001b[0m\n",
       "\n",
       "\u001b[32mflights = \u001b[0m\u001b[1;32m[\u001b[0m\n",
       "\u001b[32m    \u001b[0m\u001b[1;36m15887\u001b[0m\u001b[32m,\u001b[0m\n",
       "\u001b[32m    \u001b[0m\u001b[1;36m13688\u001b[0m\u001b[32m,\u001b[0m\n",
       "\u001b[32m    \u001b[0m\u001b[1;36m11381\u001b[0m\u001b[32m,\u001b[0m\n",
       "\u001b[32m    \u001b[0m\u001b[1;36m9377\u001b[0m\u001b[32m,\u001b[0m\n",
       "\u001b[32m    \u001b[0m\u001b[1;36m9079\u001b[0m\u001b[32m,\u001b[0m\n",
       "\u001b[32m    \u001b[0m\u001b[1;36m8268\u001b[0m\u001b[32m,\u001b[0m\n",
       "\u001b[32m    \u001b[0m\u001b[1;36m7623\u001b[0m\u001b[32m,\u001b[0m\n",
       "\u001b[32m    \u001b[0m\u001b[1;36m7313\u001b[0m\u001b[32m,\u001b[0m\n",
       "\u001b[32m    \u001b[0m\u001b[1;36m6785\u001b[0m\u001b[32m,\u001b[0m\n",
       "\u001b[32m    \u001b[0m\u001b[1;36m5882\u001b[0m\n",
       "\u001b[1;32m]\u001b[0m\n",
       "\n",
       "\u001b[32m# Create a bar plot\u001b[0m\n",
       "\u001b[1;35mplt.figure\u001b[0m\u001b[1;32m(\u001b[0m\u001b[33mfigsize\u001b[0m\u001b[32m=\u001b[0m\u001b[1;32m(\u001b[0m\u001b[1;36m12\u001b[0m\u001b[32m, \u001b[0m\u001b[1;36m6\u001b[0m\u001b[1;32m)\u001b[0m\u001b[1;32m)\u001b[0m\n",
       "\u001b[1;35mplt.barh\u001b[0m\u001b[1;32m(\u001b[0m\u001b[32mairports, flights, \u001b[0m\u001b[33mcolor\u001b[0m\u001b[32m=\u001b[0m\u001b[32m'skyblue'\u001b[0m\u001b[1;32m)\u001b[0m\n",
       "\u001b[1;35mplt.xlabel\u001b[0m\u001b[1;32m(\u001b[0m\u001b[32m'Number of Flights'\u001b[0m\u001b[1;32m)\u001b[0m\n",
       "\u001b[1;35mplt.title\u001b[0m\u001b[1;32m(\u001b[0m\u001b[32m'Top 10 Popular Airports Based on Flight Activity'\u001b[0m\u001b[1;32m)\u001b[0m\n",
       "\u001b[1;35mplt.gca\u001b[0m\u001b[1;32m(\u001b[0m\u001b[1;32m)\u001b[0m\u001b[1;35m.invert_yaxis\u001b[0m\u001b[1;32m(\u001b[0m\u001b[1;32m)\u001b[0m\u001b[32m  # Invert y-axis to have the highest flights on top\u001b[0m\n",
       "\n",
       "\u001b[32m# Assign the resulting figure object to FINAL_PLOT\u001b[0m\n",
       "\u001b[32mFINAL_PLOT = \u001b[0m\u001b[1;35mplt.gcf\u001b[0m\u001b[1;32m(\u001b[0m\u001b[1;32m)\u001b[0m\n"
      ]
     },
     "metadata": {},
     "output_type": "display_data"
    },
    {
     "data": {
      "text/html": [
       "<pre style=\"white-space:pre;overflow-x:auto;line-height:normal;font-family:Menlo,'DejaVu Sans Mono',consolas,'Courier New',monospace\"><span style=\"color: #00ff00; text-decoration-color: #00ff00\">────────────────────────────────────── </span><span style=\"color: #008080; text-decoration-color: #008080; font-weight: bold\">Step </span><span style=\"color: #008080; text-decoration-color: #008080; font-weight: bold\">2</span><span style=\"color: #008080; text-decoration-color: #008080; font-weight: bold\">: Executing Visualization Code</span><span style=\"color: #00ff00; text-decoration-color: #00ff00\"> ───────────────────────────────────────</span>\n",
       "</pre>\n"
      ],
      "text/plain": [
       "\u001b[92m────────────────────────────────────── \u001b[0m\u001b[1;36mStep \u001b[0m\u001b[1;36m2\u001b[0m\u001b[1;36m: Executing Visualization Code\u001b[0m\u001b[92m ───────────────────────────────────────\u001b[0m\n"
      ]
     },
     "metadata": {},
     "output_type": "display_data"
    },
    {
     "data": {
      "text/html": [
       "<pre style=\"white-space:pre;overflow-x:auto;line-height:normal;font-family:Menlo,'DejaVu Sans Mono',consolas,'Courier New',monospace\"><span style=\"color: #000080; text-decoration-color: #000080; font-weight: bold\">Attempt </span><span style=\"color: #000080; text-decoration-color: #000080; font-weight: bold\">1</span><span style=\"color: #000080; text-decoration-color: #000080; font-weight: bold\">: Executing visualization code</span>\n",
       "</pre>\n"
      ],
      "text/plain": [
       "\u001b[1;34mAttempt \u001b[0m\u001b[1;34m1\u001b[0m\u001b[1;34m: Executing visualization code\u001b[0m\n"
      ]
     },
     "metadata": {},
     "output_type": "display_data"
    },
    {
     "data": {
      "text/html": [
       "<pre style=\"white-space:pre;overflow-x:auto;line-height:normal;font-family:Menlo,'DejaVu Sans Mono',consolas,'Courier New',monospace\"><span style=\"color: #00ff00; text-decoration-color: #00ff00\">──────────────────────────────────────── </span><span style=\"color: #008000; text-decoration-color: #008000; font-weight: bold\">Final Visualization Code Executed</span><span style=\"color: #00ff00; text-decoration-color: #00ff00\"> ────────────────────────────────────────</span>\n",
       "</pre>\n"
      ],
      "text/plain": [
       "\u001b[92m──────────────────────────────────────── \u001b[0m\u001b[1;32mFinal Visualization Code Executed\u001b[0m\u001b[92m ────────────────────────────────────────\u001b[0m\n"
      ]
     },
     "metadata": {},
     "output_type": "display_data"
    },
    {
     "name": "stdout",
     "output_type": "stream",
     "text": [
      "Plot saved to: /home/siva/arango_hack/flight_graph_agent/notebooks/visualization_output.png\n",
      "Loaded image size: (1200, 600) mode: RGBA\n"
     ]
    }
   ],
   "source": [
    "with gr.Blocks(title=\"Flight Graph Insights\") as demo:\n",
    "    gr.Markdown(\"## Flight Graph Insights: A Divide-and-Conquer Strategy\")\n",
    "    gr.Markdown(\n",
    "        \"On the top left, enter your graph query (or choose a sample). The top right displays the visualization output. \"\n",
    "        \"Below, you'll see the final answer and the full internal thinking process.\"\n",
    "    )\n",
    "    with gr.Row():\n",
    "        with gr.Column(scale=1):\n",
    "            query_input = gr.Textbox(label=\"Graph Query\", placeholder=\"Type your query here...\", lines=3)\n",
    "            sample_dropdown = gr.Dropdown(label=\"Sample Query\", choices=sample_queries, value=sample_queries[0])\n",
    "            run_button = gr.Button(\"Run Query\")\n",
    "        with gr.Column(scale=1):\n",
    "            visualization_output = gr.Image(label=\"Visualization\", type=\"pil\")\n",
    "\n",
    "    final_output = gr.Textbox(label=\"Final Answer\", placeholder=\"The final answer will appear here...\", lines=5)\n",
    "    logs_output = gr.HTML(label=\"Full Thinking Process\")\n",
    "    \n",
    "    run_button.click(\n",
    "        fn=run_query_generator_with_visualization,\n",
    "        inputs=[query_input, sample_dropdown],\n",
    "        outputs=[final_output, logs_output, visualization_output]\n",
    "    )\n",
    "\n",
    "demo.launch()"
   ]
  },
  {
   "cell_type": "code",
   "execution_count": null,
   "metadata": {},
   "outputs": [],
   "source": []
  },
  {
   "cell_type": "code",
   "execution_count": null,
   "metadata": {},
   "outputs": [],
   "source": []
  }
 ],
 "metadata": {
  "accelerator": "GPU",
  "colab": {
   "collapsed_sections": [
    "L4nmLCFf3HoC",
    "hoyxgmOz3CwF",
    "vrB4FpB63yEF",
    "5fsZEyyh3F87",
    "VE6lCtDb6KGw"
   ],
   "gpuType": "T4",
   "provenance": []
  },
  "kernelspec": {
   "display_name": "Python 3 (ipykernel)",
   "language": "python",
   "name": "python3"
  },
  "language_info": {
   "codemirror_mode": {
    "name": "ipython",
    "version": 3
   },
   "file_extension": ".py",
   "mimetype": "text/x-python",
   "name": "python",
   "nbconvert_exporter": "python",
   "pygments_lexer": "ipython3",
   "version": "3.12.9"
  }
 },
 "nbformat": 4,
 "nbformat_minor": 4
}
