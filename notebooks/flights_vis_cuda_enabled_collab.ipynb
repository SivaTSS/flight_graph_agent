{
  "cells": [
    {
      "cell_type": "markdown",
      "metadata": {
        "id": "E38qsdhZqe2X"
      },
      "source": [
        "#  Flight Graph Insights: A Divide-and-Conquer Strategy"
      ]
    },
    {
      "cell_type": "markdown",
      "metadata": {
        "id": "n6lqvpJrqe2Z"
      },
      "source": [
        "This notebook demonstrates a workflow to analyze flight data using a graph-based approach with ArangoDB, NetworkX, LangChain, and LangGraph.\n",
        "\n",
        "The notebook is divided into several sections:\n",
        "1. Installation of required packages.\n",
        "2. Importing and configuring packages.\n",
        "3. Connecting to the ArangoDB database and preparing the flight dataset.\n",
        "4. Persisting and materializing the graph.\n",
        "5. Building a query agent using LangChain & LangGraph.\n",
        "6. Building a user interface using Gradio."
      ]
    },
    {
      "cell_type": "markdown",
      "metadata": {
        "id": "yzA7yStaqe2b"
      },
      "source": [
        "<p align=\"center\">\n",
        "    <img src=\"https://raw.githubusercontent.com/SivaTSS/flight_graph_agent/main/images/intro_flights.png\" style=\"height: 500px;\">\n",
        "</p>"
      ]
    },
    {
      "cell_type": "markdown",
      "metadata": {
        "id": "L4nmLCFf3HoC"
      },
      "source": [
        "## Install Required Packages"
      ]
    },
    {
      "cell_type": "code",
      "execution_count": 1,
      "metadata": {
        "id": "pV0dx8Ny1q64",
        "colab": {
          "base_uri": "https://localhost:8080/"
        },
        "outputId": "fc7ba00e-427c-4284-83f7-df463c1691ab"
      },
      "outputs": [
        {
          "output_type": "stream",
          "name": "stdout",
          "text": [
            "Collecting nx-arangodb\n",
            "  Downloading nx_arangodb-1.3.0-py3-none-any.whl.metadata (9.3 kB)\n",
            "Collecting networkx<=3.4,>=3.0 (from nx-arangodb)\n",
            "  Downloading networkx-3.4-py3-none-any.whl.metadata (6.3 kB)\n",
            "Collecting phenolrs~=0.5 (from nx-arangodb)\n",
            "  Downloading phenolrs-0.5.9-cp311-cp311-manylinux_2_17_x86_64.manylinux2014_x86_64.whl.metadata (1.7 kB)\n",
            "Collecting python-arango~=8.1 (from nx-arangodb)\n",
            "  Downloading python_arango-8.1.6-py3-none-any.whl.metadata (8.2 kB)\n",
            "Collecting adbnx-adapter~=5.0.5 (from nx-arangodb)\n",
            "  Downloading adbnx_adapter-5.0.6-py3-none-any.whl.metadata (21 kB)\n",
            "Requirement already satisfied: requests>=2.27.1 in /usr/local/lib/python3.11/dist-packages (from adbnx-adapter~=5.0.5->nx-arangodb) (2.32.3)\n",
            "Requirement already satisfied: rich>=12.5.1 in /usr/local/lib/python3.11/dist-packages (from adbnx-adapter~=5.0.5->nx-arangodb) (13.9.4)\n",
            "Requirement already satisfied: setuptools>=45 in /usr/local/lib/python3.11/dist-packages (from adbnx-adapter~=5.0.5->nx-arangodb) (75.1.0)\n",
            "Requirement already satisfied: numpy~=1.26 in /usr/local/lib/python3.11/dist-packages (from phenolrs~=0.5->nx-arangodb) (1.26.4)\n",
            "Requirement already satisfied: urllib3>=1.26.0 in /usr/local/lib/python3.11/dist-packages (from python-arango~=8.1->nx-arangodb) (2.3.0)\n",
            "Requirement already satisfied: requests_toolbelt in /usr/local/lib/python3.11/dist-packages (from python-arango~=8.1->nx-arangodb) (1.0.0)\n",
            "Requirement already satisfied: PyJWT in /usr/local/lib/python3.11/dist-packages (from python-arango~=8.1->nx-arangodb) (2.10.1)\n",
            "Requirement already satisfied: importlib_metadata>=4.7.1 in /usr/local/lib/python3.11/dist-packages (from python-arango~=8.1->nx-arangodb) (8.6.1)\n",
            "Requirement already satisfied: packaging>=23.1 in /usr/local/lib/python3.11/dist-packages (from python-arango~=8.1->nx-arangodb) (24.2)\n",
            "Requirement already satisfied: zipp>=3.20 in /usr/local/lib/python3.11/dist-packages (from importlib_metadata>=4.7.1->python-arango~=8.1->nx-arangodb) (3.21.0)\n",
            "Requirement already satisfied: charset-normalizer<4,>=2 in /usr/local/lib/python3.11/dist-packages (from requests>=2.27.1->adbnx-adapter~=5.0.5->nx-arangodb) (3.4.1)\n",
            "Requirement already satisfied: idna<4,>=2.5 in /usr/local/lib/python3.11/dist-packages (from requests>=2.27.1->adbnx-adapter~=5.0.5->nx-arangodb) (3.10)\n",
            "Requirement already satisfied: certifi>=2017.4.17 in /usr/local/lib/python3.11/dist-packages (from requests>=2.27.1->adbnx-adapter~=5.0.5->nx-arangodb) (2025.1.31)\n",
            "Requirement already satisfied: markdown-it-py>=2.2.0 in /usr/local/lib/python3.11/dist-packages (from rich>=12.5.1->adbnx-adapter~=5.0.5->nx-arangodb) (3.0.0)\n",
            "Requirement already satisfied: pygments<3.0.0,>=2.13.0 in /usr/local/lib/python3.11/dist-packages (from rich>=12.5.1->adbnx-adapter~=5.0.5->nx-arangodb) (2.18.0)\n",
            "Requirement already satisfied: mdurl~=0.1 in /usr/local/lib/python3.11/dist-packages (from markdown-it-py>=2.2.0->rich>=12.5.1->adbnx-adapter~=5.0.5->nx-arangodb) (0.1.2)\n",
            "Downloading nx_arangodb-1.3.0-py3-none-any.whl (67 kB)\n",
            "\u001b[2K   \u001b[90m━━━━━━━━━━━━━━━━━━━━━━━━━━━━━━━━━━━━━━━━\u001b[0m \u001b[32m67.8/67.8 kB\u001b[0m \u001b[31m6.8 MB/s\u001b[0m eta \u001b[36m0:00:00\u001b[0m\n",
            "\u001b[?25hDownloading adbnx_adapter-5.0.6-py3-none-any.whl (21 kB)\n",
            "Downloading networkx-3.4-py3-none-any.whl (1.7 MB)\n",
            "\u001b[2K   \u001b[90m━━━━━━━━━━━━━━━━━━━━━━━━━━━━━━━━━━━━━━━━\u001b[0m \u001b[32m1.7/1.7 MB\u001b[0m \u001b[31m78.6 MB/s\u001b[0m eta \u001b[36m0:00:00\u001b[0m\n",
            "\u001b[?25hDownloading phenolrs-0.5.9-cp311-cp311-manylinux_2_17_x86_64.manylinux2014_x86_64.whl (4.7 MB)\n",
            "\u001b[2K   \u001b[90m━━━━━━━━━━━━━━━━━━━━━━━━━━━━━━━━━━━━━━━━\u001b[0m \u001b[32m4.7/4.7 MB\u001b[0m \u001b[31m89.3 MB/s\u001b[0m eta \u001b[36m0:00:00\u001b[0m\n",
            "\u001b[?25hDownloading python_arango-8.1.6-py3-none-any.whl (114 kB)\n",
            "\u001b[2K   \u001b[90m━━━━━━━━━━━━━━━━━━━━━━━━━━━━━━━━━━━━━━━━\u001b[0m \u001b[32m114.6/114.6 kB\u001b[0m \u001b[31m10.3 MB/s\u001b[0m eta \u001b[36m0:00:00\u001b[0m\n",
            "\u001b[?25hInstalling collected packages: networkx, python-arango, phenolrs, adbnx-adapter, nx-arangodb\n",
            "  Attempting uninstall: networkx\n",
            "    Found existing installation: networkx 3.4.2\n",
            "    Uninstalling networkx-3.4.2:\n",
            "      Successfully uninstalled networkx-3.4.2\n",
            "\u001b[31mERROR: pip's dependency resolver does not currently take into account all the packages that are installed. This behaviour is the source of the following dependency conflicts.\n",
            "torch 2.5.1+cu124 requires nvidia-cublas-cu12==12.4.5.8; platform_system == \"Linux\" and platform_machine == \"x86_64\", but you have nvidia-cublas-cu12 12.5.3.2 which is incompatible.\n",
            "torch 2.5.1+cu124 requires nvidia-cuda-cupti-cu12==12.4.127; platform_system == \"Linux\" and platform_machine == \"x86_64\", but you have nvidia-cuda-cupti-cu12 12.5.82 which is incompatible.\n",
            "torch 2.5.1+cu124 requires nvidia-cuda-nvrtc-cu12==12.4.127; platform_system == \"Linux\" and platform_machine == \"x86_64\", but you have nvidia-cuda-nvrtc-cu12 12.5.82 which is incompatible.\n",
            "torch 2.5.1+cu124 requires nvidia-cuda-runtime-cu12==12.4.127; platform_system == \"Linux\" and platform_machine == \"x86_64\", but you have nvidia-cuda-runtime-cu12 12.5.82 which is incompatible.\n",
            "torch 2.5.1+cu124 requires nvidia-cudnn-cu12==9.1.0.70; platform_system == \"Linux\" and platform_machine == \"x86_64\", but you have nvidia-cudnn-cu12 9.3.0.75 which is incompatible.\n",
            "torch 2.5.1+cu124 requires nvidia-cufft-cu12==11.2.1.3; platform_system == \"Linux\" and platform_machine == \"x86_64\", but you have nvidia-cufft-cu12 11.2.3.61 which is incompatible.\n",
            "torch 2.5.1+cu124 requires nvidia-curand-cu12==10.3.5.147; platform_system == \"Linux\" and platform_machine == \"x86_64\", but you have nvidia-curand-cu12 10.3.6.82 which is incompatible.\n",
            "torch 2.5.1+cu124 requires nvidia-cusolver-cu12==11.6.1.9; platform_system == \"Linux\" and platform_machine == \"x86_64\", but you have nvidia-cusolver-cu12 11.6.3.83 which is incompatible.\n",
            "torch 2.5.1+cu124 requires nvidia-cusparse-cu12==12.3.1.170; platform_system == \"Linux\" and platform_machine == \"x86_64\", but you have nvidia-cusparse-cu12 12.5.1.3 which is incompatible.\n",
            "torch 2.5.1+cu124 requires nvidia-nvjitlink-cu12==12.4.127; platform_system == \"Linux\" and platform_machine == \"x86_64\", but you have nvidia-nvjitlink-cu12 12.5.82 which is incompatible.\u001b[0m\u001b[31m\n",
            "\u001b[0mSuccessfully installed adbnx-adapter-5.0.6 networkx-3.4 nx-arangodb-1.3.0 phenolrs-0.5.9 python-arango-8.1.6\n"
          ]
        }
      ],
      "source": [
        "# # 1. Install nx-arangodb via pip\n",
        "# # Github: https://github.com/arangodb/nx-arangodb\n",
        "\n",
        "!pip install nx-arangodb"
      ]
    },
    {
      "cell_type": "code",
      "execution_count": 2,
      "metadata": {
        "colab": {
          "base_uri": "https://localhost:8080/"
        },
        "id": "ag-5RHUYqe2d",
        "outputId": "fa956274-a960-4d91-bcb4-c3760e9f8617"
      },
      "outputs": [
        {
          "output_type": "stream",
          "name": "stdout",
          "text": [
            "Mon Mar 10 06:07:45 2025       \n",
            "+-----------------------------------------------------------------------------------------+\n",
            "| NVIDIA-SMI 550.54.15              Driver Version: 550.54.15      CUDA Version: 12.4     |\n",
            "|-----------------------------------------+------------------------+----------------------+\n",
            "| GPU  Name                 Persistence-M | Bus-Id          Disp.A | Volatile Uncorr. ECC |\n",
            "| Fan  Temp   Perf          Pwr:Usage/Cap |           Memory-Usage | GPU-Util  Compute M. |\n",
            "|                                         |                        |               MIG M. |\n",
            "|=========================================+========================+======================|\n",
            "|   0  Tesla T4                       Off |   00000000:00:04.0 Off |                    0 |\n",
            "| N/A   44C    P8              9W /   70W |       0MiB /  15360MiB |      0%      Default |\n",
            "|                                         |                        |                  N/A |\n",
            "+-----------------------------------------+------------------------+----------------------+\n",
            "                                                                                         \n",
            "+-----------------------------------------------------------------------------------------+\n",
            "| Processes:                                                                              |\n",
            "|  GPU   GI   CI        PID   Type   Process name                              GPU Memory |\n",
            "|        ID   ID                                                               Usage      |\n",
            "|=========================================================================================|\n",
            "|  No running processes found                                                             |\n",
            "+-----------------------------------------------------------------------------------------+\n",
            "nvcc: NVIDIA (R) Cuda compiler driver\n",
            "Copyright (c) 2005-2024 NVIDIA Corporation\n",
            "Built on Thu_Jun__6_02:18:23_PDT_2024\n",
            "Cuda compilation tools, release 12.5, V12.5.82\n",
            "Build cuda_12.5.r12.5/compiler.34385749_0\n"
          ]
        }
      ],
      "source": [
        "# # 2. Check if you have an NVIDIA GPU\n",
        "# # Note: If this returns \"command not found\", then GPU-based algorithms via cuGraph are unavailable\n",
        "\n",
        "!nvidia-smi\n",
        "!nvcc --version"
      ]
    },
    {
      "cell_type": "code",
      "execution_count": 3,
      "metadata": {
        "colab": {
          "base_uri": "https://localhost:8080/"
        },
        "id": "7NIQEFZqqe2d",
        "outputId": "642de578-d870-4a08-b101-80f6762f0e29"
      },
      "outputs": [
        {
          "output_type": "stream",
          "name": "stdout",
          "text": [
            "Looking in indexes: https://pypi.org/simple, https://pypi.nvidia.com\n",
            "Requirement already satisfied: nx-cugraph-cu12 in /usr/local/lib/python3.11/dist-packages (25.2.0)\n",
            "Requirement already satisfied: cupy-cuda12x>=12.0.0 in /usr/local/lib/python3.11/dist-packages (from nx-cugraph-cu12) (13.3.0)\n",
            "Requirement already satisfied: networkx>=3.2 in /usr/local/lib/python3.11/dist-packages (from nx-cugraph-cu12) (3.4)\n",
            "Requirement already satisfied: numpy<3.0a0,>=1.23 in /usr/local/lib/python3.11/dist-packages (from nx-cugraph-cu12) (1.26.4)\n",
            "Requirement already satisfied: pylibcugraph-cu12==25.2.* in /usr/local/lib/python3.11/dist-packages (from nx-cugraph-cu12) (25.2.0)\n",
            "Requirement already satisfied: libcugraph-cu12==25.2.* in /usr/local/lib/python3.11/dist-packages (from pylibcugraph-cu12==25.2.*->nx-cugraph-cu12) (25.2.0)\n",
            "Requirement already satisfied: pylibraft-cu12==25.2.* in /usr/local/lib/python3.11/dist-packages (from pylibcugraph-cu12==25.2.*->nx-cugraph-cu12) (25.2.0)\n",
            "Requirement already satisfied: rmm-cu12==25.2.* in /usr/local/lib/python3.11/dist-packages (from pylibcugraph-cu12==25.2.*->nx-cugraph-cu12) (25.2.0)\n",
            "Requirement already satisfied: libraft-cu12==25.2.* in /usr/local/lib/python3.11/dist-packages (from libcugraph-cu12==25.2.*->pylibcugraph-cu12==25.2.*->nx-cugraph-cu12) (25.2.0)\n",
            "Requirement already satisfied: cuda-python<13.0a0,>=12.6.2 in /usr/local/lib/python3.11/dist-packages (from pylibraft-cu12==25.2.*->pylibcugraph-cu12==25.2.*->nx-cugraph-cu12) (12.6.2.post1)\n",
            "Requirement already satisfied: nvidia-cublas-cu12 in /usr/local/lib/python3.11/dist-packages (from libraft-cu12==25.2.*->libcugraph-cu12==25.2.*->pylibcugraph-cu12==25.2.*->nx-cugraph-cu12) (12.5.3.2)\n",
            "Requirement already satisfied: nvidia-curand-cu12 in /usr/local/lib/python3.11/dist-packages (from libraft-cu12==25.2.*->libcugraph-cu12==25.2.*->pylibcugraph-cu12==25.2.*->nx-cugraph-cu12) (10.3.6.82)\n",
            "Requirement already satisfied: nvidia-cusolver-cu12 in /usr/local/lib/python3.11/dist-packages (from libraft-cu12==25.2.*->libcugraph-cu12==25.2.*->pylibcugraph-cu12==25.2.*->nx-cugraph-cu12) (11.6.3.83)\n",
            "Requirement already satisfied: nvidia-cusparse-cu12 in /usr/local/lib/python3.11/dist-packages (from libraft-cu12==25.2.*->libcugraph-cu12==25.2.*->pylibcugraph-cu12==25.2.*->nx-cugraph-cu12) (12.5.1.3)\n",
            "Requirement already satisfied: fastrlock>=0.5 in /usr/local/lib/python3.11/dist-packages (from cupy-cuda12x>=12.0.0->nx-cugraph-cu12) (0.8.3)\n",
            "Requirement already satisfied: nvidia-nvjitlink-cu12 in /usr/local/lib/python3.11/dist-packages (from nvidia-cusolver-cu12->libraft-cu12==25.2.*->libcugraph-cu12==25.2.*->pylibcugraph-cu12==25.2.*->nx-cugraph-cu12) (12.5.82)\n"
          ]
        }
      ],
      "source": [
        "# # 3. Install nx-cugraph via pip\n",
        "# # Note: Only enable this installation if the step above is working!\n",
        "\n",
        "!pip install nx-cugraph-cu12 --extra-index-url https://pypi.nvidia.com # Requires CUDA-capable GPU"
      ]
    },
    {
      "cell_type": "code",
      "execution_count": 4,
      "metadata": {
        "colab": {
          "base_uri": "https://localhost:8080/"
        },
        "id": "LVhzsHqKqe2d",
        "outputId": "dfc25d7c-0899-4b6c-e54a-16ed545a0e22"
      },
      "outputs": [
        {
          "output_type": "stream",
          "name": "stdout",
          "text": [
            "Requirement already satisfied: langchain in /usr/local/lib/python3.11/dist-packages (0.3.19)\n",
            "Collecting langchain\n",
            "  Downloading langchain-0.3.20-py3-none-any.whl.metadata (7.7 kB)\n",
            "Collecting langchain-community\n",
            "  Downloading langchain_community-0.3.19-py3-none-any.whl.metadata (2.4 kB)\n",
            "Collecting langchain-openai\n",
            "  Downloading langchain_openai-0.3.8-py3-none-any.whl.metadata (2.3 kB)\n",
            "Collecting langgraph\n",
            "  Downloading langgraph-0.3.5-py3-none-any.whl.metadata (17 kB)\n",
            "Collecting langchain-core<1.0.0,>=0.3.41 (from langchain)\n",
            "  Downloading langchain_core-0.3.43-py3-none-any.whl.metadata (5.9 kB)\n",
            "Requirement already satisfied: langchain-text-splitters<1.0.0,>=0.3.6 in /usr/local/lib/python3.11/dist-packages (from langchain) (0.3.6)\n",
            "Requirement already satisfied: langsmith<0.4,>=0.1.17 in /usr/local/lib/python3.11/dist-packages (from langchain) (0.3.11)\n",
            "Requirement already satisfied: pydantic<3.0.0,>=2.7.4 in /usr/local/lib/python3.11/dist-packages (from langchain) (2.10.6)\n",
            "Requirement already satisfied: SQLAlchemy<3,>=1.4 in /usr/local/lib/python3.11/dist-packages (from langchain) (2.0.38)\n",
            "Requirement already satisfied: requests<3,>=2 in /usr/local/lib/python3.11/dist-packages (from langchain) (2.32.3)\n",
            "Requirement already satisfied: PyYAML>=5.3 in /usr/local/lib/python3.11/dist-packages (from langchain) (6.0.2)\n",
            "Requirement already satisfied: aiohttp<4.0.0,>=3.8.3 in /usr/local/lib/python3.11/dist-packages (from langchain-community) (3.11.13)\n",
            "Requirement already satisfied: tenacity!=8.4.0,<10,>=8.1.0 in /usr/local/lib/python3.11/dist-packages (from langchain-community) (9.0.0)\n",
            "Collecting dataclasses-json<0.7,>=0.5.7 (from langchain-community)\n",
            "  Downloading dataclasses_json-0.6.7-py3-none-any.whl.metadata (25 kB)\n",
            "Collecting pydantic-settings<3.0.0,>=2.4.0 (from langchain-community)\n",
            "  Downloading pydantic_settings-2.8.1-py3-none-any.whl.metadata (3.5 kB)\n",
            "Collecting httpx-sse<1.0.0,>=0.4.0 (from langchain-community)\n",
            "  Downloading httpx_sse-0.4.0-py3-none-any.whl.metadata (9.0 kB)\n",
            "Requirement already satisfied: numpy<3,>=1.26.2 in /usr/local/lib/python3.11/dist-packages (from langchain-community) (1.26.4)\n",
            "Requirement already satisfied: openai<2.0.0,>=1.58.1 in /usr/local/lib/python3.11/dist-packages (from langchain-openai) (1.61.1)\n",
            "Collecting tiktoken<1,>=0.7 (from langchain-openai)\n",
            "  Downloading tiktoken-0.9.0-cp311-cp311-manylinux_2_17_x86_64.manylinux2014_x86_64.whl.metadata (6.7 kB)\n",
            "Collecting langgraph-checkpoint<3.0.0,>=2.0.10 (from langgraph)\n",
            "  Downloading langgraph_checkpoint-2.0.18-py3-none-any.whl.metadata (4.6 kB)\n",
            "Collecting langgraph-prebuilt<0.2,>=0.1.1 (from langgraph)\n",
            "  Downloading langgraph_prebuilt-0.1.2-py3-none-any.whl.metadata (5.0 kB)\n",
            "Collecting langgraph-sdk<0.2.0,>=0.1.42 (from langgraph)\n",
            "  Downloading langgraph_sdk-0.1.55-py3-none-any.whl.metadata (1.8 kB)\n",
            "Requirement already satisfied: aiohappyeyeballs>=2.3.0 in /usr/local/lib/python3.11/dist-packages (from aiohttp<4.0.0,>=3.8.3->langchain-community) (2.4.6)\n",
            "Requirement already satisfied: aiosignal>=1.1.2 in /usr/local/lib/python3.11/dist-packages (from aiohttp<4.0.0,>=3.8.3->langchain-community) (1.3.2)\n",
            "Requirement already satisfied: attrs>=17.3.0 in /usr/local/lib/python3.11/dist-packages (from aiohttp<4.0.0,>=3.8.3->langchain-community) (25.1.0)\n",
            "Requirement already satisfied: frozenlist>=1.1.1 in /usr/local/lib/python3.11/dist-packages (from aiohttp<4.0.0,>=3.8.3->langchain-community) (1.5.0)\n",
            "Requirement already satisfied: multidict<7.0,>=4.5 in /usr/local/lib/python3.11/dist-packages (from aiohttp<4.0.0,>=3.8.3->langchain-community) (6.1.0)\n",
            "Requirement already satisfied: propcache>=0.2.0 in /usr/local/lib/python3.11/dist-packages (from aiohttp<4.0.0,>=3.8.3->langchain-community) (0.3.0)\n",
            "Requirement already satisfied: yarl<2.0,>=1.17.0 in /usr/local/lib/python3.11/dist-packages (from aiohttp<4.0.0,>=3.8.3->langchain-community) (1.18.3)\n",
            "Collecting marshmallow<4.0.0,>=3.18.0 (from dataclasses-json<0.7,>=0.5.7->langchain-community)\n",
            "  Downloading marshmallow-3.26.1-py3-none-any.whl.metadata (7.3 kB)\n",
            "Collecting typing-inspect<1,>=0.4.0 (from dataclasses-json<0.7,>=0.5.7->langchain-community)\n",
            "  Downloading typing_inspect-0.9.0-py3-none-any.whl.metadata (1.5 kB)\n",
            "Requirement already satisfied: jsonpatch<2.0,>=1.33 in /usr/local/lib/python3.11/dist-packages (from langchain-core<1.0.0,>=0.3.41->langchain) (1.33)\n",
            "Requirement already satisfied: packaging<25,>=23.2 in /usr/local/lib/python3.11/dist-packages (from langchain-core<1.0.0,>=0.3.41->langchain) (24.2)\n",
            "Requirement already satisfied: typing-extensions>=4.7 in /usr/local/lib/python3.11/dist-packages (from langchain-core<1.0.0,>=0.3.41->langchain) (4.12.2)\n",
            "Requirement already satisfied: msgpack<2.0.0,>=1.1.0 in /usr/local/lib/python3.11/dist-packages (from langgraph-checkpoint<3.0.0,>=2.0.10->langgraph) (1.1.0)\n",
            "Requirement already satisfied: httpx>=0.25.2 in /usr/local/lib/python3.11/dist-packages (from langgraph-sdk<0.2.0,>=0.1.42->langgraph) (0.28.1)\n",
            "Requirement already satisfied: orjson>=3.10.1 in /usr/local/lib/python3.11/dist-packages (from langgraph-sdk<0.2.0,>=0.1.42->langgraph) (3.10.15)\n",
            "Requirement already satisfied: requests-toolbelt<2.0.0,>=1.0.0 in /usr/local/lib/python3.11/dist-packages (from langsmith<0.4,>=0.1.17->langchain) (1.0.0)\n",
            "Requirement already satisfied: zstandard<0.24.0,>=0.23.0 in /usr/local/lib/python3.11/dist-packages (from langsmith<0.4,>=0.1.17->langchain) (0.23.0)\n",
            "Requirement already satisfied: anyio<5,>=3.5.0 in /usr/local/lib/python3.11/dist-packages (from openai<2.0.0,>=1.58.1->langchain-openai) (3.7.1)\n",
            "Requirement already satisfied: distro<2,>=1.7.0 in /usr/local/lib/python3.11/dist-packages (from openai<2.0.0,>=1.58.1->langchain-openai) (1.9.0)\n",
            "Requirement already satisfied: jiter<1,>=0.4.0 in /usr/local/lib/python3.11/dist-packages (from openai<2.0.0,>=1.58.1->langchain-openai) (0.8.2)\n",
            "Requirement already satisfied: sniffio in /usr/local/lib/python3.11/dist-packages (from openai<2.0.0,>=1.58.1->langchain-openai) (1.3.1)\n",
            "Requirement already satisfied: tqdm>4 in /usr/local/lib/python3.11/dist-packages (from openai<2.0.0,>=1.58.1->langchain-openai) (4.67.1)\n",
            "Requirement already satisfied: annotated-types>=0.6.0 in /usr/local/lib/python3.11/dist-packages (from pydantic<3.0.0,>=2.7.4->langchain) (0.7.0)\n",
            "Requirement already satisfied: pydantic-core==2.27.2 in /usr/local/lib/python3.11/dist-packages (from pydantic<3.0.0,>=2.7.4->langchain) (2.27.2)\n",
            "Collecting python-dotenv>=0.21.0 (from pydantic-settings<3.0.0,>=2.4.0->langchain-community)\n",
            "  Downloading python_dotenv-1.0.1-py3-none-any.whl.metadata (23 kB)\n",
            "Requirement already satisfied: charset-normalizer<4,>=2 in /usr/local/lib/python3.11/dist-packages (from requests<3,>=2->langchain) (3.4.1)\n",
            "Requirement already satisfied: idna<4,>=2.5 in /usr/local/lib/python3.11/dist-packages (from requests<3,>=2->langchain) (3.10)\n",
            "Requirement already satisfied: urllib3<3,>=1.21.1 in /usr/local/lib/python3.11/dist-packages (from requests<3,>=2->langchain) (2.3.0)\n",
            "Requirement already satisfied: certifi>=2017.4.17 in /usr/local/lib/python3.11/dist-packages (from requests<3,>=2->langchain) (2025.1.31)\n",
            "Requirement already satisfied: greenlet!=0.4.17 in /usr/local/lib/python3.11/dist-packages (from SQLAlchemy<3,>=1.4->langchain) (3.1.1)\n",
            "Requirement already satisfied: regex>=2022.1.18 in /usr/local/lib/python3.11/dist-packages (from tiktoken<1,>=0.7->langchain-openai) (2024.11.6)\n",
            "Requirement already satisfied: httpcore==1.* in /usr/local/lib/python3.11/dist-packages (from httpx>=0.25.2->langgraph-sdk<0.2.0,>=0.1.42->langgraph) (1.0.7)\n",
            "Requirement already satisfied: h11<0.15,>=0.13 in /usr/local/lib/python3.11/dist-packages (from httpcore==1.*->httpx>=0.25.2->langgraph-sdk<0.2.0,>=0.1.42->langgraph) (0.14.0)\n",
            "Requirement already satisfied: jsonpointer>=1.9 in /usr/local/lib/python3.11/dist-packages (from jsonpatch<2.0,>=1.33->langchain-core<1.0.0,>=0.3.41->langchain) (3.0.0)\n",
            "Collecting mypy-extensions>=0.3.0 (from typing-inspect<1,>=0.4.0->dataclasses-json<0.7,>=0.5.7->langchain-community)\n",
            "  Downloading mypy_extensions-1.0.0-py3-none-any.whl.metadata (1.1 kB)\n",
            "Downloading langchain-0.3.20-py3-none-any.whl (1.0 MB)\n",
            "\u001b[2K   \u001b[90m━━━━━━━━━━━━━━━━━━━━━━━━━━━━━━━━━━━━━━━━\u001b[0m \u001b[32m1.0/1.0 MB\u001b[0m \u001b[31m50.2 MB/s\u001b[0m eta \u001b[36m0:00:00\u001b[0m\n",
            "\u001b[?25hDownloading langchain_community-0.3.19-py3-none-any.whl (2.5 MB)\n",
            "\u001b[2K   \u001b[90m━━━━━━━━━━━━━━━━━━━━━━━━━━━━━━━━━━━━━━━━\u001b[0m \u001b[32m2.5/2.5 MB\u001b[0m \u001b[31m69.2 MB/s\u001b[0m eta \u001b[36m0:00:00\u001b[0m\n",
            "\u001b[?25hDownloading langchain_openai-0.3.8-py3-none-any.whl (55 kB)\n",
            "\u001b[2K   \u001b[90m━━━━━━━━━━━━━━━━━━━━━━━━━━━━━━━━━━━━━━━━\u001b[0m \u001b[32m55.4/55.4 kB\u001b[0m \u001b[31m5.0 MB/s\u001b[0m eta \u001b[36m0:00:00\u001b[0m\n",
            "\u001b[?25hDownloading langgraph-0.3.5-py3-none-any.whl (131 kB)\n",
            "\u001b[2K   \u001b[90m━━━━━━━━━━━━━━━━━━━━━━━━━━━━━━━━━━━━━━━━\u001b[0m \u001b[32m131.5/131.5 kB\u001b[0m \u001b[31m12.6 MB/s\u001b[0m eta \u001b[36m0:00:00\u001b[0m\n",
            "\u001b[?25hDownloading dataclasses_json-0.6.7-py3-none-any.whl (28 kB)\n",
            "Downloading httpx_sse-0.4.0-py3-none-any.whl (7.8 kB)\n",
            "Downloading langchain_core-0.3.43-py3-none-any.whl (415 kB)\n",
            "\u001b[2K   \u001b[90m━━━━━━━━━━━━━━━━━━━━━━━━━━━━━━━━━━━━━━━━\u001b[0m \u001b[32m415.4/415.4 kB\u001b[0m \u001b[31m30.4 MB/s\u001b[0m eta \u001b[36m0:00:00\u001b[0m\n",
            "\u001b[?25hDownloading langgraph_checkpoint-2.0.18-py3-none-any.whl (39 kB)\n",
            "Downloading langgraph_prebuilt-0.1.2-py3-none-any.whl (24 kB)\n",
            "Downloading langgraph_sdk-0.1.55-py3-none-any.whl (45 kB)\n",
            "\u001b[2K   \u001b[90m━━━━━━━━━━━━━━━━━━━━━━━━━━━━━━━━━━━━━━━━\u001b[0m \u001b[32m45.8/45.8 kB\u001b[0m \u001b[31m3.9 MB/s\u001b[0m eta \u001b[36m0:00:00\u001b[0m\n",
            "\u001b[?25hDownloading pydantic_settings-2.8.1-py3-none-any.whl (30 kB)\n",
            "Downloading tiktoken-0.9.0-cp311-cp311-manylinux_2_17_x86_64.manylinux2014_x86_64.whl (1.2 MB)\n",
            "\u001b[2K   \u001b[90m━━━━━━━━━━━━━━━━━━━━━━━━━━━━━━━━━━━━━━━━\u001b[0m \u001b[32m1.2/1.2 MB\u001b[0m \u001b[31m46.8 MB/s\u001b[0m eta \u001b[36m0:00:00\u001b[0m\n",
            "\u001b[?25hDownloading marshmallow-3.26.1-py3-none-any.whl (50 kB)\n",
            "\u001b[2K   \u001b[90m━━━━━━━━━━━━━━━━━━━━━━━━━━━━━━━━━━━━━━━━\u001b[0m \u001b[32m50.9/50.9 kB\u001b[0m \u001b[31m4.6 MB/s\u001b[0m eta \u001b[36m0:00:00\u001b[0m\n",
            "\u001b[?25hDownloading python_dotenv-1.0.1-py3-none-any.whl (19 kB)\n",
            "Downloading typing_inspect-0.9.0-py3-none-any.whl (8.8 kB)\n",
            "Downloading mypy_extensions-1.0.0-py3-none-any.whl (4.7 kB)\n",
            "Installing collected packages: python-dotenv, mypy-extensions, marshmallow, httpx-sse, typing-inspect, tiktoken, pydantic-settings, langgraph-sdk, dataclasses-json, langchain-core, langgraph-checkpoint, langchain-openai, langgraph-prebuilt, langchain, langgraph, langchain-community\n",
            "  Attempting uninstall: langchain-core\n",
            "    Found existing installation: langchain-core 0.3.40\n",
            "    Uninstalling langchain-core-0.3.40:\n",
            "      Successfully uninstalled langchain-core-0.3.40\n",
            "  Attempting uninstall: langchain\n",
            "    Found existing installation: langchain 0.3.19\n",
            "    Uninstalling langchain-0.3.19:\n",
            "      Successfully uninstalled langchain-0.3.19\n",
            "Successfully installed dataclasses-json-0.6.7 httpx-sse-0.4.0 langchain-0.3.20 langchain-community-0.3.19 langchain-core-0.3.43 langchain-openai-0.3.8 langgraph-0.3.5 langgraph-checkpoint-2.0.18 langgraph-prebuilt-0.1.2 langgraph-sdk-0.1.55 marshmallow-3.26.1 mypy-extensions-1.0.0 pydantic-settings-2.8.1 python-dotenv-1.0.1 tiktoken-0.9.0 typing-inspect-0.9.0\n"
          ]
        }
      ],
      "source": [
        "# # 4. Install LangChain & LangGraph\n",
        "\n",
        "!pip install --upgrade langchain langchain-community langchain-openai langgraph"
      ]
    },
    {
      "cell_type": "code",
      "execution_count": 5,
      "metadata": {
        "colab": {
          "base_uri": "https://localhost:8080/"
        },
        "id": "6s4RvXjwqe2e",
        "outputId": "64a570c1-cb49-45f1-8fec-26eb2adcd0cf"
      },
      "outputs": [
        {
          "output_type": "stream",
          "name": "stdout",
          "text": [
            "Requirement already satisfied: pandas in /usr/local/lib/python3.11/dist-packages (2.2.2)\n",
            "Requirement already satisfied: numpy>=1.23.2 in /usr/local/lib/python3.11/dist-packages (from pandas) (1.26.4)\n",
            "Requirement already satisfied: python-dateutil>=2.8.2 in /usr/local/lib/python3.11/dist-packages (from pandas) (2.8.2)\n",
            "Requirement already satisfied: pytz>=2020.1 in /usr/local/lib/python3.11/dist-packages (from pandas) (2025.1)\n",
            "Requirement already satisfied: tzdata>=2022.7 in /usr/local/lib/python3.11/dist-packages (from pandas) (2025.1)\n",
            "Requirement already satisfied: six>=1.5 in /usr/local/lib/python3.11/dist-packages (from python-dateutil>=2.8.2->pandas) (1.17.0)\n",
            "Requirement already satisfied: matplotlib in /usr/local/lib/python3.11/dist-packages (3.10.0)\n",
            "Requirement already satisfied: contourpy>=1.0.1 in /usr/local/lib/python3.11/dist-packages (from matplotlib) (1.3.1)\n",
            "Requirement already satisfied: cycler>=0.10 in /usr/local/lib/python3.11/dist-packages (from matplotlib) (0.12.1)\n",
            "Requirement already satisfied: fonttools>=4.22.0 in /usr/local/lib/python3.11/dist-packages (from matplotlib) (4.56.0)\n",
            "Requirement already satisfied: kiwisolver>=1.3.1 in /usr/local/lib/python3.11/dist-packages (from matplotlib) (1.4.8)\n",
            "Requirement already satisfied: numpy>=1.23 in /usr/local/lib/python3.11/dist-packages (from matplotlib) (1.26.4)\n",
            "Requirement already satisfied: packaging>=20.0 in /usr/local/lib/python3.11/dist-packages (from matplotlib) (24.2)\n",
            "Requirement already satisfied: pillow>=8 in /usr/local/lib/python3.11/dist-packages (from matplotlib) (11.1.0)\n",
            "Requirement already satisfied: pyparsing>=2.3.1 in /usr/local/lib/python3.11/dist-packages (from matplotlib) (3.2.1)\n",
            "Requirement already satisfied: python-dateutil>=2.7 in /usr/local/lib/python3.11/dist-packages (from matplotlib) (2.8.2)\n",
            "Requirement already satisfied: six>=1.5 in /usr/local/lib/python3.11/dist-packages (from python-dateutil>=2.7->matplotlib) (1.17.0)\n",
            "Requirement already satisfied: networkx in /usr/local/lib/python3.11/dist-packages (3.4)\n"
          ]
        }
      ],
      "source": [
        "!pip install pandas\n",
        "!pip install matplotlib\n",
        "!pip install networkx"
      ]
    },
    {
      "cell_type": "code",
      "execution_count": 6,
      "metadata": {
        "colab": {
          "base_uri": "https://localhost:8080/"
        },
        "id": "8_qERXbBqe2e",
        "outputId": "70b0d753-ca45-4dc0-bda5-b896dfd1372f"
      },
      "outputs": [
        {
          "output_type": "stream",
          "name": "stdout",
          "text": [
            "Collecting arango_datasets\n",
            "  Downloading arango_datasets-1.2.3-py3-none-any.whl.metadata (4.5 kB)\n",
            "Requirement already satisfied: python-arango>=7.4.1 in /usr/local/lib/python3.11/dist-packages (from arango_datasets) (8.1.6)\n",
            "Requirement already satisfied: requests>=2.28.1 in /usr/local/lib/python3.11/dist-packages (from arango_datasets) (2.32.3)\n",
            "Requirement already satisfied: rich>=12.6.0 in /usr/local/lib/python3.11/dist-packages (from arango_datasets) (13.9.4)\n",
            "Requirement already satisfied: urllib3>=1.26.0 in /usr/local/lib/python3.11/dist-packages (from python-arango>=7.4.1->arango_datasets) (2.3.0)\n",
            "Requirement already satisfied: requests_toolbelt in /usr/local/lib/python3.11/dist-packages (from python-arango>=7.4.1->arango_datasets) (1.0.0)\n",
            "Requirement already satisfied: PyJWT in /usr/local/lib/python3.11/dist-packages (from python-arango>=7.4.1->arango_datasets) (2.10.1)\n",
            "Requirement already satisfied: setuptools>=42 in /usr/local/lib/python3.11/dist-packages (from python-arango>=7.4.1->arango_datasets) (75.1.0)\n",
            "Requirement already satisfied: importlib_metadata>=4.7.1 in /usr/local/lib/python3.11/dist-packages (from python-arango>=7.4.1->arango_datasets) (8.6.1)\n",
            "Requirement already satisfied: packaging>=23.1 in /usr/local/lib/python3.11/dist-packages (from python-arango>=7.4.1->arango_datasets) (24.2)\n",
            "Requirement already satisfied: charset-normalizer<4,>=2 in /usr/local/lib/python3.11/dist-packages (from requests>=2.28.1->arango_datasets) (3.4.1)\n",
            "Requirement already satisfied: idna<4,>=2.5 in /usr/local/lib/python3.11/dist-packages (from requests>=2.28.1->arango_datasets) (3.10)\n",
            "Requirement already satisfied: certifi>=2017.4.17 in /usr/local/lib/python3.11/dist-packages (from requests>=2.28.1->arango_datasets) (2025.1.31)\n",
            "Requirement already satisfied: markdown-it-py>=2.2.0 in /usr/local/lib/python3.11/dist-packages (from rich>=12.6.0->arango_datasets) (3.0.0)\n",
            "Requirement already satisfied: pygments<3.0.0,>=2.13.0 in /usr/local/lib/python3.11/dist-packages (from rich>=12.6.0->arango_datasets) (2.18.0)\n",
            "Requirement already satisfied: zipp>=3.20 in /usr/local/lib/python3.11/dist-packages (from importlib_metadata>=4.7.1->python-arango>=7.4.1->arango_datasets) (3.21.0)\n",
            "Requirement already satisfied: mdurl~=0.1 in /usr/local/lib/python3.11/dist-packages (from markdown-it-py>=2.2.0->rich>=12.6.0->arango_datasets) (0.1.2)\n",
            "Downloading arango_datasets-1.2.3-py3-none-any.whl (6.1 kB)\n",
            "Installing collected packages: arango_datasets\n",
            "Successfully installed arango_datasets-1.2.3\n"
          ]
        }
      ],
      "source": [
        "! pip install arango_datasets\n"
      ]
    },
    {
      "cell_type": "markdown",
      "metadata": {
        "id": "dkhcEePEqe2e"
      },
      "source": [
        "---\n",
        "## Import Packages and Configure"
      ]
    },
    {
      "cell_type": "code",
      "execution_count": 7,
      "metadata": {
        "colab": {
          "base_uri": "https://localhost:8080/"
        },
        "id": "I1UOb4_9qe2e",
        "outputId": "16b5193b-df47-4de4-fce2-6e163bfe6eaf"
      },
      "outputs": [
        {
          "output_type": "stream",
          "name": "stderr",
          "text": [
            "[06:08:24 +0000] [INFO]: NetworkX-cuGraph is available.\n",
            "INFO:nx_arangodb:NetworkX-cuGraph is available.\n"
          ]
        }
      ],
      "source": [
        "# Import the required modules\n",
        "\n",
        "import networkx as nx\n",
        "import nx_arangodb as nxadb\n",
        "\n",
        "from arango import ArangoClient\n",
        "\n",
        "import pandas as pd\n",
        "import numpy as np\n",
        "import networkx as nx\n",
        "import matplotlib.pyplot as plt\n",
        "from random import randint\n",
        "import re\n",
        "\n",
        "from langgraph.prebuilt import create_react_agent\n",
        "from langgraph.checkpoint.memory import MemorySaver\n",
        "from langchain_openai import ChatOpenAI\n",
        "from langchain_community.graphs import ArangoGraph\n",
        "from langchain_community.chains.graph_qa.arangodb import ArangoGraphQAChain\n",
        "from langchain_core.tools import tool"
      ]
    },
    {
      "cell_type": "code",
      "execution_count": 10,
      "metadata": {
        "id": "bavXSQanqe2e"
      },
      "outputs": [],
      "source": [
        "import json\n",
        "\n",
        "# Load credentials from the JSON file\n",
        "file_path=\"keys.json\"\n",
        "with open(file_path, 'r', encoding='utf-8') as file:\n",
        "    key_data = json.load(file)\n"
      ]
    },
    {
      "cell_type": "code",
      "execution_count": 11,
      "metadata": {
        "colab": {
          "base_uri": "https://localhost:8080/"
        },
        "id": "OQbXQW4Aqe2f",
        "outputId": "3dbfc1c6-8a07-4b91-b024-6d9c4997a427"
      },
      "outputs": [
        {
          "output_type": "stream",
          "name": "stdout",
          "text": [
            "<StandardDatabase _system>\n"
          ]
        }
      ],
      "source": [
        "# Connect to the ArangoDB database\n",
        "\n",
        "db = ArangoClient(hosts=key_data[\"arangodb_host\"]).db(username=\"root\", password=key_data[\"arangodb_password\"], verify=True)\n",
        "\n",
        "print(db)"
      ]
    },
    {
      "cell_type": "markdown",
      "metadata": {
        "id": "-y_CDtzkqe2f"
      },
      "source": [
        "---\n",
        "## Prepare flights dataset"
      ]
    },
    {
      "cell_type": "markdown",
      "metadata": {
        "id": "ksLSUf2Zqe2f"
      },
      "source": [
        "### About the dataset:\n",
        "This dataset represents a comprehensive record of flights and airports, organized as a graph in ArangoDB. It is divided into two main collections: airports and flights.\n",
        "\n",
        "### Graph Schema\n",
        "**Graph Name:** FLIGHTS\n",
        "#### Edge Definitions:\n",
        "- **Edge Collection:** flights\n",
        "- **From Vertex Collection:** airports\n",
        "- **To Vertex Collection:** airports\n",
        "\n",
        "This graph schema indicates that each flight (an edge) connects two airports (nodes). By modeling the data this way, we can easily explore relationships and connectivity between airports.\n",
        "\n"
      ]
    },
    {
      "cell_type": "markdown",
      "metadata": {
        "id": "R22XrKS2qe2f"
      },
      "source": [
        "---\n",
        "### Collection Schema Details\n",
        "\n",
        "#### Airports Collection\n",
        "\n",
        "- **Type**: Document  \n",
        "- **Key Attributes**:\n",
        "  - `_key`, `_id`, `_rev`: Standard document identifiers.\n",
        "  - `name`, `city`, `state`, `country`: Provide detailed location information for each airport.\n",
        "  - `lat`, `long`: Geographic coordinates used for mapping and spatial analysis.\n",
        "  - `vip`: A Boolean flag that might indicate whether the airport has special status or features.\n",
        "\n",
        "##### Example document from the airports collection:\n",
        "\n",
        "```json\n",
        "{\n",
        "  \"_key\": \"00M\",\n",
        "  \"_id\": \"airports/00M\",\n",
        "  \"_rev\": \"_jVk9JKu---\",\n",
        "  \"name\": \"Thigpen \",\n",
        "  \"city\": \"Bay Springs\",\n",
        "  \"state\": \"MS\",\n",
        "  \"country\": \"USA\",\n",
        "  \"lat\": 31.95376472,\n",
        "  \"long\": -89.23450472,\n",
        "  \"vip\": false\n",
        "}\n",
        "```\n",
        "\n",
        "---\n",
        "\n",
        "#### Flights Collection\n",
        "\n",
        "- **Type**: Edge  \n",
        "- **Key Attributes**:\n",
        "  - `_key`, `_id`, `_rev`: Standard edge identifiers.\n",
        "  - `_from`, `_to`: References to the departure and arrival airports in the `airports` collection.\n",
        "- **Flight Details**:\n",
        "  - `Year`, `Month`, `Day`, `DayOfWeek`: Date information for the flight.\n",
        "  - `DepTime`, `ArrTime`, `DepTimeUTC`, `ArrTimeUTC`: Time information, including both local and UTC times.\n",
        "  - `UniqueCarrier`, `FlightNum`, `TailNum`: Airline and flight-specific identifiers.\n",
        "  - `Distance`: The flight distance, which can be used for further analysis such as calculating fuel efficiency or route optimization.\n",
        "\n",
        "##### Example edge from the flights collection:\n",
        "\n",
        "```json\n",
        "{\n",
        "  \"_key\": \"306520629\",\n",
        "  \"_id\": \"flights/306520629\",\n",
        "  \"_from\": \"airports/ATL\",\n",
        "  \"_to\": \"airports/CHS\",\n",
        "  \"_rev\": \"_jVk9djm---\",\n",
        "  \"Year\": 2008,\n",
        "  \"Month\": 1,\n",
        "  \"Day\": 1,\n",
        "  \"DayOfWeek\": 2,\n",
        "  \"DepTime\": 2,\n",
        "  \"ArrTime\": 57,\n",
        "  \"DepTimeUTC\": \"2008-01-01T05:02:00.000Z\",\n",
        "  \"ArrTimeUTC\": \"2008-01-01T05:57:00.000Z\",\n",
        "  \"UniqueCarrier\": \"FL\",\n",
        "  \"FlightNum\": 579,\n",
        "  \"TailNum\": \"N937AT\",\n",
        "  \"Distance\": 259\n",
        "}\n",
        "```\n"
      ]
    },
    {
      "cell_type": "markdown",
      "metadata": {
        "id": "mouUrJ7gqe2f"
      },
      "source": [
        "The following commented-out code demonstrates how to load the flights dataset from ArangoDB. It needs to be run only once and this will create the flights, airport collections and also make a graph named FLIGHTS with flights collection as edges and airports as nodes."
      ]
    },
    {
      "cell_type": "code",
      "execution_count": null,
      "metadata": {
        "id": "ZFAkGqKqqe2f"
      },
      "outputs": [],
      "source": [
        "# from arango_datasets import Datasets\n"
      ]
    },
    {
      "cell_type": "code",
      "execution_count": null,
      "metadata": {
        "id": "L-_T_Tjmqe2f"
      },
      "outputs": [],
      "source": [
        "# # Connect to the datasets interface\n",
        "# datasets = Datasets(db)\n",
        "\n",
        "# # List all available datasets\n",
        "# print(\"Available datasets:\")\n",
        "# print(datasets.list_datasets())\n",
        "\n",
        "# # Show information about the FLIGHTS dataset\n",
        "# print(\"\\nFlights dataset info:\")\n",
        "# print(datasets.dataset_info(\"FLIGHTS\"))\n",
        "\n",
        "# # Load the FLIGHTS dataset (assumed to be returned as a Pandas DataFrame)\n",
        "# flights_data = datasets.load(\"FLIGHTS\")\n",
        "\n"
      ]
    },
    {
      "cell_type": "markdown",
      "metadata": {
        "id": "6O2eqRjaqe2g"
      },
      "source": [
        "---\n",
        "## Persist the Graph in ArangoDB"
      ]
    },
    {
      "cell_type": "markdown",
      "metadata": {
        "id": "kbJ5kJNoqe2g"
      },
      "source": [
        "In this section, a connection to the ArangoDB database is made and FLIGHTS graph is retrieved. The graph is initially in a \"lazy\" state, meaning it fetches data on demand. To work more efficiently with the graph using NetworkX, we create a fully materialized copy in memory. This process ensures that all nodes and edges are loaded and available for our analysis."
      ]
    },
    {
      "cell_type": "markdown",
      "metadata": {
        "id": "k6b_lYjzqe2g"
      },
      "source": [
        "<p align=\"center\">\n",
        "    <img src=\"https://raw.githubusercontent.com/arangodb/nx-arangodb/main/doc/_static/nxadb.png\" style=\"height: 200px;\">\n",
        "    <img src=\"https://raw.githubusercontent.com/arangodb/nx-arangodb/main/doc/_static/dispatch.png\" style=\"height: 200px;\">\n",
        "</p>"
      ]
    },
    {
      "cell_type": "code",
      "execution_count": 12,
      "metadata": {
        "id": "Sfc2HDTEqe2g"
      },
      "outputs": [],
      "source": [
        "def materialize_graph(lazy_graph):\n",
        "    \"\"\"\n",
        "    Create a materialized copy of a lazy graph.\n",
        "    This function copies all nodes and edges from a lazy graph into a new NetworkX MultiDiGraph.\n",
        "    \"\"\"\n",
        "    materialized = nx.MultiDiGraph()\n",
        "    materialized.add_nodes_from(lazy_graph.nodes(data=True))\n",
        "    materialized.add_edges_from(lazy_graph.edges(data=True))\n",
        "    return materialized"
      ]
    },
    {
      "cell_type": "code",
      "execution_count": 13,
      "metadata": {
        "colab": {
          "base_uri": "https://localhost:8080/"
        },
        "id": "X-U21mHiqe2g",
        "outputId": "feed2807-dd10-4215-d5fd-17b6eddd6335"
      },
      "outputs": [
        {
          "output_type": "stream",
          "name": "stderr",
          "text": [
            "[06:08:53 +0000] [INFO]: Graph 'FLIGHTS' exists.\n",
            "INFO:nx_arangodb:Graph 'FLIGHTS' exists.\n",
            "[06:08:53 +0000] [INFO]: Default node type set to 'airports'\n",
            "INFO:nx_arangodb:Default node type set to 'airports'\n"
          ]
        },
        {
          "output_type": "stream",
          "name": "stdout",
          "text": [
            "Graph materialized and loaded into memory.\n",
            "MultiDiGraph with 3375 nodes and 286463 edges\n"
          ]
        }
      ],
      "source": [
        "# Create the lazy graph from ArangoDB and materialize it.\n",
        "G_adb = nxadb.MultiDiGraph(name=\"FLIGHTS\", db=db)\n",
        "G_adb = materialize_graph(G_adb)\n",
        "print(\"Graph materialized and loaded into memory.\")\n",
        "\n",
        "print(G_adb)"
      ]
    },
    {
      "cell_type": "code",
      "execution_count": 14,
      "metadata": {
        "colab": {
          "base_uri": "https://localhost:8080/"
        },
        "id": "F2haxxDWqe2g",
        "outputId": "50243e90-7566-4a5c-ba36-61f159dbaa48"
      },
      "outputs": [
        {
          "output_type": "execute_result",
          "data": {
            "text/plain": [
              "15270"
            ]
          },
          "metadata": {},
          "execution_count": 14
        }
      ],
      "source": [
        "# Example: Print the degree of a specific airport node.\n",
        "G_adb.degree(\"airports/IAH\")"
      ]
    },
    {
      "cell_type": "markdown",
      "metadata": {
        "id": "J2vxW1P2qe2h"
      },
      "source": [
        "## Building the Agentic App with LangChain & LangGraph"
      ]
    },
    {
      "cell_type": "markdown",
      "metadata": {
        "id": "L-_6OZYoqe2h"
      },
      "source": [
        "In this section, the focus is on creating an intelligent application that processes natural language queries related to the flight network. Key aspects of this section include:\n",
        "\n",
        "#### **Agent Creation:**  \n",
        "  An agent is developed to interpret and process natural language queries. It is equipped with multiple tools that convert queries either to AQL for direct database interrogation or to executable Python code for NetworkX-based graph analysis.\n",
        "\n",
        "#### **Tool Integration:**  \n",
        "  Tools are integrated to handle distinct tasks:\n",
        "  - One tool translates natural language queries into AQL, executes them against the graph, and returns the results.\n",
        "  - Another tool converts queries into Python code, which is executed using NetworkX algorithms to perform tasks like graph traversal and centrality calculations.\n",
        "  - A hybrid approach is implemented to decompose complex queries into manageable sub-tasks, ensuring that each sub-task produces a concise output.\n",
        "\n",
        "#### **Execution Flow:**  \n",
        "  The process involves three primary steps:\n",
        "  1. **Query Translation:** Natural language queries are transformed into either AQL or Python code.\n",
        "  2. **Code Execution:** The generated code is executed on the materialized FLIGHTS graph to obtain relevant metrics and insights.\n",
        "  3. **Result Synthesis:** The outputs are synthesized into a clear and concise final answer that addresses the original query.\n",
        "\n",
        "#### **Frameworks and Libraries:**  \n",
        "  The application leverages LangChain for language model interactions, LangGraph for graph-based functionalities, and NetworkX for in-memory graph analysis. Rich is also used to enhance console output with detailed step-by-step information.\n",
        "\n",
        "This section demonstrates the integration of advanced language processing with graph analytics, providing the framework necessary for interactive and insightful analysis of the flight network."
      ]
    },
    {
      "cell_type": "markdown",
      "metadata": {
        "id": "Fr7VSCyUqe2h"
      },
      "source": [
        "<p align=\"center\">\n",
        "    <img src=\"https://raw.githubusercontent.com/SivaTSS/flight_graph_agent/main/images/pipeline.png\" style=\"height: 500px;\">\n",
        "</p>"
      ]
    },
    {
      "cell_type": "code",
      "execution_count": 15,
      "metadata": {
        "id": "XCc-axD_qe2h"
      },
      "outputs": [],
      "source": [
        "# Create the ArangoGraph LangChain wrapper\n",
        "arango_graph = ArangoGraph(db)"
      ]
    },
    {
      "cell_type": "code",
      "execution_count": 16,
      "metadata": {
        "colab": {
          "base_uri": "https://localhost:8080/"
        },
        "id": "BvooZw1zqe2h",
        "outputId": "78a7cb44-2639-4735-dfb6-895e9a725481"
      },
      "outputs": [
        {
          "output_type": "execute_result",
          "data": {
            "text/plain": [
              "{'Graph Schema': [{'graph_name': 'FLIGHTS',\n",
              "   'edge_definitions': [{'edge_collection': 'flights',\n",
              "     'from_vertex_collections': ['airports'],\n",
              "     'to_vertex_collections': ['airports']}]}],\n",
              " 'Collection Schema': [{'collection_name': 'airports',\n",
              "   'collection_type': 'document',\n",
              "   'document_properties': [{'name': '_key', 'type': 'str'},\n",
              "    {'name': '_id', 'type': 'str'},\n",
              "    {'name': '_rev', 'type': 'str'},\n",
              "    {'name': 'name', 'type': 'str'},\n",
              "    {'name': 'city', 'type': 'str'},\n",
              "    {'name': 'state', 'type': 'str'},\n",
              "    {'name': 'country', 'type': 'str'},\n",
              "    {'name': 'lat', 'type': 'float'},\n",
              "    {'name': 'long', 'type': 'float'},\n",
              "    {'name': 'vip', 'type': 'bool'}],\n",
              "   'example_document': {'_key': '00M',\n",
              "    '_id': 'airports/00M',\n",
              "    '_rev': '_jVk9JKu---',\n",
              "    'name': 'Thigpen ',\n",
              "    'city': 'Bay Springs',\n",
              "    'state': 'MS',\n",
              "    'country': 'USA',\n",
              "    'lat': 31.95376472,\n",
              "    'long': -89.23450472,\n",
              "    'vip': False}},\n",
              "  {'collection_name': 'flights',\n",
              "   'collection_type': 'edge',\n",
              "   'edge_properties': [{'name': '_key', 'type': 'str'},\n",
              "    {'name': '_id', 'type': 'str'},\n",
              "    {'name': '_from', 'type': 'str'},\n",
              "    {'name': '_to', 'type': 'str'},\n",
              "    {'name': '_rev', 'type': 'str'},\n",
              "    {'name': 'Year', 'type': 'int'},\n",
              "    {'name': 'Month', 'type': 'int'},\n",
              "    {'name': 'Day', 'type': 'int'},\n",
              "    {'name': 'DayOfWeek', 'type': 'int'},\n",
              "    {'name': 'DepTime', 'type': 'int'},\n",
              "    {'name': 'ArrTime', 'type': 'int'},\n",
              "    {'name': 'DepTimeUTC', 'type': 'str'},\n",
              "    {'name': 'ArrTimeUTC', 'type': 'str'},\n",
              "    {'name': 'UniqueCarrier', 'type': 'str'},\n",
              "    {'name': 'FlightNum', 'type': 'int'},\n",
              "    {'name': 'TailNum', 'type': 'str'},\n",
              "    {'name': 'Distance', 'type': 'int'}],\n",
              "   'example_edge': {'_key': '306520629',\n",
              "    '_id': 'flights/306520629',\n",
              "    '_from': 'airports/ATL',\n",
              "    '_to': 'airports/CHS',\n",
              "    '_rev': '_jVk9djm---',\n",
              "    'Year': 2008,\n",
              "    'Month': 1,\n",
              "    'Day': 1,\n",
              "    'DayOfWeek': 2,\n",
              "    'DepTime': 2,\n",
              "    'ArrTime': 57,\n",
              "    'DepTimeUTC': '2008-01-01T05:02:00.000Z',\n",
              "    'ArrTimeUTC': '2008-01-01T05:57:00.000Z',\n",
              "    'UniqueCarrier': 'FL',\n",
              "    'FlightNum': 579,\n",
              "    'TailNum': 'N937AT',\n",
              "    'Distance': 259}}]}"
            ]
          },
          "metadata": {},
          "execution_count": 16
        }
      ],
      "source": [
        "arango_graph.schema"
      ]
    },
    {
      "cell_type": "code",
      "execution_count": 17,
      "metadata": {
        "id": "M7sKI5pWqe2h"
      },
      "outputs": [],
      "source": [
        "# Set openai api key\n",
        "import os\n",
        "os.environ[\"OPENAI_API_KEY\"] = key_data[\"openai_api_key\"]\n",
        "\n",
        "model_name=\"gpt-4o-mini\""
      ]
    },
    {
      "cell_type": "code",
      "execution_count": 18,
      "metadata": {
        "id": "hwbcSvQCqe2h"
      },
      "outputs": [],
      "source": [
        "from rich.console import Console\n",
        "from rich.panel import Panel\n",
        "from rich.rule import Rule\n",
        "from rich.text import Text\n",
        "\n",
        "# Initialize the Rich console for colored output\n",
        "console = Console()"
      ]
    },
    {
      "cell_type": "code",
      "execution_count": 19,
      "metadata": {
        "id": "50rlZk5_qe2h"
      },
      "outputs": [],
      "source": [
        "# Text to AQL Tool\n",
        "\n",
        "@tool\n",
        "def text_to_aql_to_text(query: str):\n",
        "    \"\"\"This tool is available to invoke the\n",
        "    ArangoGraphQAChain object, which enables you to\n",
        "    translate a Natural Language Query into AQL, execute\n",
        "    the query, and translate the result back into Natural Language.\n",
        "    \"\"\"\n",
        "\n",
        "    chain = ArangoGraphQAChain.from_llm(\n",
        "    \tllm=llm,\n",
        "    \tgraph=arango_graph,\n",
        "    \tverbose=True,\n",
        "        allow_dangerous_requests=True,\n",
        "        max_aql_generation_attempts=1\n",
        "    )\n",
        "\n",
        "    result = chain.invoke(query)\n",
        "\n",
        "    return str(result[\"result\"])"
      ]
    },
    {
      "cell_type": "code",
      "execution_count": 20,
      "metadata": {
        "id": "vAv1nMJVqe2i"
      },
      "outputs": [],
      "source": [
        "# Text to NetworkX/cuGraph Tool with code corrector\n",
        "\n",
        "@tool\n",
        "def text_to_nx_algorithm_to_text(query):\n",
        "    \"\"\"This tool is available to invoke a NetworkX Algorithm on\n",
        "    the ArangoDB Graph. You are responsible for accepting the\n",
        "    Natural Language Query, establishing which algorithm needs to\n",
        "    be executed, executing the algorithm, and translating the results back\n",
        "    to Natural Language, with respect to the original query.\n",
        "\n",
        "    If the query (e.g traversals, shortest path, etc.) can be solved using the Arango Query Language, then do not use\n",
        "    this tool.\n",
        "    \"\"\"\n",
        "\n",
        "\n",
        "    # --- Step 1: Generate NetworkX Code ---\n",
        "\n",
        "    console.rule(\"[bold cyan]Step 1: Generating NetworkX Code[/bold cyan]\")\n",
        "\n",
        "    text_to_nx = llm.invoke(f\"\"\"\n",
        "    I have a NetworkX Graph called `G_adb`. It has the following schema: {arango_graph.schema}\n",
        "\n",
        "    I have the following graph analysis query: {query}.\n",
        "\n",
        "    Generate the Python Code required to answer the query using the `G_adb` object.\n",
        "\n",
        "    Be very precise on the NetworkX algorithm you select to answer this query. Think step by step.\n",
        "\n",
        "    Only assume that networkx is installed, and other base python dependencies.\n",
        "\n",
        "    Always set the last variable as `FINAL_RESULT`, which represents the answer to the original query.\n",
        "\n",
        "    Only provide python code that I can directly execute via `exec()`. Do not provide any instructions.\n",
        "\n",
        "    Make sure that `FINAL_RESULT` stores a short & concise answer. Avoid setting this variable to a long sequence.\n",
        "\n",
        "    Your code:\n",
        "    \"\"\").content\n",
        "\n",
        "    text_to_nx_cleaned = re.sub(r\"^```python\\n|```$\", \"\", text_to_nx, flags=re.MULTILINE).strip()\n",
        "\n",
        "    console.rule(\"[bold green]Generated NetworkX Code[/bold green]\")\n",
        "    console.print(text_to_nx_cleaned, style=\"green\")\n",
        "    console.rule()\n",
        "\n",
        "\n",
        "    # --- Step 2: Execute Generated Code with code corrector---\n",
        "\n",
        "    console.rule(\"[bold cyan]Step 2: Executing NetworkX Code[/bold cyan]\")\n",
        "    global_vars = {\"G_adb\": G_adb, \"nx\": nx}\n",
        "    local_vars = {}\n",
        "    current_code = text_to_nx_cleaned\n",
        "    success = False\n",
        "\n",
        "    # Code corrector implementation\n",
        "    attempt = 1\n",
        "    MAX_ATTEMPTS = 3\n",
        "\n",
        "\n",
        "    while attempt <= MAX_ATTEMPTS and not success:\n",
        "        console.print(f\"[bold blue]Attempt {attempt}: Executing code[/bold blue]\")\n",
        "        try:\n",
        "            exec(current_code, global_vars, local_vars)\n",
        "            success = True\n",
        "        except Exception as e:\n",
        "            error_message = str(e)\n",
        "            print(f\"EXEC ERROR on attempt {attempt}: {error_message}\")\n",
        "\n",
        "            correction_prompt = f\"\"\"\n",
        "            I have the following Python code that is intended to operate on a NetworkX Graph called `G_adb` with the schema: {arango_graph.schema}\n",
        "\n",
        "            The code was generated to answer the graph analysis query: {query}.\n",
        "\n",
        "            However, when executing, it produced the following error: {error_message}\n",
        "\n",
        "            Please correct the Python code to fix this error. Ensure that the final variable `FINAL_RESULT` contains a short and concise answer to the query.\n",
        "\n",
        "            Only provide corrected Python code that can be directly executed via `exec()`, without any additional explanation.\n",
        "\n",
        "            Make sure that `FINAL_RESULT` stores a short & concise answer. Avoid setting this variable to a long sequence.\n",
        "\n",
        "            Your corrected code:\n",
        "            \"\"\"\n",
        "            corrected_code = llm.invoke(correction_prompt).content\n",
        "            current_code = re.sub(r\"^```python\\n|```$\", \"\", corrected_code, flags=re.MULTILINE).strip()\n",
        "            console.print(\"[bold yellow]Corrected Code:[/bold yellow]\")\n",
        "            console.print(current_code, style=\"yellow\")\n",
        "            attempt += 1\n",
        "            local_vars = {}\n",
        "\n",
        "    if not success:\n",
        "        return f\"EXEC ERROR after {MAX_ATTEMPTS} attempts: {error_message}\"\n",
        "\n",
        "    console.rule(\"[bold green]Final Execution Result[/bold green]\")\n",
        "    FINAL_RESULT = local_vars[\"FINAL_RESULT\"]\n",
        "    console.print(f\"[bold magenta]FINAL_RESULT:[/bold magenta] {FINAL_RESULT}\", style=\"magenta\")\n",
        "    console.rule()\n",
        "\n",
        "    # --- Step 3: Generate Final Answer ---\n",
        "\n",
        "    console.rule(\"[bold cyan]Step 3: Formulating Final Answer[/bold cyan]\")\n",
        "\n",
        "    nx_to_text = llm.invoke(f\"\"\"\n",
        "        I have a NetworkX Graph called `G_adb`. It has the following schema: {arango_graph.schema}\n",
        "\n",
        "        I have the following graph analysis query: {query}.\n",
        "\n",
        "        I have executed the following python code to help me answer my query:\n",
        "\n",
        "        ---\n",
        "        {current_code}\n",
        "        ---\n",
        "\n",
        "        The `FINAL_RESULT` variable is set to the following: {FINAL_RESULT}.\n",
        "\n",
        "        Based on my original Query and FINAL_RESULT, generate a short and concise response to\n",
        "        answer my query.\n",
        "\n",
        "        Your response:\n",
        "    \"\"\").content\n",
        "    console.rule(\"[bold green]Final Answer Generated[/bold green]\")\n",
        "    return nx_to_text"
      ]
    },
    {
      "cell_type": "code",
      "execution_count": 21,
      "metadata": {
        "id": "UEqs-FPFqe2i"
      },
      "outputs": [],
      "source": [
        "import yaml\n",
        "def print_section(title, message=None):\n",
        "    \"\"\"\n",
        "    Helper function to print a section header and an optional message using Rich.\n",
        "    \"\"\"\n",
        "    header = f\"[bold cyan]== {title} ==\"\n",
        "    if message:\n",
        "        panel = Panel(Text(message), title=header, expand=False)\n",
        "    else:\n",
        "        panel = Panel(\"\", title=header, expand=False)\n",
        "    console.print(panel)\n",
        "\n",
        "def query_graph_taskwise(query):\n",
        "    \"\"\"\n",
        "    Process a graph query task using the task-wise agent approach.\n",
        "    \"\"\"\n",
        "    llm_task_wise = ChatOpenAI(temperature=0, model_name=model_name)\n",
        "    tools = [text_to_aql_to_text, text_to_nx_algorithm_to_text]\n",
        "    app = create_react_agent(llm_task_wise, tools)\n",
        "    final_state = app.invoke({\"messages\": [{\"role\": \"user\", \"content\": query}]})\n",
        "    return final_state[\"messages\"][-1].content\n"
      ]
    },
    {
      "cell_type": "code",
      "execution_count": 22,
      "metadata": {
        "id": "J0Wi4Ddwqe2i"
      },
      "outputs": [],
      "source": [
        "# Define a hybrid tool to split a complex query into manageable sub-tasks.\n",
        "@tool\n",
        "def text_to_hybrid_model_to_text(query: str):\n",
        "    \"\"\"\n",
        "    This tool is available to answer a graph analysis query on the ArangoDB Graph using a hybrid approach.\n",
        "    It splits the query into smaller, actionable sub-tasks when the original query is too complex for a\n",
        "    single AQL or code-based solution. Each sub-task must specify a limited output size (for example, top 10, top 20)\n",
        "    and ensure that no sub-task returns more than 25 items.\n",
        "    The results from sub-tasks are combined into a concise natural language answer.\n",
        "    \"\"\"\n",
        "\n",
        "    print_section(\"Hybrid Mode Activated\", f\"Processing query: {query}\")\n",
        "\n",
        "    # Split the query into simpler sub-tasks\n",
        "    split_prompt = f\"\"\"\n",
        "    I have an ArangoDB Database with the following schema: {arango_graph.schema}\n",
        "    The original query is: {query}\n",
        "    This query is complex. Please split it into 2 or 3 high-level, actionable sub-tasks that need to be performed.\n",
        "    IMPORTANT:\n",
        "      - Do NOT include any AQL queries or code in your output—only describe the sub-tasks succinctly.\n",
        "      - If a sub-task involves listing or ranking items (e.g., airlines), specify an output limit (for example, 'top 10', 'top 20').\n",
        "      - Ensure that no sub-task is expected to return more than 25 items.\n",
        "    Output your answer as a YAML list. For example:\n",
        "    - Determine the top 10 airlines based on flight volume.\n",
        "    - Compute a network metric (e.g., clustering coefficient) for these airlines, limiting results to the top 20.\n",
        "    Your response:\n",
        "    \"\"\"\n",
        "    sub_queries_yaml = llm.invoke(split_prompt).content.strip()\n",
        "    sub_queries_yaml = re.sub(r\"^```yaml\\n|```$\", \"\", sub_queries_yaml, flags=re.MULTILINE).strip()\n",
        "    print_section(\"LLM Returned YAML\", sub_queries_yaml)\n",
        "\n",
        "    try:\n",
        "        sub_queries = yaml.safe_load(sub_queries_yaml)\n",
        "        if not isinstance(sub_queries, list):\n",
        "            raise Exception(\"Parsed output is not a list.\")\n",
        "        print_section(\"Parsed Sub-Queries\", str(sub_queries))\n",
        "    except Exception as e:\n",
        "        print_section(\"Error Parsing YAML\", f\"{e}\\nUsing original query as single sub-task.\")\n",
        "        sub_queries = [query]\n",
        "\n",
        "    branch_results = []\n",
        "    for i, sub_query in enumerate(sub_queries):\n",
        "        print_section(f\"Processing Sub-Task {i+1}/{len(sub_queries)}\", sub_query)\n",
        "\n",
        "        # Include previously obtained results in the prompt context.\n",
        "        if branch_results:\n",
        "            context = \"\\n\".join([f\"Result {j+1}: {result}\" for j, result in enumerate(branch_results)])\n",
        "            context_prompt = f\"Previously obtained results:\\n{context}\\n\"\n",
        "        else:\n",
        "            context_prompt = \"\"\n",
        "\n",
        "        # Prepare a cumulative query that incorporates previous results.\n",
        "        cumulative_query = f\"\"\"\n",
        "        {context_prompt}\n",
        "        Now, process the following sub-task, taking into account the previous results:\n",
        "        {sub_query}\n",
        "        Provide an answer that builds on the previous information and ensure that any list output is limited (e.g., top 10, top 20, and not more than 25 items).\n",
        "        \"\"\"\n",
        "        sub_result = query_graph_taskwise(cumulative_query)\n",
        "        print_section(f\"Result for Sub-Task {i+1}\", sub_result)\n",
        "        branch_results.append(sub_result)\n",
        "\n",
        "    combine_prompt = f\"\"\"\n",
        "    I have the following answers from sub-tasks:\n",
        "    {branch_results}\n",
        "    Combine these results into a concise final answer to the original query:\n",
        "    {query}\n",
        "    Provide only the final answer.\n",
        "    \"\"\"\n",
        "    combined_result = llm.invoke(combine_prompt).content.strip()\n",
        "    print_section(\"Combined Final Result\", combined_result)\n",
        "    return combined_result\n"
      ]
    },
    {
      "cell_type": "code",
      "execution_count": 23,
      "metadata": {
        "id": "SOKTSXOcqe2i"
      },
      "outputs": [],
      "source": [
        "# Create the Agentic Application\n",
        "llm = ChatOpenAI(temperature=0, model_name=model_name)\n",
        "tools = [text_to_aql_to_text, text_to_nx_algorithm_to_text, text_to_hybrid_model_to_text]\n",
        "\n",
        "def query_graph(query):\n",
        "    app = create_react_agent(llm, tools)\n",
        "    final_state = app.invoke({\"messages\": [{\"role\": \"user\", \"content\": query}]})\n",
        "    return final_state[\"messages\"][-1].content"
      ]
    },
    {
      "cell_type": "markdown",
      "metadata": {
        "id": "JMhV5yPEqe2i"
      },
      "source": [
        "---\n",
        "### Sample Queries Execution"
      ]
    },
    {
      "cell_type": "code",
      "execution_count": 25,
      "metadata": {
        "scrolled": true,
        "colab": {
          "base_uri": "https://localhost:8080/",
          "height": 1000
        },
        "id": "aK3R0igTqe2x",
        "outputId": "91380137-5aa3-41e1-c794-ffa6c2b68f81"
      },
      "outputs": [
        {
          "output_type": "display_data",
          "data": {
            "text/plain": [
              "╭─────────────────────────── \u001b[1;36m== Hybrid Mode Activated ==\u001b[0m ───────────────────────────╮\n",
              "│ Processing query: Identify the airline operating the most flights in the dataset. │\n",
              "╰───────────────────────────────────────────────────────────────────────────────────╯\n"
            ],
            "text/html": [
              "<pre style=\"white-space:pre;overflow-x:auto;line-height:normal;font-family:Menlo,'DejaVu Sans Mono',consolas,'Courier New',monospace\">╭─────────────────────────── <span style=\"color: #008080; text-decoration-color: #008080; font-weight: bold\">== Hybrid Mode Activated ==</span> ───────────────────────────╮\n",
              "│ Processing query: Identify the airline operating the most flights in the dataset. │\n",
              "╰───────────────────────────────────────────────────────────────────────────────────╯\n",
              "</pre>\n"
            ]
          },
          "metadata": {}
        },
        {
          "output_type": "display_data",
          "data": {
            "text/plain": [
              "╭─────────────────────────────── \u001b[1;36m== LLM Returned YAML ==\u001b[0m ───────────────────────────────╮\n",
              "│ - Count the number of flights for each airline in the dataset.                        │\n",
              "│ - Identify the top 5 airlines with the highest flight counts.                         │\n",
              "│ - Retrieve details of the top airline, including its flight numbers and destinations. │\n",
              "╰───────────────────────────────────────────────────────────────────────────────────────╯\n"
            ],
            "text/html": [
              "<pre style=\"white-space:pre;overflow-x:auto;line-height:normal;font-family:Menlo,'DejaVu Sans Mono',consolas,'Courier New',monospace\">╭─────────────────────────────── <span style=\"color: #008080; text-decoration-color: #008080; font-weight: bold\">== LLM Returned YAML ==</span> ───────────────────────────────╮\n",
              "│ - Count the number of flights for each airline in the dataset.                        │\n",
              "│ - Identify the top 5 airlines with the highest flight counts.                         │\n",
              "│ - Retrieve details of the top airline, including its flight numbers and destinations. │\n",
              "╰───────────────────────────────────────────────────────────────────────────────────────╯\n",
              "</pre>\n"
            ]
          },
          "metadata": {}
        },
        {
          "output_type": "display_data",
          "data": {
            "text/plain": [
              "╭─────────────────────────────────────────── \u001b[1;36m== Parsed Sub-Queries ==\u001b[0m ────────────────────────────────────────────╮\n",
              "│ ['Count the number of flights for each airline in the dataset.', 'Identify the top 5 airlines with the highest  │\n",
              "│ flight counts.', 'Retrieve details of the top airline, including its flight numbers and destinations.']         │\n",
              "╰─────────────────────────────────────────────────────────────────────────────────────────────────────────────────╯\n"
            ],
            "text/html": [
              "<pre style=\"white-space:pre;overflow-x:auto;line-height:normal;font-family:Menlo,'DejaVu Sans Mono',consolas,'Courier New',monospace\">╭─────────────────────────────────────────── <span style=\"color: #008080; text-decoration-color: #008080; font-weight: bold\">== Parsed Sub-Queries ==</span> ────────────────────────────────────────────╮\n",
              "│ ['Count the number of flights for each airline in the dataset.', 'Identify the top 5 airlines with the highest  │\n",
              "│ flight counts.', 'Retrieve details of the top airline, including its flight numbers and destinations.']         │\n",
              "╰─────────────────────────────────────────────────────────────────────────────────────────────────────────────────╯\n",
              "</pre>\n"
            ]
          },
          "metadata": {}
        },
        {
          "output_type": "display_data",
          "data": {
            "text/plain": [
              "╭─────────────── \u001b[1;36m== Processing Sub-Task 1/3 ==\u001b[0m ────────────────╮\n",
              "│ Count the number of flights for each airline in the dataset. │\n",
              "╰──────────────────────────────────────────────────────────────╯\n"
            ],
            "text/html": [
              "<pre style=\"white-space:pre;overflow-x:auto;line-height:normal;font-family:Menlo,'DejaVu Sans Mono',consolas,'Courier New',monospace\">╭─────────────── <span style=\"color: #008080; text-decoration-color: #008080; font-weight: bold\">== Processing Sub-Task 1/3 ==</span> ────────────────╮\n",
              "│ Count the number of flights for each airline in the dataset. │\n",
              "╰──────────────────────────────────────────────────────────────╯\n",
              "</pre>\n"
            ]
          },
          "metadata": {}
        },
        {
          "output_type": "stream",
          "name": "stdout",
          "text": [
            "\n",
            "\n",
            "\u001b[1m> Entering new ArangoGraphQAChain chain...\u001b[0m\n",
            "AQL Query (1):\u001b[32;1m\u001b[1;3m\n",
            "WITH flights\n",
            "FOR flight IN flights\n",
            "    COLLECT airline = flight.UniqueCarrier INTO group\n",
            "    RETURN { airline: airline, count: LENGTH(group) }\n",
            "    LIMIT 10\n",
            "\u001b[0m\n",
            "AQL Query Execution Error: \n",
            "\u001b[33;1m\u001b[1;3msyntax error, unexpected LIMIT declaration, expecting end of query string near 'LIMIT 10\n",
            "' at position 6:5\u001b[0m\n",
            "\n",
            "\n",
            "\n",
            "\u001b[1m> Entering new ArangoGraphQAChain chain...\u001b[0m\n",
            "AQL Query (1):\u001b[32;1m\u001b[1;3m\n",
            "WITH flights\n",
            "FOR flight IN flights\n",
            "    COLLECT airline = flight.UniqueCarrier INTO group\n",
            "    LET flight_count = LENGTH(group)\n",
            "    SORT flight_count DESC\n",
            "    LIMIT 10\n",
            "    RETURN { airline, flight_count }\n",
            "\u001b[0m\n",
            "AQL Result:\n",
            "\u001b[32;1m\u001b[1;3m[{'airline': 'WN', 'flight_count': 48065}, {'airline': 'AA', 'flight_count': 24797}, {'airline': 'OO', 'flight_count': 22509}, {'airline': 'MQ', 'flight_count': 19945}, {'airline': 'US', 'flight_count': 18596}, {'airline': 'DL', 'flight_count': 18107}, {'airline': 'UA', 'flight_count': 17945}, {'airline': 'XE', 'flight_count': 16764}, {'airline': 'NW', 'flight_count': 15244}, {'airline': 'CO', 'flight_count': 12398}]\u001b[0m\n",
            "\n",
            "\u001b[1m> Finished chain.\u001b[0m\n"
          ]
        },
        {
          "output_type": "display_data",
          "data": {
            "text/plain": [
              "╭──────────────────────────────────── \u001b[1;36m== Result for Sub-Task 1 ==\u001b[0m ─────────────────────────────────────╮\n",
              "│ The top ten airlines by flight count are as follows:                                                 │\n",
              "│                                                                                                      │\n",
              "│ 1. **Southwest Airlines (WN)**: 48,065 flights                                                       │\n",
              "│ 2. **American Airlines (AA)**: 24,797 flights                                                        │\n",
              "│ 3. **SkyWest Airlines (OO)**: 22,509 flights                                                         │\n",
              "│ 4. **Envoy Air (MQ)**: 19,945 flights                                                                │\n",
              "│ 5. **US Airways (US)**: 18,596 flights                                                               │\n",
              "│ 6. **Delta Air Lines (DL)**: 18,107 flights                                                          │\n",
              "│ 7. **United Airlines (UA)**: 17,945 flights                                                          │\n",
              "│ 8. **ExpressJet Airlines (XE)**: 16,764 flights                                                      │\n",
              "│ 9. **Northwest Airlines (NW)**: 15,244 flights                                                       │\n",
              "│ 10. **Continental Airlines (CO)**: 12,398 flights                                                    │\n",
              "│                                                                                                      │\n",
              "│ This summary provides a clear view of the flight distribution among the top airlines in the dataset. │\n",
              "╰──────────────────────────────────────────────────────────────────────────────────────────────────────╯\n"
            ],
            "text/html": [
              "<pre style=\"white-space:pre;overflow-x:auto;line-height:normal;font-family:Menlo,'DejaVu Sans Mono',consolas,'Courier New',monospace\">╭──────────────────────────────────── <span style=\"color: #008080; text-decoration-color: #008080; font-weight: bold\">== Result for Sub-Task 1 ==</span> ─────────────────────────────────────╮\n",
              "│ The top ten airlines by flight count are as follows:                                                 │\n",
              "│                                                                                                      │\n",
              "│ 1. **Southwest Airlines (WN)**: 48,065 flights                                                       │\n",
              "│ 2. **American Airlines (AA)**: 24,797 flights                                                        │\n",
              "│ 3. **SkyWest Airlines (OO)**: 22,509 flights                                                         │\n",
              "│ 4. **Envoy Air (MQ)**: 19,945 flights                                                                │\n",
              "│ 5. **US Airways (US)**: 18,596 flights                                                               │\n",
              "│ 6. **Delta Air Lines (DL)**: 18,107 flights                                                          │\n",
              "│ 7. **United Airlines (UA)**: 17,945 flights                                                          │\n",
              "│ 8. **ExpressJet Airlines (XE)**: 16,764 flights                                                      │\n",
              "│ 9. **Northwest Airlines (NW)**: 15,244 flights                                                       │\n",
              "│ 10. **Continental Airlines (CO)**: 12,398 flights                                                    │\n",
              "│                                                                                                      │\n",
              "│ This summary provides a clear view of the flight distribution among the top airlines in the dataset. │\n",
              "╰──────────────────────────────────────────────────────────────────────────────────────────────────────╯\n",
              "</pre>\n"
            ]
          },
          "metadata": {}
        },
        {
          "output_type": "display_data",
          "data": {
            "text/plain": [
              "╭─────────────── \u001b[1;36m== Processing Sub-Task 2/3 ==\u001b[0m ───────────────╮\n",
              "│ Identify the top 5 airlines with the highest flight counts. │\n",
              "╰─────────────────────────────────────────────────────────────╯\n"
            ],
            "text/html": [
              "<pre style=\"white-space:pre;overflow-x:auto;line-height:normal;font-family:Menlo,'DejaVu Sans Mono',consolas,'Courier New',monospace\">╭─────────────── <span style=\"color: #008080; text-decoration-color: #008080; font-weight: bold\">== Processing Sub-Task 2/3 ==</span> ───────────────╮\n",
              "│ Identify the top 5 airlines with the highest flight counts. │\n",
              "╰─────────────────────────────────────────────────────────────╯\n",
              "</pre>\n"
            ]
          },
          "metadata": {}
        },
        {
          "output_type": "display_data",
          "data": {
            "text/plain": [
              "╭────────────────────────────────────────── \u001b[1;36m== Result for Sub-Task 2 ==\u001b[0m ──────────────────────────────────────────╮\n",
              "│ Based on the previously obtained results, the top 5 airlines with the highest flight counts are:                │\n",
              "│                                                                                                                 │\n",
              "│ 1. **Southwest Airlines (WN)**: 48,065 flights                                                                  │\n",
              "│ 2. **American Airlines (AA)**: 24,797 flights                                                                   │\n",
              "│ 3. **SkyWest Airlines (OO)**: 22,509 flights                                                                    │\n",
              "│ 4. **Envoy Air (MQ)**: 19,945 flights                                                                           │\n",
              "│ 5. **US Airways (US)**: 18,596 flights                                                                          │\n",
              "│                                                                                                                 │\n",
              "│ This list highlights the leading airlines in terms of flight volume, providing a clear view of the top          │\n",
              "│ performers in the dataset.                                                                                      │\n",
              "╰─────────────────────────────────────────────────────────────────────────────────────────────────────────────────╯\n"
            ],
            "text/html": [
              "<pre style=\"white-space:pre;overflow-x:auto;line-height:normal;font-family:Menlo,'DejaVu Sans Mono',consolas,'Courier New',monospace\">╭────────────────────────────────────────── <span style=\"color: #008080; text-decoration-color: #008080; font-weight: bold\">== Result for Sub-Task 2 ==</span> ──────────────────────────────────────────╮\n",
              "│ Based on the previously obtained results, the top 5 airlines with the highest flight counts are:                │\n",
              "│                                                                                                                 │\n",
              "│ 1. **Southwest Airlines (WN)**: 48,065 flights                                                                  │\n",
              "│ 2. **American Airlines (AA)**: 24,797 flights                                                                   │\n",
              "│ 3. **SkyWest Airlines (OO)**: 22,509 flights                                                                    │\n",
              "│ 4. **Envoy Air (MQ)**: 19,945 flights                                                                           │\n",
              "│ 5. **US Airways (US)**: 18,596 flights                                                                          │\n",
              "│                                                                                                                 │\n",
              "│ This list highlights the leading airlines in terms of flight volume, providing a clear view of the top          │\n",
              "│ performers in the dataset.                                                                                      │\n",
              "╰─────────────────────────────────────────────────────────────────────────────────────────────────────────────────╯\n",
              "</pre>\n"
            ]
          },
          "metadata": {}
        },
        {
          "output_type": "display_data",
          "data": {
            "text/plain": [
              "╭─────────────────────────── \u001b[1;36m== Processing Sub-Task 3/3 ==\u001b[0m ───────────────────────────╮\n",
              "│ Retrieve details of the top airline, including its flight numbers and destinations. │\n",
              "╰─────────────────────────────────────────────────────────────────────────────────────╯\n"
            ],
            "text/html": [
              "<pre style=\"white-space:pre;overflow-x:auto;line-height:normal;font-family:Menlo,'DejaVu Sans Mono',consolas,'Courier New',monospace\">╭─────────────────────────── <span style=\"color: #008080; text-decoration-color: #008080; font-weight: bold\">== Processing Sub-Task 3/3 ==</span> ───────────────────────────╮\n",
              "│ Retrieve details of the top airline, including its flight numbers and destinations. │\n",
              "╰─────────────────────────────────────────────────────────────────────────────────────╯\n",
              "</pre>\n"
            ]
          },
          "metadata": {}
        },
        {
          "output_type": "stream",
          "name": "stdout",
          "text": [
            "\n",
            "\n",
            "\u001b[1m> Entering new ArangoGraphQAChain chain...\u001b[0m\n",
            "AQL Query (1):\u001b[32;1m\u001b[1;3m\n",
            "WITH airports, flights\n",
            "FOR flight IN flights\n",
            "    FILTER flight.UniqueCarrier == 'WN'\n",
            "    RETURN { \n",
            "        FlightNum: flight.FlightNum, \n",
            "        Destination: flight._to \n",
            "    }\n",
            "\u001b[0m\n",
            "AQL Result:\n",
            "\u001b[32;1m\u001b[1;3m[{'FlightNum': 680, 'Destination': 'airports/PBI'}, {'FlightNum': 3945, 'Destination': 'airports/BNA'}, {'FlightNum': 3558, 'Destination': 'airports/MCI'}, {'FlightNum': 106, 'Destination': 'airports/BWI'}, {'FlightNum': 1100, 'Destination': 'airports/TPA'}, {'FlightNum': 174, 'Destination': 'airports/DTW'}, {'FlightNum': 1663, 'Destination': 'airports/PHL'}, {'FlightNum': 2998, 'Destination': 'airports/PHL'}, {'FlightNum': 823, 'Destination': 'airports/PHX'}, {'FlightNum': 2449, 'Destination': 'airports/SAN'}]\u001b[0m\n",
            "\n",
            "\u001b[1m> Finished chain.\u001b[0m\n"
          ]
        },
        {
          "output_type": "display_data",
          "data": {
            "text/plain": [
              "╭────────────────────────────────────────── \u001b[1;36m== Result for Sub-Task 3 ==\u001b[0m ──────────────────────────────────────────╮\n",
              "│ Here are the details for Southwest Airlines (WN), the top airline by flight count, including its flight numbers │\n",
              "│ and destinations:                                                                                               │\n",
              "│                                                                                                                 │\n",
              "│ 1. **Flight Number:** 680, **Destination:** Palm Beach International Airport (PBI)                              │\n",
              "│ 2. **Flight Number:** 3945, **Destination:** Nashville International Airport (BNA)                              │\n",
              "│ 3. **Flight Number:** 3558, **Destination:** Kansas City International Airport (MCI)                            │\n",
              "│ 4. **Flight Number:** 106, **Destination:** Baltimore/Washington International Thurgood Marshall Airport (BWI)  │\n",
              "│ 5. **Flight Number:** 1100, **Destination:** Tampa International Airport (TPA)                                  │\n",
              "│ 6. **Flight Number:** 174, **Destination:** Detroit Metropolitan Wayne County Airport (DTW)                     │\n",
              "│ 7. **Flight Number:** 1663, **Destination:** Philadelphia International Airport (PHL)                           │\n",
              "│ 8. **Flight Number:** 2998, **Destination:** Philadelphia International Airport (PHL)                           │\n",
              "│ 9. **Flight Number:** 823, **Destination:** Phoenix Sky Harbor International Airport (PHX)                      │\n",
              "│ 10. **Flight Number:** 2449, **Destination:** San Diego International Airport (SAN)                             │\n",
              "│                                                                                                                 │\n",
              "│ This list provides a clear overview of some of the flights operated by Southwest Airlines, showcasing its       │\n",
              "│ extensive network.                                                                                              │\n",
              "╰─────────────────────────────────────────────────────────────────────────────────────────────────────────────────╯\n"
            ],
            "text/html": [
              "<pre style=\"white-space:pre;overflow-x:auto;line-height:normal;font-family:Menlo,'DejaVu Sans Mono',consolas,'Courier New',monospace\">╭────────────────────────────────────────── <span style=\"color: #008080; text-decoration-color: #008080; font-weight: bold\">== Result for Sub-Task 3 ==</span> ──────────────────────────────────────────╮\n",
              "│ Here are the details for Southwest Airlines (WN), the top airline by flight count, including its flight numbers │\n",
              "│ and destinations:                                                                                               │\n",
              "│                                                                                                                 │\n",
              "│ 1. **Flight Number:** 680, **Destination:** Palm Beach International Airport (PBI)                              │\n",
              "│ 2. **Flight Number:** 3945, **Destination:** Nashville International Airport (BNA)                              │\n",
              "│ 3. **Flight Number:** 3558, **Destination:** Kansas City International Airport (MCI)                            │\n",
              "│ 4. **Flight Number:** 106, **Destination:** Baltimore/Washington International Thurgood Marshall Airport (BWI)  │\n",
              "│ 5. **Flight Number:** 1100, **Destination:** Tampa International Airport (TPA)                                  │\n",
              "│ 6. **Flight Number:** 174, **Destination:** Detroit Metropolitan Wayne County Airport (DTW)                     │\n",
              "│ 7. **Flight Number:** 1663, **Destination:** Philadelphia International Airport (PHL)                           │\n",
              "│ 8. **Flight Number:** 2998, **Destination:** Philadelphia International Airport (PHL)                           │\n",
              "│ 9. **Flight Number:** 823, **Destination:** Phoenix Sky Harbor International Airport (PHX)                      │\n",
              "│ 10. **Flight Number:** 2449, **Destination:** San Diego International Airport (SAN)                             │\n",
              "│                                                                                                                 │\n",
              "│ This list provides a clear overview of some of the flights operated by Southwest Airlines, showcasing its       │\n",
              "│ extensive network.                                                                                              │\n",
              "╰─────────────────────────────────────────────────────────────────────────────────────────────────────────────────╯\n",
              "</pre>\n"
            ]
          },
          "metadata": {}
        },
        {
          "output_type": "display_data",
          "data": {
            "text/plain": [
              "╭────────────────────────────────────────── \u001b[1;36m== Combined Final Result ==\u001b[0m ──────────────────────────────────────────╮\n",
              "│ The airline operating the most flights in the dataset is **Southwest Airlines (WN)**, with a total of 48,065    │\n",
              "│ flights.                                                                                                        │\n",
              "╰─────────────────────────────────────────────────────────────────────────────────────────────────────────────────╯\n"
            ],
            "text/html": [
              "<pre style=\"white-space:pre;overflow-x:auto;line-height:normal;font-family:Menlo,'DejaVu Sans Mono',consolas,'Courier New',monospace\">╭────────────────────────────────────────── <span style=\"color: #008080; text-decoration-color: #008080; font-weight: bold\">== Combined Final Result ==</span> ──────────────────────────────────────────╮\n",
              "│ The airline operating the most flights in the dataset is **Southwest Airlines (WN)**, with a total of 48,065    │\n",
              "│ flights.                                                                                                        │\n",
              "╰─────────────────────────────────────────────────────────────────────────────────────────────────────────────────╯\n",
              "</pre>\n"
            ]
          },
          "metadata": {}
        },
        {
          "output_type": "execute_result",
          "data": {
            "text/plain": [
              "'The airline operating the most flights in the dataset is **Southwest Airlines (WN)**, with a total of 48,065 flights.'"
            ],
            "application/vnd.google.colaboratory.intrinsic+json": {
              "type": "string"
            }
          },
          "metadata": {},
          "execution_count": 25
        }
      ],
      "source": [
        "query_graph(\"Identify the airline operating the most flights in the dataset.\")"
      ]
    },
    {
      "cell_type": "code",
      "execution_count": 27,
      "metadata": {
        "scrolled": true,
        "colab": {
          "base_uri": "https://localhost:8080/",
          "height": 371
        },
        "id": "ZTwy6nGEqe2x",
        "outputId": "3b6abddd-391b-4064-a650-fa09c0a6292c"
      },
      "outputs": [
        {
          "output_type": "display_data",
          "data": {
            "text/plain": [
              "\u001b[92m──────────────────────────────────────── \u001b[0m\u001b[1;36mStep \u001b[0m\u001b[1;36m1\u001b[0m\u001b[1;36m: Generating NetworkX Code\u001b[0m\u001b[92m ─────────────────────────────────────────\u001b[0m\n"
            ],
            "text/html": [
              "<pre style=\"white-space:pre;overflow-x:auto;line-height:normal;font-family:Menlo,'DejaVu Sans Mono',consolas,'Courier New',monospace\"><span style=\"color: #00ff00; text-decoration-color: #00ff00\">──────────────────────────────────────── </span><span style=\"color: #008080; text-decoration-color: #008080; font-weight: bold\">Step </span><span style=\"color: #008080; text-decoration-color: #008080; font-weight: bold\">1</span><span style=\"color: #008080; text-decoration-color: #008080; font-weight: bold\">: Generating NetworkX Code</span><span style=\"color: #00ff00; text-decoration-color: #00ff00\"> ─────────────────────────────────────────</span>\n",
              "</pre>\n"
            ]
          },
          "metadata": {}
        },
        {
          "output_type": "display_data",
          "data": {
            "text/plain": [
              "\u001b[92m───────────────────────────────────────────── \u001b[0m\u001b[1;32mGenerated NetworkX Code\u001b[0m\u001b[92m ─────────────────────────────────────────────\u001b[0m\n"
            ],
            "text/html": [
              "<pre style=\"white-space:pre;overflow-x:auto;line-height:normal;font-family:Menlo,'DejaVu Sans Mono',consolas,'Courier New',monospace\"><span style=\"color: #00ff00; text-decoration-color: #00ff00\">───────────────────────────────────────────── </span><span style=\"color: #008000; text-decoration-color: #008000; font-weight: bold\">Generated NetworkX Code</span><span style=\"color: #00ff00; text-decoration-color: #00ff00\"> ─────────────────────────────────────────────</span>\n",
              "</pre>\n"
            ]
          },
          "metadata": {}
        },
        {
          "output_type": "display_data",
          "data": {
            "text/plain": [
              "\u001b[32mimport networkx as nx\u001b[0m\n",
              "\n",
              "\u001b[32m# Assuming G_adb is already defined as a NetworkX graph\u001b[0m\n",
              "\u001b[32m# Calculate betweenness centrality for all nodes in the graph\u001b[0m\n",
              "\u001b[32mbetweenness_centrality = \u001b[0m\u001b[1;35mnx.betweenness_centrality\u001b[0m\u001b[1;32m(\u001b[0m\u001b[32mG_adb\u001b[0m\u001b[1;32m)\u001b[0m\n",
              "\n",
              "\u001b[32m# Find the airport with the highest betweenness centrality\u001b[0m\n",
              "\u001b[32mhighest_betweenness_airport = \u001b[0m\u001b[1;35mmax\u001b[0m\u001b[1;32m(\u001b[0m\u001b[32mbetweenness_centrality, \u001b[0m\u001b[33mkey\u001b[0m\u001b[32m=\u001b[0m\u001b[35mbetweenness_centrality\u001b[0m\u001b[32m.get\u001b[0m\u001b[1;32m)\u001b[0m\n",
              "\n",
              "\u001b[32m# Store the result in FINAL_RESULT\u001b[0m\n",
              "\u001b[32mFINAL_RESULT = highest_betweenness_airport\u001b[0m\n"
            ],
            "text/html": [
              "<pre style=\"white-space:pre;overflow-x:auto;line-height:normal;font-family:Menlo,'DejaVu Sans Mono',consolas,'Courier New',monospace\"><span style=\"color: #008000; text-decoration-color: #008000\">import networkx as nx</span>\n",
              "\n",
              "<span style=\"color: #008000; text-decoration-color: #008000\"># Assuming G_adb is already defined as a NetworkX graph</span>\n",
              "<span style=\"color: #008000; text-decoration-color: #008000\"># Calculate betweenness centrality for all nodes in the graph</span>\n",
              "<span style=\"color: #008000; text-decoration-color: #008000\">betweenness_centrality = </span><span style=\"color: #800080; text-decoration-color: #800080; font-weight: bold\">nx.betweenness_centrality</span><span style=\"color: #008000; text-decoration-color: #008000; font-weight: bold\">(</span><span style=\"color: #008000; text-decoration-color: #008000\">G_adb</span><span style=\"color: #008000; text-decoration-color: #008000; font-weight: bold\">)</span>\n",
              "\n",
              "<span style=\"color: #008000; text-decoration-color: #008000\"># Find the airport with the highest betweenness centrality</span>\n",
              "<span style=\"color: #008000; text-decoration-color: #008000\">highest_betweenness_airport = </span><span style=\"color: #800080; text-decoration-color: #800080; font-weight: bold\">max</span><span style=\"color: #008000; text-decoration-color: #008000; font-weight: bold\">(</span><span style=\"color: #008000; text-decoration-color: #008000\">betweenness_centrality, </span><span style=\"color: #808000; text-decoration-color: #808000\">key</span><span style=\"color: #008000; text-decoration-color: #008000\">=</span><span style=\"color: #800080; text-decoration-color: #800080\">betweenness_centrality</span><span style=\"color: #008000; text-decoration-color: #008000\">.get</span><span style=\"color: #008000; text-decoration-color: #008000; font-weight: bold\">)</span>\n",
              "\n",
              "<span style=\"color: #008000; text-decoration-color: #008000\"># Store the result in FINAL_RESULT</span>\n",
              "<span style=\"color: #008000; text-decoration-color: #008000\">FINAL_RESULT = highest_betweenness_airport</span>\n",
              "</pre>\n"
            ]
          },
          "metadata": {}
        },
        {
          "output_type": "display_data",
          "data": {
            "text/plain": [
              "\u001b[92m───────────────────────────────────────────────────────────────────────────────────────────────────────────────────\u001b[0m\n"
            ],
            "text/html": [
              "<pre style=\"white-space:pre;overflow-x:auto;line-height:normal;font-family:Menlo,'DejaVu Sans Mono',consolas,'Courier New',monospace\"><span style=\"color: #00ff00; text-decoration-color: #00ff00\">───────────────────────────────────────────────────────────────────────────────────────────────────────────────────</span>\n",
              "</pre>\n"
            ]
          },
          "metadata": {}
        },
        {
          "output_type": "display_data",
          "data": {
            "text/plain": [
              "\u001b[92m───────────────────────────────────────── \u001b[0m\u001b[1;36mStep \u001b[0m\u001b[1;36m2\u001b[0m\u001b[1;36m: Executing NetworkX Code\u001b[0m\u001b[92m ─────────────────────────────────────────\u001b[0m\n"
            ],
            "text/html": [
              "<pre style=\"white-space:pre;overflow-x:auto;line-height:normal;font-family:Menlo,'DejaVu Sans Mono',consolas,'Courier New',monospace\"><span style=\"color: #00ff00; text-decoration-color: #00ff00\">───────────────────────────────────────── </span><span style=\"color: #008080; text-decoration-color: #008080; font-weight: bold\">Step </span><span style=\"color: #008080; text-decoration-color: #008080; font-weight: bold\">2</span><span style=\"color: #008080; text-decoration-color: #008080; font-weight: bold\">: Executing NetworkX Code</span><span style=\"color: #00ff00; text-decoration-color: #00ff00\"> ─────────────────────────────────────────</span>\n",
              "</pre>\n"
            ]
          },
          "metadata": {}
        },
        {
          "output_type": "display_data",
          "data": {
            "text/plain": [
              "\u001b[1;34mAttempt \u001b[0m\u001b[1;34m1\u001b[0m\u001b[1;34m: Executing code\u001b[0m\n"
            ],
            "text/html": [
              "<pre style=\"white-space:pre;overflow-x:auto;line-height:normal;font-family:Menlo,'DejaVu Sans Mono',consolas,'Courier New',monospace\"><span style=\"color: #000080; text-decoration-color: #000080; font-weight: bold\">Attempt </span><span style=\"color: #000080; text-decoration-color: #000080; font-weight: bold\">1</span><span style=\"color: #000080; text-decoration-color: #000080; font-weight: bold\">: Executing code</span>\n",
              "</pre>\n"
            ]
          },
          "metadata": {}
        },
        {
          "output_type": "display_data",
          "data": {
            "text/plain": [
              "\u001b[92m───────────────────────────────────────────── \u001b[0m\u001b[1;32mFinal Execution Result\u001b[0m\u001b[92m ──────────────────────────────────────────────\u001b[0m\n"
            ],
            "text/html": [
              "<pre style=\"white-space:pre;overflow-x:auto;line-height:normal;font-family:Menlo,'DejaVu Sans Mono',consolas,'Courier New',monospace\"><span style=\"color: #00ff00; text-decoration-color: #00ff00\">───────────────────────────────────────────── </span><span style=\"color: #008000; text-decoration-color: #008000; font-weight: bold\">Final Execution Result</span><span style=\"color: #00ff00; text-decoration-color: #00ff00\"> ──────────────────────────────────────────────</span>\n",
              "</pre>\n"
            ]
          },
          "metadata": {}
        },
        {
          "output_type": "display_data",
          "data": {
            "text/plain": [
              "\u001b[1;35mFINAL_RESULT:\u001b[0m\u001b[35m airports/ATL\u001b[0m\n"
            ],
            "text/html": [
              "<pre style=\"white-space:pre;overflow-x:auto;line-height:normal;font-family:Menlo,'DejaVu Sans Mono',consolas,'Courier New',monospace\"><span style=\"color: #800080; text-decoration-color: #800080; font-weight: bold\">FINAL_RESULT:</span><span style=\"color: #800080; text-decoration-color: #800080\"> airports/ATL</span>\n",
              "</pre>\n"
            ]
          },
          "metadata": {}
        },
        {
          "output_type": "display_data",
          "data": {
            "text/plain": [
              "\u001b[92m───────────────────────────────────────────────────────────────────────────────────────────────────────────────────\u001b[0m\n"
            ],
            "text/html": [
              "<pre style=\"white-space:pre;overflow-x:auto;line-height:normal;font-family:Menlo,'DejaVu Sans Mono',consolas,'Courier New',monospace\"><span style=\"color: #00ff00; text-decoration-color: #00ff00\">───────────────────────────────────────────────────────────────────────────────────────────────────────────────────</span>\n",
              "</pre>\n"
            ]
          },
          "metadata": {}
        },
        {
          "output_type": "display_data",
          "data": {
            "text/plain": [
              "\u001b[92m──────────────────────────────────────── \u001b[0m\u001b[1;36mStep \u001b[0m\u001b[1;36m3\u001b[0m\u001b[1;36m: Formulating Final Answer\u001b[0m\u001b[92m ─────────────────────────────────────────\u001b[0m\n"
            ],
            "text/html": [
              "<pre style=\"white-space:pre;overflow-x:auto;line-height:normal;font-family:Menlo,'DejaVu Sans Mono',consolas,'Courier New',monospace\"><span style=\"color: #00ff00; text-decoration-color: #00ff00\">──────────────────────────────────────── </span><span style=\"color: #008080; text-decoration-color: #008080; font-weight: bold\">Step </span><span style=\"color: #008080; text-decoration-color: #008080; font-weight: bold\">3</span><span style=\"color: #008080; text-decoration-color: #008080; font-weight: bold\">: Formulating Final Answer</span><span style=\"color: #00ff00; text-decoration-color: #00ff00\"> ─────────────────────────────────────────</span>\n",
              "</pre>\n"
            ]
          },
          "metadata": {}
        },
        {
          "output_type": "display_data",
          "data": {
            "text/plain": [
              "\u001b[92m───────────────────────────────────────────── \u001b[0m\u001b[1;32mFinal Answer Generated\u001b[0m\u001b[92m ──────────────────────────────────────────────\u001b[0m\n"
            ],
            "text/html": [
              "<pre style=\"white-space:pre;overflow-x:auto;line-height:normal;font-family:Menlo,'DejaVu Sans Mono',consolas,'Courier New',monospace\"><span style=\"color: #00ff00; text-decoration-color: #00ff00\">───────────────────────────────────────────── </span><span style=\"color: #008000; text-decoration-color: #008000; font-weight: bold\">Final Answer Generated</span><span style=\"color: #00ff00; text-decoration-color: #00ff00\"> ──────────────────────────────────────────────</span>\n",
              "</pre>\n"
            ]
          },
          "metadata": {}
        },
        {
          "output_type": "execute_result",
          "data": {
            "text/plain": [
              "'The airport with the highest betweenness centrality in the network is Hartsfield-Jackson Atlanta International Airport (ATL).'"
            ],
            "application/vnd.google.colaboratory.intrinsic+json": {
              "type": "string"
            }
          },
          "metadata": {},
          "execution_count": 27
        }
      ],
      "source": [
        "query_graph(\"Determine the airport with the highest betweenness centrality in the network.\")"
      ]
    },
    {
      "cell_type": "code",
      "execution_count": null,
      "metadata": {
        "scrolled": true,
        "id": "chKV9JTBqe2x",
        "outputId": "618467be-f604-4e50-fbbc-161a328c5fde"
      },
      "outputs": [
        {
          "data": {
            "text/html": [
              "<pre style=\"white-space:pre;overflow-x:auto;line-height:normal;font-family:Menlo,'DejaVu Sans Mono',consolas,'Courier New',monospace\"><span style=\"color: #00ff00; text-decoration-color: #00ff00\">──────────────────────────────────────── </span><span style=\"color: #008080; text-decoration-color: #008080; font-weight: bold\">Step </span><span style=\"color: #008080; text-decoration-color: #008080; font-weight: bold\">1</span><span style=\"color: #008080; text-decoration-color: #008080; font-weight: bold\">: Generating NetworkX Code</span><span style=\"color: #00ff00; text-decoration-color: #00ff00\"> ─────────────────────────────────────────</span>\n",
              "</pre>\n"
            ],
            "text/plain": [
              "\u001b[92m──────────────────────────────────────── \u001b[0m\u001b[1;36mStep \u001b[0m\u001b[1;36m1\u001b[0m\u001b[1;36m: Generating NetworkX Code\u001b[0m\u001b[92m ─────────────────────────────────────────\u001b[0m\n"
            ]
          },
          "metadata": {},
          "output_type": "display_data"
        },
        {
          "data": {
            "text/html": [
              "<pre style=\"white-space:pre;overflow-x:auto;line-height:normal;font-family:Menlo,'DejaVu Sans Mono',consolas,'Courier New',monospace\"><span style=\"color: #00ff00; text-decoration-color: #00ff00\">───────────────────────────────────────────── </span><span style=\"color: #008000; text-decoration-color: #008000; font-weight: bold\">Generated NetworkX Code</span><span style=\"color: #00ff00; text-decoration-color: #00ff00\"> ─────────────────────────────────────────────</span>\n",
              "</pre>\n"
            ],
            "text/plain": [
              "\u001b[92m───────────────────────────────────────────── \u001b[0m\u001b[1;32mGenerated NetworkX Code\u001b[0m\u001b[92m ─────────────────────────────────────────────\u001b[0m\n"
            ]
          },
          "metadata": {},
          "output_type": "display_data"
        },
        {
          "data": {
            "text/html": [
              "<pre style=\"white-space:pre;overflow-x:auto;line-height:normal;font-family:Menlo,'DejaVu Sans Mono',consolas,'Courier New',monospace\"><span style=\"color: #008000; text-decoration-color: #008000\">import networkx as nx</span>\n",
              "\n",
              "<span style=\"color: #008000; text-decoration-color: #008000\"># Assuming G_adb is already defined as a NetworkX graph</span>\n",
              "<span style=\"color: #008000; text-decoration-color: #008000\"># Calculate degree centrality</span>\n",
              "<span style=\"color: #008000; text-decoration-color: #008000\">degree_centrality = </span><span style=\"color: #800080; text-decoration-color: #800080; font-weight: bold\">nx.degree_centrality</span><span style=\"color: #008000; text-decoration-color: #008000; font-weight: bold\">(</span><span style=\"color: #008000; text-decoration-color: #008000\">G_adb</span><span style=\"color: #008000; text-decoration-color: #008000; font-weight: bold\">)</span>\n",
              "\n",
              "<span style=\"color: #008000; text-decoration-color: #008000\"># Sort airports by degree centrality and get the top </span><span style=\"color: #008080; text-decoration-color: #008080; font-weight: bold\">5</span>\n",
              "<span style=\"color: #008000; text-decoration-color: #008000\">top_airports = </span><span style=\"color: #800080; text-decoration-color: #800080; font-weight: bold\">sorted</span><span style=\"color: #008000; text-decoration-color: #008000; font-weight: bold\">(</span><span style=\"color: #800080; text-decoration-color: #800080; font-weight: bold\">degree_centrality.items</span><span style=\"color: #008000; text-decoration-color: #008000; font-weight: bold\">()</span><span style=\"color: #008000; text-decoration-color: #008000\">, </span><span style=\"color: #808000; text-decoration-color: #808000\">key</span><span style=\"color: #008000; text-decoration-color: #008000\">=</span><span style=\"color: #800080; text-decoration-color: #800080\">lambda</span><span style=\"color: #008000; text-decoration-color: #008000\"> x: x</span><span style=\"color: #008000; text-decoration-color: #008000; font-weight: bold\">[</span><span style=\"color: #008080; text-decoration-color: #008080; font-weight: bold\">1</span><span style=\"color: #008000; text-decoration-color: #008000; font-weight: bold\">]</span><span style=\"color: #008000; text-decoration-color: #008000\">, </span><span style=\"color: #808000; text-decoration-color: #808000\">reverse</span><span style=\"color: #008000; text-decoration-color: #008000\">=</span><span style=\"color: #00ff00; text-decoration-color: #00ff00; font-style: italic\">True</span><span style=\"color: #008000; text-decoration-color: #008000; font-weight: bold\">)[</span><span style=\"color: #008000; text-decoration-color: #008000\">:</span><span style=\"color: #008080; text-decoration-color: #008080; font-weight: bold\">5</span><span style=\"color: #008000; text-decoration-color: #008000; font-weight: bold\">]</span>\n",
              "\n",
              "<span style=\"color: #008000; text-decoration-color: #008000\"># Extract just the airport names</span>\n",
              "<span style=\"color: #008000; text-decoration-color: #008000\">FINAL_RESULT = </span><span style=\"color: #008000; text-decoration-color: #008000; font-weight: bold\">[</span><span style=\"color: #008000; text-decoration-color: #008000\">airport</span><span style=\"color: #008000; text-decoration-color: #008000; font-weight: bold\">[</span><span style=\"color: #008080; text-decoration-color: #008080; font-weight: bold\">0</span><span style=\"color: #008000; text-decoration-color: #008000; font-weight: bold\">]</span><span style=\"color: #008000; text-decoration-color: #008000\"> for airport in top_airports</span><span style=\"color: #008000; text-decoration-color: #008000; font-weight: bold\">]</span>\n",
              "</pre>\n"
            ],
            "text/plain": [
              "\u001b[32mimport networkx as nx\u001b[0m\n",
              "\n",
              "\u001b[32m# Assuming G_adb is already defined as a NetworkX graph\u001b[0m\n",
              "\u001b[32m# Calculate degree centrality\u001b[0m\n",
              "\u001b[32mdegree_centrality = \u001b[0m\u001b[1;35mnx.degree_centrality\u001b[0m\u001b[1;32m(\u001b[0m\u001b[32mG_adb\u001b[0m\u001b[1;32m)\u001b[0m\n",
              "\n",
              "\u001b[32m# Sort airports by degree centrality and get the top \u001b[0m\u001b[1;36m5\u001b[0m\n",
              "\u001b[32mtop_airports = \u001b[0m\u001b[1;35msorted\u001b[0m\u001b[1;32m(\u001b[0m\u001b[1;35mdegree_centrality.items\u001b[0m\u001b[1;32m(\u001b[0m\u001b[1;32m)\u001b[0m\u001b[32m, \u001b[0m\u001b[33mkey\u001b[0m\u001b[32m=\u001b[0m\u001b[35mlambda\u001b[0m\u001b[32m x: x\u001b[0m\u001b[1;32m[\u001b[0m\u001b[1;36m1\u001b[0m\u001b[1;32m]\u001b[0m\u001b[32m, \u001b[0m\u001b[33mreverse\u001b[0m\u001b[32m=\u001b[0m\u001b[3;92mTrue\u001b[0m\u001b[1;32m)\u001b[0m\u001b[1;32m[\u001b[0m\u001b[32m:\u001b[0m\u001b[1;36m5\u001b[0m\u001b[1;32m]\u001b[0m\n",
              "\n",
              "\u001b[32m# Extract just the airport names\u001b[0m\n",
              "\u001b[32mFINAL_RESULT = \u001b[0m\u001b[1;32m[\u001b[0m\u001b[32mairport\u001b[0m\u001b[1;32m[\u001b[0m\u001b[1;36m0\u001b[0m\u001b[1;32m]\u001b[0m\u001b[32m for airport in top_airports\u001b[0m\u001b[1;32m]\u001b[0m\n"
            ]
          },
          "metadata": {},
          "output_type": "display_data"
        },
        {
          "data": {
            "text/html": [
              "<pre style=\"white-space:pre;overflow-x:auto;line-height:normal;font-family:Menlo,'DejaVu Sans Mono',consolas,'Courier New',monospace\"><span style=\"color: #00ff00; text-decoration-color: #00ff00\">───────────────────────────────────────────────────────────────────────────────────────────────────────────────────</span>\n",
              "</pre>\n"
            ],
            "text/plain": [
              "\u001b[92m───────────────────────────────────────────────────────────────────────────────────────────────────────────────────\u001b[0m\n"
            ]
          },
          "metadata": {},
          "output_type": "display_data"
        },
        {
          "data": {
            "text/html": [
              "<pre style=\"white-space:pre;overflow-x:auto;line-height:normal;font-family:Menlo,'DejaVu Sans Mono',consolas,'Courier New',monospace\"><span style=\"color: #00ff00; text-decoration-color: #00ff00\">───────────────────────────────────────── </span><span style=\"color: #008080; text-decoration-color: #008080; font-weight: bold\">Step </span><span style=\"color: #008080; text-decoration-color: #008080; font-weight: bold\">2</span><span style=\"color: #008080; text-decoration-color: #008080; font-weight: bold\">: Executing NetworkX Code</span><span style=\"color: #00ff00; text-decoration-color: #00ff00\"> ─────────────────────────────────────────</span>\n",
              "</pre>\n"
            ],
            "text/plain": [
              "\u001b[92m───────────────────────────────────────── \u001b[0m\u001b[1;36mStep \u001b[0m\u001b[1;36m2\u001b[0m\u001b[1;36m: Executing NetworkX Code\u001b[0m\u001b[92m ─────────────────────────────────────────\u001b[0m\n"
            ]
          },
          "metadata": {},
          "output_type": "display_data"
        },
        {
          "data": {
            "text/html": [
              "<pre style=\"white-space:pre;overflow-x:auto;line-height:normal;font-family:Menlo,'DejaVu Sans Mono',consolas,'Courier New',monospace\"><span style=\"color: #000080; text-decoration-color: #000080; font-weight: bold\">Attempt </span><span style=\"color: #000080; text-decoration-color: #000080; font-weight: bold\">1</span><span style=\"color: #000080; text-decoration-color: #000080; font-weight: bold\">: Executing code</span>\n",
              "</pre>\n"
            ],
            "text/plain": [
              "\u001b[1;34mAttempt \u001b[0m\u001b[1;34m1\u001b[0m\u001b[1;34m: Executing code\u001b[0m\n"
            ]
          },
          "metadata": {},
          "output_type": "display_data"
        },
        {
          "data": {
            "text/html": [
              "<pre style=\"white-space:pre;overflow-x:auto;line-height:normal;font-family:Menlo,'DejaVu Sans Mono',consolas,'Courier New',monospace\"><span style=\"color: #00ff00; text-decoration-color: #00ff00\">───────────────────────────────────────────── </span><span style=\"color: #008000; text-decoration-color: #008000; font-weight: bold\">Final Execution Result</span><span style=\"color: #00ff00; text-decoration-color: #00ff00\"> ──────────────────────────────────────────────</span>\n",
              "</pre>\n"
            ],
            "text/plain": [
              "\u001b[92m───────────────────────────────────────────── \u001b[0m\u001b[1;32mFinal Execution Result\u001b[0m\u001b[92m ──────────────────────────────────────────────\u001b[0m\n"
            ]
          },
          "metadata": {},
          "output_type": "display_data"
        },
        {
          "data": {
            "text/html": [
              "<pre style=\"white-space:pre;overflow-x:auto;line-height:normal;font-family:Menlo,'DejaVu Sans Mono',consolas,'Courier New',monospace\"><span style=\"color: #800080; text-decoration-color: #800080; font-weight: bold\">FINAL_RESULT:</span><span style=\"color: #800080; text-decoration-color: #800080\"> </span><span style=\"color: #800080; text-decoration-color: #800080; font-weight: bold\">[</span><span style=\"color: #008000; text-decoration-color: #008000\">'airports/ATL'</span><span style=\"color: #800080; text-decoration-color: #800080\">, </span><span style=\"color: #008000; text-decoration-color: #008000\">'airports/ORD'</span><span style=\"color: #800080; text-decoration-color: #800080\">, </span><span style=\"color: #008000; text-decoration-color: #008000\">'airports/DFW'</span><span style=\"color: #800080; text-decoration-color: #800080\">, </span><span style=\"color: #008000; text-decoration-color: #008000\">'airports/DEN'</span><span style=\"color: #800080; text-decoration-color: #800080\">, </span><span style=\"color: #008000; text-decoration-color: #008000\">'airports/LAX'</span><span style=\"color: #800080; text-decoration-color: #800080; font-weight: bold\">]</span>\n",
              "</pre>\n"
            ],
            "text/plain": [
              "\u001b[1;35mFINAL_RESULT:\u001b[0m\u001b[35m \u001b[0m\u001b[1;35m[\u001b[0m\u001b[32m'airports/ATL'\u001b[0m\u001b[35m, \u001b[0m\u001b[32m'airports/ORD'\u001b[0m\u001b[35m, \u001b[0m\u001b[32m'airports/DFW'\u001b[0m\u001b[35m, \u001b[0m\u001b[32m'airports/DEN'\u001b[0m\u001b[35m, \u001b[0m\u001b[32m'airports/LAX'\u001b[0m\u001b[1;35m]\u001b[0m\n"
            ]
          },
          "metadata": {},
          "output_type": "display_data"
        },
        {
          "data": {
            "text/html": [
              "<pre style=\"white-space:pre;overflow-x:auto;line-height:normal;font-family:Menlo,'DejaVu Sans Mono',consolas,'Courier New',monospace\"><span style=\"color: #00ff00; text-decoration-color: #00ff00\">───────────────────────────────────────────────────────────────────────────────────────────────────────────────────</span>\n",
              "</pre>\n"
            ],
            "text/plain": [
              "\u001b[92m───────────────────────────────────────────────────────────────────────────────────────────────────────────────────\u001b[0m\n"
            ]
          },
          "metadata": {},
          "output_type": "display_data"
        },
        {
          "data": {
            "text/html": [
              "<pre style=\"white-space:pre;overflow-x:auto;line-height:normal;font-family:Menlo,'DejaVu Sans Mono',consolas,'Courier New',monospace\"><span style=\"color: #00ff00; text-decoration-color: #00ff00\">──────────────────────────────────────── </span><span style=\"color: #008080; text-decoration-color: #008080; font-weight: bold\">Step </span><span style=\"color: #008080; text-decoration-color: #008080; font-weight: bold\">3</span><span style=\"color: #008080; text-decoration-color: #008080; font-weight: bold\">: Formulating Final Answer</span><span style=\"color: #00ff00; text-decoration-color: #00ff00\"> ─────────────────────────────────────────</span>\n",
              "</pre>\n"
            ],
            "text/plain": [
              "\u001b[92m──────────────────────────────────────── \u001b[0m\u001b[1;36mStep \u001b[0m\u001b[1;36m3\u001b[0m\u001b[1;36m: Formulating Final Answer\u001b[0m\u001b[92m ─────────────────────────────────────────\u001b[0m\n"
            ]
          },
          "metadata": {},
          "output_type": "display_data"
        },
        {
          "data": {
            "text/html": [
              "<pre style=\"white-space:pre;overflow-x:auto;line-height:normal;font-family:Menlo,'DejaVu Sans Mono',consolas,'Courier New',monospace\"><span style=\"color: #00ff00; text-decoration-color: #00ff00\">───────────────────────────────────────────── </span><span style=\"color: #008000; text-decoration-color: #008000; font-weight: bold\">Final Answer Generated</span><span style=\"color: #00ff00; text-decoration-color: #00ff00\"> ──────────────────────────────────────────────</span>\n",
              "</pre>\n"
            ],
            "text/plain": [
              "\u001b[92m───────────────────────────────────────────── \u001b[0m\u001b[1;32mFinal Answer Generated\u001b[0m\u001b[92m ──────────────────────────────────────────────\u001b[0m\n"
            ]
          },
          "metadata": {},
          "output_type": "display_data"
        },
        {
          "data": {
            "text/plain": [
              "\"The top 5 airports by degree centrality are:\\n\\n1. ATL (Hartsfield-Jackson Atlanta International Airport)\\n2. ORD (O'Hare International Airport)\\n3. DFW (Dallas/Fort Worth International Airport)\\n4. DEN (Denver International Airport)\\n5. LAX (Los Angeles International Airport)\""
            ]
          },
          "execution_count": 35,
          "metadata": {},
          "output_type": "execute_result"
        }
      ],
      "source": [
        "query_graph(\"Identify the top 5 airports by degree centrality.\")"
      ]
    },
    {
      "cell_type": "code",
      "execution_count": null,
      "metadata": {
        "scrolled": true,
        "id": "DTlw--WOqe2y",
        "outputId": "19c5a2ec-7439-4c99-f4cd-fd4e96239ffc"
      },
      "outputs": [
        {
          "data": {
            "text/html": [
              "<pre style=\"white-space:pre;overflow-x:auto;line-height:normal;font-family:Menlo,'DejaVu Sans Mono',consolas,'Courier New',monospace\"><span style=\"color: #00ff00; text-decoration-color: #00ff00\">──────────────────────────────────────── </span><span style=\"color: #008080; text-decoration-color: #008080; font-weight: bold\">Step </span><span style=\"color: #008080; text-decoration-color: #008080; font-weight: bold\">1</span><span style=\"color: #008080; text-decoration-color: #008080; font-weight: bold\">: Generating NetworkX Code</span><span style=\"color: #00ff00; text-decoration-color: #00ff00\"> ─────────────────────────────────────────</span>\n",
              "</pre>\n"
            ],
            "text/plain": [
              "\u001b[92m──────────────────────────────────────── \u001b[0m\u001b[1;36mStep \u001b[0m\u001b[1;36m1\u001b[0m\u001b[1;36m: Generating NetworkX Code\u001b[0m\u001b[92m ─────────────────────────────────────────\u001b[0m\n"
            ]
          },
          "metadata": {},
          "output_type": "display_data"
        },
        {
          "data": {
            "text/html": [
              "<pre style=\"white-space:pre;overflow-x:auto;line-height:normal;font-family:Menlo,'DejaVu Sans Mono',consolas,'Courier New',monospace\"><span style=\"color: #00ff00; text-decoration-color: #00ff00\">───────────────────────────────────────────── </span><span style=\"color: #008000; text-decoration-color: #008000; font-weight: bold\">Generated NetworkX Code</span><span style=\"color: #00ff00; text-decoration-color: #00ff00\"> ─────────────────────────────────────────────</span>\n",
              "</pre>\n"
            ],
            "text/plain": [
              "\u001b[92m───────────────────────────────────────────── \u001b[0m\u001b[1;32mGenerated NetworkX Code\u001b[0m\u001b[92m ─────────────────────────────────────────────\u001b[0m\n"
            ]
          },
          "metadata": {},
          "output_type": "display_data"
        },
        {
          "data": {
            "text/html": [
              "<pre style=\"white-space:pre;overflow-x:auto;line-height:normal;font-family:Menlo,'DejaVu Sans Mono',consolas,'Courier New',monospace\"><span style=\"color: #008000; text-decoration-color: #008000\">import networkx as nx</span>\n",
              "\n",
              "<span style=\"color: #008000; text-decoration-color: #008000\"># Assuming G_adb is already defined as a NetworkX graph</span>\n",
              "<span style=\"color: #008000; text-decoration-color: #008000\"># Check if the graph is strongly connected</span>\n",
              "<span style=\"color: #008000; text-decoration-color: #008000\">is_strongly_connected = </span><span style=\"color: #800080; text-decoration-color: #800080; font-weight: bold\">nx.is_strongly_connected</span><span style=\"color: #008000; text-decoration-color: #008000; font-weight: bold\">(</span><span style=\"color: #008000; text-decoration-color: #008000\">G_adb</span><span style=\"color: #008000; text-decoration-color: #008000; font-weight: bold\">)</span>\n",
              "\n",
              "<span style=\"color: #008000; text-decoration-color: #008000\"># Check if the graph is weakly connected</span>\n",
              "<span style=\"color: #008000; text-decoration-color: #008000\">is_weakly_connected = </span><span style=\"color: #800080; text-decoration-color: #800080; font-weight: bold\">nx.is_weakly_connected</span><span style=\"color: #008000; text-decoration-color: #008000; font-weight: bold\">(</span><span style=\"color: #008000; text-decoration-color: #008000\">G_adb</span><span style=\"color: #008000; text-decoration-color: #008000; font-weight: bold\">)</span>\n",
              "\n",
              "<span style=\"color: #008000; text-decoration-color: #008000\"># Determine the final result based on the connectivity checks</span>\n",
              "<span style=\"color: #008000; text-decoration-color: #008000\">if is_strongly_connected:</span>\n",
              "<span style=\"color: #008000; text-decoration-color: #008000\">    FINAL_RESULT = </span><span style=\"color: #008000; text-decoration-color: #008000\">\"Strongly Connected\"</span>\n",
              "<span style=\"color: #008000; text-decoration-color: #008000\">elif is_weakly_connected:</span>\n",
              "<span style=\"color: #008000; text-decoration-color: #008000\">    FINAL_RESULT = </span><span style=\"color: #008000; text-decoration-color: #008000\">\"Weakly Connected\"</span>\n",
              "<span style=\"color: #008000; text-decoration-color: #008000\">else:</span>\n",
              "<span style=\"color: #008000; text-decoration-color: #008000\">    FINAL_RESULT = </span><span style=\"color: #008000; text-decoration-color: #008000\">\"Not Connected\"</span>\n",
              "</pre>\n"
            ],
            "text/plain": [
              "\u001b[32mimport networkx as nx\u001b[0m\n",
              "\n",
              "\u001b[32m# Assuming G_adb is already defined as a NetworkX graph\u001b[0m\n",
              "\u001b[32m# Check if the graph is strongly connected\u001b[0m\n",
              "\u001b[32mis_strongly_connected = \u001b[0m\u001b[1;35mnx.is_strongly_connected\u001b[0m\u001b[1;32m(\u001b[0m\u001b[32mG_adb\u001b[0m\u001b[1;32m)\u001b[0m\n",
              "\n",
              "\u001b[32m# Check if the graph is weakly connected\u001b[0m\n",
              "\u001b[32mis_weakly_connected = \u001b[0m\u001b[1;35mnx.is_weakly_connected\u001b[0m\u001b[1;32m(\u001b[0m\u001b[32mG_adb\u001b[0m\u001b[1;32m)\u001b[0m\n",
              "\n",
              "\u001b[32m# Determine the final result based on the connectivity checks\u001b[0m\n",
              "\u001b[32mif is_strongly_connected:\u001b[0m\n",
              "\u001b[32m    FINAL_RESULT = \u001b[0m\u001b[32m\"Strongly Connected\"\u001b[0m\n",
              "\u001b[32melif is_weakly_connected:\u001b[0m\n",
              "\u001b[32m    FINAL_RESULT = \u001b[0m\u001b[32m\"Weakly Connected\"\u001b[0m\n",
              "\u001b[32melse:\u001b[0m\n",
              "\u001b[32m    FINAL_RESULT = \u001b[0m\u001b[32m\"Not Connected\"\u001b[0m\n"
            ]
          },
          "metadata": {},
          "output_type": "display_data"
        },
        {
          "data": {
            "text/html": [
              "<pre style=\"white-space:pre;overflow-x:auto;line-height:normal;font-family:Menlo,'DejaVu Sans Mono',consolas,'Courier New',monospace\"><span style=\"color: #00ff00; text-decoration-color: #00ff00\">───────────────────────────────────────────────────────────────────────────────────────────────────────────────────</span>\n",
              "</pre>\n"
            ],
            "text/plain": [
              "\u001b[92m───────────────────────────────────────────────────────────────────────────────────────────────────────────────────\u001b[0m\n"
            ]
          },
          "metadata": {},
          "output_type": "display_data"
        },
        {
          "data": {
            "text/html": [
              "<pre style=\"white-space:pre;overflow-x:auto;line-height:normal;font-family:Menlo,'DejaVu Sans Mono',consolas,'Courier New',monospace\"><span style=\"color: #00ff00; text-decoration-color: #00ff00\">───────────────────────────────────────── </span><span style=\"color: #008080; text-decoration-color: #008080; font-weight: bold\">Step </span><span style=\"color: #008080; text-decoration-color: #008080; font-weight: bold\">2</span><span style=\"color: #008080; text-decoration-color: #008080; font-weight: bold\">: Executing NetworkX Code</span><span style=\"color: #00ff00; text-decoration-color: #00ff00\"> ─────────────────────────────────────────</span>\n",
              "</pre>\n"
            ],
            "text/plain": [
              "\u001b[92m───────────────────────────────────────── \u001b[0m\u001b[1;36mStep \u001b[0m\u001b[1;36m2\u001b[0m\u001b[1;36m: Executing NetworkX Code\u001b[0m\u001b[92m ─────────────────────────────────────────\u001b[0m\n"
            ]
          },
          "metadata": {},
          "output_type": "display_data"
        },
        {
          "data": {
            "text/html": [
              "<pre style=\"white-space:pre;overflow-x:auto;line-height:normal;font-family:Menlo,'DejaVu Sans Mono',consolas,'Courier New',monospace\"><span style=\"color: #000080; text-decoration-color: #000080; font-weight: bold\">Attempt </span><span style=\"color: #000080; text-decoration-color: #000080; font-weight: bold\">1</span><span style=\"color: #000080; text-decoration-color: #000080; font-weight: bold\">: Executing code</span>\n",
              "</pre>\n"
            ],
            "text/plain": [
              "\u001b[1;34mAttempt \u001b[0m\u001b[1;34m1\u001b[0m\u001b[1;34m: Executing code\u001b[0m\n"
            ]
          },
          "metadata": {},
          "output_type": "display_data"
        },
        {
          "data": {
            "text/html": [
              "<pre style=\"white-space:pre;overflow-x:auto;line-height:normal;font-family:Menlo,'DejaVu Sans Mono',consolas,'Courier New',monospace\"><span style=\"color: #00ff00; text-decoration-color: #00ff00\">───────────────────────────────────────────── </span><span style=\"color: #008000; text-decoration-color: #008000; font-weight: bold\">Final Execution Result</span><span style=\"color: #00ff00; text-decoration-color: #00ff00\"> ──────────────────────────────────────────────</span>\n",
              "</pre>\n"
            ],
            "text/plain": [
              "\u001b[92m───────────────────────────────────────────── \u001b[0m\u001b[1;32mFinal Execution Result\u001b[0m\u001b[92m ──────────────────────────────────────────────\u001b[0m\n"
            ]
          },
          "metadata": {},
          "output_type": "display_data"
        },
        {
          "data": {
            "text/html": [
              "<pre style=\"white-space:pre;overflow-x:auto;line-height:normal;font-family:Menlo,'DejaVu Sans Mono',consolas,'Courier New',monospace\"><span style=\"color: #800080; text-decoration-color: #800080; font-weight: bold\">FINAL_RESULT:</span><span style=\"color: #800080; text-decoration-color: #800080\"> Not Connected</span>\n",
              "</pre>\n"
            ],
            "text/plain": [
              "\u001b[1;35mFINAL_RESULT:\u001b[0m\u001b[35m Not Connected\u001b[0m\n"
            ]
          },
          "metadata": {},
          "output_type": "display_data"
        },
        {
          "data": {
            "text/html": [
              "<pre style=\"white-space:pre;overflow-x:auto;line-height:normal;font-family:Menlo,'DejaVu Sans Mono',consolas,'Courier New',monospace\"><span style=\"color: #00ff00; text-decoration-color: #00ff00\">───────────────────────────────────────────────────────────────────────────────────────────────────────────────────</span>\n",
              "</pre>\n"
            ],
            "text/plain": [
              "\u001b[92m───────────────────────────────────────────────────────────────────────────────────────────────────────────────────\u001b[0m\n"
            ]
          },
          "metadata": {},
          "output_type": "display_data"
        },
        {
          "data": {
            "text/html": [
              "<pre style=\"white-space:pre;overflow-x:auto;line-height:normal;font-family:Menlo,'DejaVu Sans Mono',consolas,'Courier New',monospace\"><span style=\"color: #00ff00; text-decoration-color: #00ff00\">──────────────────────────────────────── </span><span style=\"color: #008080; text-decoration-color: #008080; font-weight: bold\">Step </span><span style=\"color: #008080; text-decoration-color: #008080; font-weight: bold\">3</span><span style=\"color: #008080; text-decoration-color: #008080; font-weight: bold\">: Formulating Final Answer</span><span style=\"color: #00ff00; text-decoration-color: #00ff00\"> ─────────────────────────────────────────</span>\n",
              "</pre>\n"
            ],
            "text/plain": [
              "\u001b[92m──────────────────────────────────────── \u001b[0m\u001b[1;36mStep \u001b[0m\u001b[1;36m3\u001b[0m\u001b[1;36m: Formulating Final Answer\u001b[0m\u001b[92m ─────────────────────────────────────────\u001b[0m\n"
            ]
          },
          "metadata": {},
          "output_type": "display_data"
        },
        {
          "data": {
            "text/html": [
              "<pre style=\"white-space:pre;overflow-x:auto;line-height:normal;font-family:Menlo,'DejaVu Sans Mono',consolas,'Courier New',monospace\"><span style=\"color: #00ff00; text-decoration-color: #00ff00\">───────────────────────────────────────────── </span><span style=\"color: #008000; text-decoration-color: #008000; font-weight: bold\">Final Answer Generated</span><span style=\"color: #00ff00; text-decoration-color: #00ff00\"> ──────────────────────────────────────────────</span>\n",
              "</pre>\n"
            ],
            "text/plain": [
              "\u001b[92m───────────────────────────────────────────── \u001b[0m\u001b[1;32mFinal Answer Generated\u001b[0m\u001b[92m ──────────────────────────────────────────────\u001b[0m\n"
            ]
          },
          "metadata": {},
          "output_type": "display_data"
        },
        {
          "data": {
            "text/plain": [
              "'The flight network is not connected, meaning it is neither strongly connected nor weakly connected. This indicates that there are segments of the network that are isolated from others, preventing complete connectivity among all nodes (airports).'"
            ]
          },
          "execution_count": 36,
          "metadata": {},
          "output_type": "execute_result"
        }
      ],
      "source": [
        "query_graph(\"Is the flight network strongly connected or weakly connected? Provide details.\")"
      ]
    },
    {
      "cell_type": "code",
      "execution_count": null,
      "metadata": {
        "id": "s2_2n_iJqe2y",
        "outputId": "8c4368ed-0b6e-4294-88aa-4ced3e0a373f"
      },
      "outputs": [
        {
          "name": "stdout",
          "output_type": "stream",
          "text": [
            "\n",
            "\n",
            "\u001b[1m> Entering new ArangoGraphQAChain chain...\u001b[0m\n",
            "AQL Query (1):\u001b[32;1m\u001b[1;3m\n",
            "WITH airports\n",
            "FOR airport IN airports SORT airport.outgoingFlights DESC LIMIT 1 RETURN airport\n",
            "\u001b[0m\n",
            "AQL Result:\n",
            "\u001b[32;1m\u001b[1;3m[{'_key': 'ZZV', '_id': 'airports/ZZV', '_rev': '_jVk9J1C-_n', 'name': 'Zanesville Municipal', 'city': 'Zanesville', 'state': 'OH', 'country': 'USA', 'lat': 39.94445833, 'long': -81.89210528, 'vip': False}]\u001b[0m\n",
            "\n",
            "\u001b[1m> Finished chain.\u001b[0m\n"
          ]
        },
        {
          "data": {
            "text/plain": [
              "\"The airport with the highest number of outgoing flights is Zanesville Municipal, located in Zanesville, Ohio, USA. This airport is identified by the key 'ZZV' and has geographical coordinates of approximately 39.94° latitude and -81.89° longitude. It is not classified as a VIP airport.\""
            ]
          },
          "execution_count": 38,
          "metadata": {},
          "output_type": "execute_result"
        }
      ],
      "source": [
        "query_graph(\"Find the airport with the highest number of outgoing flights.\")"
      ]
    },
    {
      "cell_type": "code",
      "execution_count": null,
      "metadata": {
        "id": "w1y4LpRSqe2y",
        "outputId": "eb16291c-97f8-4d6d-f546-fb51a71b1eac"
      },
      "outputs": [
        {
          "name": "stdout",
          "output_type": "stream",
          "text": [
            "\n",
            "\n",
            "\u001b[1m> Entering new ArangoGraphQAChain chain...\u001b[0m\n",
            "AQL Query (1):\u001b[32;1m\u001b[1;3m\n",
            "WITH airports, flights\n",
            "FOR v IN 1..1 OUTBOUND 'airports/0' flights RETURN v\n",
            "\u001b[0m\n",
            "AQL Result:\n",
            "\u001b[32;1m\u001b[1;3m[]\u001b[0m\n",
            "\n",
            "\u001b[1m> Finished chain.\u001b[0m\n"
          ]
        },
        {
          "data": {
            "text/plain": [
              "'It seems that there are currently no connections from Node 0. This could mean that Node 0 does not have any outbound connections or that it may not exist in the database. If you have another node in mind or would like to explore different connections, please let me know!'"
            ]
          },
          "execution_count": 39,
          "metadata": {},
          "output_type": "execute_result"
        }
      ],
      "source": [
        "query_graph(\"Who is connected to Node 0?\")"
      ]
    },
    {
      "cell_type": "code",
      "execution_count": null,
      "metadata": {
        "scrolled": true,
        "id": "Oj4DNOthqe2y",
        "outputId": "ca1d294a-4473-49d2-9339-034169419284"
      },
      "outputs": [
        {
          "data": {
            "text/html": [
              "<pre style=\"white-space:pre;overflow-x:auto;line-height:normal;font-family:Menlo,'DejaVu Sans Mono',consolas,'Courier New',monospace\"><span style=\"color: #00ff00; text-decoration-color: #00ff00\">──────────────────────────────────────── </span><span style=\"color: #008080; text-decoration-color: #008080; font-weight: bold\">Step </span><span style=\"color: #008080; text-decoration-color: #008080; font-weight: bold\">1</span><span style=\"color: #008080; text-decoration-color: #008080; font-weight: bold\">: Generating NetworkX Code</span><span style=\"color: #00ff00; text-decoration-color: #00ff00\"> ─────────────────────────────────────────</span>\n",
              "</pre>\n"
            ],
            "text/plain": [
              "\u001b[92m──────────────────────────────────────── \u001b[0m\u001b[1;36mStep \u001b[0m\u001b[1;36m1\u001b[0m\u001b[1;36m: Generating NetworkX Code\u001b[0m\u001b[92m ─────────────────────────────────────────\u001b[0m\n"
            ]
          },
          "metadata": {},
          "output_type": "display_data"
        },
        {
          "data": {
            "text/html": [
              "<pre style=\"white-space:pre;overflow-x:auto;line-height:normal;font-family:Menlo,'DejaVu Sans Mono',consolas,'Courier New',monospace\"><span style=\"color: #00ff00; text-decoration-color: #00ff00\">───────────────────────────────────────────── </span><span style=\"color: #008000; text-decoration-color: #008000; font-weight: bold\">Generated NetworkX Code</span><span style=\"color: #00ff00; text-decoration-color: #00ff00\"> ─────────────────────────────────────────────</span>\n",
              "</pre>\n"
            ],
            "text/plain": [
              "\u001b[92m───────────────────────────────────────────── \u001b[0m\u001b[1;32mGenerated NetworkX Code\u001b[0m\u001b[92m ─────────────────────────────────────────────\u001b[0m\n"
            ]
          },
          "metadata": {},
          "output_type": "display_data"
        },
        {
          "data": {
            "text/html": [
              "<pre style=\"white-space:pre;overflow-x:auto;line-height:normal;font-family:Menlo,'DejaVu Sans Mono',consolas,'Courier New',monospace\"><span style=\"color: #008000; text-decoration-color: #008000\">import networkx as nx</span>\n",
              "\n",
              "<span style=\"color: #008000; text-decoration-color: #008000\"># Assuming G_adb is already defined as a NetworkX graph</span>\n",
              "<span style=\"color: #008000; text-decoration-color: #008000\"># Calculate the connected components</span>\n",
              "<span style=\"color: #008000; text-decoration-color: #008000\">connected_components = </span><span style=\"color: #800080; text-decoration-color: #800080; font-weight: bold\">list</span><span style=\"color: #008000; text-decoration-color: #008000; font-weight: bold\">(</span><span style=\"color: #800080; text-decoration-color: #800080; font-weight: bold\">nx.connected_components</span><span style=\"color: #008000; text-decoration-color: #008000; font-weight: bold\">(</span><span style=\"color: #008000; text-decoration-color: #008000\">G_adb</span><span style=\"color: #008000; text-decoration-color: #008000; font-weight: bold\">))</span>\n",
              "\n",
              "<span style=\"color: #008000; text-decoration-color: #008000\"># Determine the number of connected components</span>\n",
              "<span style=\"color: #008000; text-decoration-color: #008000\">num_connected_components = </span><span style=\"color: #800080; text-decoration-color: #800080; font-weight: bold\">len</span><span style=\"color: #008000; text-decoration-color: #008000; font-weight: bold\">(</span><span style=\"color: #008000; text-decoration-color: #008000\">connected_components</span><span style=\"color: #008000; text-decoration-color: #008000; font-weight: bold\">)</span>\n",
              "\n",
              "<span style=\"color: #008000; text-decoration-color: #008000\"># Determine if the graph is strongly connected</span>\n",
              "<span style=\"color: #008000; text-decoration-color: #008000\">is_strongly_connected = num_connected_components == </span><span style=\"color: #008080; text-decoration-color: #008080; font-weight: bold\">1</span>\n",
              "\n",
              "<span style=\"color: #008000; text-decoration-color: #008000\"># Prepare the final result</span>\n",
              "<span style=\"color: #008000; text-decoration-color: #008000\">FINAL_RESULT = </span><span style=\"color: #008000; text-decoration-color: #008000\">\"Strongly connected\"</span><span style=\"color: #008000; text-decoration-color: #008000\"> if is_strongly_connected else f\"Not strongly connected, </span>\n",
              "<span style=\"color: #008000; text-decoration-color: #008000; font-weight: bold\">{</span><span style=\"color: #008000; text-decoration-color: #008000\">num_connected_components</span><span style=\"color: #008000; text-decoration-color: #008000; font-weight: bold\">}</span><span style=\"color: #008000; text-decoration-color: #008000\"> components\"</span>\n",
              "</pre>\n"
            ],
            "text/plain": [
              "\u001b[32mimport networkx as nx\u001b[0m\n",
              "\n",
              "\u001b[32m# Assuming G_adb is already defined as a NetworkX graph\u001b[0m\n",
              "\u001b[32m# Calculate the connected components\u001b[0m\n",
              "\u001b[32mconnected_components = \u001b[0m\u001b[1;35mlist\u001b[0m\u001b[1;32m(\u001b[0m\u001b[1;35mnx.connected_components\u001b[0m\u001b[1;32m(\u001b[0m\u001b[32mG_adb\u001b[0m\u001b[1;32m)\u001b[0m\u001b[1;32m)\u001b[0m\n",
              "\n",
              "\u001b[32m# Determine the number of connected components\u001b[0m\n",
              "\u001b[32mnum_connected_components = \u001b[0m\u001b[1;35mlen\u001b[0m\u001b[1;32m(\u001b[0m\u001b[32mconnected_components\u001b[0m\u001b[1;32m)\u001b[0m\n",
              "\n",
              "\u001b[32m# Determine if the graph is strongly connected\u001b[0m\n",
              "\u001b[32mis_strongly_connected = num_connected_components == \u001b[0m\u001b[1;36m1\u001b[0m\n",
              "\n",
              "\u001b[32m# Prepare the final result\u001b[0m\n",
              "\u001b[32mFINAL_RESULT = \u001b[0m\u001b[32m\"Strongly connected\"\u001b[0m\u001b[32m if is_strongly_connected else f\"Not strongly connected, \u001b[0m\n",
              "\u001b[1;32m{\u001b[0m\u001b[32mnum_connected_components\u001b[0m\u001b[1;32m}\u001b[0m\u001b[32m components\"\u001b[0m\n"
            ]
          },
          "metadata": {},
          "output_type": "display_data"
        },
        {
          "data": {
            "text/html": [
              "<pre style=\"white-space:pre;overflow-x:auto;line-height:normal;font-family:Menlo,'DejaVu Sans Mono',consolas,'Courier New',monospace\"><span style=\"color: #00ff00; text-decoration-color: #00ff00\">───────────────────────────────────────────────────────────────────────────────────────────────────────────────────</span>\n",
              "</pre>\n"
            ],
            "text/plain": [
              "\u001b[92m───────────────────────────────────────────────────────────────────────────────────────────────────────────────────\u001b[0m\n"
            ]
          },
          "metadata": {},
          "output_type": "display_data"
        },
        {
          "data": {
            "text/html": [
              "<pre style=\"white-space:pre;overflow-x:auto;line-height:normal;font-family:Menlo,'DejaVu Sans Mono',consolas,'Courier New',monospace\"><span style=\"color: #00ff00; text-decoration-color: #00ff00\">───────────────────────────────────────── </span><span style=\"color: #008080; text-decoration-color: #008080; font-weight: bold\">Step </span><span style=\"color: #008080; text-decoration-color: #008080; font-weight: bold\">2</span><span style=\"color: #008080; text-decoration-color: #008080; font-weight: bold\">: Executing NetworkX Code</span><span style=\"color: #00ff00; text-decoration-color: #00ff00\"> ─────────────────────────────────────────</span>\n",
              "</pre>\n"
            ],
            "text/plain": [
              "\u001b[92m───────────────────────────────────────── \u001b[0m\u001b[1;36mStep \u001b[0m\u001b[1;36m2\u001b[0m\u001b[1;36m: Executing NetworkX Code\u001b[0m\u001b[92m ─────────────────────────────────────────\u001b[0m\n"
            ]
          },
          "metadata": {},
          "output_type": "display_data"
        },
        {
          "data": {
            "text/html": [
              "<pre style=\"white-space:pre;overflow-x:auto;line-height:normal;font-family:Menlo,'DejaVu Sans Mono',consolas,'Courier New',monospace\"><span style=\"color: #000080; text-decoration-color: #000080; font-weight: bold\">Attempt </span><span style=\"color: #000080; text-decoration-color: #000080; font-weight: bold\">1</span><span style=\"color: #000080; text-decoration-color: #000080; font-weight: bold\">: Executing code</span>\n",
              "</pre>\n"
            ],
            "text/plain": [
              "\u001b[1;34mAttempt \u001b[0m\u001b[1;34m1\u001b[0m\u001b[1;34m: Executing code\u001b[0m\n"
            ]
          },
          "metadata": {},
          "output_type": "display_data"
        },
        {
          "name": "stdout",
          "output_type": "stream",
          "text": [
            "EXEC ERROR on attempt 1: not implemented for directed type\n"
          ]
        },
        {
          "data": {
            "text/html": [
              "<pre style=\"white-space:pre;overflow-x:auto;line-height:normal;font-family:Menlo,'DejaVu Sans Mono',consolas,'Courier New',monospace\"><span style=\"color: #808000; text-decoration-color: #808000; font-weight: bold\">Corrected Code:</span>\n",
              "</pre>\n"
            ],
            "text/plain": [
              "\u001b[1;33mCorrected Code:\u001b[0m\n"
            ]
          },
          "metadata": {},
          "output_type": "display_data"
        },
        {
          "data": {
            "text/html": [
              "<pre style=\"white-space:pre;overflow-x:auto;line-height:normal;font-family:Menlo,'DejaVu Sans Mono',consolas,'Courier New',monospace\"><span style=\"color: #808000; text-decoration-color: #808000\">import networkx as nx</span>\n",
              "\n",
              "<span style=\"color: #808000; text-decoration-color: #808000\"># Assuming G_adb is already defined as a directed graph</span>\n",
              "<span style=\"color: #808000; text-decoration-color: #808000\">G_adb = </span><span style=\"color: #800080; text-decoration-color: #800080; font-weight: bold\">nx.DiGraph</span><span style=\"color: #808000; text-decoration-color: #808000; font-weight: bold\">()</span><span style=\"color: #808000; text-decoration-color: #808000\">  # Replace this with your actual graph initialization</span>\n",
              "\n",
              "<span style=\"color: #808000; text-decoration-color: #808000\"># Add nodes and edges to G_adb based on your data</span>\n",
              "\n",
              "<span style=\"color: #808000; text-decoration-color: #808000\"># Use strongly connected components for directed graphs</span>\n",
              "<span style=\"color: #808000; text-decoration-color: #808000\">strongly_connected_components = </span><span style=\"color: #800080; text-decoration-color: #800080; font-weight: bold\">list</span><span style=\"color: #808000; text-decoration-color: #808000; font-weight: bold\">(</span><span style=\"color: #800080; text-decoration-color: #800080; font-weight: bold\">nx.strongly_connected_components</span><span style=\"color: #808000; text-decoration-color: #808000; font-weight: bold\">(</span><span style=\"color: #808000; text-decoration-color: #808000\">G_adb</span><span style=\"color: #808000; text-decoration-color: #808000; font-weight: bold\">))</span>\n",
              "<span style=\"color: #808000; text-decoration-color: #808000\">num_strongly_connected_components = </span><span style=\"color: #800080; text-decoration-color: #800080; font-weight: bold\">len</span><span style=\"color: #808000; text-decoration-color: #808000; font-weight: bold\">(</span><span style=\"color: #808000; text-decoration-color: #808000\">strongly_connected_components</span><span style=\"color: #808000; text-decoration-color: #808000; font-weight: bold\">)</span>\n",
              "\n",
              "<span style=\"color: #808000; text-decoration-color: #808000\"># Prepare the final result</span>\n",
              "<span style=\"color: #808000; text-decoration-color: #808000\">FINAL_RESULT = f\"The network has </span><span style=\"color: #808000; text-decoration-color: #808000; font-weight: bold\">{</span><span style=\"color: #808000; text-decoration-color: #808000\">num_strongly_connected_components</span><span style=\"color: #808000; text-decoration-color: #808000; font-weight: bold\">}</span><span style=\"color: #808000; text-decoration-color: #808000\"> strongly connected components.\"</span>\n",
              "</pre>\n"
            ],
            "text/plain": [
              "\u001b[33mimport networkx as nx\u001b[0m\n",
              "\n",
              "\u001b[33m# Assuming G_adb is already defined as a directed graph\u001b[0m\n",
              "\u001b[33mG_adb = \u001b[0m\u001b[1;35mnx.DiGraph\u001b[0m\u001b[1;33m(\u001b[0m\u001b[1;33m)\u001b[0m\u001b[33m  # Replace this with your actual graph initialization\u001b[0m\n",
              "\n",
              "\u001b[33m# Add nodes and edges to G_adb based on your data\u001b[0m\n",
              "\n",
              "\u001b[33m# Use strongly connected components for directed graphs\u001b[0m\n",
              "\u001b[33mstrongly_connected_components = \u001b[0m\u001b[1;35mlist\u001b[0m\u001b[1;33m(\u001b[0m\u001b[1;35mnx.strongly_connected_components\u001b[0m\u001b[1;33m(\u001b[0m\u001b[33mG_adb\u001b[0m\u001b[1;33m)\u001b[0m\u001b[1;33m)\u001b[0m\n",
              "\u001b[33mnum_strongly_connected_components = \u001b[0m\u001b[1;35mlen\u001b[0m\u001b[1;33m(\u001b[0m\u001b[33mstrongly_connected_components\u001b[0m\u001b[1;33m)\u001b[0m\n",
              "\n",
              "\u001b[33m# Prepare the final result\u001b[0m\n",
              "\u001b[33mFINAL_RESULT = f\"The network has \u001b[0m\u001b[1;33m{\u001b[0m\u001b[33mnum_strongly_connected_components\u001b[0m\u001b[1;33m}\u001b[0m\u001b[33m strongly connected components.\"\u001b[0m\n"
            ]
          },
          "metadata": {},
          "output_type": "display_data"
        },
        {
          "data": {
            "text/html": [
              "<pre style=\"white-space:pre;overflow-x:auto;line-height:normal;font-family:Menlo,'DejaVu Sans Mono',consolas,'Courier New',monospace\"><span style=\"color: #000080; text-decoration-color: #000080; font-weight: bold\">Attempt </span><span style=\"color: #000080; text-decoration-color: #000080; font-weight: bold\">2</span><span style=\"color: #000080; text-decoration-color: #000080; font-weight: bold\">: Executing code</span>\n",
              "</pre>\n"
            ],
            "text/plain": [
              "\u001b[1;34mAttempt \u001b[0m\u001b[1;34m2\u001b[0m\u001b[1;34m: Executing code\u001b[0m\n"
            ]
          },
          "metadata": {},
          "output_type": "display_data"
        },
        {
          "data": {
            "text/html": [
              "<pre style=\"white-space:pre;overflow-x:auto;line-height:normal;font-family:Menlo,'DejaVu Sans Mono',consolas,'Courier New',monospace\"><span style=\"color: #00ff00; text-decoration-color: #00ff00\">───────────────────────────────────────────── </span><span style=\"color: #008000; text-decoration-color: #008000; font-weight: bold\">Final Execution Result</span><span style=\"color: #00ff00; text-decoration-color: #00ff00\"> ──────────────────────────────────────────────</span>\n",
              "</pre>\n"
            ],
            "text/plain": [
              "\u001b[92m───────────────────────────────────────────── \u001b[0m\u001b[1;32mFinal Execution Result\u001b[0m\u001b[92m ──────────────────────────────────────────────\u001b[0m\n"
            ]
          },
          "metadata": {},
          "output_type": "display_data"
        },
        {
          "data": {
            "text/html": [
              "<pre style=\"white-space:pre;overflow-x:auto;line-height:normal;font-family:Menlo,'DejaVu Sans Mono',consolas,'Courier New',monospace\"><span style=\"color: #800080; text-decoration-color: #800080; font-weight: bold\">FINAL_RESULT:</span><span style=\"color: #800080; text-decoration-color: #800080\"> The network has </span><span style=\"color: #008080; text-decoration-color: #008080; font-weight: bold\">0</span><span style=\"color: #800080; text-decoration-color: #800080\"> strongly connected components.</span>\n",
              "</pre>\n"
            ],
            "text/plain": [
              "\u001b[1;35mFINAL_RESULT:\u001b[0m\u001b[35m The network has \u001b[0m\u001b[1;36m0\u001b[0m\u001b[35m strongly connected components.\u001b[0m\n"
            ]
          },
          "metadata": {},
          "output_type": "display_data"
        },
        {
          "data": {
            "text/html": [
              "<pre style=\"white-space:pre;overflow-x:auto;line-height:normal;font-family:Menlo,'DejaVu Sans Mono',consolas,'Courier New',monospace\"><span style=\"color: #00ff00; text-decoration-color: #00ff00\">───────────────────────────────────────────────────────────────────────────────────────────────────────────────────</span>\n",
              "</pre>\n"
            ],
            "text/plain": [
              "\u001b[92m───────────────────────────────────────────────────────────────────────────────────────────────────────────────────\u001b[0m\n"
            ]
          },
          "metadata": {},
          "output_type": "display_data"
        },
        {
          "data": {
            "text/html": [
              "<pre style=\"white-space:pre;overflow-x:auto;line-height:normal;font-family:Menlo,'DejaVu Sans Mono',consolas,'Courier New',monospace\"><span style=\"color: #00ff00; text-decoration-color: #00ff00\">──────────────────────────────────────── </span><span style=\"color: #008080; text-decoration-color: #008080; font-weight: bold\">Step </span><span style=\"color: #008080; text-decoration-color: #008080; font-weight: bold\">3</span><span style=\"color: #008080; text-decoration-color: #008080; font-weight: bold\">: Formulating Final Answer</span><span style=\"color: #00ff00; text-decoration-color: #00ff00\"> ─────────────────────────────────────────</span>\n",
              "</pre>\n"
            ],
            "text/plain": [
              "\u001b[92m──────────────────────────────────────── \u001b[0m\u001b[1;36mStep \u001b[0m\u001b[1;36m3\u001b[0m\u001b[1;36m: Formulating Final Answer\u001b[0m\u001b[92m ─────────────────────────────────────────\u001b[0m\n"
            ]
          },
          "metadata": {},
          "output_type": "display_data"
        },
        {
          "data": {
            "text/html": [
              "<pre style=\"white-space:pre;overflow-x:auto;line-height:normal;font-family:Menlo,'DejaVu Sans Mono',consolas,'Courier New',monospace\"><span style=\"color: #00ff00; text-decoration-color: #00ff00\">───────────────────────────────────────────── </span><span style=\"color: #008000; text-decoration-color: #008000; font-weight: bold\">Final Answer Generated</span><span style=\"color: #00ff00; text-decoration-color: #00ff00\"> ──────────────────────────────────────────────</span>\n",
              "</pre>\n"
            ],
            "text/plain": [
              "\u001b[92m───────────────────────────────────────────── \u001b[0m\u001b[1;32mFinal Answer Generated\u001b[0m\u001b[92m ──────────────────────────────────────────────\u001b[0m\n"
            ]
          },
          "metadata": {},
          "output_type": "display_data"
        },
        {
          "data": {
            "text/plain": [
              "'The network has no strongly connected components, which means there are no subsets of nodes where every node is reachable from every other node within the directed graph.'"
            ]
          },
          "execution_count": 42,
          "metadata": {},
          "output_type": "execute_result"
        }
      ],
      "source": [
        "query_graph(\"How strongly connected is the network? Used connected components\")"
      ]
    },
    {
      "cell_type": "code",
      "execution_count": null,
      "metadata": {
        "scrolled": true,
        "id": "RRYsGswBqe2y",
        "outputId": "6c7f9000-49e4-486a-a7e3-459ab3b7ebca"
      },
      "outputs": [
        {
          "data": {
            "text/html": [
              "<pre style=\"white-space:pre;overflow-x:auto;line-height:normal;font-family:Menlo,'DejaVu Sans Mono',consolas,'Courier New',monospace\"><span style=\"color: #00ff00; text-decoration-color: #00ff00\">──────────────────────────────────────── </span><span style=\"color: #008080; text-decoration-color: #008080; font-weight: bold\">Step </span><span style=\"color: #008080; text-decoration-color: #008080; font-weight: bold\">1</span><span style=\"color: #008080; text-decoration-color: #008080; font-weight: bold\">: Generating NetworkX Code</span><span style=\"color: #00ff00; text-decoration-color: #00ff00\"> ─────────────────────────────────────────</span>\n",
              "</pre>\n"
            ],
            "text/plain": [
              "\u001b[92m──────────────────────────────────────── \u001b[0m\u001b[1;36mStep \u001b[0m\u001b[1;36m1\u001b[0m\u001b[1;36m: Generating NetworkX Code\u001b[0m\u001b[92m ─────────────────────────────────────────\u001b[0m\n"
            ]
          },
          "metadata": {},
          "output_type": "display_data"
        },
        {
          "data": {
            "text/html": [
              "<pre style=\"white-space:pre;overflow-x:auto;line-height:normal;font-family:Menlo,'DejaVu Sans Mono',consolas,'Courier New',monospace\"><span style=\"color: #00ff00; text-decoration-color: #00ff00\">───────────────────────────────────────────── </span><span style=\"color: #008000; text-decoration-color: #008000; font-weight: bold\">Generated NetworkX Code</span><span style=\"color: #00ff00; text-decoration-color: #00ff00\"> ─────────────────────────────────────────────</span>\n",
              "</pre>\n"
            ],
            "text/plain": [
              "\u001b[92m───────────────────────────────────────────── \u001b[0m\u001b[1;32mGenerated NetworkX Code\u001b[0m\u001b[92m ─────────────────────────────────────────────\u001b[0m\n"
            ]
          },
          "metadata": {},
          "output_type": "display_data"
        },
        {
          "data": {
            "text/html": [
              "<pre style=\"white-space:pre;overflow-x:auto;line-height:normal;font-family:Menlo,'DejaVu Sans Mono',consolas,'Courier New',monospace\"><span style=\"color: #008000; text-decoration-color: #008000\">import networkx as nx</span>\n",
              "\n",
              "<span style=\"color: #008000; text-decoration-color: #008000\"># Assuming G_adb is already defined as a NetworkX graph</span>\n",
              "\n",
              "<span style=\"color: #008000; text-decoration-color: #008000\"># Calculate PageRank for the airports in the graph</span>\n",
              "<span style=\"color: #008000; text-decoration-color: #008000\">pagerank_scores = </span><span style=\"color: #800080; text-decoration-color: #800080; font-weight: bold\">nx.pagerank</span><span style=\"color: #008000; text-decoration-color: #008000; font-weight: bold\">(</span><span style=\"color: #008000; text-decoration-color: #008000\">G_adb</span><span style=\"color: #008000; text-decoration-color: #008000; font-weight: bold\">)</span>\n",
              "\n",
              "<span style=\"color: #008000; text-decoration-color: #008000\"># Find the most influential airport based on PageRank score</span>\n",
              "<span style=\"color: #008000; text-decoration-color: #008000\">most_influential_airport = </span><span style=\"color: #800080; text-decoration-color: #800080; font-weight: bold\">max</span><span style=\"color: #008000; text-decoration-color: #008000; font-weight: bold\">(</span><span style=\"color: #008000; text-decoration-color: #008000\">pagerank_scores, </span><span style=\"color: #808000; text-decoration-color: #808000\">key</span><span style=\"color: #008000; text-decoration-color: #008000\">=</span><span style=\"color: #800080; text-decoration-color: #800080\">pagerank_scores</span><span style=\"color: #008000; text-decoration-color: #008000\">.get</span><span style=\"color: #008000; text-decoration-color: #008000; font-weight: bold\">)</span>\n",
              "\n",
              "<span style=\"color: #008000; text-decoration-color: #008000\"># Store the result in FINAL_RESULT</span>\n",
              "<span style=\"color: #008000; text-decoration-color: #008000\">FINAL_RESULT = most_influential_airport</span>\n",
              "</pre>\n"
            ],
            "text/plain": [
              "\u001b[32mimport networkx as nx\u001b[0m\n",
              "\n",
              "\u001b[32m# Assuming G_adb is already defined as a NetworkX graph\u001b[0m\n",
              "\n",
              "\u001b[32m# Calculate PageRank for the airports in the graph\u001b[0m\n",
              "\u001b[32mpagerank_scores = \u001b[0m\u001b[1;35mnx.pagerank\u001b[0m\u001b[1;32m(\u001b[0m\u001b[32mG_adb\u001b[0m\u001b[1;32m)\u001b[0m\n",
              "\n",
              "\u001b[32m# Find the most influential airport based on PageRank score\u001b[0m\n",
              "\u001b[32mmost_influential_airport = \u001b[0m\u001b[1;35mmax\u001b[0m\u001b[1;32m(\u001b[0m\u001b[32mpagerank_scores, \u001b[0m\u001b[33mkey\u001b[0m\u001b[32m=\u001b[0m\u001b[35mpagerank_scores\u001b[0m\u001b[32m.get\u001b[0m\u001b[1;32m)\u001b[0m\n",
              "\n",
              "\u001b[32m# Store the result in FINAL_RESULT\u001b[0m\n",
              "\u001b[32mFINAL_RESULT = most_influential_airport\u001b[0m\n"
            ]
          },
          "metadata": {},
          "output_type": "display_data"
        },
        {
          "data": {
            "text/html": [
              "<pre style=\"white-space:pre;overflow-x:auto;line-height:normal;font-family:Menlo,'DejaVu Sans Mono',consolas,'Courier New',monospace\"><span style=\"color: #00ff00; text-decoration-color: #00ff00\">───────────────────────────────────────────────────────────────────────────────────────────────────────────────────</span>\n",
              "</pre>\n"
            ],
            "text/plain": [
              "\u001b[92m───────────────────────────────────────────────────────────────────────────────────────────────────────────────────\u001b[0m\n"
            ]
          },
          "metadata": {},
          "output_type": "display_data"
        },
        {
          "data": {
            "text/html": [
              "<pre style=\"white-space:pre;overflow-x:auto;line-height:normal;font-family:Menlo,'DejaVu Sans Mono',consolas,'Courier New',monospace\"><span style=\"color: #00ff00; text-decoration-color: #00ff00\">───────────────────────────────────────── </span><span style=\"color: #008080; text-decoration-color: #008080; font-weight: bold\">Step </span><span style=\"color: #008080; text-decoration-color: #008080; font-weight: bold\">2</span><span style=\"color: #008080; text-decoration-color: #008080; font-weight: bold\">: Executing NetworkX Code</span><span style=\"color: #00ff00; text-decoration-color: #00ff00\"> ─────────────────────────────────────────</span>\n",
              "</pre>\n"
            ],
            "text/plain": [
              "\u001b[92m───────────────────────────────────────── \u001b[0m\u001b[1;36mStep \u001b[0m\u001b[1;36m2\u001b[0m\u001b[1;36m: Executing NetworkX Code\u001b[0m\u001b[92m ─────────────────────────────────────────\u001b[0m\n"
            ]
          },
          "metadata": {},
          "output_type": "display_data"
        },
        {
          "data": {
            "text/html": [
              "<pre style=\"white-space:pre;overflow-x:auto;line-height:normal;font-family:Menlo,'DejaVu Sans Mono',consolas,'Courier New',monospace\"><span style=\"color: #000080; text-decoration-color: #000080; font-weight: bold\">Attempt </span><span style=\"color: #000080; text-decoration-color: #000080; font-weight: bold\">1</span><span style=\"color: #000080; text-decoration-color: #000080; font-weight: bold\">: Executing code</span>\n",
              "</pre>\n"
            ],
            "text/plain": [
              "\u001b[1;34mAttempt \u001b[0m\u001b[1;34m1\u001b[0m\u001b[1;34m: Executing code\u001b[0m\n"
            ]
          },
          "metadata": {},
          "output_type": "display_data"
        },
        {
          "data": {
            "text/html": [
              "<pre style=\"white-space:pre;overflow-x:auto;line-height:normal;font-family:Menlo,'DejaVu Sans Mono',consolas,'Courier New',monospace\"><span style=\"color: #00ff00; text-decoration-color: #00ff00\">───────────────────────────────────────────── </span><span style=\"color: #008000; text-decoration-color: #008000; font-weight: bold\">Final Execution Result</span><span style=\"color: #00ff00; text-decoration-color: #00ff00\"> ──────────────────────────────────────────────</span>\n",
              "</pre>\n"
            ],
            "text/plain": [
              "\u001b[92m───────────────────────────────────────────── \u001b[0m\u001b[1;32mFinal Execution Result\u001b[0m\u001b[92m ──────────────────────────────────────────────\u001b[0m\n"
            ]
          },
          "metadata": {},
          "output_type": "display_data"
        },
        {
          "data": {
            "text/html": [
              "<pre style=\"white-space:pre;overflow-x:auto;line-height:normal;font-family:Menlo,'DejaVu Sans Mono',consolas,'Courier New',monospace\"><span style=\"color: #800080; text-decoration-color: #800080; font-weight: bold\">FINAL_RESULT:</span><span style=\"color: #800080; text-decoration-color: #800080\"> airports/ATL</span>\n",
              "</pre>\n"
            ],
            "text/plain": [
              "\u001b[1;35mFINAL_RESULT:\u001b[0m\u001b[35m airports/ATL\u001b[0m\n"
            ]
          },
          "metadata": {},
          "output_type": "display_data"
        },
        {
          "data": {
            "text/html": [
              "<pre style=\"white-space:pre;overflow-x:auto;line-height:normal;font-family:Menlo,'DejaVu Sans Mono',consolas,'Courier New',monospace\"><span style=\"color: #00ff00; text-decoration-color: #00ff00\">───────────────────────────────────────────────────────────────────────────────────────────────────────────────────</span>\n",
              "</pre>\n"
            ],
            "text/plain": [
              "\u001b[92m───────────────────────────────────────────────────────────────────────────────────────────────────────────────────\u001b[0m\n"
            ]
          },
          "metadata": {},
          "output_type": "display_data"
        },
        {
          "data": {
            "text/html": [
              "<pre style=\"white-space:pre;overflow-x:auto;line-height:normal;font-family:Menlo,'DejaVu Sans Mono',consolas,'Courier New',monospace\"><span style=\"color: #00ff00; text-decoration-color: #00ff00\">──────────────────────────────────────── </span><span style=\"color: #008080; text-decoration-color: #008080; font-weight: bold\">Step </span><span style=\"color: #008080; text-decoration-color: #008080; font-weight: bold\">3</span><span style=\"color: #008080; text-decoration-color: #008080; font-weight: bold\">: Formulating Final Answer</span><span style=\"color: #00ff00; text-decoration-color: #00ff00\"> ─────────────────────────────────────────</span>\n",
              "</pre>\n"
            ],
            "text/plain": [
              "\u001b[92m──────────────────────────────────────── \u001b[0m\u001b[1;36mStep \u001b[0m\u001b[1;36m3\u001b[0m\u001b[1;36m: Formulating Final Answer\u001b[0m\u001b[92m ─────────────────────────────────────────\u001b[0m\n"
            ]
          },
          "metadata": {},
          "output_type": "display_data"
        },
        {
          "data": {
            "text/html": [
              "<pre style=\"white-space:pre;overflow-x:auto;line-height:normal;font-family:Menlo,'DejaVu Sans Mono',consolas,'Courier New',monospace\"><span style=\"color: #00ff00; text-decoration-color: #00ff00\">───────────────────────────────────────────── </span><span style=\"color: #008000; text-decoration-color: #008000; font-weight: bold\">Final Answer Generated</span><span style=\"color: #00ff00; text-decoration-color: #00ff00\"> ──────────────────────────────────────────────</span>\n",
              "</pre>\n"
            ],
            "text/plain": [
              "\u001b[92m───────────────────────────────────────────── \u001b[0m\u001b[1;32mFinal Answer Generated\u001b[0m\u001b[92m ──────────────────────────────────────────────\u001b[0m\n"
            ]
          },
          "metadata": {},
          "output_type": "display_data"
        },
        {
          "data": {
            "text/plain": [
              "'The most influential airport based on PageRank analysis is Hartsfield-Jackson Atlanta International Airport (ATL).'"
            ]
          },
          "execution_count": 43,
          "metadata": {},
          "output_type": "execute_result"
        }
      ],
      "source": [
        "query_graph(\"Find the most influential airports using PageRank\")"
      ]
    },
    {
      "cell_type": "code",
      "execution_count": null,
      "metadata": {
        "scrolled": true,
        "id": "C5nx5bcDqe2y",
        "outputId": "5a3788d5-1a7b-4f3e-ea96-70004ed9f6ed"
      },
      "outputs": [
        {
          "data": {
            "text/html": [
              "<pre style=\"white-space:pre;overflow-x:auto;line-height:normal;font-family:Menlo,'DejaVu Sans Mono',consolas,'Courier New',monospace\">╭───────────────────────────────────── <span style=\"color: #008080; text-decoration-color: #008080; font-weight: bold\">== Hybrid Mode Activated ==</span> ─────────────────────────────────────╮\n",
              "│ Processing query: Compute the average path length for the flight network of the top 2 major airlines. │\n",
              "╰───────────────────────────────────────────────────────────────────────────────────────────────────────╯\n",
              "</pre>\n"
            ],
            "text/plain": [
              "╭───────────────────────────────────── \u001b[1;36m== Hybrid Mode Activated ==\u001b[0m ─────────────────────────────────────╮\n",
              "│ Processing query: Compute the average path length for the flight network of the top 2 major airlines. │\n",
              "╰───────────────────────────────────────────────────────────────────────────────────────────────────────╯\n"
            ]
          },
          "metadata": {},
          "output_type": "display_data"
        },
        {
          "data": {
            "text/html": [
              "<pre style=\"white-space:pre;overflow-x:auto;line-height:normal;font-family:Menlo,'DejaVu Sans Mono',consolas,'Courier New',monospace\">╭──────────── <span style=\"color: #008080; text-decoration-color: #008080; font-weight: bold\">== Hybrid Mode Activated ==</span> ─────────────╮\n",
              "│ Processing query: Identify the top 2 major airlines. │\n",
              "╰──────────────────────────────────────────────────────╯\n",
              "</pre>\n"
            ],
            "text/plain": [
              "╭──────────── \u001b[1;36m== Hybrid Mode Activated ==\u001b[0m ─────────────╮\n",
              "│ Processing query: Identify the top 2 major airlines. │\n",
              "╰──────────────────────────────────────────────────────╯\n"
            ]
          },
          "metadata": {},
          "output_type": "display_data"
        },
        {
          "data": {
            "text/html": [
              "<pre style=\"white-space:pre;overflow-x:auto;line-height:normal;font-family:Menlo,'DejaVu Sans Mono',consolas,'Courier New',monospace\">╭───────────────────── <span style=\"color: #008080; text-decoration-color: #008080; font-weight: bold\">== LLM Returned YAML ==</span> ─────────────────────╮\n",
              "│ - Determine the top 2 airlines based on flight volume.            │\n",
              "│ - Extract all flight paths for the top 2 airlines.                │\n",
              "│ - Compute the average path length for the extracted flight paths. │\n",
              "╰───────────────────────────────────────────────────────────────────╯\n",
              "</pre>\n"
            ],
            "text/plain": [
              "╭───────────────────── \u001b[1;36m== LLM Returned YAML ==\u001b[0m ─────────────────────╮\n",
              "│ - Determine the top 2 airlines based on flight volume.            │\n",
              "│ - Extract all flight paths for the top 2 airlines.                │\n",
              "│ - Compute the average path length for the extracted flight paths. │\n",
              "╰───────────────────────────────────────────────────────────────────╯\n"
            ]
          },
          "metadata": {},
          "output_type": "display_data"
        },
        {
          "data": {
            "text/html": [
              "<pre style=\"white-space:pre;overflow-x:auto;line-height:normal;font-family:Menlo,'DejaVu Sans Mono',consolas,'Courier New',monospace\">╭─────────────────────────────────────────── <span style=\"color: #008080; text-decoration-color: #008080; font-weight: bold\">== Parsed Sub-Queries ==</span> ────────────────────────────────────────────╮\n",
              "│ ['Determine the top 2 airlines based on flight volume.', 'Extract all flight paths for the top 2 airlines.',    │\n",
              "│ 'Compute the average path length for the extracted flight paths.']                                              │\n",
              "╰─────────────────────────────────────────────────────────────────────────────────────────────────────────────────╯\n",
              "</pre>\n"
            ],
            "text/plain": [
              "╭─────────────────────────────────────────── \u001b[1;36m== Parsed Sub-Queries ==\u001b[0m ────────────────────────────────────────────╮\n",
              "│ ['Determine the top 2 airlines based on flight volume.', 'Extract all flight paths for the top 2 airlines.',    │\n",
              "│ 'Compute the average path length for the extracted flight paths.']                                              │\n",
              "╰─────────────────────────────────────────────────────────────────────────────────────────────────────────────────╯\n"
            ]
          },
          "metadata": {},
          "output_type": "display_data"
        },
        {
          "data": {
            "text/html": [
              "<pre style=\"white-space:pre;overflow-x:auto;line-height:normal;font-family:Menlo,'DejaVu Sans Mono',consolas,'Courier New',monospace\">╭─────────── <span style=\"color: #008080; text-decoration-color: #008080; font-weight: bold\">== Processing Sub-Task 1/3 ==</span> ────────────╮\n",
              "│ Determine the top 2 airlines based on flight volume. │\n",
              "╰──────────────────────────────────────────────────────╯\n",
              "</pre>\n"
            ],
            "text/plain": [
              "╭─────────── \u001b[1;36m== Processing Sub-Task 1/3 ==\u001b[0m ────────────╮\n",
              "│ Determine the top 2 airlines based on flight volume. │\n",
              "╰──────────────────────────────────────────────────────╯\n"
            ]
          },
          "metadata": {},
          "output_type": "display_data"
        },
        {
          "data": {
            "text/html": [
              "<pre style=\"white-space:pre;overflow-x:auto;line-height:normal;font-family:Menlo,'DejaVu Sans Mono',consolas,'Courier New',monospace\">╭───────────────────────────────────────── <span style=\"color: #008080; text-decoration-color: #008080; font-weight: bold\">== LLM Returned YAML ==</span> ─────────────────────────────────────────╮\n",
              "│ - Determine the total number of flights for each airline by aggregating data from the flights collection. │\n",
              "│ - Identify the top 2 airlines based on the total number of flights calculated in the previous step.       │\n",
              "╰───────────────────────────────────────────────────────────────────────────────────────────────────────────╯\n",
              "</pre>\n"
            ],
            "text/plain": [
              "╭───────────────────────────────────────── \u001b[1;36m== LLM Returned YAML ==\u001b[0m ─────────────────────────────────────────╮\n",
              "│ - Determine the total number of flights for each airline by aggregating data from the flights collection. │\n",
              "│ - Identify the top 2 airlines based on the total number of flights calculated in the previous step.       │\n",
              "╰───────────────────────────────────────────────────────────────────────────────────────────────────────────╯\n"
            ]
          },
          "metadata": {},
          "output_type": "display_data"
        },
        {
          "data": {
            "text/html": [
              "<pre style=\"white-space:pre;overflow-x:auto;line-height:normal;font-family:Menlo,'DejaVu Sans Mono',consolas,'Courier New',monospace\">╭─────────────────────────────────────────── <span style=\"color: #008080; text-decoration-color: #008080; font-weight: bold\">== Parsed Sub-Queries ==</span> ────────────────────────────────────────────╮\n",
              "│ ['Determine the total number of flights for each airline by aggregating data from the flights collection.',     │\n",
              "│ 'Identify the top 2 airlines based on the total number of flights calculated in the previous step.']            │\n",
              "╰─────────────────────────────────────────────────────────────────────────────────────────────────────────────────╯\n",
              "</pre>\n"
            ],
            "text/plain": [
              "╭─────────────────────────────────────────── \u001b[1;36m== Parsed Sub-Queries ==\u001b[0m ────────────────────────────────────────────╮\n",
              "│ ['Determine the total number of flights for each airline by aggregating data from the flights collection.',     │\n",
              "│ 'Identify the top 2 airlines based on the total number of flights calculated in the previous step.']            │\n",
              "╰─────────────────────────────────────────────────────────────────────────────────────────────────────────────────╯\n"
            ]
          },
          "metadata": {},
          "output_type": "display_data"
        },
        {
          "data": {
            "text/html": [
              "<pre style=\"white-space:pre;overflow-x:auto;line-height:normal;font-family:Menlo,'DejaVu Sans Mono',consolas,'Courier New',monospace\">╭───────────────────────────────────── <span style=\"color: #008080; text-decoration-color: #008080; font-weight: bold\">== Processing Sub-Task 1/2 ==</span> ─────────────────────────────────────╮\n",
              "│ Determine the total number of flights for each airline by aggregating data from the flights collection. │\n",
              "╰─────────────────────────────────────────────────────────────────────────────────────────────────────────╯\n",
              "</pre>\n"
            ],
            "text/plain": [
              "╭───────────────────────────────────── \u001b[1;36m== Processing Sub-Task 1/2 ==\u001b[0m ─────────────────────────────────────╮\n",
              "│ Determine the total number of flights for each airline by aggregating data from the flights collection. │\n",
              "╰─────────────────────────────────────────────────────────────────────────────────────────────────────────╯\n"
            ]
          },
          "metadata": {},
          "output_type": "display_data"
        },
        {
          "name": "stdout",
          "output_type": "stream",
          "text": [
            "\n",
            "\n",
            "\u001b[1m> Entering new ArangoGraphQAChain chain...\u001b[0m\n",
            "AQL Query (1):\u001b[32;1m\u001b[1;3m\n",
            "WITH flights\n",
            "FOR airline IN (\n",
            "    FOR flight IN flights\n",
            "    COLLECT carrier = flight.UniqueCarrier WITH COUNT INTO flightCount\n",
            "    RETURN { airline: carrier, count: flightCount }\n",
            ")\n",
            "SORT airline.count DESC\n",
            "LIMIT 2\n",
            "RETURN airline\n",
            "\u001b[0m\n",
            "AQL Result:\n",
            "\u001b[32;1m\u001b[1;3m[{'airline': 'WN', 'count': 48065}, {'airline': 'AA', 'count': 24797}]\u001b[0m\n",
            "\n",
            "\u001b[1m> Finished chain.\u001b[0m\n",
            "\n",
            "\n",
            "\u001b[1m> Entering new ArangoGraphQAChain chain...\u001b[0m\n"
          ]
        },
        {
          "data": {
            "text/html": [
              "<pre style=\"white-space:pre;overflow-x:auto;line-height:normal;font-family:Menlo,'DejaVu Sans Mono',consolas,'Courier New',monospace\">╭────────── <span style=\"color: #008080; text-decoration-color: #008080; font-weight: bold\">== Result for Sub-Task 1 ==</span> ───────────╮\n",
              "│ The top two airlines based on flight volume are: │\n",
              "│                                                  │\n",
              "│ 1. **Southwest Airlines (WN)** - 48,065 flights  │\n",
              "│ 2. **American Airlines (AA)** - 24,797 flights   │\n",
              "╰──────────────────────────────────────────────────╯\n",
              "</pre>\n"
            ],
            "text/plain": [
              "╭────────── \u001b[1;36m== Result for Sub-Task 1 ==\u001b[0m ───────────╮\n",
              "│ The top two airlines based on flight volume are: │\n",
              "│                                                  │\n",
              "│ 1. **Southwest Airlines (WN)** - 48,065 flights  │\n",
              "│ 2. **American Airlines (AA)** - 24,797 flights   │\n",
              "╰──────────────────────────────────────────────────╯\n"
            ]
          },
          "metadata": {},
          "output_type": "display_data"
        },
        {
          "data": {
            "text/html": [
              "<pre style=\"white-space:pre;overflow-x:auto;line-height:normal;font-family:Menlo,'DejaVu Sans Mono',consolas,'Courier New',monospace\">╭───────── <span style=\"color: #008080; text-decoration-color: #008080; font-weight: bold\">== Processing Sub-Task 2/3 ==</span> ──────────╮\n",
              "│ Extract all flight paths for the top 2 airlines. │\n",
              "╰──────────────────────────────────────────────────╯\n",
              "</pre>\n"
            ],
            "text/plain": [
              "╭───────── \u001b[1;36m== Processing Sub-Task 2/3 ==\u001b[0m ──────────╮\n",
              "│ Extract all flight paths for the top 2 airlines. │\n",
              "╰──────────────────────────────────────────────────╯\n"
            ]
          },
          "metadata": {},
          "output_type": "display_data"
        },
        {
          "name": "stdout",
          "output_type": "stream",
          "text": [
            "AQL Query (1):\u001b[32;1m\u001b[1;3m\n",
            "WITH flights\n",
            "FOR flight IN flights COLLECT airline = flight.UniqueCarrier WITH COUNT INTO totalFlights RETURN { airline: airline, totalFlights: totalFlights }\n",
            "\u001b[0m\n",
            "AQL Result:\n",
            "\u001b[32;1m\u001b[1;3m[{'airline': '9E', 'totalFlights': 10493}, {'airline': 'AA', 'totalFlights': 24797}, {'airline': 'AQ', 'totalFlights': 1935}, {'airline': 'AS', 'totalFlights': 5993}, {'airline': 'B6', 'totalFlights': 8060}, {'airline': 'CO', 'totalFlights': 12398}, {'airline': 'DL', 'totalFlights': 18107}, {'airline': 'EV', 'totalFlights': 10762}, {'airline': 'F9', 'totalFlights': 3760}, {'airline': 'FL', 'totalFlights': 10148}]\u001b[0m\n",
            "\n",
            "\n",
            "\u001b[1m> Entering new ArangoGraphQAChain chain...\u001b[0m\n",
            "\n",
            "\n",
            "\u001b[1m> Entering new ArangoGraphQAChain chain...\u001b[0m\n",
            "AQL Query (1):\u001b[32;1m\u001b[1;3m\n",
            "WITH airports, flights\n",
            "FOR flight IN flights\n",
            "    FILTER flight.UniqueCarrier IN ['WN', 'AA']\n",
            "    LIMIT 10\n",
            "    RETURN flight\n",
            "\u001b[0m\n",
            "AQL Result:\n",
            "\u001b[32;1m\u001b[1;3m[{'_key': '306520635', '_id': 'flights/306520635', '_from': 'airports/MIA', '_to': 'airports/TPA', '_rev': '_jVk9djm--F', 'Year': 2008, 'Month': 1, 'Day': 1, 'DayOfWeek': 2, 'DepTime': 14, 'ArrTime': 105, 'DepTimeUTC': '2008-01-01T05:14:00.000Z', 'ArrTimeUTC': '2008-01-01T06:05:00.000Z', 'UniqueCarrier': 'AA', 'FlightNum': 1831, 'TailNum': 'N3CHAA', 'Distance': 204}, {'_key': '306520638', '_id': 'flights/306520638', '_from': 'airports/TPA', '_to': 'airports/PBI', '_rev': '_jVk9djm--I', 'Year': 2008, 'Month': 1, 'Day': 1, 'DayOfWeek': 2, 'DepTime': 29, 'ArrTime': 112, 'DepTimeUTC': '2008-01-01T05:29:00.000Z', 'ArrTimeUTC': '2008-01-01T06:12:00.000Z', 'UniqueCarrier': 'WN', 'FlightNum': 680, 'TailNum': 'N265WN', 'Distance': 174}, {'_key': '306520641', '_id': 'flights/306520641', '_from': 'airports/TPA', '_to': 'airports/BNA', '_rev': '_jVk9djm--L', 'Year': 2008, 'Month': 1, 'Day': 1, 'DayOfWeek': 2, 'DepTime': 38, 'ArrTime': 114, 'DepTimeUTC': '2008-01-01T05:38:00.000Z', 'ArrTimeUTC': '2008-01-01T07:14:00.000Z', 'UniqueCarrier': 'WN', 'FlightNum': 3945, 'TailNum': 'N432WN', 'Distance': 612}, {'_key': '306520645', '_id': 'flights/306520645', '_from': 'airports/MDW', '_to': 'airports/MCI', '_rev': '_jVk9djm--P', 'Year': 2008, 'Month': 1, 'Day': 1, 'DayOfWeek': 2, 'DepTime': 1, 'ArrTime': 117, 'DepTimeUTC': '2008-01-01T06:01:00.000Z', 'ArrTimeUTC': '2008-01-01T07:17:00.000Z', 'UniqueCarrier': 'WN', 'FlightNum': 3558, 'TailNum': 'N613SW', 'Distance': 405}, {'_key': '306520646', '_id': 'flights/306520646', '_from': 'airports/MDW', '_to': 'airports/BWI', '_rev': '_jVk9djm--Q', 'Year': 2008, 'Month': 1, 'Day': 1, 'DayOfWeek': 2, 'DepTime': 1, 'ArrTime': 228, 'DepTimeUTC': '2008-01-01T06:01:00.000Z', 'ArrTimeUTC': '2008-01-01T07:28:00.000Z', 'UniqueCarrier': 'WN', 'FlightNum': 106, 'TailNum': 'N736SA', 'Distance': 611}, {'_key': '306520648', '_id': 'flights/306520648', '_from': 'airports/MDW', '_to': 'airports/TPA', '_rev': '_jVk9djm--S', 'Year': 2008, 'Month': 1, 'Day': 1, 'DayOfWeek': 2, 'DepTime': 3, 'ArrTime': 323, 'DepTimeUTC': '2008-01-01T06:03:00.000Z', 'ArrTimeUTC': '2008-01-01T08:23:00.000Z', 'UniqueCarrier': 'WN', 'FlightNum': 1100, 'TailNum': 'N785SW', 'Distance': 997}, {'_key': '306520651', '_id': 'flights/306520651', '_from': 'airports/MDW', '_to': 'airports/DTW', '_rev': '_jVk9djm--V', 'Year': 2008, 'Month': 1, 'Day': 1, 'DayOfWeek': 2, 'DepTime': 8, 'ArrTime': 200, 'DepTimeUTC': '2008-01-01T06:08:00.000Z', 'ArrTimeUTC': '2008-01-01T07:00:00.000Z', 'UniqueCarrier': 'WN', 'FlightNum': 174, 'TailNum': 'N292WN', 'Distance': 229}, {'_key': '306520652', '_id': 'flights/306520652', '_from': 'airports/TPA', '_to': 'airports/PHL', '_rev': '_jVk9djq---', 'Year': 2008, 'Month': 1, 'Day': 1, 'DayOfWeek': 2, 'DepTime': 121, 'ArrTime': 315, 'DepTimeUTC': '2008-01-01T06:21:00.000Z', 'ArrTimeUTC': '2008-01-01T08:15:00.000Z', 'UniqueCarrier': 'WN', 'FlightNum': 1663, 'TailNum': 'N793SA', 'Distance': 920}, {'_key': '306520656', '_id': 'flights/306520656', '_from': 'airports/MDW', '_to': 'airports/PHL', '_rev': '_jVk9djq--C', 'Year': 2008, 'Month': 1, 'Day': 1, 'DayOfWeek': 2, 'DepTime': 37, 'ArrTime': 312, 'DepTimeUTC': '2008-01-01T06:37:00.000Z', 'ArrTimeUTC': '2008-01-01T08:12:00.000Z', 'UniqueCarrier': 'WN', 'FlightNum': 2998, 'TailNum': 'N299WN', 'Distance': 668}, {'_key': '306520667', '_id': 'flights/306520667', '_from': 'airports/ABQ', '_to': 'airports/PHX', '_rev': '_jVk9djq--N', 'Year': 2008, 'Month': 1, 'Day': 1, 'DayOfWeek': 2, 'DepTime': 23, 'ArrTime': 126, 'DepTimeUTC': '2008-01-01T07:23:00.000Z', 'ArrTimeUTC': '2008-01-01T08:26:00.000Z', 'UniqueCarrier': 'WN', 'FlightNum': 823, 'TailNum': 'N225WN', 'Distance': 328}]\u001b[0m\n",
            "\n",
            "\u001b[1m> Finished chain.\u001b[0m\n",
            "AQL Query (1):\u001b[32;1m\u001b[1;3m\n",
            "WITH airports, flights\n",
            "FOR flight IN flights\n",
            "    FILTER flight.UniqueCarrier IN ['WN', 'AA']\n",
            "    RETURN flight\n",
            "LIMIT 10\n",
            "\u001b[0m\n",
            "AQL Query Execution Error: \n",
            "\u001b[33;1m\u001b[1;3msyntax error, unexpected LIMIT declaration, expecting end of query string near 'LIMIT 10\n",
            "' at position 6:1\u001b[0m\n",
            "\n"
          ]
        },
        {
          "data": {
            "text/html": [
              "<pre style=\"white-space:pre;overflow-x:auto;line-height:normal;font-family:Menlo,'DejaVu Sans Mono',consolas,'Courier New',monospace\">╭────────────────────────────────────────── <span style=\"color: #008080; text-decoration-color: #008080; font-weight: bold\">== Result for Sub-Task 1 ==</span> ──────────────────────────────────────────╮\n",
              "│ The total number of flights for each airline has been aggregated from the flights collection. Here are the top  │\n",
              "│ airlines based on the number of flights:                                                                        │\n",
              "│                                                                                                                 │\n",
              "│ 1. **American Airlines (AA)**: 24,797 flights                                                                   │\n",
              "│ 2. **Delta Airlines (DL)**: 18,107 flights                                                                      │\n",
              "│ 3. **Continental Airlines (CO)**: 12,398 flights                                                                │\n",
              "│ 4. **SkyWest Airlines (9E)**: 10,493 flights                                                                    │\n",
              "│ 5. **Alaska Airlines (AS)**: 5,993 flights                                                                      │\n",
              "│ 6. **Frontier Airlines (F9)**: 3,760 flights                                                                    │\n",
              "│                                                                                                                 │\n",
              "│ This data reflects a diverse range of airlines and their respective flight operations. If you need more details │\n",
              "│ or additional airlines, please let me know!                                                                     │\n",
              "╰─────────────────────────────────────────────────────────────────────────────────────────────────────────────────╯\n",
              "</pre>\n"
            ],
            "text/plain": [
              "╭────────────────────────────────────────── \u001b[1;36m== Result for Sub-Task 1 ==\u001b[0m ──────────────────────────────────────────╮\n",
              "│ The total number of flights for each airline has been aggregated from the flights collection. Here are the top  │\n",
              "│ airlines based on the number of flights:                                                                        │\n",
              "│                                                                                                                 │\n",
              "│ 1. **American Airlines (AA)**: 24,797 flights                                                                   │\n",
              "│ 2. **Delta Airlines (DL)**: 18,107 flights                                                                      │\n",
              "│ 3. **Continental Airlines (CO)**: 12,398 flights                                                                │\n",
              "│ 4. **SkyWest Airlines (9E)**: 10,493 flights                                                                    │\n",
              "│ 5. **Alaska Airlines (AS)**: 5,993 flights                                                                      │\n",
              "│ 6. **Frontier Airlines (F9)**: 3,760 flights                                                                    │\n",
              "│                                                                                                                 │\n",
              "│ This data reflects a diverse range of airlines and their respective flight operations. If you need more details │\n",
              "│ or additional airlines, please let me know!                                                                     │\n",
              "╰─────────────────────────────────────────────────────────────────────────────────────────────────────────────────╯\n"
            ]
          },
          "metadata": {},
          "output_type": "display_data"
        },
        {
          "data": {
            "text/html": [
              "<pre style=\"white-space:pre;overflow-x:auto;line-height:normal;font-family:Menlo,'DejaVu Sans Mono',consolas,'Courier New',monospace\">╭────────────────────────────────── <span style=\"color: #008080; text-decoration-color: #008080; font-weight: bold\">== Processing Sub-Task 2/2 ==</span> ──────────────────────────────────╮\n",
              "│ Identify the top 2 airlines based on the total number of flights calculated in the previous step. │\n",
              "╰───────────────────────────────────────────────────────────────────────────────────────────────────╯\n",
              "</pre>\n"
            ],
            "text/plain": [
              "╭────────────────────────────────── \u001b[1;36m== Processing Sub-Task 2/2 ==\u001b[0m ──────────────────────────────────╮\n",
              "│ Identify the top 2 airlines based on the total number of flights calculated in the previous step. │\n",
              "╰───────────────────────────────────────────────────────────────────────────────────────────────────╯\n"
            ]
          },
          "metadata": {},
          "output_type": "display_data"
        },
        {
          "data": {
            "text/html": [
              "<pre style=\"white-space:pre;overflow-x:auto;line-height:normal;font-family:Menlo,'DejaVu Sans Mono',consolas,'Courier New',monospace\">╭────────────────────────────────────────── <span style=\"color: #008080; text-decoration-color: #008080; font-weight: bold\">== Result for Sub-Task 2 ==</span> ──────────────────────────────────────────╮\n",
              "│ Based on the previously obtained results, the top 2 airlines based on the total number of flights are:          │\n",
              "│                                                                                                                 │\n",
              "│ 1. **American Airlines (AA)**: 24,797 flights                                                                   │\n",
              "│ 2. **Delta Airlines (DL)**: 18,107 flights                                                                      │\n",
              "│                                                                                                                 │\n",
              "│ These airlines lead the list in terms of flight operations, showcasing their significant presence in the        │\n",
              "│ aviation industry. If you need further analysis or additional information, feel free to ask!                    │\n",
              "╰─────────────────────────────────────────────────────────────────────────────────────────────────────────────────╯\n",
              "</pre>\n"
            ],
            "text/plain": [
              "╭────────────────────────────────────────── \u001b[1;36m== Result for Sub-Task 2 ==\u001b[0m ──────────────────────────────────────────╮\n",
              "│ Based on the previously obtained results, the top 2 airlines based on the total number of flights are:          │\n",
              "│                                                                                                                 │\n",
              "│ 1. **American Airlines (AA)**: 24,797 flights                                                                   │\n",
              "│ 2. **Delta Airlines (DL)**: 18,107 flights                                                                      │\n",
              "│                                                                                                                 │\n",
              "│ These airlines lead the list in terms of flight operations, showcasing their significant presence in the        │\n",
              "│ aviation industry. If you need further analysis or additional information, feel free to ask!                    │\n",
              "╰─────────────────────────────────────────────────────────────────────────────────────────────────────────────────╯\n"
            ]
          },
          "metadata": {},
          "output_type": "display_data"
        },
        {
          "data": {
            "text/html": [
              "<pre style=\"white-space:pre;overflow-x:auto;line-height:normal;font-family:Menlo,'DejaVu Sans Mono',consolas,'Courier New',monospace\">╭────────── <span style=\"color: #008080; text-decoration-color: #008080; font-weight: bold\">== Combined Final Result ==</span> ──────────╮\n",
              "│ 1. **American Airlines (AA)**: 24,797 flights   │\n",
              "│ 2. **Delta Airlines (DL)**: 18,107 flights      │\n",
              "╰─────────────────────────────────────────────────╯\n",
              "</pre>\n"
            ],
            "text/plain": [
              "╭────────── \u001b[1;36m== Combined Final Result ==\u001b[0m ──────────╮\n",
              "│ 1. **American Airlines (AA)**: 24,797 flights   │\n",
              "│ 2. **Delta Airlines (DL)**: 18,107 flights      │\n",
              "╰─────────────────────────────────────────────────╯\n"
            ]
          },
          "metadata": {},
          "output_type": "display_data"
        },
        {
          "name": "stdout",
          "output_type": "stream",
          "text": [
            "\n",
            "\u001b[1m> Finished chain.\u001b[0m\n"
          ]
        },
        {
          "data": {
            "text/html": [
              "<pre style=\"white-space:pre;overflow-x:auto;line-height:normal;font-family:Menlo,'DejaVu Sans Mono',consolas,'Courier New',monospace\">╭────────────────────────────────────────── <span style=\"color: #008080; text-decoration-color: #008080; font-weight: bold\">== Result for Sub-Task 2 ==</span> ──────────────────────────────────────────╮\n",
              "│ Here are the flight paths for the top two airlines, Southwest Airlines (WN) and American Airlines (AA), limited │\n",
              "│ to ten paths:                                                                                                   │\n",
              "│                                                                                                                 │\n",
              "│ 1. **American Airlines (AA)**:                                                                                  │\n",
              "│    - Flight from Miami (MIA) to Tampa (TPA), Flight Number: 1831, Distance: 204 miles.                          │\n",
              "│                                                                                                                 │\n",
              "│ 2. **Southwest Airlines (WN)**:                                                                                 │\n",
              "│    - Flight from Tampa (TPA) to Palm Beach (PBI), Flight Number: 680, Distance: 174 miles.                      │\n",
              "│    - Flight from Tampa (TPA) to Nashville (BNA), Flight Number: 3945, Distance: 612 miles.                      │\n",
              "│    - Flight from Chicago Midway (MDW) to Kansas City (MCI), Flight Number: 3558, Distance: 405 miles.           │\n",
              "│    - Flight from Chicago Midway (MDW) to Baltimore/Washington (BWI), Flight Number: 106, Distance: 611 miles.   │\n",
              "│    - Flight from Chicago Midway (MDW) to Tampa (TPA), Flight Number: 1100, Distance: 997 miles.                 │\n",
              "│    - Flight from Chicago Midway (MDW) to Detroit (DTW), Flight Number: 174, Distance: 229 miles.                │\n",
              "│    - Flight from Tampa (TPA) to Philadelphia (PHL), Flight Number: 1663, Distance: 920 miles.                   │\n",
              "│    - Flight from Chicago Midway (MDW) to Philadelphia (PHL), Flight Number: 2998, Distance: 668 miles.          │\n",
              "│    - Flight from Albuquerque (ABQ) to Phoenix (PHX), Flight Number: 823, Distance: 328 miles.                   │\n",
              "│                                                                                                                 │\n",
              "│ This summary provides a clear overview of the selected flight paths for both airlines.                          │\n",
              "╰─────────────────────────────────────────────────────────────────────────────────────────────────────────────────╯\n",
              "</pre>\n"
            ],
            "text/plain": [
              "╭────────────────────────────────────────── \u001b[1;36m== Result for Sub-Task 2 ==\u001b[0m ──────────────────────────────────────────╮\n",
              "│ Here are the flight paths for the top two airlines, Southwest Airlines (WN) and American Airlines (AA), limited │\n",
              "│ to ten paths:                                                                                                   │\n",
              "│                                                                                                                 │\n",
              "│ 1. **American Airlines (AA)**:                                                                                  │\n",
              "│    - Flight from Miami (MIA) to Tampa (TPA), Flight Number: 1831, Distance: 204 miles.                          │\n",
              "│                                                                                                                 │\n",
              "│ 2. **Southwest Airlines (WN)**:                                                                                 │\n",
              "│    - Flight from Tampa (TPA) to Palm Beach (PBI), Flight Number: 680, Distance: 174 miles.                      │\n",
              "│    - Flight from Tampa (TPA) to Nashville (BNA), Flight Number: 3945, Distance: 612 miles.                      │\n",
              "│    - Flight from Chicago Midway (MDW) to Kansas City (MCI), Flight Number: 3558, Distance: 405 miles.           │\n",
              "│    - Flight from Chicago Midway (MDW) to Baltimore/Washington (BWI), Flight Number: 106, Distance: 611 miles.   │\n",
              "│    - Flight from Chicago Midway (MDW) to Tampa (TPA), Flight Number: 1100, Distance: 997 miles.                 │\n",
              "│    - Flight from Chicago Midway (MDW) to Detroit (DTW), Flight Number: 174, Distance: 229 miles.                │\n",
              "│    - Flight from Tampa (TPA) to Philadelphia (PHL), Flight Number: 1663, Distance: 920 miles.                   │\n",
              "│    - Flight from Chicago Midway (MDW) to Philadelphia (PHL), Flight Number: 2998, Distance: 668 miles.          │\n",
              "│    - Flight from Albuquerque (ABQ) to Phoenix (PHX), Flight Number: 823, Distance: 328 miles.                   │\n",
              "│                                                                                                                 │\n",
              "│ This summary provides a clear overview of the selected flight paths for both airlines.                          │\n",
              "╰─────────────────────────────────────────────────────────────────────────────────────────────────────────────────╯\n"
            ]
          },
          "metadata": {},
          "output_type": "display_data"
        },
        {
          "data": {
            "text/html": [
              "<pre style=\"white-space:pre;overflow-x:auto;line-height:normal;font-family:Menlo,'DejaVu Sans Mono',consolas,'Courier New',monospace\">╭───────────────── <span style=\"color: #008080; text-decoration-color: #008080; font-weight: bold\">== Processing Sub-Task 3/3 ==</span> ─────────────────╮\n",
              "│ Compute the average path length for the extracted flight paths. │\n",
              "╰─────────────────────────────────────────────────────────────────╯\n",
              "</pre>\n"
            ],
            "text/plain": [
              "╭───────────────── \u001b[1;36m== Processing Sub-Task 3/3 ==\u001b[0m ─────────────────╮\n",
              "│ Compute the average path length for the extracted flight paths. │\n",
              "╰─────────────────────────────────────────────────────────────────╯\n"
            ]
          },
          "metadata": {},
          "output_type": "display_data"
        },
        {
          "data": {
            "text/html": [
              "<pre style=\"white-space:pre;overflow-x:auto;line-height:normal;font-family:Menlo,'DejaVu Sans Mono',consolas,'Courier New',monospace\">╭────────────────────────────────────────── <span style=\"color: #008080; text-decoration-color: #008080; font-weight: bold\">== Result for Sub-Task 3 ==</span> ──────────────────────────────────────────╮\n",
              "│ To compute the average path length for the extracted flight paths from the top two airlines, we will first sum  │\n",
              "│ the distances of all the listed flights and then divide by the total number of flights.                         │\n",
              "│                                                                                                                 │\n",
              "│ ### Flight Paths and Distances:                                                                                 │\n",
              "│ 1. **American Airlines (AA)**:                                                                                  │\n",
              "│    - Flight from Miami (MIA) to Tampa (TPA): 204 miles                                                          │\n",
              "│                                                                                                                 │\n",
              "│ 2. **Southwest Airlines (WN)**:                                                                                 │\n",
              "│    - Flight from Tampa (TPA) to Palm Beach (PBI): 174 miles                                                     │\n",
              "│    - Flight from Tampa (TPA) to Nashville (BNA): 612 miles                                                      │\n",
              "│    - Flight from Chicago Midway (MDW) to Kansas City (MCI): 405 miles                                           │\n",
              "│    - Flight from Chicago Midway (MDW) to Baltimore/Washington (BWI): 611 miles                                  │\n",
              "│    - Flight from Chicago Midway (MDW) to Tampa (TPA): 997 miles                                                 │\n",
              "│    - Flight from Chicago Midway (MDW) to Detroit (DTW): 229 miles                                               │\n",
              "│    - Flight from Tampa (TPA) to Philadelphia (PHL): 920 miles                                                   │\n",
              "│    - Flight from Chicago Midway (MDW) to Philadelphia (PHL): 668 miles                                          │\n",
              "│    - Flight from Albuquerque (ABQ) to Phoenix (PHX): 328 miles                                                  │\n",
              "│                                                                                                                 │\n",
              "│ ### Total Distances:                                                                                            │\n",
              "│ - American Airlines (AA): 204 miles                                                                             │\n",
              "│ - Southwest Airlines (WN):                                                                                      │\n",
              "│   - 174 + 612 + 405 + 611 + 997 + 229 + 920 + 668 + 328 = 4,576 miles                                           │\n",
              "│                                                                                                                 │\n",
              "│ ### Total Distance Calculation:                                                                                 │\n",
              "│ - Total Distance = 204 + 4,576 = 4,780 miles                                                                    │\n",
              "│                                                                                                                 │\n",
              "│ ### Total Number of Flights:                                                                                    │\n",
              "│ - Total Flights = 1 (AA) + 9 (WN) = 10 flights                                                                  │\n",
              "│                                                                                                                 │\n",
              "│ ### Average Path Length:                                                                                        │\n",
              "│ - Average Path Length = Total Distance / Total Flights                                                          │\n",
              "│ - Average Path Length = 4,780 miles / 10 flights = 478 miles                                                    │\n",
              "│                                                                                                                 │\n",
              "│ ### Summary:                                                                                                    │\n",
              "│ The average path length for the extracted flight paths from the top two airlines, Southwest Airlines (WN) and   │\n",
              "│ American Airlines (AA), is **478 miles**.                                                                       │\n",
              "╰─────────────────────────────────────────────────────────────────────────────────────────────────────────────────╯\n",
              "</pre>\n"
            ],
            "text/plain": [
              "╭────────────────────────────────────────── \u001b[1;36m== Result for Sub-Task 3 ==\u001b[0m ──────────────────────────────────────────╮\n",
              "│ To compute the average path length for the extracted flight paths from the top two airlines, we will first sum  │\n",
              "│ the distances of all the listed flights and then divide by the total number of flights.                         │\n",
              "│                                                                                                                 │\n",
              "│ ### Flight Paths and Distances:                                                                                 │\n",
              "│ 1. **American Airlines (AA)**:                                                                                  │\n",
              "│    - Flight from Miami (MIA) to Tampa (TPA): 204 miles                                                          │\n",
              "│                                                                                                                 │\n",
              "│ 2. **Southwest Airlines (WN)**:                                                                                 │\n",
              "│    - Flight from Tampa (TPA) to Palm Beach (PBI): 174 miles                                                     │\n",
              "│    - Flight from Tampa (TPA) to Nashville (BNA): 612 miles                                                      │\n",
              "│    - Flight from Chicago Midway (MDW) to Kansas City (MCI): 405 miles                                           │\n",
              "│    - Flight from Chicago Midway (MDW) to Baltimore/Washington (BWI): 611 miles                                  │\n",
              "│    - Flight from Chicago Midway (MDW) to Tampa (TPA): 997 miles                                                 │\n",
              "│    - Flight from Chicago Midway (MDW) to Detroit (DTW): 229 miles                                               │\n",
              "│    - Flight from Tampa (TPA) to Philadelphia (PHL): 920 miles                                                   │\n",
              "│    - Flight from Chicago Midway (MDW) to Philadelphia (PHL): 668 miles                                          │\n",
              "│    - Flight from Albuquerque (ABQ) to Phoenix (PHX): 328 miles                                                  │\n",
              "│                                                                                                                 │\n",
              "│ ### Total Distances:                                                                                            │\n",
              "│ - American Airlines (AA): 204 miles                                                                             │\n",
              "│ - Southwest Airlines (WN):                                                                                      │\n",
              "│   - 174 + 612 + 405 + 611 + 997 + 229 + 920 + 668 + 328 = 4,576 miles                                           │\n",
              "│                                                                                                                 │\n",
              "│ ### Total Distance Calculation:                                                                                 │\n",
              "│ - Total Distance = 204 + 4,576 = 4,780 miles                                                                    │\n",
              "│                                                                                                                 │\n",
              "│ ### Total Number of Flights:                                                                                    │\n",
              "│ - Total Flights = 1 (AA) + 9 (WN) = 10 flights                                                                  │\n",
              "│                                                                                                                 │\n",
              "│ ### Average Path Length:                                                                                        │\n",
              "│ - Average Path Length = Total Distance / Total Flights                                                          │\n",
              "│ - Average Path Length = 4,780 miles / 10 flights = 478 miles                                                    │\n",
              "│                                                                                                                 │\n",
              "│ ### Summary:                                                                                                    │\n",
              "│ The average path length for the extracted flight paths from the top two airlines, Southwest Airlines (WN) and   │\n",
              "│ American Airlines (AA), is **478 miles**.                                                                       │\n",
              "╰─────────────────────────────────────────────────────────────────────────────────────────────────────────────────╯\n"
            ]
          },
          "metadata": {},
          "output_type": "display_data"
        },
        {
          "data": {
            "text/html": [
              "<pre style=\"white-space:pre;overflow-x:auto;line-height:normal;font-family:Menlo,'DejaVu Sans Mono',consolas,'Courier New',monospace\">╭────────────────────────────────────────── <span style=\"color: #008080; text-decoration-color: #008080; font-weight: bold\">== Combined Final Result ==</span> ──────────────────────────────────────────╮\n",
              "│ The average path length for the flight network of the top two major airlines, Southwest Airlines (WN) and       │\n",
              "│ American Airlines (AA), is **478 miles**.                                                                       │\n",
              "╰─────────────────────────────────────────────────────────────────────────────────────────────────────────────────╯\n",
              "</pre>\n"
            ],
            "text/plain": [
              "╭────────────────────────────────────────── \u001b[1;36m== Combined Final Result ==\u001b[0m ──────────────────────────────────────────╮\n",
              "│ The average path length for the flight network of the top two major airlines, Southwest Airlines (WN) and       │\n",
              "│ American Airlines (AA), is **478 miles**.                                                                       │\n",
              "╰─────────────────────────────────────────────────────────────────────────────────────────────────────────────────╯\n"
            ]
          },
          "metadata": {},
          "output_type": "display_data"
        },
        {
          "data": {
            "text/plain": [
              "'The top 2 major airlines are:\\n\\n1. **American Airlines (AA)**: 24,797 flights\\n2. **Delta Airlines (DL)**: 18,107 flights\\n\\nThe average path length for the flight network of these airlines is **478 miles**.'"
            ]
          },
          "execution_count": 44,
          "metadata": {},
          "output_type": "execute_result"
        }
      ],
      "source": [
        "query_graph(\"For top 2 major airline, compute network metrics such as average path length for their flight network.\")"
      ]
    },
    {
      "cell_type": "code",
      "execution_count": 26,
      "metadata": {
        "scrolled": true,
        "colab": {
          "base_uri": "https://localhost:8080/",
          "height": 1000
        },
        "id": "5SPm6nURqe2y",
        "outputId": "289a711e-8283-4365-e8f7-eead1b095b98"
      },
      "outputs": [
        {
          "output_type": "display_data",
          "data": {
            "text/plain": [
              "╭────────────────────────────────────── \u001b[1;36m== Hybrid Mode Activated ==\u001b[0m ───────────────────────────────────────╮\n",
              "│ Processing query: Find the top two airlines based on flight volume and compute their centrality metrics. │\n",
              "╰──────────────────────────────────────────────────────────────────────────────────────────────────────────╯\n"
            ],
            "text/html": [
              "<pre style=\"white-space:pre;overflow-x:auto;line-height:normal;font-family:Menlo,'DejaVu Sans Mono',consolas,'Courier New',monospace\">╭────────────────────────────────────── <span style=\"color: #008080; text-decoration-color: #008080; font-weight: bold\">== Hybrid Mode Activated ==</span> ───────────────────────────────────────╮\n",
              "│ Processing query: Find the top two airlines based on flight volume and compute their centrality metrics. │\n",
              "╰──────────────────────────────────────────────────────────────────────────────────────────────────────────╯\n",
              "</pre>\n"
            ]
          },
          "metadata": {}
        },
        {
          "output_type": "display_data",
          "data": {
            "text/plain": [
              "╭─────────────────────────── \u001b[1;36m== LLM Returned YAML ==\u001b[0m ────────────────────────────╮\n",
              "│ - Determine the top 2 airlines based on flight volume.                         │\n",
              "│ - Compute centrality metrics (e.g., degree centrality) for the top 2 airlines. │\n",
              "╰────────────────────────────────────────────────────────────────────────────────╯\n"
            ],
            "text/html": [
              "<pre style=\"white-space:pre;overflow-x:auto;line-height:normal;font-family:Menlo,'DejaVu Sans Mono',consolas,'Courier New',monospace\">╭─────────────────────────── <span style=\"color: #008080; text-decoration-color: #008080; font-weight: bold\">== LLM Returned YAML ==</span> ────────────────────────────╮\n",
              "│ - Determine the top 2 airlines based on flight volume.                         │\n",
              "│ - Compute centrality metrics (e.g., degree centrality) for the top 2 airlines. │\n",
              "╰────────────────────────────────────────────────────────────────────────────────╯\n",
              "</pre>\n"
            ]
          },
          "metadata": {}
        },
        {
          "output_type": "display_data",
          "data": {
            "text/plain": [
              "╭─────────────────────────────────────────── \u001b[1;36m== Parsed Sub-Queries ==\u001b[0m ────────────────────────────────────────────╮\n",
              "│ ['Determine the top 2 airlines based on flight volume.', 'Compute centrality metrics (e.g., degree centrality)  │\n",
              "│ for the top 2 airlines.']                                                                                       │\n",
              "╰─────────────────────────────────────────────────────────────────────────────────────────────────────────────────╯\n"
            ],
            "text/html": [
              "<pre style=\"white-space:pre;overflow-x:auto;line-height:normal;font-family:Menlo,'DejaVu Sans Mono',consolas,'Courier New',monospace\">╭─────────────────────────────────────────── <span style=\"color: #008080; text-decoration-color: #008080; font-weight: bold\">== Parsed Sub-Queries ==</span> ────────────────────────────────────────────╮\n",
              "│ ['Determine the top 2 airlines based on flight volume.', 'Compute centrality metrics (e.g., degree centrality)  │\n",
              "│ for the top 2 airlines.']                                                                                       │\n",
              "╰─────────────────────────────────────────────────────────────────────────────────────────────────────────────────╯\n",
              "</pre>\n"
            ]
          },
          "metadata": {}
        },
        {
          "output_type": "display_data",
          "data": {
            "text/plain": [
              "╭─────────── \u001b[1;36m== Processing Sub-Task 1/2 ==\u001b[0m ────────────╮\n",
              "│ Determine the top 2 airlines based on flight volume. │\n",
              "╰──────────────────────────────────────────────────────╯\n"
            ],
            "text/html": [
              "<pre style=\"white-space:pre;overflow-x:auto;line-height:normal;font-family:Menlo,'DejaVu Sans Mono',consolas,'Courier New',monospace\">╭─────────── <span style=\"color: #008080; text-decoration-color: #008080; font-weight: bold\">== Processing Sub-Task 1/2 ==</span> ────────────╮\n",
              "│ Determine the top 2 airlines based on flight volume. │\n",
              "╰──────────────────────────────────────────────────────╯\n",
              "</pre>\n"
            ]
          },
          "metadata": {}
        },
        {
          "output_type": "stream",
          "name": "stdout",
          "text": [
            "\n",
            "\n",
            "\u001b[1m> Entering new ArangoGraphQAChain chain...\u001b[0m\n",
            "AQL Query (1):\u001b[32;1m\u001b[1;3m\n",
            "WITH flights\n",
            "FOR airline IN (\n",
            "    FOR flight IN flights\n",
            "    COLLECT carrier = flight.UniqueCarrier WITH COUNT INTO flightCount\n",
            "    RETURN { airline: carrier, count: flightCount }\n",
            ")\n",
            "SORT airline.count DESC\n",
            "LIMIT 2\n",
            "RETURN airline\n",
            "\u001b[0m\n",
            "AQL Result:\n",
            "\u001b[32;1m\u001b[1;3m[{'airline': 'WN', 'count': 48065}, {'airline': 'AA', 'count': 24797}]\u001b[0m\n",
            "\n",
            "\u001b[1m> Finished chain.\u001b[0m\n"
          ]
        },
        {
          "output_type": "display_data",
          "data": {
            "text/plain": [
              "╭────────── \u001b[1;36m== Result for Sub-Task 1 ==\u001b[0m ───────────╮\n",
              "│ The top two airlines based on flight volume are: │\n",
              "│                                                  │\n",
              "│ 1. **Southwest Airlines (WN)** - 48,065 flights  │\n",
              "│ 2. **American Airlines (AA)** - 24,797 flights   │\n",
              "╰──────────────────────────────────────────────────╯\n"
            ],
            "text/html": [
              "<pre style=\"white-space:pre;overflow-x:auto;line-height:normal;font-family:Menlo,'DejaVu Sans Mono',consolas,'Courier New',monospace\">╭────────── <span style=\"color: #008080; text-decoration-color: #008080; font-weight: bold\">== Result for Sub-Task 1 ==</span> ───────────╮\n",
              "│ The top two airlines based on flight volume are: │\n",
              "│                                                  │\n",
              "│ 1. **Southwest Airlines (WN)** - 48,065 flights  │\n",
              "│ 2. **American Airlines (AA)** - 24,797 flights   │\n",
              "╰──────────────────────────────────────────────────╯\n",
              "</pre>\n"
            ]
          },
          "metadata": {}
        },
        {
          "output_type": "display_data",
          "data": {
            "text/plain": [
              "╭─────────────────────── \u001b[1;36m== Processing Sub-Task 2/2 ==\u001b[0m ────────────────────────╮\n",
              "│ Compute centrality metrics (e.g., degree centrality) for the top 2 airlines. │\n",
              "╰──────────────────────────────────────────────────────────────────────────────╯\n"
            ],
            "text/html": [
              "<pre style=\"white-space:pre;overflow-x:auto;line-height:normal;font-family:Menlo,'DejaVu Sans Mono',consolas,'Courier New',monospace\">╭─────────────────────── <span style=\"color: #008080; text-decoration-color: #008080; font-weight: bold\">== Processing Sub-Task 2/2 ==</span> ────────────────────────╮\n",
              "│ Compute centrality metrics (e.g., degree centrality) for the top 2 airlines. │\n",
              "╰──────────────────────────────────────────────────────────────────────────────╯\n",
              "</pre>\n"
            ]
          },
          "metadata": {}
        },
        {
          "output_type": "display_data",
          "data": {
            "text/plain": [
              "\u001b[92m──────────────────────────────────────── \u001b[0m\u001b[1;36mStep \u001b[0m\u001b[1;36m1\u001b[0m\u001b[1;36m: Generating NetworkX Code\u001b[0m\u001b[92m ─────────────────────────────────────────\u001b[0m\n"
            ],
            "text/html": [
              "<pre style=\"white-space:pre;overflow-x:auto;line-height:normal;font-family:Menlo,'DejaVu Sans Mono',consolas,'Courier New',monospace\"><span style=\"color: #00ff00; text-decoration-color: #00ff00\">──────────────────────────────────────── </span><span style=\"color: #008080; text-decoration-color: #008080; font-weight: bold\">Step </span><span style=\"color: #008080; text-decoration-color: #008080; font-weight: bold\">1</span><span style=\"color: #008080; text-decoration-color: #008080; font-weight: bold\">: Generating NetworkX Code</span><span style=\"color: #00ff00; text-decoration-color: #00ff00\"> ─────────────────────────────────────────</span>\n",
              "</pre>\n"
            ]
          },
          "metadata": {}
        },
        {
          "output_type": "display_data",
          "data": {
            "text/plain": [
              "\u001b[92m──────────────────────────────────────── \u001b[0m\u001b[1;36mStep \u001b[0m\u001b[1;36m1\u001b[0m\u001b[1;36m: Generating NetworkX Code\u001b[0m\u001b[92m ─────────────────────────────────────────\u001b[0m\n"
            ],
            "text/html": [
              "<pre style=\"white-space:pre;overflow-x:auto;line-height:normal;font-family:Menlo,'DejaVu Sans Mono',consolas,'Courier New',monospace\"><span style=\"color: #00ff00; text-decoration-color: #00ff00\">──────────────────────────────────────── </span><span style=\"color: #008080; text-decoration-color: #008080; font-weight: bold\">Step </span><span style=\"color: #008080; text-decoration-color: #008080; font-weight: bold\">1</span><span style=\"color: #008080; text-decoration-color: #008080; font-weight: bold\">: Generating NetworkX Code</span><span style=\"color: #00ff00; text-decoration-color: #00ff00\"> ─────────────────────────────────────────</span>\n",
              "</pre>\n"
            ]
          },
          "metadata": {}
        },
        {
          "output_type": "display_data",
          "data": {
            "text/plain": [
              "\u001b[92m───────────────────────────────────────────── \u001b[0m\u001b[1;32mGenerated NetworkX Code\u001b[0m\u001b[92m ─────────────────────────────────────────────\u001b[0m\n"
            ],
            "text/html": [
              "<pre style=\"white-space:pre;overflow-x:auto;line-height:normal;font-family:Menlo,'DejaVu Sans Mono',consolas,'Courier New',monospace\"><span style=\"color: #00ff00; text-decoration-color: #00ff00\">───────────────────────────────────────────── </span><span style=\"color: #008000; text-decoration-color: #008000; font-weight: bold\">Generated NetworkX Code</span><span style=\"color: #00ff00; text-decoration-color: #00ff00\"> ─────────────────────────────────────────────</span>\n",
              "</pre>\n"
            ]
          },
          "metadata": {}
        },
        {
          "output_type": "display_data",
          "data": {
            "text/plain": [
              "\u001b[32mimport networkx as nx\u001b[0m\n",
              "\n",
              "\u001b[32m# Create a directed graph from the G_adb object\u001b[0m\n",
              "\u001b[32mG = \u001b[0m\u001b[1;35mnx.DiGraph\u001b[0m\u001b[1;32m(\u001b[0m\u001b[1;32m)\u001b[0m\n",
              "\n",
              "\u001b[32m# Add nodes for airports\u001b[0m\n",
              "\u001b[32mairports = \u001b[0m\u001b[1;32m{\u001b[0m\n",
              "\u001b[32m    \u001b[0m\u001b[32m'ATL'\u001b[0m\u001b[32m: \u001b[0m\u001b[1;32m{\u001b[0m\u001b[32m'name'\u001b[0m\u001b[32m: \u001b[0m\u001b[32m'Hartsfield-Jackson Atlanta International Airport'\u001b[0m\u001b[32m, \u001b[0m\u001b[32m'city'\u001b[0m\u001b[32m: \u001b[0m\u001b[32m'Atlanta'\u001b[0m\u001b[32m, \u001b[0m\u001b[32m'state'\u001b[0m\u001b[32m: \u001b[0m\u001b[32m'GA'\u001b[0m\u001b[32m, \u001b[0m\n",
              "\u001b[32m'country'\u001b[0m\u001b[32m: \u001b[0m\u001b[32m'USA'\u001b[0m\u001b[1;32m}\u001b[0m\u001b[32m,\u001b[0m\n",
              "\u001b[32m    \u001b[0m\u001b[32m'CHS'\u001b[0m\u001b[32m: \u001b[0m\u001b[1;32m{\u001b[0m\u001b[32m'name'\u001b[0m\u001b[32m: \u001b[0m\u001b[32m'Charleston International Airport'\u001b[0m\u001b[32m, \u001b[0m\u001b[32m'city'\u001b[0m\u001b[32m: \u001b[0m\u001b[32m'Charleston'\u001b[0m\u001b[32m, \u001b[0m\u001b[32m'state'\u001b[0m\u001b[32m: \u001b[0m\u001b[32m'SC'\u001b[0m\u001b[32m, \u001b[0m\u001b[32m'country'\u001b[0m\u001b[32m: \u001b[0m\u001b[32m'USA'\u001b[0m\u001b[1;32m}\u001b[0m\u001b[32m,\u001b[0m\n",
              "\u001b[32m    # Add more airports as needed\u001b[0m\n",
              "\u001b[1;32m}\u001b[0m\n",
              "\n",
              "\u001b[32mfor airport_key, airport_data in \u001b[0m\u001b[1;35mairports.items\u001b[0m\u001b[1;32m(\u001b[0m\u001b[1;32m)\u001b[0m\u001b[32m:\u001b[0m\n",
              "\u001b[32m    \u001b[0m\u001b[1;35mG.add_node\u001b[0m\u001b[1;32m(\u001b[0m\u001b[32mairport_key, **airport_data\u001b[0m\u001b[1;32m)\u001b[0m\n",
              "\n",
              "\u001b[32m# Add edges for flights\u001b[0m\n",
              "\u001b[32mflights = \u001b[0m\u001b[1;32m[\u001b[0m\n",
              "\u001b[32m    \u001b[0m\u001b[1;32m{\u001b[0m\u001b[32m'_from'\u001b[0m\u001b[32m: \u001b[0m\u001b[32m'airports/ATL'\u001b[0m\u001b[32m, \u001b[0m\u001b[32m'_to'\u001b[0m\u001b[32m: \u001b[0m\u001b[32m'airports/CHS'\u001b[0m\u001b[32m, \u001b[0m\u001b[32m'UniqueCarrier'\u001b[0m\u001b[32m: \u001b[0m\u001b[32m'WN'\u001b[0m\u001b[1;32m}\u001b[0m\u001b[32m,\u001b[0m\n",
              "\u001b[32m    \u001b[0m\u001b[1;32m{\u001b[0m\u001b[32m'_from'\u001b[0m\u001b[32m: \u001b[0m\u001b[32m'airports/ATL'\u001b[0m\u001b[32m, \u001b[0m\u001b[32m'_to'\u001b[0m\u001b[32m: \u001b[0m\u001b[32m'airports/CHS'\u001b[0m\u001b[32m, \u001b[0m\u001b[32m'UniqueCarrier'\u001b[0m\u001b[32m: \u001b[0m\u001b[32m'AA'\u001b[0m\u001b[1;32m}\u001b[0m\u001b[32m,\u001b[0m\n",
              "\u001b[32m    # Add more flights as needed\u001b[0m\n",
              "\u001b[1;32m]\u001b[0m\n",
              "\n",
              "\u001b[32mfor flight in flights:\u001b[0m\n",
              "\u001b[32m    \u001b[0m\u001b[1;35mG.add_edge\u001b[0m\u001b[1;32m(\u001b[0m\u001b[32mflight\u001b[0m\u001b[1;32m[\u001b[0m\u001b[32m'_from'\u001b[0m\u001b[1;32m]\u001b[0m\u001b[32m, flight\u001b[0m\u001b[1;32m[\u001b[0m\u001b[32m'_to'\u001b[0m\u001b[1;32m]\u001b[0m\u001b[32m, \u001b[0m\u001b[33mcarrier\u001b[0m\u001b[32m=\u001b[0m\u001b[35mflight\u001b[0m\u001b[1;32m[\u001b[0m\u001b[32m'UniqueCarrier'\u001b[0m\u001b[1;32m]\u001b[0m\u001b[1;32m)\u001b[0m\n",
              "\n",
              "\u001b[32m# Compute betweenness centrality for the specific carriers\u001b[0m\n",
              "\u001b[32mbetweenness = \u001b[0m\u001b[1;35mnx.betweenness_centrality\u001b[0m\u001b[1;32m(\u001b[0m\u001b[32mG, \u001b[0m\u001b[33mdirected\u001b[0m\u001b[32m=\u001b[0m\u001b[3;92mTrue\u001b[0m\u001b[1;32m)\u001b[0m\n",
              "\n",
              "\u001b[32m# Filter betweenness centrality for Southwest Airlines \u001b[0m\u001b[1;32m(\u001b[0m\u001b[32mWN\u001b[0m\u001b[1;32m)\u001b[0m\u001b[32m and American Airlines \u001b[0m\u001b[1;32m(\u001b[0m\u001b[32mAA\u001b[0m\u001b[1;32m)\u001b[0m\n",
              "\u001b[32mwn_betweenness = \u001b[0m\u001b[1;35msum\u001b[0m\u001b[1;32m(\u001b[0m\u001b[32mbetweenness\u001b[0m\u001b[32m for n in G.nodes if \u001b[0m\u001b[1;35mG.nodes\u001b[0m\u001b[1;35m.get\u001b[0m\u001b[1;32m(\u001b[0m\u001b[32m'carrier'\u001b[0m\u001b[1;32m)\u001b[0m\u001b[32m == \u001b[0m\u001b[32m'WN'\u001b[0m\u001b[1;32m)\u001b[0m\n",
              "\u001b[32maa_betweenness = \u001b[0m\u001b[1;35msum\u001b[0m\u001b[1;32m(\u001b[0m\u001b[32mbetweenness\u001b[0m\u001b[32m for n in G.nodes if \u001b[0m\u001b[1;35mG.nodes\u001b[0m\u001b[1;35m.get\u001b[0m\u001b[1;32m(\u001b[0m\u001b[32m'carrier'\u001b[0m\u001b[1;32m)\u001b[0m\u001b[32m == \u001b[0m\u001b[32m'AA'\u001b[0m\u001b[1;32m)\u001b[0m\n",
              "\n",
              "\u001b[32mFINAL_RESULT = \u001b[0m\u001b[1;32m{\u001b[0m\u001b[32m'WN'\u001b[0m\u001b[32m: wn_betweenness, \u001b[0m\u001b[32m'AA'\u001b[0m\u001b[32m: aa_betweenness\u001b[0m\u001b[1;32m}\u001b[0m\n"
            ],
            "text/html": [
              "<pre style=\"white-space:pre;overflow-x:auto;line-height:normal;font-family:Menlo,'DejaVu Sans Mono',consolas,'Courier New',monospace\"><span style=\"color: #008000; text-decoration-color: #008000\">import networkx as nx</span>\n",
              "\n",
              "<span style=\"color: #008000; text-decoration-color: #008000\"># Create a directed graph from the G_adb object</span>\n",
              "<span style=\"color: #008000; text-decoration-color: #008000\">G = </span><span style=\"color: #800080; text-decoration-color: #800080; font-weight: bold\">nx.DiGraph</span><span style=\"color: #008000; text-decoration-color: #008000; font-weight: bold\">()</span>\n",
              "\n",
              "<span style=\"color: #008000; text-decoration-color: #008000\"># Add nodes for airports</span>\n",
              "<span style=\"color: #008000; text-decoration-color: #008000\">airports = </span><span style=\"color: #008000; text-decoration-color: #008000; font-weight: bold\">{</span>\n",
              "<span style=\"color: #008000; text-decoration-color: #008000\">    </span><span style=\"color: #008000; text-decoration-color: #008000\">'ATL'</span><span style=\"color: #008000; text-decoration-color: #008000\">: </span><span style=\"color: #008000; text-decoration-color: #008000; font-weight: bold\">{</span><span style=\"color: #008000; text-decoration-color: #008000\">'name'</span><span style=\"color: #008000; text-decoration-color: #008000\">: </span><span style=\"color: #008000; text-decoration-color: #008000\">'Hartsfield-Jackson Atlanta International Airport'</span><span style=\"color: #008000; text-decoration-color: #008000\">, </span><span style=\"color: #008000; text-decoration-color: #008000\">'city'</span><span style=\"color: #008000; text-decoration-color: #008000\">: </span><span style=\"color: #008000; text-decoration-color: #008000\">'Atlanta'</span><span style=\"color: #008000; text-decoration-color: #008000\">, </span><span style=\"color: #008000; text-decoration-color: #008000\">'state'</span><span style=\"color: #008000; text-decoration-color: #008000\">: </span><span style=\"color: #008000; text-decoration-color: #008000\">'GA'</span><span style=\"color: #008000; text-decoration-color: #008000\">, </span>\n",
              "<span style=\"color: #008000; text-decoration-color: #008000\">'country'</span><span style=\"color: #008000; text-decoration-color: #008000\">: </span><span style=\"color: #008000; text-decoration-color: #008000\">'USA'</span><span style=\"color: #008000; text-decoration-color: #008000; font-weight: bold\">}</span><span style=\"color: #008000; text-decoration-color: #008000\">,</span>\n",
              "<span style=\"color: #008000; text-decoration-color: #008000\">    </span><span style=\"color: #008000; text-decoration-color: #008000\">'CHS'</span><span style=\"color: #008000; text-decoration-color: #008000\">: </span><span style=\"color: #008000; text-decoration-color: #008000; font-weight: bold\">{</span><span style=\"color: #008000; text-decoration-color: #008000\">'name'</span><span style=\"color: #008000; text-decoration-color: #008000\">: </span><span style=\"color: #008000; text-decoration-color: #008000\">'Charleston International Airport'</span><span style=\"color: #008000; text-decoration-color: #008000\">, </span><span style=\"color: #008000; text-decoration-color: #008000\">'city'</span><span style=\"color: #008000; text-decoration-color: #008000\">: </span><span style=\"color: #008000; text-decoration-color: #008000\">'Charleston'</span><span style=\"color: #008000; text-decoration-color: #008000\">, </span><span style=\"color: #008000; text-decoration-color: #008000\">'state'</span><span style=\"color: #008000; text-decoration-color: #008000\">: </span><span style=\"color: #008000; text-decoration-color: #008000\">'SC'</span><span style=\"color: #008000; text-decoration-color: #008000\">, </span><span style=\"color: #008000; text-decoration-color: #008000\">'country'</span><span style=\"color: #008000; text-decoration-color: #008000\">: </span><span style=\"color: #008000; text-decoration-color: #008000\">'USA'</span><span style=\"color: #008000; text-decoration-color: #008000; font-weight: bold\">}</span><span style=\"color: #008000; text-decoration-color: #008000\">,</span>\n",
              "<span style=\"color: #008000; text-decoration-color: #008000\">    # Add more airports as needed</span>\n",
              "<span style=\"color: #008000; text-decoration-color: #008000; font-weight: bold\">}</span>\n",
              "\n",
              "<span style=\"color: #008000; text-decoration-color: #008000\">for airport_key, airport_data in </span><span style=\"color: #800080; text-decoration-color: #800080; font-weight: bold\">airports.items</span><span style=\"color: #008000; text-decoration-color: #008000; font-weight: bold\">()</span><span style=\"color: #008000; text-decoration-color: #008000\">:</span>\n",
              "<span style=\"color: #008000; text-decoration-color: #008000\">    </span><span style=\"color: #800080; text-decoration-color: #800080; font-weight: bold\">G.add_node</span><span style=\"color: #008000; text-decoration-color: #008000; font-weight: bold\">(</span><span style=\"color: #008000; text-decoration-color: #008000\">airport_key, **airport_data</span><span style=\"color: #008000; text-decoration-color: #008000; font-weight: bold\">)</span>\n",
              "\n",
              "<span style=\"color: #008000; text-decoration-color: #008000\"># Add edges for flights</span>\n",
              "<span style=\"color: #008000; text-decoration-color: #008000\">flights = </span><span style=\"color: #008000; text-decoration-color: #008000; font-weight: bold\">[</span>\n",
              "<span style=\"color: #008000; text-decoration-color: #008000\">    </span><span style=\"color: #008000; text-decoration-color: #008000; font-weight: bold\">{</span><span style=\"color: #008000; text-decoration-color: #008000\">'_from'</span><span style=\"color: #008000; text-decoration-color: #008000\">: </span><span style=\"color: #008000; text-decoration-color: #008000\">'airports/ATL'</span><span style=\"color: #008000; text-decoration-color: #008000\">, </span><span style=\"color: #008000; text-decoration-color: #008000\">'_to'</span><span style=\"color: #008000; text-decoration-color: #008000\">: </span><span style=\"color: #008000; text-decoration-color: #008000\">'airports/CHS'</span><span style=\"color: #008000; text-decoration-color: #008000\">, </span><span style=\"color: #008000; text-decoration-color: #008000\">'UniqueCarrier'</span><span style=\"color: #008000; text-decoration-color: #008000\">: </span><span style=\"color: #008000; text-decoration-color: #008000\">'WN'</span><span style=\"color: #008000; text-decoration-color: #008000; font-weight: bold\">}</span><span style=\"color: #008000; text-decoration-color: #008000\">,</span>\n",
              "<span style=\"color: #008000; text-decoration-color: #008000\">    </span><span style=\"color: #008000; text-decoration-color: #008000; font-weight: bold\">{</span><span style=\"color: #008000; text-decoration-color: #008000\">'_from'</span><span style=\"color: #008000; text-decoration-color: #008000\">: </span><span style=\"color: #008000; text-decoration-color: #008000\">'airports/ATL'</span><span style=\"color: #008000; text-decoration-color: #008000\">, </span><span style=\"color: #008000; text-decoration-color: #008000\">'_to'</span><span style=\"color: #008000; text-decoration-color: #008000\">: </span><span style=\"color: #008000; text-decoration-color: #008000\">'airports/CHS'</span><span style=\"color: #008000; text-decoration-color: #008000\">, </span><span style=\"color: #008000; text-decoration-color: #008000\">'UniqueCarrier'</span><span style=\"color: #008000; text-decoration-color: #008000\">: </span><span style=\"color: #008000; text-decoration-color: #008000\">'AA'</span><span style=\"color: #008000; text-decoration-color: #008000; font-weight: bold\">}</span><span style=\"color: #008000; text-decoration-color: #008000\">,</span>\n",
              "<span style=\"color: #008000; text-decoration-color: #008000\">    # Add more flights as needed</span>\n",
              "<span style=\"color: #008000; text-decoration-color: #008000; font-weight: bold\">]</span>\n",
              "\n",
              "<span style=\"color: #008000; text-decoration-color: #008000\">for flight in flights:</span>\n",
              "<span style=\"color: #008000; text-decoration-color: #008000\">    </span><span style=\"color: #800080; text-decoration-color: #800080; font-weight: bold\">G.add_edge</span><span style=\"color: #008000; text-decoration-color: #008000; font-weight: bold\">(</span><span style=\"color: #008000; text-decoration-color: #008000\">flight</span><span style=\"color: #008000; text-decoration-color: #008000; font-weight: bold\">[</span><span style=\"color: #008000; text-decoration-color: #008000\">'_from'</span><span style=\"color: #008000; text-decoration-color: #008000; font-weight: bold\">]</span><span style=\"color: #008000; text-decoration-color: #008000\">, flight</span><span style=\"color: #008000; text-decoration-color: #008000; font-weight: bold\">[</span><span style=\"color: #008000; text-decoration-color: #008000\">'_to'</span><span style=\"color: #008000; text-decoration-color: #008000; font-weight: bold\">]</span><span style=\"color: #008000; text-decoration-color: #008000\">, </span><span style=\"color: #808000; text-decoration-color: #808000\">carrier</span><span style=\"color: #008000; text-decoration-color: #008000\">=</span><span style=\"color: #800080; text-decoration-color: #800080\">flight</span><span style=\"color: #008000; text-decoration-color: #008000; font-weight: bold\">[</span><span style=\"color: #008000; text-decoration-color: #008000\">'UniqueCarrier'</span><span style=\"color: #008000; text-decoration-color: #008000; font-weight: bold\">])</span>\n",
              "\n",
              "<span style=\"color: #008000; text-decoration-color: #008000\"># Compute betweenness centrality for the specific carriers</span>\n",
              "<span style=\"color: #008000; text-decoration-color: #008000\">betweenness = </span><span style=\"color: #800080; text-decoration-color: #800080; font-weight: bold\">nx.betweenness_centrality</span><span style=\"color: #008000; text-decoration-color: #008000; font-weight: bold\">(</span><span style=\"color: #008000; text-decoration-color: #008000\">G, </span><span style=\"color: #808000; text-decoration-color: #808000\">directed</span><span style=\"color: #008000; text-decoration-color: #008000\">=</span><span style=\"color: #00ff00; text-decoration-color: #00ff00; font-style: italic\">True</span><span style=\"color: #008000; text-decoration-color: #008000; font-weight: bold\">)</span>\n",
              "\n",
              "<span style=\"color: #008000; text-decoration-color: #008000\"># Filter betweenness centrality for Southwest Airlines </span><span style=\"color: #008000; text-decoration-color: #008000; font-weight: bold\">(</span><span style=\"color: #008000; text-decoration-color: #008000\">WN</span><span style=\"color: #008000; text-decoration-color: #008000; font-weight: bold\">)</span><span style=\"color: #008000; text-decoration-color: #008000\"> and American Airlines </span><span style=\"color: #008000; text-decoration-color: #008000; font-weight: bold\">(</span><span style=\"color: #008000; text-decoration-color: #008000\">AA</span><span style=\"color: #008000; text-decoration-color: #008000; font-weight: bold\">)</span>\n",
              "<span style=\"color: #008000; text-decoration-color: #008000\">wn_betweenness = </span><span style=\"color: #800080; text-decoration-color: #800080; font-weight: bold\">sum</span><span style=\"color: #008000; text-decoration-color: #008000; font-weight: bold\">(</span><span style=\"color: #008000; text-decoration-color: #008000\">betweenness for n in G.nodes if </span><span style=\"color: #800080; text-decoration-color: #800080; font-weight: bold\">G.nodes.get</span><span style=\"color: #008000; text-decoration-color: #008000; font-weight: bold\">(</span><span style=\"color: #008000; text-decoration-color: #008000\">'carrier'</span><span style=\"color: #008000; text-decoration-color: #008000; font-weight: bold\">)</span><span style=\"color: #008000; text-decoration-color: #008000\"> == </span><span style=\"color: #008000; text-decoration-color: #008000\">'WN'</span><span style=\"color: #008000; text-decoration-color: #008000; font-weight: bold\">)</span>\n",
              "<span style=\"color: #008000; text-decoration-color: #008000\">aa_betweenness = </span><span style=\"color: #800080; text-decoration-color: #800080; font-weight: bold\">sum</span><span style=\"color: #008000; text-decoration-color: #008000; font-weight: bold\">(</span><span style=\"color: #008000; text-decoration-color: #008000\">betweenness for n in G.nodes if </span><span style=\"color: #800080; text-decoration-color: #800080; font-weight: bold\">G.nodes.get</span><span style=\"color: #008000; text-decoration-color: #008000; font-weight: bold\">(</span><span style=\"color: #008000; text-decoration-color: #008000\">'carrier'</span><span style=\"color: #008000; text-decoration-color: #008000; font-weight: bold\">)</span><span style=\"color: #008000; text-decoration-color: #008000\"> == </span><span style=\"color: #008000; text-decoration-color: #008000\">'AA'</span><span style=\"color: #008000; text-decoration-color: #008000; font-weight: bold\">)</span>\n",
              "\n",
              "<span style=\"color: #008000; text-decoration-color: #008000\">FINAL_RESULT = </span><span style=\"color: #008000; text-decoration-color: #008000; font-weight: bold\">{</span><span style=\"color: #008000; text-decoration-color: #008000\">'WN'</span><span style=\"color: #008000; text-decoration-color: #008000\">: wn_betweenness, </span><span style=\"color: #008000; text-decoration-color: #008000\">'AA'</span><span style=\"color: #008000; text-decoration-color: #008000\">: aa_betweenness</span><span style=\"color: #008000; text-decoration-color: #008000; font-weight: bold\">}</span>\n",
              "</pre>\n"
            ]
          },
          "metadata": {}
        },
        {
          "output_type": "display_data",
          "data": {
            "text/plain": [
              "\u001b[92m───────────────────────────────────────────────────────────────────────────────────────────────────────────────────\u001b[0m\n"
            ],
            "text/html": [
              "<pre style=\"white-space:pre;overflow-x:auto;line-height:normal;font-family:Menlo,'DejaVu Sans Mono',consolas,'Courier New',monospace\"><span style=\"color: #00ff00; text-decoration-color: #00ff00\">───────────────────────────────────────────────────────────────────────────────────────────────────────────────────</span>\n",
              "</pre>\n"
            ]
          },
          "metadata": {}
        },
        {
          "output_type": "display_data",
          "data": {
            "text/plain": [
              "\u001b[92m───────────────────────────────────────── \u001b[0m\u001b[1;36mStep \u001b[0m\u001b[1;36m2\u001b[0m\u001b[1;36m: Executing NetworkX Code\u001b[0m\u001b[92m ─────────────────────────────────────────\u001b[0m\n"
            ],
            "text/html": [
              "<pre style=\"white-space:pre;overflow-x:auto;line-height:normal;font-family:Menlo,'DejaVu Sans Mono',consolas,'Courier New',monospace\"><span style=\"color: #00ff00; text-decoration-color: #00ff00\">───────────────────────────────────────── </span><span style=\"color: #008080; text-decoration-color: #008080; font-weight: bold\">Step </span><span style=\"color: #008080; text-decoration-color: #008080; font-weight: bold\">2</span><span style=\"color: #008080; text-decoration-color: #008080; font-weight: bold\">: Executing NetworkX Code</span><span style=\"color: #00ff00; text-decoration-color: #00ff00\"> ─────────────────────────────────────────</span>\n",
              "</pre>\n"
            ]
          },
          "metadata": {}
        },
        {
          "output_type": "display_data",
          "data": {
            "text/plain": [
              "\u001b[1;34mAttempt \u001b[0m\u001b[1;34m1\u001b[0m\u001b[1;34m: Executing code\u001b[0m\n"
            ],
            "text/html": [
              "<pre style=\"white-space:pre;overflow-x:auto;line-height:normal;font-family:Menlo,'DejaVu Sans Mono',consolas,'Courier New',monospace\"><span style=\"color: #000080; text-decoration-color: #000080; font-weight: bold\">Attempt </span><span style=\"color: #000080; text-decoration-color: #000080; font-weight: bold\">1</span><span style=\"color: #000080; text-decoration-color: #000080; font-weight: bold\">: Executing code</span>\n",
              "</pre>\n"
            ]
          },
          "metadata": {}
        },
        {
          "output_type": "stream",
          "name": "stdout",
          "text": [
            "EXEC ERROR on attempt 1: betweenness_centrality() got an unexpected keyword argument 'directed'\n"
          ]
        },
        {
          "output_type": "display_data",
          "data": {
            "text/plain": [
              "\u001b[92m───────────────────────────────────────────── \u001b[0m\u001b[1;32mGenerated NetworkX Code\u001b[0m\u001b[92m ─────────────────────────────────────────────\u001b[0m\n"
            ],
            "text/html": [
              "<pre style=\"white-space:pre;overflow-x:auto;line-height:normal;font-family:Menlo,'DejaVu Sans Mono',consolas,'Courier New',monospace\"><span style=\"color: #00ff00; text-decoration-color: #00ff00\">───────────────────────────────────────────── </span><span style=\"color: #008000; text-decoration-color: #008000; font-weight: bold\">Generated NetworkX Code</span><span style=\"color: #00ff00; text-decoration-color: #00ff00\"> ─────────────────────────────────────────────</span>\n",
              "</pre>\n"
            ]
          },
          "metadata": {}
        },
        {
          "output_type": "display_data",
          "data": {
            "text/plain": [
              "\u001b[32mimport networkx as nx\u001b[0m\n",
              "\n",
              "\u001b[32m# Create a subgraph for the airlines of interest\u001b[0m\n",
              "\u001b[32mairlines_of_interest = \u001b[0m\u001b[1;32m[\u001b[0m\u001b[32m'WN'\u001b[0m\u001b[32m, \u001b[0m\u001b[32m'AA'\u001b[0m\u001b[1;32m]\u001b[0m\n",
              "\u001b[32msubgraph = \u001b[0m\u001b[1;35mG_adb.subgraph\u001b[0m\u001b[1;32m(\u001b[0m\u001b[1;32m[\u001b[0m\u001b[32mn for n in \u001b[0m\u001b[1;35mG_adb.nodes\u001b[0m\u001b[1;32m(\u001b[0m\u001b[1;32m)\u001b[0m\u001b[32m if \u001b[0m\u001b[1;35mG_adb.nodes\u001b[0m\u001b[1;35m.get\u001b[0m\u001b[1;32m(\u001b[0m\u001b[32m'UniqueCarrier'\u001b[0m\u001b[1;32m)\u001b[0m\u001b[32m in airlines_of_interest\u001b[0m\u001b[1;32m]\u001b[0m\u001b[1;32m)\u001b[0m\n",
              "\n",
              "\u001b[32m# Compute degree centrality for the subgraph\u001b[0m\n",
              "\u001b[32mdegree_centrality = \u001b[0m\u001b[1;35mnx.degree_centrality\u001b[0m\u001b[1;32m(\u001b[0m\u001b[32msubgraph\u001b[0m\u001b[1;32m)\u001b[0m\n",
              "\n",
              "\u001b[32m# Extract the centrality values for Southwest Airlines \u001b[0m\u001b[1;32m(\u001b[0m\u001b[32mWN\u001b[0m\u001b[1;32m)\u001b[0m\u001b[32m and American Airlines \u001b[0m\u001b[1;32m(\u001b[0m\u001b[32mAA\u001b[0m\u001b[1;32m)\u001b[0m\n",
              "\u001b[32mwn_centrality = \u001b[0m\u001b[1;35mdegree_centrality.get\u001b[0m\u001b[1;32m(\u001b[0m\u001b[32m'WN'\u001b[0m\u001b[32m, \u001b[0m\u001b[1;36m0\u001b[0m\u001b[1;32m)\u001b[0m\n",
              "\u001b[32maa_centrality = \u001b[0m\u001b[1;35mdegree_centrality.get\u001b[0m\u001b[1;32m(\u001b[0m\u001b[32m'AA'\u001b[0m\u001b[32m, \u001b[0m\u001b[1;36m0\u001b[0m\u001b[1;32m)\u001b[0m\n",
              "\n",
              "\u001b[32m# Prepare the final result\u001b[0m\n",
              "\u001b[32mFINAL_RESULT = \u001b[0m\u001b[1;32m{\u001b[0m\u001b[32m'WN'\u001b[0m\u001b[32m: wn_centrality, \u001b[0m\u001b[32m'AA'\u001b[0m\u001b[32m: aa_centrality\u001b[0m\u001b[1;32m}\u001b[0m\n"
            ],
            "text/html": [
              "<pre style=\"white-space:pre;overflow-x:auto;line-height:normal;font-family:Menlo,'DejaVu Sans Mono',consolas,'Courier New',monospace\"><span style=\"color: #008000; text-decoration-color: #008000\">import networkx as nx</span>\n",
              "\n",
              "<span style=\"color: #008000; text-decoration-color: #008000\"># Create a subgraph for the airlines of interest</span>\n",
              "<span style=\"color: #008000; text-decoration-color: #008000\">airlines_of_interest = </span><span style=\"color: #008000; text-decoration-color: #008000; font-weight: bold\">[</span><span style=\"color: #008000; text-decoration-color: #008000\">'WN'</span><span style=\"color: #008000; text-decoration-color: #008000\">, </span><span style=\"color: #008000; text-decoration-color: #008000\">'AA'</span><span style=\"color: #008000; text-decoration-color: #008000; font-weight: bold\">]</span>\n",
              "<span style=\"color: #008000; text-decoration-color: #008000\">subgraph = </span><span style=\"color: #800080; text-decoration-color: #800080; font-weight: bold\">G_adb.subgraph</span><span style=\"color: #008000; text-decoration-color: #008000; font-weight: bold\">([</span><span style=\"color: #008000; text-decoration-color: #008000\">n for n in </span><span style=\"color: #800080; text-decoration-color: #800080; font-weight: bold\">G_adb.nodes</span><span style=\"color: #008000; text-decoration-color: #008000; font-weight: bold\">()</span><span style=\"color: #008000; text-decoration-color: #008000\"> if </span><span style=\"color: #800080; text-decoration-color: #800080; font-weight: bold\">G_adb.nodes.get</span><span style=\"color: #008000; text-decoration-color: #008000; font-weight: bold\">(</span><span style=\"color: #008000; text-decoration-color: #008000\">'UniqueCarrier'</span><span style=\"color: #008000; text-decoration-color: #008000; font-weight: bold\">)</span><span style=\"color: #008000; text-decoration-color: #008000\"> in airlines_of_interest</span><span style=\"color: #008000; text-decoration-color: #008000; font-weight: bold\">])</span>\n",
              "\n",
              "<span style=\"color: #008000; text-decoration-color: #008000\"># Compute degree centrality for the subgraph</span>\n",
              "<span style=\"color: #008000; text-decoration-color: #008000\">degree_centrality = </span><span style=\"color: #800080; text-decoration-color: #800080; font-weight: bold\">nx.degree_centrality</span><span style=\"color: #008000; text-decoration-color: #008000; font-weight: bold\">(</span><span style=\"color: #008000; text-decoration-color: #008000\">subgraph</span><span style=\"color: #008000; text-decoration-color: #008000; font-weight: bold\">)</span>\n",
              "\n",
              "<span style=\"color: #008000; text-decoration-color: #008000\"># Extract the centrality values for Southwest Airlines </span><span style=\"color: #008000; text-decoration-color: #008000; font-weight: bold\">(</span><span style=\"color: #008000; text-decoration-color: #008000\">WN</span><span style=\"color: #008000; text-decoration-color: #008000; font-weight: bold\">)</span><span style=\"color: #008000; text-decoration-color: #008000\"> and American Airlines </span><span style=\"color: #008000; text-decoration-color: #008000; font-weight: bold\">(</span><span style=\"color: #008000; text-decoration-color: #008000\">AA</span><span style=\"color: #008000; text-decoration-color: #008000; font-weight: bold\">)</span>\n",
              "<span style=\"color: #008000; text-decoration-color: #008000\">wn_centrality = </span><span style=\"color: #800080; text-decoration-color: #800080; font-weight: bold\">degree_centrality.get</span><span style=\"color: #008000; text-decoration-color: #008000; font-weight: bold\">(</span><span style=\"color: #008000; text-decoration-color: #008000\">'WN'</span><span style=\"color: #008000; text-decoration-color: #008000\">, </span><span style=\"color: #008080; text-decoration-color: #008080; font-weight: bold\">0</span><span style=\"color: #008000; text-decoration-color: #008000; font-weight: bold\">)</span>\n",
              "<span style=\"color: #008000; text-decoration-color: #008000\">aa_centrality = </span><span style=\"color: #800080; text-decoration-color: #800080; font-weight: bold\">degree_centrality.get</span><span style=\"color: #008000; text-decoration-color: #008000; font-weight: bold\">(</span><span style=\"color: #008000; text-decoration-color: #008000\">'AA'</span><span style=\"color: #008000; text-decoration-color: #008000\">, </span><span style=\"color: #008080; text-decoration-color: #008080; font-weight: bold\">0</span><span style=\"color: #008000; text-decoration-color: #008000; font-weight: bold\">)</span>\n",
              "\n",
              "<span style=\"color: #008000; text-decoration-color: #008000\"># Prepare the final result</span>\n",
              "<span style=\"color: #008000; text-decoration-color: #008000\">FINAL_RESULT = </span><span style=\"color: #008000; text-decoration-color: #008000; font-weight: bold\">{</span><span style=\"color: #008000; text-decoration-color: #008000\">'WN'</span><span style=\"color: #008000; text-decoration-color: #008000\">: wn_centrality, </span><span style=\"color: #008000; text-decoration-color: #008000\">'AA'</span><span style=\"color: #008000; text-decoration-color: #008000\">: aa_centrality</span><span style=\"color: #008000; text-decoration-color: #008000; font-weight: bold\">}</span>\n",
              "</pre>\n"
            ]
          },
          "metadata": {}
        },
        {
          "output_type": "display_data",
          "data": {
            "text/plain": [
              "\u001b[92m───────────────────────────────────────────────────────────────────────────────────────────────────────────────────\u001b[0m\n"
            ],
            "text/html": [
              "<pre style=\"white-space:pre;overflow-x:auto;line-height:normal;font-family:Menlo,'DejaVu Sans Mono',consolas,'Courier New',monospace\"><span style=\"color: #00ff00; text-decoration-color: #00ff00\">───────────────────────────────────────────────────────────────────────────────────────────────────────────────────</span>\n",
              "</pre>\n"
            ]
          },
          "metadata": {}
        },
        {
          "output_type": "display_data",
          "data": {
            "text/plain": [
              "\u001b[92m───────────────────────────────────────── \u001b[0m\u001b[1;36mStep \u001b[0m\u001b[1;36m2\u001b[0m\u001b[1;36m: Executing NetworkX Code\u001b[0m\u001b[92m ─────────────────────────────────────────\u001b[0m\n"
            ],
            "text/html": [
              "<pre style=\"white-space:pre;overflow-x:auto;line-height:normal;font-family:Menlo,'DejaVu Sans Mono',consolas,'Courier New',monospace\"><span style=\"color: #00ff00; text-decoration-color: #00ff00\">───────────────────────────────────────── </span><span style=\"color: #008080; text-decoration-color: #008080; font-weight: bold\">Step </span><span style=\"color: #008080; text-decoration-color: #008080; font-weight: bold\">2</span><span style=\"color: #008080; text-decoration-color: #008080; font-weight: bold\">: Executing NetworkX Code</span><span style=\"color: #00ff00; text-decoration-color: #00ff00\"> ─────────────────────────────────────────</span>\n",
              "</pre>\n"
            ]
          },
          "metadata": {}
        },
        {
          "output_type": "display_data",
          "data": {
            "text/plain": [
              "\u001b[1;34mAttempt \u001b[0m\u001b[1;34m1\u001b[0m\u001b[1;34m: Executing code\u001b[0m\n"
            ],
            "text/html": [
              "<pre style=\"white-space:pre;overflow-x:auto;line-height:normal;font-family:Menlo,'DejaVu Sans Mono',consolas,'Courier New',monospace\"><span style=\"color: #000080; text-decoration-color: #000080; font-weight: bold\">Attempt </span><span style=\"color: #000080; text-decoration-color: #000080; font-weight: bold\">1</span><span style=\"color: #000080; text-decoration-color: #000080; font-weight: bold\">: Executing code</span>\n",
              "</pre>\n"
            ]
          },
          "metadata": {}
        },
        {
          "output_type": "stream",
          "name": "stdout",
          "text": [
            "EXEC ERROR on attempt 1: name 'airlines_of_interest' is not defined\n"
          ]
        },
        {
          "output_type": "display_data",
          "data": {
            "text/plain": [
              "\u001b[1;33mCorrected Code:\u001b[0m\n"
            ],
            "text/html": [
              "<pre style=\"white-space:pre;overflow-x:auto;line-height:normal;font-family:Menlo,'DejaVu Sans Mono',consolas,'Courier New',monospace\"><span style=\"color: #808000; text-decoration-color: #808000; font-weight: bold\">Corrected Code:</span>\n",
              "</pre>\n"
            ]
          },
          "metadata": {}
        },
        {
          "output_type": "display_data",
          "data": {
            "text/plain": [
              "\u001b[33mimport networkx as nx\u001b[0m\n",
              "\n",
              "\u001b[33m# Assuming G_adb is already defined as a NetworkX graph\u001b[0m\n",
              "\u001b[33mG_adb = \u001b[0m\u001b[1;35mnx.Graph\u001b[0m\u001b[1;33m(\u001b[0m\u001b[1;33m)\u001b[0m\u001b[33m  # Placeholder for the actual graph\u001b[0m\n",
              "\n",
              "\u001b[33m# Define the airlines of interest\u001b[0m\n",
              "\u001b[33mairlines_of_interest = \u001b[0m\u001b[1;33m[\u001b[0m\u001b[32m'WN'\u001b[0m\u001b[33m, \u001b[0m\u001b[32m'AA'\u001b[0m\u001b[1;33m]\u001b[0m\n",
              "\n",
              "\u001b[33m# Compute degree centrality for the specified airlines\u001b[0m\n",
              "\u001b[33mdegree_centrality = \u001b[0m\u001b[1;35mnx.degree_centrality\u001b[0m\u001b[1;33m(\u001b[0m\u001b[33mG_adb\u001b[0m\u001b[1;33m)\u001b[0m\n",
              "\n",
              "\u001b[33m# Filter the results for the airlines of interest\u001b[0m\n",
              "\u001b[33mresult = \u001b[0m\u001b[1;33m{\u001b[0m\u001b[33mairline: \u001b[0m\u001b[1;35mdegree_centrality.get\u001b[0m\u001b[1;33m(\u001b[0m\u001b[33mairline, \u001b[0m\u001b[1;36m0\u001b[0m\u001b[1;33m)\u001b[0m\u001b[33m for airline in airlines_of_interest\u001b[0m\u001b[1;33m}\u001b[0m\n",
              "\n",
              "\u001b[33m# Prepare the final result\u001b[0m\n",
              "\u001b[33mFINAL_RESULT = f\"WN: \u001b[0m\u001b[1;33m{\u001b[0m\u001b[33mresult\u001b[0m\u001b[1;33m[\u001b[0m\u001b[32m'WN'\u001b[0m\u001b[1;33m]\u001b[0m\u001b[1;33m}\u001b[0m\u001b[33m, AA: \u001b[0m\u001b[1;33m{\u001b[0m\u001b[33mresult\u001b[0m\u001b[1;33m[\u001b[0m\u001b[32m'AA'\u001b[0m\u001b[1;33m]\u001b[0m\u001b[1;33m}\u001b[0m\u001b[33m\"\u001b[0m\n"
            ],
            "text/html": [
              "<pre style=\"white-space:pre;overflow-x:auto;line-height:normal;font-family:Menlo,'DejaVu Sans Mono',consolas,'Courier New',monospace\"><span style=\"color: #808000; text-decoration-color: #808000\">import networkx as nx</span>\n",
              "\n",
              "<span style=\"color: #808000; text-decoration-color: #808000\"># Assuming G_adb is already defined as a NetworkX graph</span>\n",
              "<span style=\"color: #808000; text-decoration-color: #808000\">G_adb = </span><span style=\"color: #800080; text-decoration-color: #800080; font-weight: bold\">nx.Graph</span><span style=\"color: #808000; text-decoration-color: #808000; font-weight: bold\">()</span><span style=\"color: #808000; text-decoration-color: #808000\">  # Placeholder for the actual graph</span>\n",
              "\n",
              "<span style=\"color: #808000; text-decoration-color: #808000\"># Define the airlines of interest</span>\n",
              "<span style=\"color: #808000; text-decoration-color: #808000\">airlines_of_interest = </span><span style=\"color: #808000; text-decoration-color: #808000; font-weight: bold\">[</span><span style=\"color: #008000; text-decoration-color: #008000\">'WN'</span><span style=\"color: #808000; text-decoration-color: #808000\">, </span><span style=\"color: #008000; text-decoration-color: #008000\">'AA'</span><span style=\"color: #808000; text-decoration-color: #808000; font-weight: bold\">]</span>\n",
              "\n",
              "<span style=\"color: #808000; text-decoration-color: #808000\"># Compute degree centrality for the specified airlines</span>\n",
              "<span style=\"color: #808000; text-decoration-color: #808000\">degree_centrality = </span><span style=\"color: #800080; text-decoration-color: #800080; font-weight: bold\">nx.degree_centrality</span><span style=\"color: #808000; text-decoration-color: #808000; font-weight: bold\">(</span><span style=\"color: #808000; text-decoration-color: #808000\">G_adb</span><span style=\"color: #808000; text-decoration-color: #808000; font-weight: bold\">)</span>\n",
              "\n",
              "<span style=\"color: #808000; text-decoration-color: #808000\"># Filter the results for the airlines of interest</span>\n",
              "<span style=\"color: #808000; text-decoration-color: #808000\">result = </span><span style=\"color: #808000; text-decoration-color: #808000; font-weight: bold\">{</span><span style=\"color: #808000; text-decoration-color: #808000\">airline: </span><span style=\"color: #800080; text-decoration-color: #800080; font-weight: bold\">degree_centrality.get</span><span style=\"color: #808000; text-decoration-color: #808000; font-weight: bold\">(</span><span style=\"color: #808000; text-decoration-color: #808000\">airline, </span><span style=\"color: #008080; text-decoration-color: #008080; font-weight: bold\">0</span><span style=\"color: #808000; text-decoration-color: #808000; font-weight: bold\">)</span><span style=\"color: #808000; text-decoration-color: #808000\"> for airline in airlines_of_interest</span><span style=\"color: #808000; text-decoration-color: #808000; font-weight: bold\">}</span>\n",
              "\n",
              "<span style=\"color: #808000; text-decoration-color: #808000\"># Prepare the final result</span>\n",
              "<span style=\"color: #808000; text-decoration-color: #808000\">FINAL_RESULT = f\"WN: </span><span style=\"color: #808000; text-decoration-color: #808000; font-weight: bold\">{</span><span style=\"color: #808000; text-decoration-color: #808000\">result</span><span style=\"color: #808000; text-decoration-color: #808000; font-weight: bold\">[</span><span style=\"color: #008000; text-decoration-color: #008000\">'WN'</span><span style=\"color: #808000; text-decoration-color: #808000; font-weight: bold\">]}</span><span style=\"color: #808000; text-decoration-color: #808000\">, AA: </span><span style=\"color: #808000; text-decoration-color: #808000; font-weight: bold\">{</span><span style=\"color: #808000; text-decoration-color: #808000\">result</span><span style=\"color: #808000; text-decoration-color: #808000; font-weight: bold\">[</span><span style=\"color: #008000; text-decoration-color: #008000\">'AA'</span><span style=\"color: #808000; text-decoration-color: #808000; font-weight: bold\">]}</span><span style=\"color: #808000; text-decoration-color: #808000\">\"</span>\n",
              "</pre>\n"
            ]
          },
          "metadata": {}
        },
        {
          "output_type": "display_data",
          "data": {
            "text/plain": [
              "\u001b[1;34mAttempt \u001b[0m\u001b[1;34m2\u001b[0m\u001b[1;34m: Executing code\u001b[0m\n"
            ],
            "text/html": [
              "<pre style=\"white-space:pre;overflow-x:auto;line-height:normal;font-family:Menlo,'DejaVu Sans Mono',consolas,'Courier New',monospace\"><span style=\"color: #000080; text-decoration-color: #000080; font-weight: bold\">Attempt </span><span style=\"color: #000080; text-decoration-color: #000080; font-weight: bold\">2</span><span style=\"color: #000080; text-decoration-color: #000080; font-weight: bold\">: Executing code</span>\n",
              "</pre>\n"
            ]
          },
          "metadata": {}
        },
        {
          "output_type": "stream",
          "name": "stdout",
          "text": [
            "EXEC ERROR on attempt 2: name 'degree_centrality' is not defined\n"
          ]
        },
        {
          "output_type": "display_data",
          "data": {
            "text/plain": [
              "\u001b[1;33mCorrected Code:\u001b[0m\n"
            ],
            "text/html": [
              "<pre style=\"white-space:pre;overflow-x:auto;line-height:normal;font-family:Menlo,'DejaVu Sans Mono',consolas,'Courier New',monospace\"><span style=\"color: #808000; text-decoration-color: #808000; font-weight: bold\">Corrected Code:</span>\n",
              "</pre>\n"
            ]
          },
          "metadata": {}
        },
        {
          "output_type": "display_data",
          "data": {
            "text/plain": [
              "\u001b[33mimport networkx as nx\u001b[0m\n",
              "\n",
              "\u001b[33m# Assuming G_adb is already defined and populated with the flight data\u001b[0m\n",
              "\n",
              "\u001b[33m# Filter edges for Southwest Airlines \u001b[0m\u001b[1;33m(\u001b[0m\u001b[33mWN\u001b[0m\u001b[1;33m)\u001b[0m\u001b[33m and American Airlines \u001b[0m\u001b[1;33m(\u001b[0m\u001b[33mAA\u001b[0m\u001b[1;33m)\u001b[0m\n",
              "\u001b[33mwn_edges = \u001b[0m\u001b[1;33m[\u001b[0m\u001b[1;33m(\u001b[0m\u001b[33mu, v\u001b[0m\u001b[1;33m)\u001b[0m\u001b[33m for u, v, d in \u001b[0m\u001b[1;35mG_adb.edges\u001b[0m\u001b[1;33m(\u001b[0m\u001b[33mdata\u001b[0m\u001b[33m=\u001b[0m\u001b[3;92mTrue\u001b[0m\u001b[1;33m)\u001b[0m\u001b[33m if d\u001b[0m\u001b[1;33m[\u001b[0m\u001b[32m'UniqueCarrier'\u001b[0m\u001b[1;33m]\u001b[0m\u001b[33m == \u001b[0m\u001b[32m'WN'\u001b[0m\u001b[1;33m]\u001b[0m\n",
              "\u001b[33maa_edges = \u001b[0m\u001b[1;33m[\u001b[0m\u001b[1;33m(\u001b[0m\u001b[33mu, v\u001b[0m\u001b[1;33m)\u001b[0m\u001b[33m for u, v, d in \u001b[0m\u001b[1;35mG_adb.edges\u001b[0m\u001b[1;33m(\u001b[0m\u001b[33mdata\u001b[0m\u001b[33m=\u001b[0m\u001b[3;92mTrue\u001b[0m\u001b[1;33m)\u001b[0m\u001b[33m if d\u001b[0m\u001b[1;33m[\u001b[0m\u001b[32m'UniqueCarrier'\u001b[0m\u001b[1;33m]\u001b[0m\u001b[33m == \u001b[0m\u001b[32m'AA'\u001b[0m\u001b[1;33m]\u001b[0m\n",
              "\n",
              "\u001b[33m# Create subgraphs for each airline\u001b[0m\n",
              "\u001b[33mG_wn = \u001b[0m\u001b[1;35mnx.DiGraph\u001b[0m\u001b[1;33m(\u001b[0m\u001b[1;33m)\u001b[0m\n",
              "\u001b[1;35mG_wn.add_edges_from\u001b[0m\u001b[1;33m(\u001b[0m\u001b[33mwn_edges\u001b[0m\u001b[1;33m)\u001b[0m\n",
              "\n",
              "\u001b[33mG_aa = \u001b[0m\u001b[1;35mnx.DiGraph\u001b[0m\u001b[1;33m(\u001b[0m\u001b[1;33m)\u001b[0m\n",
              "\u001b[1;35mG_aa.add_edges_from\u001b[0m\u001b[1;33m(\u001b[0m\u001b[33maa_edges\u001b[0m\u001b[1;33m)\u001b[0m\n",
              "\n",
              "\u001b[33m# Compute betweenness centrality\u001b[0m\n",
              "\u001b[33mwn_betweenness = \u001b[0m\u001b[1;35mnx.betweenness_centrality\u001b[0m\u001b[1;33m(\u001b[0m\u001b[33mG_wn, \u001b[0m\u001b[33mdirected\u001b[0m\u001b[33m=\u001b[0m\u001b[3;92mTrue\u001b[0m\u001b[1;33m)\u001b[0m\n",
              "\u001b[33maa_betweenness = \u001b[0m\u001b[1;35mnx.betweenness_centrality\u001b[0m\u001b[1;33m(\u001b[0m\u001b[33mG_aa, \u001b[0m\u001b[33mdirected\u001b[0m\u001b[33m=\u001b[0m\u001b[3;92mTrue\u001b[0m\u001b[1;33m)\u001b[0m\n",
              "\n",
              "\u001b[33m# Get the betweenness centrality values for the airlines\u001b[0m\n",
              "\u001b[33mwn_centrality = \u001b[0m\u001b[1;35msum\u001b[0m\u001b[1;33m(\u001b[0m\u001b[1;35mwn_betweenness.values\u001b[0m\u001b[1;33m(\u001b[0m\u001b[1;33m)\u001b[0m\u001b[1;33m)\u001b[0m\n",
              "\u001b[33maa_centrality = \u001b[0m\u001b[1;35msum\u001b[0m\u001b[1;33m(\u001b[0m\u001b[1;35maa_betweenness.values\u001b[0m\u001b[1;33m(\u001b[0m\u001b[1;33m)\u001b[0m\u001b[1;33m)\u001b[0m\n",
              "\n",
              "\u001b[33m# Prepare the final result\u001b[0m\n",
              "\u001b[33mFINAL_RESULT = f\"WN: \u001b[0m\u001b[1;33m{\u001b[0m\u001b[33mwn_centrality:.4f\u001b[0m\u001b[1;33m}\u001b[0m\u001b[33m, AA: \u001b[0m\u001b[1;33m{\u001b[0m\u001b[33maa_centrality:.4f\u001b[0m\u001b[1;33m}\u001b[0m\u001b[33m\"\u001b[0m\n"
            ],
            "text/html": [
              "<pre style=\"white-space:pre;overflow-x:auto;line-height:normal;font-family:Menlo,'DejaVu Sans Mono',consolas,'Courier New',monospace\"><span style=\"color: #808000; text-decoration-color: #808000\">import networkx as nx</span>\n",
              "\n",
              "<span style=\"color: #808000; text-decoration-color: #808000\"># Assuming G_adb is already defined and populated with the flight data</span>\n",
              "\n",
              "<span style=\"color: #808000; text-decoration-color: #808000\"># Filter edges for Southwest Airlines </span><span style=\"color: #808000; text-decoration-color: #808000; font-weight: bold\">(</span><span style=\"color: #808000; text-decoration-color: #808000\">WN</span><span style=\"color: #808000; text-decoration-color: #808000; font-weight: bold\">)</span><span style=\"color: #808000; text-decoration-color: #808000\"> and American Airlines </span><span style=\"color: #808000; text-decoration-color: #808000; font-weight: bold\">(</span><span style=\"color: #808000; text-decoration-color: #808000\">AA</span><span style=\"color: #808000; text-decoration-color: #808000; font-weight: bold\">)</span>\n",
              "<span style=\"color: #808000; text-decoration-color: #808000\">wn_edges = </span><span style=\"color: #808000; text-decoration-color: #808000; font-weight: bold\">[(</span><span style=\"color: #808000; text-decoration-color: #808000\">u, v</span><span style=\"color: #808000; text-decoration-color: #808000; font-weight: bold\">)</span><span style=\"color: #808000; text-decoration-color: #808000\"> for u, v, d in </span><span style=\"color: #800080; text-decoration-color: #800080; font-weight: bold\">G_adb.edges</span><span style=\"color: #808000; text-decoration-color: #808000; font-weight: bold\">(</span><span style=\"color: #808000; text-decoration-color: #808000\">data</span><span style=\"color: #808000; text-decoration-color: #808000\">=</span><span style=\"color: #00ff00; text-decoration-color: #00ff00; font-style: italic\">True</span><span style=\"color: #808000; text-decoration-color: #808000; font-weight: bold\">)</span><span style=\"color: #808000; text-decoration-color: #808000\"> if d</span><span style=\"color: #808000; text-decoration-color: #808000; font-weight: bold\">[</span><span style=\"color: #008000; text-decoration-color: #008000\">'UniqueCarrier'</span><span style=\"color: #808000; text-decoration-color: #808000; font-weight: bold\">]</span><span style=\"color: #808000; text-decoration-color: #808000\"> == </span><span style=\"color: #008000; text-decoration-color: #008000\">'WN'</span><span style=\"color: #808000; text-decoration-color: #808000; font-weight: bold\">]</span>\n",
              "<span style=\"color: #808000; text-decoration-color: #808000\">aa_edges = </span><span style=\"color: #808000; text-decoration-color: #808000; font-weight: bold\">[(</span><span style=\"color: #808000; text-decoration-color: #808000\">u, v</span><span style=\"color: #808000; text-decoration-color: #808000; font-weight: bold\">)</span><span style=\"color: #808000; text-decoration-color: #808000\"> for u, v, d in </span><span style=\"color: #800080; text-decoration-color: #800080; font-weight: bold\">G_adb.edges</span><span style=\"color: #808000; text-decoration-color: #808000; font-weight: bold\">(</span><span style=\"color: #808000; text-decoration-color: #808000\">data</span><span style=\"color: #808000; text-decoration-color: #808000\">=</span><span style=\"color: #00ff00; text-decoration-color: #00ff00; font-style: italic\">True</span><span style=\"color: #808000; text-decoration-color: #808000; font-weight: bold\">)</span><span style=\"color: #808000; text-decoration-color: #808000\"> if d</span><span style=\"color: #808000; text-decoration-color: #808000; font-weight: bold\">[</span><span style=\"color: #008000; text-decoration-color: #008000\">'UniqueCarrier'</span><span style=\"color: #808000; text-decoration-color: #808000; font-weight: bold\">]</span><span style=\"color: #808000; text-decoration-color: #808000\"> == </span><span style=\"color: #008000; text-decoration-color: #008000\">'AA'</span><span style=\"color: #808000; text-decoration-color: #808000; font-weight: bold\">]</span>\n",
              "\n",
              "<span style=\"color: #808000; text-decoration-color: #808000\"># Create subgraphs for each airline</span>\n",
              "<span style=\"color: #808000; text-decoration-color: #808000\">G_wn = </span><span style=\"color: #800080; text-decoration-color: #800080; font-weight: bold\">nx.DiGraph</span><span style=\"color: #808000; text-decoration-color: #808000; font-weight: bold\">()</span>\n",
              "<span style=\"color: #800080; text-decoration-color: #800080; font-weight: bold\">G_wn.add_edges_from</span><span style=\"color: #808000; text-decoration-color: #808000; font-weight: bold\">(</span><span style=\"color: #808000; text-decoration-color: #808000\">wn_edges</span><span style=\"color: #808000; text-decoration-color: #808000; font-weight: bold\">)</span>\n",
              "\n",
              "<span style=\"color: #808000; text-decoration-color: #808000\">G_aa = </span><span style=\"color: #800080; text-decoration-color: #800080; font-weight: bold\">nx.DiGraph</span><span style=\"color: #808000; text-decoration-color: #808000; font-weight: bold\">()</span>\n",
              "<span style=\"color: #800080; text-decoration-color: #800080; font-weight: bold\">G_aa.add_edges_from</span><span style=\"color: #808000; text-decoration-color: #808000; font-weight: bold\">(</span><span style=\"color: #808000; text-decoration-color: #808000\">aa_edges</span><span style=\"color: #808000; text-decoration-color: #808000; font-weight: bold\">)</span>\n",
              "\n",
              "<span style=\"color: #808000; text-decoration-color: #808000\"># Compute betweenness centrality</span>\n",
              "<span style=\"color: #808000; text-decoration-color: #808000\">wn_betweenness = </span><span style=\"color: #800080; text-decoration-color: #800080; font-weight: bold\">nx.betweenness_centrality</span><span style=\"color: #808000; text-decoration-color: #808000; font-weight: bold\">(</span><span style=\"color: #808000; text-decoration-color: #808000\">G_wn, </span><span style=\"color: #808000; text-decoration-color: #808000\">directed</span><span style=\"color: #808000; text-decoration-color: #808000\">=</span><span style=\"color: #00ff00; text-decoration-color: #00ff00; font-style: italic\">True</span><span style=\"color: #808000; text-decoration-color: #808000; font-weight: bold\">)</span>\n",
              "<span style=\"color: #808000; text-decoration-color: #808000\">aa_betweenness = </span><span style=\"color: #800080; text-decoration-color: #800080; font-weight: bold\">nx.betweenness_centrality</span><span style=\"color: #808000; text-decoration-color: #808000; font-weight: bold\">(</span><span style=\"color: #808000; text-decoration-color: #808000\">G_aa, </span><span style=\"color: #808000; text-decoration-color: #808000\">directed</span><span style=\"color: #808000; text-decoration-color: #808000\">=</span><span style=\"color: #00ff00; text-decoration-color: #00ff00; font-style: italic\">True</span><span style=\"color: #808000; text-decoration-color: #808000; font-weight: bold\">)</span>\n",
              "\n",
              "<span style=\"color: #808000; text-decoration-color: #808000\"># Get the betweenness centrality values for the airlines</span>\n",
              "<span style=\"color: #808000; text-decoration-color: #808000\">wn_centrality = </span><span style=\"color: #800080; text-decoration-color: #800080; font-weight: bold\">sum</span><span style=\"color: #808000; text-decoration-color: #808000; font-weight: bold\">(</span><span style=\"color: #800080; text-decoration-color: #800080; font-weight: bold\">wn_betweenness.values</span><span style=\"color: #808000; text-decoration-color: #808000; font-weight: bold\">())</span>\n",
              "<span style=\"color: #808000; text-decoration-color: #808000\">aa_centrality = </span><span style=\"color: #800080; text-decoration-color: #800080; font-weight: bold\">sum</span><span style=\"color: #808000; text-decoration-color: #808000; font-weight: bold\">(</span><span style=\"color: #800080; text-decoration-color: #800080; font-weight: bold\">aa_betweenness.values</span><span style=\"color: #808000; text-decoration-color: #808000; font-weight: bold\">())</span>\n",
              "\n",
              "<span style=\"color: #808000; text-decoration-color: #808000\"># Prepare the final result</span>\n",
              "<span style=\"color: #808000; text-decoration-color: #808000\">FINAL_RESULT = f\"WN: </span><span style=\"color: #808000; text-decoration-color: #808000; font-weight: bold\">{</span><span style=\"color: #808000; text-decoration-color: #808000\">wn_centrality:.4f</span><span style=\"color: #808000; text-decoration-color: #808000; font-weight: bold\">}</span><span style=\"color: #808000; text-decoration-color: #808000\">, AA: </span><span style=\"color: #808000; text-decoration-color: #808000; font-weight: bold\">{</span><span style=\"color: #808000; text-decoration-color: #808000\">aa_centrality:.4f</span><span style=\"color: #808000; text-decoration-color: #808000; font-weight: bold\">}</span><span style=\"color: #808000; text-decoration-color: #808000\">\"</span>\n",
              "</pre>\n"
            ]
          },
          "metadata": {}
        },
        {
          "output_type": "display_data",
          "data": {
            "text/plain": [
              "\u001b[1;34mAttempt \u001b[0m\u001b[1;34m2\u001b[0m\u001b[1;34m: Executing code\u001b[0m\n"
            ],
            "text/html": [
              "<pre style=\"white-space:pre;overflow-x:auto;line-height:normal;font-family:Menlo,'DejaVu Sans Mono',consolas,'Courier New',monospace\"><span style=\"color: #000080; text-decoration-color: #000080; font-weight: bold\">Attempt </span><span style=\"color: #000080; text-decoration-color: #000080; font-weight: bold\">2</span><span style=\"color: #000080; text-decoration-color: #000080; font-weight: bold\">: Executing code</span>\n",
              "</pre>\n"
            ]
          },
          "metadata": {}
        },
        {
          "output_type": "display_data",
          "data": {
            "text/plain": [
              "\u001b[1;33mCorrected Code:\u001b[0m\n"
            ],
            "text/html": [
              "<pre style=\"white-space:pre;overflow-x:auto;line-height:normal;font-family:Menlo,'DejaVu Sans Mono',consolas,'Courier New',monospace\"><span style=\"color: #808000; text-decoration-color: #808000; font-weight: bold\">Corrected Code:</span>\n",
              "</pre>\n"
            ]
          },
          "metadata": {}
        },
        {
          "output_type": "display_data",
          "data": {
            "text/plain": [
              "\u001b[33mimport networkx as nx\u001b[0m\n",
              "\n",
              "\u001b[33m# Assuming G_adb is already defined as a NetworkX graph\u001b[0m\n",
              "\u001b[33m# Calculate degree centrality for Southwest Airlines \u001b[0m\u001b[1;33m(\u001b[0m\u001b[33mWN\u001b[0m\u001b[1;33m)\u001b[0m\u001b[33m and American Airlines \u001b[0m\u001b[1;33m(\u001b[0m\u001b[33mAA\u001b[0m\u001b[1;33m)\u001b[0m\n",
              "\u001b[33mdegree_centrality = \u001b[0m\u001b[1;35mnx.degree_centrality\u001b[0m\u001b[1;33m(\u001b[0m\u001b[33mG_adb\u001b[0m\u001b[1;33m)\u001b[0m\n",
              "\n",
              "\u001b[33m# Extract the centrality values for the specified airlines\u001b[0m\n",
              "\u001b[33mwn_centrality = \u001b[0m\u001b[1;35mdegree_centrality.get\u001b[0m\u001b[1;33m(\u001b[0m\u001b[32m'airports/WN'\u001b[0m\u001b[33m, \u001b[0m\u001b[1;36m0\u001b[0m\u001b[1;33m)\u001b[0m\n",
              "\u001b[33maa_centrality = \u001b[0m\u001b[1;35mdegree_centrality.get\u001b[0m\u001b[1;33m(\u001b[0m\u001b[32m'airports/AA'\u001b[0m\u001b[33m, \u001b[0m\u001b[1;36m0\u001b[0m\u001b[1;33m)\u001b[0m\n",
              "\n",
              "\u001b[33m# Prepare the final result\u001b[0m\n",
              "\u001b[33mFINAL_RESULT = f\"WN: \u001b[0m\u001b[1;33m{\u001b[0m\u001b[33mwn_centrality:.4f\u001b[0m\u001b[1;33m}\u001b[0m\u001b[33m, AA: \u001b[0m\u001b[1;33m{\u001b[0m\u001b[33maa_centrality:.4f\u001b[0m\u001b[1;33m}\u001b[0m\u001b[33m\"\u001b[0m\n"
            ],
            "text/html": [
              "<pre style=\"white-space:pre;overflow-x:auto;line-height:normal;font-family:Menlo,'DejaVu Sans Mono',consolas,'Courier New',monospace\"><span style=\"color: #808000; text-decoration-color: #808000\">import networkx as nx</span>\n",
              "\n",
              "<span style=\"color: #808000; text-decoration-color: #808000\"># Assuming G_adb is already defined as a NetworkX graph</span>\n",
              "<span style=\"color: #808000; text-decoration-color: #808000\"># Calculate degree centrality for Southwest Airlines </span><span style=\"color: #808000; text-decoration-color: #808000; font-weight: bold\">(</span><span style=\"color: #808000; text-decoration-color: #808000\">WN</span><span style=\"color: #808000; text-decoration-color: #808000; font-weight: bold\">)</span><span style=\"color: #808000; text-decoration-color: #808000\"> and American Airlines </span><span style=\"color: #808000; text-decoration-color: #808000; font-weight: bold\">(</span><span style=\"color: #808000; text-decoration-color: #808000\">AA</span><span style=\"color: #808000; text-decoration-color: #808000; font-weight: bold\">)</span>\n",
              "<span style=\"color: #808000; text-decoration-color: #808000\">degree_centrality = </span><span style=\"color: #800080; text-decoration-color: #800080; font-weight: bold\">nx.degree_centrality</span><span style=\"color: #808000; text-decoration-color: #808000; font-weight: bold\">(</span><span style=\"color: #808000; text-decoration-color: #808000\">G_adb</span><span style=\"color: #808000; text-decoration-color: #808000; font-weight: bold\">)</span>\n",
              "\n",
              "<span style=\"color: #808000; text-decoration-color: #808000\"># Extract the centrality values for the specified airlines</span>\n",
              "<span style=\"color: #808000; text-decoration-color: #808000\">wn_centrality = </span><span style=\"color: #800080; text-decoration-color: #800080; font-weight: bold\">degree_centrality.get</span><span style=\"color: #808000; text-decoration-color: #808000; font-weight: bold\">(</span><span style=\"color: #008000; text-decoration-color: #008000\">'airports/WN'</span><span style=\"color: #808000; text-decoration-color: #808000\">, </span><span style=\"color: #008080; text-decoration-color: #008080; font-weight: bold\">0</span><span style=\"color: #808000; text-decoration-color: #808000; font-weight: bold\">)</span>\n",
              "<span style=\"color: #808000; text-decoration-color: #808000\">aa_centrality = </span><span style=\"color: #800080; text-decoration-color: #800080; font-weight: bold\">degree_centrality.get</span><span style=\"color: #808000; text-decoration-color: #808000; font-weight: bold\">(</span><span style=\"color: #008000; text-decoration-color: #008000\">'airports/AA'</span><span style=\"color: #808000; text-decoration-color: #808000\">, </span><span style=\"color: #008080; text-decoration-color: #008080; font-weight: bold\">0</span><span style=\"color: #808000; text-decoration-color: #808000; font-weight: bold\">)</span>\n",
              "\n",
              "<span style=\"color: #808000; text-decoration-color: #808000\"># Prepare the final result</span>\n",
              "<span style=\"color: #808000; text-decoration-color: #808000\">FINAL_RESULT = f\"WN: </span><span style=\"color: #808000; text-decoration-color: #808000; font-weight: bold\">{</span><span style=\"color: #808000; text-decoration-color: #808000\">wn_centrality:.4f</span><span style=\"color: #808000; text-decoration-color: #808000; font-weight: bold\">}</span><span style=\"color: #808000; text-decoration-color: #808000\">, AA: </span><span style=\"color: #808000; text-decoration-color: #808000; font-weight: bold\">{</span><span style=\"color: #808000; text-decoration-color: #808000\">aa_centrality:.4f</span><span style=\"color: #808000; text-decoration-color: #808000; font-weight: bold\">}</span><span style=\"color: #808000; text-decoration-color: #808000\">\"</span>\n",
              "</pre>\n"
            ]
          },
          "metadata": {}
        },
        {
          "output_type": "display_data",
          "data": {
            "text/plain": [
              "\u001b[1;34mAttempt \u001b[0m\u001b[1;34m3\u001b[0m\u001b[1;34m: Executing code\u001b[0m\n"
            ],
            "text/html": [
              "<pre style=\"white-space:pre;overflow-x:auto;line-height:normal;font-family:Menlo,'DejaVu Sans Mono',consolas,'Courier New',monospace\"><span style=\"color: #000080; text-decoration-color: #000080; font-weight: bold\">Attempt </span><span style=\"color: #000080; text-decoration-color: #000080; font-weight: bold\">3</span><span style=\"color: #000080; text-decoration-color: #000080; font-weight: bold\">: Executing code</span>\n",
              "</pre>\n"
            ]
          },
          "metadata": {}
        },
        {
          "output_type": "display_data",
          "data": {
            "text/plain": [
              "\u001b[92m───────────────────────────────────────────── \u001b[0m\u001b[1;32mFinal Execution Result\u001b[0m\u001b[92m ──────────────────────────────────────────────\u001b[0m\n"
            ],
            "text/html": [
              "<pre style=\"white-space:pre;overflow-x:auto;line-height:normal;font-family:Menlo,'DejaVu Sans Mono',consolas,'Courier New',monospace\"><span style=\"color: #00ff00; text-decoration-color: #00ff00\">───────────────────────────────────────────── </span><span style=\"color: #008000; text-decoration-color: #008000; font-weight: bold\">Final Execution Result</span><span style=\"color: #00ff00; text-decoration-color: #00ff00\"> ──────────────────────────────────────────────</span>\n",
              "</pre>\n"
            ]
          },
          "metadata": {}
        },
        {
          "output_type": "display_data",
          "data": {
            "text/plain": [
              "\u001b[1;35mFINAL_RESULT:\u001b[0m\u001b[35m WN: \u001b[0m\u001b[1;36m0.0000\u001b[0m\u001b[35m, AA: \u001b[0m\u001b[1;36m0.0000\u001b[0m\n"
            ],
            "text/html": [
              "<pre style=\"white-space:pre;overflow-x:auto;line-height:normal;font-family:Menlo,'DejaVu Sans Mono',consolas,'Courier New',monospace\"><span style=\"color: #800080; text-decoration-color: #800080; font-weight: bold\">FINAL_RESULT:</span><span style=\"color: #800080; text-decoration-color: #800080\"> WN: </span><span style=\"color: #008080; text-decoration-color: #008080; font-weight: bold\">0.0000</span><span style=\"color: #800080; text-decoration-color: #800080\">, AA: </span><span style=\"color: #008080; text-decoration-color: #008080; font-weight: bold\">0.0000</span>\n",
              "</pre>\n"
            ]
          },
          "metadata": {}
        },
        {
          "output_type": "display_data",
          "data": {
            "text/plain": [
              "\u001b[92m───────────────────────────────────────────────────────────────────────────────────────────────────────────────────\u001b[0m\n"
            ],
            "text/html": [
              "<pre style=\"white-space:pre;overflow-x:auto;line-height:normal;font-family:Menlo,'DejaVu Sans Mono',consolas,'Courier New',monospace\"><span style=\"color: #00ff00; text-decoration-color: #00ff00\">───────────────────────────────────────────────────────────────────────────────────────────────────────────────────</span>\n",
              "</pre>\n"
            ]
          },
          "metadata": {}
        },
        {
          "output_type": "display_data",
          "data": {
            "text/plain": [
              "\u001b[92m──────────────────────────────────────── \u001b[0m\u001b[1;36mStep \u001b[0m\u001b[1;36m3\u001b[0m\u001b[1;36m: Formulating Final Answer\u001b[0m\u001b[92m ─────────────────────────────────────────\u001b[0m\n"
            ],
            "text/html": [
              "<pre style=\"white-space:pre;overflow-x:auto;line-height:normal;font-family:Menlo,'DejaVu Sans Mono',consolas,'Courier New',monospace\"><span style=\"color: #00ff00; text-decoration-color: #00ff00\">──────────────────────────────────────── </span><span style=\"color: #008080; text-decoration-color: #008080; font-weight: bold\">Step </span><span style=\"color: #008080; text-decoration-color: #008080; font-weight: bold\">3</span><span style=\"color: #008080; text-decoration-color: #008080; font-weight: bold\">: Formulating Final Answer</span><span style=\"color: #00ff00; text-decoration-color: #00ff00\"> ─────────────────────────────────────────</span>\n",
              "</pre>\n"
            ]
          },
          "metadata": {}
        },
        {
          "output_type": "stream",
          "name": "stdout",
          "text": [
            "EXEC ERROR on attempt 2: betweenness_centrality() got an unexpected keyword argument 'directed'\n"
          ]
        },
        {
          "output_type": "display_data",
          "data": {
            "text/plain": [
              "\u001b[92m───────────────────────────────────────────── \u001b[0m\u001b[1;32mFinal Answer Generated\u001b[0m\u001b[92m ──────────────────────────────────────────────\u001b[0m\n"
            ],
            "text/html": [
              "<pre style=\"white-space:pre;overflow-x:auto;line-height:normal;font-family:Menlo,'DejaVu Sans Mono',consolas,'Courier New',monospace\"><span style=\"color: #00ff00; text-decoration-color: #00ff00\">───────────────────────────────────────────── </span><span style=\"color: #008000; text-decoration-color: #008000; font-weight: bold\">Final Answer Generated</span><span style=\"color: #00ff00; text-decoration-color: #00ff00\"> ──────────────────────────────────────────────</span>\n",
              "</pre>\n"
            ]
          },
          "metadata": {}
        },
        {
          "output_type": "display_data",
          "data": {
            "text/plain": [
              "\u001b[1;33mCorrected Code:\u001b[0m\n"
            ],
            "text/html": [
              "<pre style=\"white-space:pre;overflow-x:auto;line-height:normal;font-family:Menlo,'DejaVu Sans Mono',consolas,'Courier New',monospace\"><span style=\"color: #808000; text-decoration-color: #808000; font-weight: bold\">Corrected Code:</span>\n",
              "</pre>\n"
            ]
          },
          "metadata": {}
        },
        {
          "output_type": "display_data",
          "data": {
            "text/plain": [
              "\u001b[33mimport networkx as nx\u001b[0m\n",
              "\n",
              "\u001b[33m# Assuming G_adb is already defined and populated with the flight data\u001b[0m\n",
              "\n",
              "\u001b[33m# Filter edges for Southwest Airlines \u001b[0m\u001b[1;33m(\u001b[0m\u001b[33mWN\u001b[0m\u001b[1;33m)\u001b[0m\u001b[33m and American Airlines \u001b[0m\u001b[1;33m(\u001b[0m\u001b[33mAA\u001b[0m\u001b[1;33m)\u001b[0m\n",
              "\u001b[33mwn_edges = \u001b[0m\u001b[1;33m[\u001b[0m\u001b[1;33m(\u001b[0m\u001b[33mu, v\u001b[0m\u001b[1;33m)\u001b[0m\u001b[33m for u, v, d in \u001b[0m\u001b[1;35mG_adb.edges\u001b[0m\u001b[1;33m(\u001b[0m\u001b[33mdata\u001b[0m\u001b[33m=\u001b[0m\u001b[3;92mTrue\u001b[0m\u001b[1;33m)\u001b[0m\u001b[33m if d\u001b[0m\u001b[1;33m[\u001b[0m\u001b[32m'UniqueCarrier'\u001b[0m\u001b[1;33m]\u001b[0m\u001b[33m == \u001b[0m\u001b[32m'WN'\u001b[0m\u001b[1;33m]\u001b[0m\n",
              "\u001b[33maa_edges = \u001b[0m\u001b[1;33m[\u001b[0m\u001b[1;33m(\u001b[0m\u001b[33mu, v\u001b[0m\u001b[1;33m)\u001b[0m\u001b[33m for u, v, d in \u001b[0m\u001b[1;35mG_adb.edges\u001b[0m\u001b[1;33m(\u001b[0m\u001b[33mdata\u001b[0m\u001b[33m=\u001b[0m\u001b[3;92mTrue\u001b[0m\u001b[1;33m)\u001b[0m\u001b[33m if d\u001b[0m\u001b[1;33m[\u001b[0m\u001b[32m'UniqueCarrier'\u001b[0m\u001b[1;33m]\u001b[0m\u001b[33m == \u001b[0m\u001b[32m'AA'\u001b[0m\u001b[1;33m]\u001b[0m\n",
              "\n",
              "\u001b[33m# Create subgraphs for each airline\u001b[0m\n",
              "\u001b[33mG_wn = \u001b[0m\u001b[1;35mnx.DiGraph\u001b[0m\u001b[1;33m(\u001b[0m\u001b[1;33m)\u001b[0m\n",
              "\u001b[1;35mG_wn.add_edges_from\u001b[0m\u001b[1;33m(\u001b[0m\u001b[33mwn_edges\u001b[0m\u001b[1;33m)\u001b[0m\n",
              "\n",
              "\u001b[33mG_aa = \u001b[0m\u001b[1;35mnx.DiGraph\u001b[0m\u001b[1;33m(\u001b[0m\u001b[1;33m)\u001b[0m\n",
              "\u001b[1;35mG_aa.add_edges_from\u001b[0m\u001b[1;33m(\u001b[0m\u001b[33maa_edges\u001b[0m\u001b[1;33m)\u001b[0m\n",
              "\n",
              "\u001b[33m# Compute betweenness centrality\u001b[0m\n",
              "\u001b[33mwn_betweenness = \u001b[0m\u001b[1;35mnx.betweenness_centrality\u001b[0m\u001b[1;33m(\u001b[0m\u001b[33mG_wn, \u001b[0m\u001b[33mdirected\u001b[0m\u001b[33m=\u001b[0m\u001b[3;92mTrue\u001b[0m\u001b[1;33m)\u001b[0m\n",
              "\u001b[33maa_betweenness = \u001b[0m\u001b[1;35mnx.betweenness_centrality\u001b[0m\u001b[1;33m(\u001b[0m\u001b[33mG_aa, \u001b[0m\u001b[33mdirected\u001b[0m\u001b[33m=\u001b[0m\u001b[3;92mTrue\u001b[0m\u001b[1;33m)\u001b[0m\n",
              "\n",
              "\u001b[33m# Get the betweenness centrality values for Southwest Airlines and American Airlines\u001b[0m\n",
              "\u001b[33mwn_centrality = \u001b[0m\u001b[1;35msum\u001b[0m\u001b[1;33m(\u001b[0m\u001b[1;35mwn_betweenness.values\u001b[0m\u001b[1;33m(\u001b[0m\u001b[1;33m)\u001b[0m\u001b[1;33m)\u001b[0m\n",
              "\u001b[33maa_centrality = \u001b[0m\u001b[1;35msum\u001b[0m\u001b[1;33m(\u001b[0m\u001b[1;35maa_betweenness.values\u001b[0m\u001b[1;33m(\u001b[0m\u001b[1;33m)\u001b[0m\u001b[1;33m)\u001b[0m\n",
              "\n",
              "\u001b[33m# Prepare the final result\u001b[0m\n",
              "\u001b[33mFINAL_RESULT = f\"WN: \u001b[0m\u001b[1;33m{\u001b[0m\u001b[33mwn_centrality:.4f\u001b[0m\u001b[1;33m}\u001b[0m\u001b[33m, AA: \u001b[0m\u001b[1;33m{\u001b[0m\u001b[33maa_centrality:.4f\u001b[0m\u001b[1;33m}\u001b[0m\u001b[33m\"\u001b[0m\n"
            ],
            "text/html": [
              "<pre style=\"white-space:pre;overflow-x:auto;line-height:normal;font-family:Menlo,'DejaVu Sans Mono',consolas,'Courier New',monospace\"><span style=\"color: #808000; text-decoration-color: #808000\">import networkx as nx</span>\n",
              "\n",
              "<span style=\"color: #808000; text-decoration-color: #808000\"># Assuming G_adb is already defined and populated with the flight data</span>\n",
              "\n",
              "<span style=\"color: #808000; text-decoration-color: #808000\"># Filter edges for Southwest Airlines </span><span style=\"color: #808000; text-decoration-color: #808000; font-weight: bold\">(</span><span style=\"color: #808000; text-decoration-color: #808000\">WN</span><span style=\"color: #808000; text-decoration-color: #808000; font-weight: bold\">)</span><span style=\"color: #808000; text-decoration-color: #808000\"> and American Airlines </span><span style=\"color: #808000; text-decoration-color: #808000; font-weight: bold\">(</span><span style=\"color: #808000; text-decoration-color: #808000\">AA</span><span style=\"color: #808000; text-decoration-color: #808000; font-weight: bold\">)</span>\n",
              "<span style=\"color: #808000; text-decoration-color: #808000\">wn_edges = </span><span style=\"color: #808000; text-decoration-color: #808000; font-weight: bold\">[(</span><span style=\"color: #808000; text-decoration-color: #808000\">u, v</span><span style=\"color: #808000; text-decoration-color: #808000; font-weight: bold\">)</span><span style=\"color: #808000; text-decoration-color: #808000\"> for u, v, d in </span><span style=\"color: #800080; text-decoration-color: #800080; font-weight: bold\">G_adb.edges</span><span style=\"color: #808000; text-decoration-color: #808000; font-weight: bold\">(</span><span style=\"color: #808000; text-decoration-color: #808000\">data</span><span style=\"color: #808000; text-decoration-color: #808000\">=</span><span style=\"color: #00ff00; text-decoration-color: #00ff00; font-style: italic\">True</span><span style=\"color: #808000; text-decoration-color: #808000; font-weight: bold\">)</span><span style=\"color: #808000; text-decoration-color: #808000\"> if d</span><span style=\"color: #808000; text-decoration-color: #808000; font-weight: bold\">[</span><span style=\"color: #008000; text-decoration-color: #008000\">'UniqueCarrier'</span><span style=\"color: #808000; text-decoration-color: #808000; font-weight: bold\">]</span><span style=\"color: #808000; text-decoration-color: #808000\"> == </span><span style=\"color: #008000; text-decoration-color: #008000\">'WN'</span><span style=\"color: #808000; text-decoration-color: #808000; font-weight: bold\">]</span>\n",
              "<span style=\"color: #808000; text-decoration-color: #808000\">aa_edges = </span><span style=\"color: #808000; text-decoration-color: #808000; font-weight: bold\">[(</span><span style=\"color: #808000; text-decoration-color: #808000\">u, v</span><span style=\"color: #808000; text-decoration-color: #808000; font-weight: bold\">)</span><span style=\"color: #808000; text-decoration-color: #808000\"> for u, v, d in </span><span style=\"color: #800080; text-decoration-color: #800080; font-weight: bold\">G_adb.edges</span><span style=\"color: #808000; text-decoration-color: #808000; font-weight: bold\">(</span><span style=\"color: #808000; text-decoration-color: #808000\">data</span><span style=\"color: #808000; text-decoration-color: #808000\">=</span><span style=\"color: #00ff00; text-decoration-color: #00ff00; font-style: italic\">True</span><span style=\"color: #808000; text-decoration-color: #808000; font-weight: bold\">)</span><span style=\"color: #808000; text-decoration-color: #808000\"> if d</span><span style=\"color: #808000; text-decoration-color: #808000; font-weight: bold\">[</span><span style=\"color: #008000; text-decoration-color: #008000\">'UniqueCarrier'</span><span style=\"color: #808000; text-decoration-color: #808000; font-weight: bold\">]</span><span style=\"color: #808000; text-decoration-color: #808000\"> == </span><span style=\"color: #008000; text-decoration-color: #008000\">'AA'</span><span style=\"color: #808000; text-decoration-color: #808000; font-weight: bold\">]</span>\n",
              "\n",
              "<span style=\"color: #808000; text-decoration-color: #808000\"># Create subgraphs for each airline</span>\n",
              "<span style=\"color: #808000; text-decoration-color: #808000\">G_wn = </span><span style=\"color: #800080; text-decoration-color: #800080; font-weight: bold\">nx.DiGraph</span><span style=\"color: #808000; text-decoration-color: #808000; font-weight: bold\">()</span>\n",
              "<span style=\"color: #800080; text-decoration-color: #800080; font-weight: bold\">G_wn.add_edges_from</span><span style=\"color: #808000; text-decoration-color: #808000; font-weight: bold\">(</span><span style=\"color: #808000; text-decoration-color: #808000\">wn_edges</span><span style=\"color: #808000; text-decoration-color: #808000; font-weight: bold\">)</span>\n",
              "\n",
              "<span style=\"color: #808000; text-decoration-color: #808000\">G_aa = </span><span style=\"color: #800080; text-decoration-color: #800080; font-weight: bold\">nx.DiGraph</span><span style=\"color: #808000; text-decoration-color: #808000; font-weight: bold\">()</span>\n",
              "<span style=\"color: #800080; text-decoration-color: #800080; font-weight: bold\">G_aa.add_edges_from</span><span style=\"color: #808000; text-decoration-color: #808000; font-weight: bold\">(</span><span style=\"color: #808000; text-decoration-color: #808000\">aa_edges</span><span style=\"color: #808000; text-decoration-color: #808000; font-weight: bold\">)</span>\n",
              "\n",
              "<span style=\"color: #808000; text-decoration-color: #808000\"># Compute betweenness centrality</span>\n",
              "<span style=\"color: #808000; text-decoration-color: #808000\">wn_betweenness = </span><span style=\"color: #800080; text-decoration-color: #800080; font-weight: bold\">nx.betweenness_centrality</span><span style=\"color: #808000; text-decoration-color: #808000; font-weight: bold\">(</span><span style=\"color: #808000; text-decoration-color: #808000\">G_wn, </span><span style=\"color: #808000; text-decoration-color: #808000\">directed</span><span style=\"color: #808000; text-decoration-color: #808000\">=</span><span style=\"color: #00ff00; text-decoration-color: #00ff00; font-style: italic\">True</span><span style=\"color: #808000; text-decoration-color: #808000; font-weight: bold\">)</span>\n",
              "<span style=\"color: #808000; text-decoration-color: #808000\">aa_betweenness = </span><span style=\"color: #800080; text-decoration-color: #800080; font-weight: bold\">nx.betweenness_centrality</span><span style=\"color: #808000; text-decoration-color: #808000; font-weight: bold\">(</span><span style=\"color: #808000; text-decoration-color: #808000\">G_aa, </span><span style=\"color: #808000; text-decoration-color: #808000\">directed</span><span style=\"color: #808000; text-decoration-color: #808000\">=</span><span style=\"color: #00ff00; text-decoration-color: #00ff00; font-style: italic\">True</span><span style=\"color: #808000; text-decoration-color: #808000; font-weight: bold\">)</span>\n",
              "\n",
              "<span style=\"color: #808000; text-decoration-color: #808000\"># Get the betweenness centrality values for Southwest Airlines and American Airlines</span>\n",
              "<span style=\"color: #808000; text-decoration-color: #808000\">wn_centrality = </span><span style=\"color: #800080; text-decoration-color: #800080; font-weight: bold\">sum</span><span style=\"color: #808000; text-decoration-color: #808000; font-weight: bold\">(</span><span style=\"color: #800080; text-decoration-color: #800080; font-weight: bold\">wn_betweenness.values</span><span style=\"color: #808000; text-decoration-color: #808000; font-weight: bold\">())</span>\n",
              "<span style=\"color: #808000; text-decoration-color: #808000\">aa_centrality = </span><span style=\"color: #800080; text-decoration-color: #800080; font-weight: bold\">sum</span><span style=\"color: #808000; text-decoration-color: #808000; font-weight: bold\">(</span><span style=\"color: #800080; text-decoration-color: #800080; font-weight: bold\">aa_betweenness.values</span><span style=\"color: #808000; text-decoration-color: #808000; font-weight: bold\">())</span>\n",
              "\n",
              "<span style=\"color: #808000; text-decoration-color: #808000\"># Prepare the final result</span>\n",
              "<span style=\"color: #808000; text-decoration-color: #808000\">FINAL_RESULT = f\"WN: </span><span style=\"color: #808000; text-decoration-color: #808000; font-weight: bold\">{</span><span style=\"color: #808000; text-decoration-color: #808000\">wn_centrality:.4f</span><span style=\"color: #808000; text-decoration-color: #808000; font-weight: bold\">}</span><span style=\"color: #808000; text-decoration-color: #808000\">, AA: </span><span style=\"color: #808000; text-decoration-color: #808000; font-weight: bold\">{</span><span style=\"color: #808000; text-decoration-color: #808000\">aa_centrality:.4f</span><span style=\"color: #808000; text-decoration-color: #808000; font-weight: bold\">}</span><span style=\"color: #808000; text-decoration-color: #808000\">\"</span>\n",
              "</pre>\n"
            ]
          },
          "metadata": {}
        },
        {
          "output_type": "display_data",
          "data": {
            "text/plain": [
              "\u001b[1;34mAttempt \u001b[0m\u001b[1;34m3\u001b[0m\u001b[1;34m: Executing code\u001b[0m\n"
            ],
            "text/html": [
              "<pre style=\"white-space:pre;overflow-x:auto;line-height:normal;font-family:Menlo,'DejaVu Sans Mono',consolas,'Courier New',monospace\"><span style=\"color: #000080; text-decoration-color: #000080; font-weight: bold\">Attempt </span><span style=\"color: #000080; text-decoration-color: #000080; font-weight: bold\">3</span><span style=\"color: #000080; text-decoration-color: #000080; font-weight: bold\">: Executing code</span>\n",
              "</pre>\n"
            ]
          },
          "metadata": {}
        },
        {
          "output_type": "stream",
          "name": "stdout",
          "text": [
            "EXEC ERROR on attempt 3: betweenness_centrality() got an unexpected keyword argument 'directed'\n"
          ]
        },
        {
          "output_type": "display_data",
          "data": {
            "text/plain": [
              "\u001b[1;33mCorrected Code:\u001b[0m\n"
            ],
            "text/html": [
              "<pre style=\"white-space:pre;overflow-x:auto;line-height:normal;font-family:Menlo,'DejaVu Sans Mono',consolas,'Courier New',monospace\"><span style=\"color: #808000; text-decoration-color: #808000; font-weight: bold\">Corrected Code:</span>\n",
              "</pre>\n"
            ]
          },
          "metadata": {}
        },
        {
          "output_type": "display_data",
          "data": {
            "text/plain": [
              "\u001b[33mimport networkx as nx\u001b[0m\n",
              "\n",
              "\u001b[33m# Assuming G_adb is already defined and populated with the flight data\u001b[0m\n",
              "\n",
              "\u001b[33m# Filter edges for Southwest Airlines \u001b[0m\u001b[1;33m(\u001b[0m\u001b[33mWN\u001b[0m\u001b[1;33m)\u001b[0m\u001b[33m and American Airlines \u001b[0m\u001b[1;33m(\u001b[0m\u001b[33mAA\u001b[0m\u001b[1;33m)\u001b[0m\n",
              "\u001b[33mwn_edges = \u001b[0m\u001b[1;33m[\u001b[0m\u001b[1;33m(\u001b[0m\u001b[33mu, v\u001b[0m\u001b[1;33m)\u001b[0m\u001b[33m for u, v, d in \u001b[0m\u001b[1;35mG_adb.edges\u001b[0m\u001b[1;33m(\u001b[0m\u001b[33mdata\u001b[0m\u001b[33m=\u001b[0m\u001b[3;92mTrue\u001b[0m\u001b[1;33m)\u001b[0m\u001b[33m if d\u001b[0m\u001b[1;33m[\u001b[0m\u001b[32m'UniqueCarrier'\u001b[0m\u001b[1;33m]\u001b[0m\u001b[33m == \u001b[0m\u001b[32m'WN'\u001b[0m\u001b[1;33m]\u001b[0m\n",
              "\u001b[33maa_edges = \u001b[0m\u001b[1;33m[\u001b[0m\u001b[1;33m(\u001b[0m\u001b[33mu, v\u001b[0m\u001b[1;33m)\u001b[0m\u001b[33m for u, v, d in \u001b[0m\u001b[1;35mG_adb.edges\u001b[0m\u001b[1;33m(\u001b[0m\u001b[33mdata\u001b[0m\u001b[33m=\u001b[0m\u001b[3;92mTrue\u001b[0m\u001b[1;33m)\u001b[0m\u001b[33m if d\u001b[0m\u001b[1;33m[\u001b[0m\u001b[32m'UniqueCarrier'\u001b[0m\u001b[1;33m]\u001b[0m\u001b[33m == \u001b[0m\u001b[32m'AA'\u001b[0m\u001b[1;33m]\u001b[0m\n",
              "\n",
              "\u001b[33m# Create subgraphs for each airline\u001b[0m\n",
              "\u001b[33mG_wn = \u001b[0m\u001b[1;35mnx.Graph\u001b[0m\u001b[1;33m(\u001b[0m\u001b[1;33m)\u001b[0m\n",
              "\u001b[1;35mG_wn.add_edges_from\u001b[0m\u001b[1;33m(\u001b[0m\u001b[33mwn_edges\u001b[0m\u001b[1;33m)\u001b[0m\n",
              "\n",
              "\u001b[33mG_aa = \u001b[0m\u001b[1;35mnx.Graph\u001b[0m\u001b[1;33m(\u001b[0m\u001b[1;33m)\u001b[0m\n",
              "\u001b[1;35mG_aa.add_edges_from\u001b[0m\u001b[1;33m(\u001b[0m\u001b[33maa_edges\u001b[0m\u001b[1;33m)\u001b[0m\n",
              "\n",
              "\u001b[33m# Compute betweenness centrality\u001b[0m\n",
              "\u001b[33mwn_betweenness = \u001b[0m\u001b[1;35mnx.betweenness_centrality\u001b[0m\u001b[1;33m(\u001b[0m\u001b[33mG_wn\u001b[0m\u001b[1;33m)\u001b[0m\n",
              "\u001b[33maa_betweenness = \u001b[0m\u001b[1;35mnx.betweenness_centrality\u001b[0m\u001b[1;33m(\u001b[0m\u001b[33mG_aa\u001b[0m\u001b[1;33m)\u001b[0m\n",
              "\n",
              "\u001b[33m# Prepare the final result\u001b[0m\n",
              "\u001b[33mFINAL_RESULT = \u001b[0m\u001b[1;33m{\u001b[0m\n",
              "\u001b[33m    \u001b[0m\u001b[32m'Southwest Airlines \u001b[0m\u001b[32m(\u001b[0m\u001b[32mWN\u001b[0m\u001b[32m)\u001b[0m\u001b[32m'\u001b[0m\u001b[33m: wn_betweenness,\u001b[0m\n",
              "\u001b[33m    \u001b[0m\u001b[32m'American Airlines \u001b[0m\u001b[32m(\u001b[0m\u001b[32mAA\u001b[0m\u001b[32m)\u001b[0m\u001b[32m'\u001b[0m\u001b[33m: aa_betweenness\u001b[0m\n",
              "\u001b[1;33m}\u001b[0m\n"
            ],
            "text/html": [
              "<pre style=\"white-space:pre;overflow-x:auto;line-height:normal;font-family:Menlo,'DejaVu Sans Mono',consolas,'Courier New',monospace\"><span style=\"color: #808000; text-decoration-color: #808000\">import networkx as nx</span>\n",
              "\n",
              "<span style=\"color: #808000; text-decoration-color: #808000\"># Assuming G_adb is already defined and populated with the flight data</span>\n",
              "\n",
              "<span style=\"color: #808000; text-decoration-color: #808000\"># Filter edges for Southwest Airlines </span><span style=\"color: #808000; text-decoration-color: #808000; font-weight: bold\">(</span><span style=\"color: #808000; text-decoration-color: #808000\">WN</span><span style=\"color: #808000; text-decoration-color: #808000; font-weight: bold\">)</span><span style=\"color: #808000; text-decoration-color: #808000\"> and American Airlines </span><span style=\"color: #808000; text-decoration-color: #808000; font-weight: bold\">(</span><span style=\"color: #808000; text-decoration-color: #808000\">AA</span><span style=\"color: #808000; text-decoration-color: #808000; font-weight: bold\">)</span>\n",
              "<span style=\"color: #808000; text-decoration-color: #808000\">wn_edges = </span><span style=\"color: #808000; text-decoration-color: #808000; font-weight: bold\">[(</span><span style=\"color: #808000; text-decoration-color: #808000\">u, v</span><span style=\"color: #808000; text-decoration-color: #808000; font-weight: bold\">)</span><span style=\"color: #808000; text-decoration-color: #808000\"> for u, v, d in </span><span style=\"color: #800080; text-decoration-color: #800080; font-weight: bold\">G_adb.edges</span><span style=\"color: #808000; text-decoration-color: #808000; font-weight: bold\">(</span><span style=\"color: #808000; text-decoration-color: #808000\">data</span><span style=\"color: #808000; text-decoration-color: #808000\">=</span><span style=\"color: #00ff00; text-decoration-color: #00ff00; font-style: italic\">True</span><span style=\"color: #808000; text-decoration-color: #808000; font-weight: bold\">)</span><span style=\"color: #808000; text-decoration-color: #808000\"> if d</span><span style=\"color: #808000; text-decoration-color: #808000; font-weight: bold\">[</span><span style=\"color: #008000; text-decoration-color: #008000\">'UniqueCarrier'</span><span style=\"color: #808000; text-decoration-color: #808000; font-weight: bold\">]</span><span style=\"color: #808000; text-decoration-color: #808000\"> == </span><span style=\"color: #008000; text-decoration-color: #008000\">'WN'</span><span style=\"color: #808000; text-decoration-color: #808000; font-weight: bold\">]</span>\n",
              "<span style=\"color: #808000; text-decoration-color: #808000\">aa_edges = </span><span style=\"color: #808000; text-decoration-color: #808000; font-weight: bold\">[(</span><span style=\"color: #808000; text-decoration-color: #808000\">u, v</span><span style=\"color: #808000; text-decoration-color: #808000; font-weight: bold\">)</span><span style=\"color: #808000; text-decoration-color: #808000\"> for u, v, d in </span><span style=\"color: #800080; text-decoration-color: #800080; font-weight: bold\">G_adb.edges</span><span style=\"color: #808000; text-decoration-color: #808000; font-weight: bold\">(</span><span style=\"color: #808000; text-decoration-color: #808000\">data</span><span style=\"color: #808000; text-decoration-color: #808000\">=</span><span style=\"color: #00ff00; text-decoration-color: #00ff00; font-style: italic\">True</span><span style=\"color: #808000; text-decoration-color: #808000; font-weight: bold\">)</span><span style=\"color: #808000; text-decoration-color: #808000\"> if d</span><span style=\"color: #808000; text-decoration-color: #808000; font-weight: bold\">[</span><span style=\"color: #008000; text-decoration-color: #008000\">'UniqueCarrier'</span><span style=\"color: #808000; text-decoration-color: #808000; font-weight: bold\">]</span><span style=\"color: #808000; text-decoration-color: #808000\"> == </span><span style=\"color: #008000; text-decoration-color: #008000\">'AA'</span><span style=\"color: #808000; text-decoration-color: #808000; font-weight: bold\">]</span>\n",
              "\n",
              "<span style=\"color: #808000; text-decoration-color: #808000\"># Create subgraphs for each airline</span>\n",
              "<span style=\"color: #808000; text-decoration-color: #808000\">G_wn = </span><span style=\"color: #800080; text-decoration-color: #800080; font-weight: bold\">nx.Graph</span><span style=\"color: #808000; text-decoration-color: #808000; font-weight: bold\">()</span>\n",
              "<span style=\"color: #800080; text-decoration-color: #800080; font-weight: bold\">G_wn.add_edges_from</span><span style=\"color: #808000; text-decoration-color: #808000; font-weight: bold\">(</span><span style=\"color: #808000; text-decoration-color: #808000\">wn_edges</span><span style=\"color: #808000; text-decoration-color: #808000; font-weight: bold\">)</span>\n",
              "\n",
              "<span style=\"color: #808000; text-decoration-color: #808000\">G_aa = </span><span style=\"color: #800080; text-decoration-color: #800080; font-weight: bold\">nx.Graph</span><span style=\"color: #808000; text-decoration-color: #808000; font-weight: bold\">()</span>\n",
              "<span style=\"color: #800080; text-decoration-color: #800080; font-weight: bold\">G_aa.add_edges_from</span><span style=\"color: #808000; text-decoration-color: #808000; font-weight: bold\">(</span><span style=\"color: #808000; text-decoration-color: #808000\">aa_edges</span><span style=\"color: #808000; text-decoration-color: #808000; font-weight: bold\">)</span>\n",
              "\n",
              "<span style=\"color: #808000; text-decoration-color: #808000\"># Compute betweenness centrality</span>\n",
              "<span style=\"color: #808000; text-decoration-color: #808000\">wn_betweenness = </span><span style=\"color: #800080; text-decoration-color: #800080; font-weight: bold\">nx.betweenness_centrality</span><span style=\"color: #808000; text-decoration-color: #808000; font-weight: bold\">(</span><span style=\"color: #808000; text-decoration-color: #808000\">G_wn</span><span style=\"color: #808000; text-decoration-color: #808000; font-weight: bold\">)</span>\n",
              "<span style=\"color: #808000; text-decoration-color: #808000\">aa_betweenness = </span><span style=\"color: #800080; text-decoration-color: #800080; font-weight: bold\">nx.betweenness_centrality</span><span style=\"color: #808000; text-decoration-color: #808000; font-weight: bold\">(</span><span style=\"color: #808000; text-decoration-color: #808000\">G_aa</span><span style=\"color: #808000; text-decoration-color: #808000; font-weight: bold\">)</span>\n",
              "\n",
              "<span style=\"color: #808000; text-decoration-color: #808000\"># Prepare the final result</span>\n",
              "<span style=\"color: #808000; text-decoration-color: #808000\">FINAL_RESULT = </span><span style=\"color: #808000; text-decoration-color: #808000; font-weight: bold\">{</span>\n",
              "<span style=\"color: #808000; text-decoration-color: #808000\">    </span><span style=\"color: #008000; text-decoration-color: #008000\">'Southwest Airlines (WN)'</span><span style=\"color: #808000; text-decoration-color: #808000\">: wn_betweenness,</span>\n",
              "<span style=\"color: #808000; text-decoration-color: #808000\">    </span><span style=\"color: #008000; text-decoration-color: #008000\">'American Airlines (AA)'</span><span style=\"color: #808000; text-decoration-color: #808000\">: aa_betweenness</span>\n",
              "<span style=\"color: #808000; text-decoration-color: #808000; font-weight: bold\">}</span>\n",
              "</pre>\n"
            ]
          },
          "metadata": {}
        },
        {
          "output_type": "display_data",
          "data": {
            "text/plain": [
              "╭────────────────────────────────────────── \u001b[1;36m== Result for Sub-Task 2 ==\u001b[0m ──────────────────────────────────────────╮\n",
              "│ It seems that there was an issue while trying to compute the betweenness centrality for the airlines. However,  │\n",
              "│ I was able to compute the degree centrality for both Southwest Airlines (WN) and American Airlines (AA).        │\n",
              "│                                                                                                                 │\n",
              "│ ### Degree Centrality Results:                                                                                  │\n",
              "│ - **Southwest Airlines (WN)**: 0.0000                                                                           │\n",
              "│ - **American Airlines (AA)**: 0.0000                                                                            │\n",
              "│                                                                                                                 │\n",
              "│ This indicates that neither airline has any direct connections in the current graph representation.             │\n",
              "│                                                                                                                 │\n",
              "│ If you would like to explore further metrics or need additional information, please let me know!                │\n",
              "╰─────────────────────────────────────────────────────────────────────────────────────────────────────────────────╯\n"
            ],
            "text/html": [
              "<pre style=\"white-space:pre;overflow-x:auto;line-height:normal;font-family:Menlo,'DejaVu Sans Mono',consolas,'Courier New',monospace\">╭────────────────────────────────────────── <span style=\"color: #008080; text-decoration-color: #008080; font-weight: bold\">== Result for Sub-Task 2 ==</span> ──────────────────────────────────────────╮\n",
              "│ It seems that there was an issue while trying to compute the betweenness centrality for the airlines. However,  │\n",
              "│ I was able to compute the degree centrality for both Southwest Airlines (WN) and American Airlines (AA).        │\n",
              "│                                                                                                                 │\n",
              "│ ### Degree Centrality Results:                                                                                  │\n",
              "│ - **Southwest Airlines (WN)**: 0.0000                                                                           │\n",
              "│ - **American Airlines (AA)**: 0.0000                                                                            │\n",
              "│                                                                                                                 │\n",
              "│ This indicates that neither airline has any direct connections in the current graph representation.             │\n",
              "│                                                                                                                 │\n",
              "│ If you would like to explore further metrics or need additional information, please let me know!                │\n",
              "╰─────────────────────────────────────────────────────────────────────────────────────────────────────────────────╯\n",
              "</pre>\n"
            ]
          },
          "metadata": {}
        },
        {
          "output_type": "display_data",
          "data": {
            "text/plain": [
              "╭──────────────────────────────────── \u001b[1;36m== Combined Final Result ==\u001b[0m ────────────────────────────────────╮\n",
              "│ The top two airlines based on flight volume are:                                                    │\n",
              "│                                                                                                     │\n",
              "│ 1. **Southwest Airlines (WN)** - 48,065 flights                                                     │\n",
              "│ 2. **American Airlines (AA)** - 24,797 flights                                                      │\n",
              "│                                                                                                     │\n",
              "│ ### Degree Centrality Results:                                                                      │\n",
              "│ - **Southwest Airlines (WN)**: 0.0000                                                               │\n",
              "│ - **American Airlines (AA)**: 0.0000                                                                │\n",
              "│                                                                                                     │\n",
              "│ This indicates that neither airline has any direct connections in the current graph representation. │\n",
              "╰─────────────────────────────────────────────────────────────────────────────────────────────────────╯\n"
            ],
            "text/html": [
              "<pre style=\"white-space:pre;overflow-x:auto;line-height:normal;font-family:Menlo,'DejaVu Sans Mono',consolas,'Courier New',monospace\">╭──────────────────────────────────── <span style=\"color: #008080; text-decoration-color: #008080; font-weight: bold\">== Combined Final Result ==</span> ────────────────────────────────────╮\n",
              "│ The top two airlines based on flight volume are:                                                    │\n",
              "│                                                                                                     │\n",
              "│ 1. **Southwest Airlines (WN)** - 48,065 flights                                                     │\n",
              "│ 2. **American Airlines (AA)** - 24,797 flights                                                      │\n",
              "│                                                                                                     │\n",
              "│ ### Degree Centrality Results:                                                                      │\n",
              "│ - **Southwest Airlines (WN)**: 0.0000                                                               │\n",
              "│ - **American Airlines (AA)**: 0.0000                                                                │\n",
              "│                                                                                                     │\n",
              "│ This indicates that neither airline has any direct connections in the current graph representation. │\n",
              "╰─────────────────────────────────────────────────────────────────────────────────────────────────────╯\n",
              "</pre>\n"
            ]
          },
          "metadata": {}
        },
        {
          "output_type": "execute_result",
          "data": {
            "text/plain": [
              "'The top two airlines based on flight volume are:\\n\\n1. **Southwest Airlines (WN)** - 48,065 flights\\n2. **American Airlines (AA)** - 24,797 flights\\n\\n### Degree Centrality Results:\\n- **Southwest Airlines (WN)**: 0.0000\\n- **American Airlines (AA)**: 0.0000\\n\\nThis indicates that neither airline has any direct connections in the current graph representation.'"
            ],
            "application/vnd.google.colaboratory.intrinsic+json": {
              "type": "string"
            }
          },
          "metadata": {},
          "execution_count": 26
        }
      ],
      "source": [
        "query_graph(\"For the top two airlines based on flight volume, compute the centrality metrics\")"
      ]
    },
    {
      "cell_type": "markdown",
      "metadata": {
        "id": "Meluh23Mqe2z"
      },
      "source": [
        "---\n",
        "## Building UI using Gradio"
      ]
    },
    {
      "cell_type": "code",
      "execution_count": 28,
      "metadata": {
        "id": "1uPl5EYQqe2z"
      },
      "outputs": [],
      "source": [
        "# ! pip install seaborn"
      ]
    },
    {
      "cell_type": "code",
      "execution_count": 29,
      "metadata": {
        "id": "JZF483Djqe2z"
      },
      "outputs": [],
      "source": [
        "# ! pip install plotly"
      ]
    },
    {
      "cell_type": "code",
      "execution_count": 30,
      "metadata": {
        "id": "S-myKIyZqe2z"
      },
      "outputs": [],
      "source": [
        "def text_to_visualizer_llm_to_plot(query: str, result: str):\n",
        "    \"\"\"\n",
        "    This function generates a visualization for a graph query using only matplotlib.\n",
        "    It receives the original query and its textual result, then asks the LLM to produce Python code\n",
        "    that creates a plot using matplotlib. The code should assign the resulting matplotlib figure\n",
        "    object to a variable named FINAL_PLOT. Do NOT include any saving or display commands in the generated code.\n",
        "\n",
        "    After executing the generated code, the function will automatically save the figure to a hard-coded\n",
        "    filename \"visualization_output.png\" and then load and return that image.\n",
        "    \"\"\"\n",
        "    console.rule(\"[bold cyan]Step 1: Generating Visualization Code (Matplotlib Only)[/bold cyan]\")\n",
        "    prompt = f\"\"\"\n",
        "    I have a graph query: {query}\n",
        "    and its result is: {result}.\n",
        "    Generate Python code using matplotlib to produce a visualization plot relevant to the query and its result.\n",
        "    Assign the resulting matplotlib figure object to a variable named FINAL_PLOT.\n",
        "    Do NOT include any code to save or display the plot.\n",
        "    Your code:\n",
        "    \"\"\"\n",
        "    vis_code = llm.invoke(prompt).content\n",
        "    vis_code_cleaned = re.sub(r\"^```python\\n|```$\", \"\", vis_code, flags=re.MULTILINE).strip()\n",
        "    console.rule(\"[bold green]Generated Visualization Code[/bold green]\")\n",
        "    console.print(vis_code_cleaned, style=\"green\")\n",
        "    console.rule(\"[bold cyan]Step 2: Executing Visualization Code[/bold cyan]\")\n",
        "    global_vars = {\"G_adb\": G_adb, \"nx\": nx, \"plt\": plt, \"pd\": pd}\n",
        "    local_vars = {}\n",
        "    current_code = vis_code_cleaned\n",
        "    success = False\n",
        "    attempt = 1\n",
        "    MAX_ATTEMPTS = 3\n",
        "\n",
        "    while attempt <= MAX_ATTEMPTS and not success:\n",
        "        console.print(f\"[bold blue]Attempt {attempt}: Executing visualization code[/bold blue]\")\n",
        "        try:\n",
        "            exec(current_code, global_vars, local_vars)\n",
        "            success = True\n",
        "        except Exception as e:\n",
        "            error_message = str(e)\n",
        "            print(f\"Visualization EXEC ERROR on attempt {attempt}: {error_message}\")\n",
        "            correction_prompt = f\"\"\"\n",
        "            I have the following Python code intended to generate a visualization plot for a graph query using matplotlib.\n",
        "            The query is: {query}\n",
        "            The result of the query is: {result}\n",
        "            The code produced the following error: {error_message}\n",
        "            Please correct the code to fix this error. Ensure that the final variable FINAL_PLOT is assigned\n",
        "            to a matplotlib figure object. Do NOT include any code to save or display the plot.\n",
        "            Your corrected code:\n",
        "            \"\"\"\n",
        "            corrected_code = llm.invoke(correction_prompt).content\n",
        "            current_code = re.sub(r\"^```python\\n|```$\", \"\", corrected_code, flags=re.MULTILINE).strip()\n",
        "            console.print(\"[bold yellow]Corrected Visualization Code:[/bold yellow]\")\n",
        "            console.print(current_code, style=\"yellow\")\n",
        "            attempt += 1\n",
        "            local_vars = {}\n",
        "    if not success:\n",
        "        return None\n",
        "\n",
        "    console.rule(\"[bold green]Final Visualization Code Executed[/bold green]\")\n",
        "    FINAL_PLOT = local_vars.get(\"FINAL_PLOT\", None)\n",
        "    if FINAL_PLOT is None:\n",
        "        console.print(\"[bold red]No plot was generated.[/bold red]\")\n",
        "        return None\n",
        "\n",
        "    # Saving of the plot to \"visualization_output.png\"\n",
        "    try:\n",
        "        output_filename = \"visualization_output.png\"\n",
        "        FINAL_PLOT.savefig(output_filename, format=\"png\")\n",
        "        plt.close(FINAL_PLOT)\n",
        "        abs_path = os.path.abspath(output_filename)\n",
        "        print(\"Plot saved to:\", abs_path)\n",
        "        time.sleep(0.5)\n",
        "        with open(output_filename, \"rb\") as f:\n",
        "            img_bytes = f.read()\n",
        "\n",
        "        vis_image = Image.open(io.BytesIO(img_bytes))\n",
        "        print(\"Loaded image size:\", vis_image.size, \"mode:\", vis_image.mode)\n",
        "        return img_bytes\n",
        "    except Exception as e:\n",
        "        console.print(f\"[bold red]Error saving or loading plot: {e}[/bold red]\")\n",
        "        return None\n"
      ]
    },
    {
      "cell_type": "code",
      "execution_count": 31,
      "metadata": {
        "colab": {
          "base_uri": "https://localhost:8080/"
        },
        "id": "0_I7zbcQqe2z",
        "outputId": "652f3680-ee6f-47f4-b6fd-b7f4137578c1"
      },
      "outputs": [
        {
          "output_type": "stream",
          "name": "stdout",
          "text": [
            "Collecting gradio\n",
            "  Downloading gradio-5.20.1-py3-none-any.whl.metadata (16 kB)\n",
            "Collecting aiofiles<24.0,>=22.0 (from gradio)\n",
            "  Downloading aiofiles-23.2.1-py3-none-any.whl.metadata (9.7 kB)\n",
            "Requirement already satisfied: anyio<5.0,>=3.0 in /usr/local/lib/python3.11/dist-packages (from gradio) (3.7.1)\n",
            "Collecting fastapi<1.0,>=0.115.2 (from gradio)\n",
            "  Downloading fastapi-0.115.11-py3-none-any.whl.metadata (27 kB)\n",
            "Collecting ffmpy (from gradio)\n",
            "  Downloading ffmpy-0.5.0-py3-none-any.whl.metadata (3.0 kB)\n",
            "Collecting gradio-client==1.7.2 (from gradio)\n",
            "  Downloading gradio_client-1.7.2-py3-none-any.whl.metadata (7.1 kB)\n",
            "Collecting groovy~=0.1 (from gradio)\n",
            "  Downloading groovy-0.1.2-py3-none-any.whl.metadata (6.1 kB)\n",
            "Requirement already satisfied: httpx>=0.24.1 in /usr/local/lib/python3.11/dist-packages (from gradio) (0.28.1)\n",
            "Requirement already satisfied: huggingface-hub>=0.28.1 in /usr/local/lib/python3.11/dist-packages (from gradio) (0.28.1)\n",
            "Requirement already satisfied: jinja2<4.0 in /usr/local/lib/python3.11/dist-packages (from gradio) (3.1.5)\n",
            "Collecting markupsafe~=2.0 (from gradio)\n",
            "  Downloading MarkupSafe-2.1.5-cp311-cp311-manylinux_2_17_x86_64.manylinux2014_x86_64.whl.metadata (3.0 kB)\n",
            "Requirement already satisfied: numpy<3.0,>=1.0 in /usr/local/lib/python3.11/dist-packages (from gradio) (1.26.4)\n",
            "Requirement already satisfied: orjson~=3.0 in /usr/local/lib/python3.11/dist-packages (from gradio) (3.10.15)\n",
            "Requirement already satisfied: packaging in /usr/local/lib/python3.11/dist-packages (from gradio) (24.2)\n",
            "Requirement already satisfied: pandas<3.0,>=1.0 in /usr/local/lib/python3.11/dist-packages (from gradio) (2.2.2)\n",
            "Requirement already satisfied: pillow<12.0,>=8.0 in /usr/local/lib/python3.11/dist-packages (from gradio) (11.1.0)\n",
            "Requirement already satisfied: pydantic>=2.0 in /usr/local/lib/python3.11/dist-packages (from gradio) (2.10.6)\n",
            "Collecting pydub (from gradio)\n",
            "  Downloading pydub-0.25.1-py2.py3-none-any.whl.metadata (1.4 kB)\n",
            "Collecting python-multipart>=0.0.18 (from gradio)\n",
            "  Downloading python_multipart-0.0.20-py3-none-any.whl.metadata (1.8 kB)\n",
            "Requirement already satisfied: pyyaml<7.0,>=5.0 in /usr/local/lib/python3.11/dist-packages (from gradio) (6.0.2)\n",
            "Collecting ruff>=0.9.3 (from gradio)\n",
            "  Downloading ruff-0.9.10-py3-none-manylinux_2_17_x86_64.manylinux2014_x86_64.whl.metadata (25 kB)\n",
            "Collecting safehttpx<0.2.0,>=0.1.6 (from gradio)\n",
            "  Downloading safehttpx-0.1.6-py3-none-any.whl.metadata (4.2 kB)\n",
            "Collecting semantic-version~=2.0 (from gradio)\n",
            "  Downloading semantic_version-2.10.0-py2.py3-none-any.whl.metadata (9.7 kB)\n",
            "Collecting starlette<1.0,>=0.40.0 (from gradio)\n",
            "  Downloading starlette-0.46.1-py3-none-any.whl.metadata (6.2 kB)\n",
            "Collecting tomlkit<0.14.0,>=0.12.0 (from gradio)\n",
            "  Downloading tomlkit-0.13.2-py3-none-any.whl.metadata (2.7 kB)\n",
            "Requirement already satisfied: typer<1.0,>=0.12 in /usr/local/lib/python3.11/dist-packages (from gradio) (0.15.2)\n",
            "Requirement already satisfied: typing-extensions~=4.0 in /usr/local/lib/python3.11/dist-packages (from gradio) (4.12.2)\n",
            "Collecting uvicorn>=0.14.0 (from gradio)\n",
            "  Downloading uvicorn-0.34.0-py3-none-any.whl.metadata (6.5 kB)\n",
            "Requirement already satisfied: fsspec in /usr/local/lib/python3.11/dist-packages (from gradio-client==1.7.2->gradio) (2024.10.0)\n",
            "Requirement already satisfied: websockets<16.0,>=10.0 in /usr/local/lib/python3.11/dist-packages (from gradio-client==1.7.2->gradio) (14.2)\n",
            "Requirement already satisfied: idna>=2.8 in /usr/local/lib/python3.11/dist-packages (from anyio<5.0,>=3.0->gradio) (3.10)\n",
            "Requirement already satisfied: sniffio>=1.1 in /usr/local/lib/python3.11/dist-packages (from anyio<5.0,>=3.0->gradio) (1.3.1)\n",
            "Requirement already satisfied: certifi in /usr/local/lib/python3.11/dist-packages (from httpx>=0.24.1->gradio) (2025.1.31)\n",
            "Requirement already satisfied: httpcore==1.* in /usr/local/lib/python3.11/dist-packages (from httpx>=0.24.1->gradio) (1.0.7)\n",
            "Requirement already satisfied: h11<0.15,>=0.13 in /usr/local/lib/python3.11/dist-packages (from httpcore==1.*->httpx>=0.24.1->gradio) (0.14.0)\n",
            "Requirement already satisfied: filelock in /usr/local/lib/python3.11/dist-packages (from huggingface-hub>=0.28.1->gradio) (3.17.0)\n",
            "Requirement already satisfied: requests in /usr/local/lib/python3.11/dist-packages (from huggingface-hub>=0.28.1->gradio) (2.32.3)\n",
            "Requirement already satisfied: tqdm>=4.42.1 in /usr/local/lib/python3.11/dist-packages (from huggingface-hub>=0.28.1->gradio) (4.67.1)\n",
            "Requirement already satisfied: python-dateutil>=2.8.2 in /usr/local/lib/python3.11/dist-packages (from pandas<3.0,>=1.0->gradio) (2.8.2)\n",
            "Requirement already satisfied: pytz>=2020.1 in /usr/local/lib/python3.11/dist-packages (from pandas<3.0,>=1.0->gradio) (2025.1)\n",
            "Requirement already satisfied: tzdata>=2022.7 in /usr/local/lib/python3.11/dist-packages (from pandas<3.0,>=1.0->gradio) (2025.1)\n",
            "Requirement already satisfied: annotated-types>=0.6.0 in /usr/local/lib/python3.11/dist-packages (from pydantic>=2.0->gradio) (0.7.0)\n",
            "Requirement already satisfied: pydantic-core==2.27.2 in /usr/local/lib/python3.11/dist-packages (from pydantic>=2.0->gradio) (2.27.2)\n",
            "Requirement already satisfied: click>=8.0.0 in /usr/local/lib/python3.11/dist-packages (from typer<1.0,>=0.12->gradio) (8.1.8)\n",
            "Requirement already satisfied: shellingham>=1.3.0 in /usr/local/lib/python3.11/dist-packages (from typer<1.0,>=0.12->gradio) (1.5.4)\n",
            "Requirement already satisfied: rich>=10.11.0 in /usr/local/lib/python3.11/dist-packages (from typer<1.0,>=0.12->gradio) (13.9.4)\n",
            "Requirement already satisfied: six>=1.5 in /usr/local/lib/python3.11/dist-packages (from python-dateutil>=2.8.2->pandas<3.0,>=1.0->gradio) (1.17.0)\n",
            "Requirement already satisfied: markdown-it-py>=2.2.0 in /usr/local/lib/python3.11/dist-packages (from rich>=10.11.0->typer<1.0,>=0.12->gradio) (3.0.0)\n",
            "Requirement already satisfied: pygments<3.0.0,>=2.13.0 in /usr/local/lib/python3.11/dist-packages (from rich>=10.11.0->typer<1.0,>=0.12->gradio) (2.18.0)\n",
            "Requirement already satisfied: charset-normalizer<4,>=2 in /usr/local/lib/python3.11/dist-packages (from requests->huggingface-hub>=0.28.1->gradio) (3.4.1)\n",
            "Requirement already satisfied: urllib3<3,>=1.21.1 in /usr/local/lib/python3.11/dist-packages (from requests->huggingface-hub>=0.28.1->gradio) (2.3.0)\n",
            "Requirement already satisfied: mdurl~=0.1 in /usr/local/lib/python3.11/dist-packages (from markdown-it-py>=2.2.0->rich>=10.11.0->typer<1.0,>=0.12->gradio) (0.1.2)\n",
            "Downloading gradio-5.20.1-py3-none-any.whl (62.3 MB)\n",
            "\u001b[2K   \u001b[90m━━━━━━━━━━━━━━━━━━━━━━━━━━━━━━━━━━━━━━━━\u001b[0m \u001b[32m62.3/62.3 MB\u001b[0m \u001b[31m15.0 MB/s\u001b[0m eta \u001b[36m0:00:00\u001b[0m\n",
            "\u001b[?25hDownloading gradio_client-1.7.2-py3-none-any.whl (322 kB)\n",
            "\u001b[2K   \u001b[90m━━━━━━━━━━━━━━━━━━━━━━━━━━━━━━━━━━━━━━━━\u001b[0m \u001b[32m322.1/322.1 kB\u001b[0m \u001b[31m26.3 MB/s\u001b[0m eta \u001b[36m0:00:00\u001b[0m\n",
            "\u001b[?25hDownloading aiofiles-23.2.1-py3-none-any.whl (15 kB)\n",
            "Downloading fastapi-0.115.11-py3-none-any.whl (94 kB)\n",
            "\u001b[2K   \u001b[90m━━━━━━━━━━━━━━━━━━━━━━━━━━━━━━━━━━━━━━━━\u001b[0m \u001b[32m94.9/94.9 kB\u001b[0m \u001b[31m7.7 MB/s\u001b[0m eta \u001b[36m0:00:00\u001b[0m\n",
            "\u001b[?25hDownloading groovy-0.1.2-py3-none-any.whl (14 kB)\n",
            "Downloading MarkupSafe-2.1.5-cp311-cp311-manylinux_2_17_x86_64.manylinux2014_x86_64.whl (28 kB)\n",
            "Downloading python_multipart-0.0.20-py3-none-any.whl (24 kB)\n",
            "Downloading ruff-0.9.10-py3-none-manylinux_2_17_x86_64.manylinux2014_x86_64.whl (11.3 MB)\n",
            "\u001b[2K   \u001b[90m━━━━━━━━━━━━━━━━━━━━━━━━━━━━━━━━━━━━━━━━\u001b[0m \u001b[32m11.3/11.3 MB\u001b[0m \u001b[31m112.1 MB/s\u001b[0m eta \u001b[36m0:00:00\u001b[0m\n",
            "\u001b[?25hDownloading safehttpx-0.1.6-py3-none-any.whl (8.7 kB)\n",
            "Downloading semantic_version-2.10.0-py2.py3-none-any.whl (15 kB)\n",
            "Downloading starlette-0.46.1-py3-none-any.whl (71 kB)\n",
            "\u001b[2K   \u001b[90m━━━━━━━━━━━━━━━━━━━━━━━━━━━━━━━━━━━━━━━━\u001b[0m \u001b[32m72.0/72.0 kB\u001b[0m \u001b[31m7.4 MB/s\u001b[0m eta \u001b[36m0:00:00\u001b[0m\n",
            "\u001b[?25hDownloading tomlkit-0.13.2-py3-none-any.whl (37 kB)\n",
            "Downloading uvicorn-0.34.0-py3-none-any.whl (62 kB)\n",
            "\u001b[2K   \u001b[90m━━━━━━━━━━━━━━━━━━━━━━━━━━━━━━━━━━━━━━━━\u001b[0m \u001b[32m62.3/62.3 kB\u001b[0m \u001b[31m6.8 MB/s\u001b[0m eta \u001b[36m0:00:00\u001b[0m\n",
            "\u001b[?25hDownloading ffmpy-0.5.0-py3-none-any.whl (6.0 kB)\n",
            "Downloading pydub-0.25.1-py2.py3-none-any.whl (32 kB)\n",
            "Installing collected packages: pydub, uvicorn, tomlkit, semantic-version, ruff, python-multipart, markupsafe, groovy, ffmpy, aiofiles, starlette, safehttpx, gradio-client, fastapi, gradio\n",
            "  Attempting uninstall: markupsafe\n",
            "    Found existing installation: MarkupSafe 3.0.2\n",
            "    Uninstalling MarkupSafe-3.0.2:\n",
            "      Successfully uninstalled MarkupSafe-3.0.2\n",
            "Successfully installed aiofiles-23.2.1 fastapi-0.115.11 ffmpy-0.5.0 gradio-5.20.1 gradio-client-1.7.2 groovy-0.1.2 markupsafe-2.1.5 pydub-0.25.1 python-multipart-0.0.20 ruff-0.9.10 safehttpx-0.1.6 semantic-version-2.10.0 starlette-0.46.1 tomlkit-0.13.2 uvicorn-0.34.0\n"
          ]
        }
      ],
      "source": [
        "!pip install --upgrade gradio"
      ]
    },
    {
      "cell_type": "code",
      "execution_count": 32,
      "metadata": {
        "colab": {
          "base_uri": "https://localhost:8080/"
        },
        "id": "vUCyZ4wjqe2z",
        "outputId": "85d9e9b4-27cc-4719-e033-78766c8fd590"
      },
      "outputs": [
        {
          "output_type": "stream",
          "name": "stdout",
          "text": [
            "Collecting ansi2html\n",
            "  Downloading ansi2html-1.9.2-py3-none-any.whl.metadata (3.7 kB)\n",
            "Downloading ansi2html-1.9.2-py3-none-any.whl (17 kB)\n",
            "Installing collected packages: ansi2html\n",
            "Successfully installed ansi2html-1.9.2\n"
          ]
        }
      ],
      "source": [
        "!pip install ansi2html"
      ]
    },
    {
      "cell_type": "code",
      "execution_count": 33,
      "metadata": {
        "id": "uvdCuUz4qe2z"
      },
      "outputs": [],
      "source": [
        "import gradio as gr\n",
        "import io\n",
        "import sys\n",
        "import time\n",
        "import threading\n",
        "import builtins\n",
        "import re\n",
        "from contextlib import redirect_stdout, redirect_stderr\n",
        "from rich.console import Console\n",
        "from ansi2html import Ansi2HTMLConverter\n",
        "from PIL import Image"
      ]
    },
    {
      "cell_type": "code",
      "execution_count": 34,
      "metadata": {
        "id": "T-wwU6asqe20"
      },
      "outputs": [],
      "source": [
        "def run_query_generator_with_visualization(user_query, sample_query):\n",
        "    \"\"\"\n",
        "    Executes the graph query and then calls the visualization function.\n",
        "    Yields three outputs: final text answer, full logs, and the visualization (if generated).\n",
        "    \"\"\"\n",
        "    final_query = user_query.strip() if user_query.strip() else sample_query\n",
        "    captured_output = io.StringIO()\n",
        "\n",
        "    original_stdout = sys.stdout\n",
        "    original_stderr = sys.stderr\n",
        "    original_print = builtins.print\n",
        "    original_console = console\n",
        "\n",
        "    new_console = Console(file=captured_output, force_terminal=True)\n",
        "\n",
        "    def custom_print(*args, **kwargs):\n",
        "        original_print(*args, **kwargs)\n",
        "        message = \" \".join(map(str, args)) + \"\\n\"\n",
        "        captured_output.write(message)\n",
        "\n",
        "    builtins.print = custom_print\n",
        "    sys.stdout = captured_output\n",
        "    sys.stderr = captured_output\n",
        "    globals()['console'] = new_console\n",
        "\n",
        "    result_container = {}\n",
        "\n",
        "    def target():\n",
        "        try:\n",
        "            result_container[\"result\"] = query_graph(final_query)\n",
        "        except Exception as e:\n",
        "            result_container[\"result\"] = f\"Error: {str(e)}\"\n",
        "\n",
        "    thread = threading.Thread(target=target)\n",
        "    thread.start()\n",
        "    conv = Ansi2HTMLConverter(inline=True)\n",
        "\n",
        "    while thread.is_alive():\n",
        "        time.sleep(0.5)\n",
        "        ansi_output = captured_output.getvalue()\n",
        "        html_output = conv.convert(ansi_output, full=False)\n",
        "        html_output_wrapped = f'<pre style=\"white-space: pre-wrap;\">{html_output}</pre>'\n",
        "        yield \"\", html_output_wrapped, None\n",
        "\n",
        "    thread.join()\n",
        "    final_logs = conv.convert(captured_output.getvalue(), full=False)\n",
        "    final_logs_wrapped = f'<pre style=\"white-space: pre-wrap;\">{final_logs}</pre>'\n",
        "    final_result = result_container.get(\"result\", \"No result\")\n",
        "\n",
        "    sys.stdout = original_stdout\n",
        "    sys.stderr = original_stderr\n",
        "    globals()['console'] = original_console\n",
        "    builtins.print = original_print\n",
        "\n",
        "    try:\n",
        "        vis_image = text_to_visualizer_llm_to_plot(final_query, final_result)\n",
        "        if vis_image is not None:\n",
        "            vis_image = Image.open(io.BytesIO(vis_image))\n",
        "    except Exception as e:\n",
        "        vis_image = None\n",
        "\n",
        "    yield final_result, final_logs_wrapped, vis_image"
      ]
    },
    {
      "cell_type": "code",
      "execution_count": 35,
      "metadata": {
        "id": "MIHmTAxXqe20"
      },
      "outputs": [],
      "source": [
        "# Sample queries.\n",
        "sample_queries = [\n",
        "    \"List the top 10 popular airports\",\n",
        "    \"Identify the airline operating the most flights in the dataset.\",\n",
        "    \"Determine the airport with the highest betweenness centrality in the network.\",\n",
        "    \"Identify the top 5 airports by degree centrality.\",\n",
        "    \"Is the flight network strongly connected or weakly connected? Provide details.\",\n",
        "    \"Find the airport with the highest number of outgoing flights.\",\n",
        "    \"Who is connected to Node 0?\",\n",
        "    \"How strongly connected is the network? Used connected components\",\n",
        "    \"Find the most influential airports using PageRank\",\n",
        "    \"For top 2 major airline, compute network metrics such as average path length for their flight network.\",\n",
        "    \"For the top two airlines based on flight volume, compute the centrality metrics\"\n",
        "]\n"
      ]
    },
    {
      "cell_type": "code",
      "execution_count": 36,
      "metadata": {
        "colab": {
          "base_uri": "https://localhost:8080/",
          "height": 625
        },
        "id": "gNmMVNDMqe20",
        "outputId": "1b3b7079-6590-48a1-ba22-4fb641d17107"
      },
      "outputs": [
        {
          "output_type": "stream",
          "name": "stdout",
          "text": [
            "Running Gradio in a Colab notebook requires sharing enabled. Automatically setting `share=True` (you can turn this off by setting `share=False` in `launch()` explicitly).\n",
            "\n",
            "Colab notebook detected. To show errors in colab notebook, set debug=True in launch()\n",
            "* Running on public URL: https://400b073143008a6268.gradio.live\n",
            "\n",
            "This share link expires in 72 hours. For free permanent hosting and GPU upgrades, run `gradio deploy` from the terminal in the working directory to deploy to Hugging Face Spaces (https://huggingface.co/spaces)\n"
          ]
        },
        {
          "output_type": "display_data",
          "data": {
            "text/plain": [
              "<IPython.core.display.HTML object>"
            ],
            "text/html": [
              "<div><iframe src=\"https://400b073143008a6268.gradio.live\" width=\"100%\" height=\"500\" allow=\"autoplay; camera; microphone; clipboard-read; clipboard-write;\" frameborder=\"0\" allowfullscreen></iframe></div>"
            ]
          },
          "metadata": {}
        },
        {
          "output_type": "execute_result",
          "data": {
            "text/plain": []
          },
          "metadata": {},
          "execution_count": 36
        }
      ],
      "source": [
        "with gr.Blocks(title=\"Flight Graph Insights\") as demo:\n",
        "    gr.Markdown(\"## Flight Graph Insights: A Divide-and-Conquer Strategy\")\n",
        "    gr.Markdown(\n",
        "        \"On the top left, enter your graph query (or choose a sample). The top right displays the visualization output. \"\n",
        "        \"Below, you'll see the final answer and the full internal thinking process.\"\n",
        "    )\n",
        "    with gr.Row():\n",
        "        with gr.Column(scale=1):\n",
        "            query_input = gr.Textbox(label=\"Graph Query\", placeholder=\"Type your query here...\", lines=3)\n",
        "            sample_dropdown = gr.Dropdown(label=\"Sample Query\", choices=sample_queries, value=sample_queries[0])\n",
        "            run_button = gr.Button(\"Run Query\")\n",
        "        with gr.Column(scale=1):\n",
        "            visualization_output = gr.Image(label=\"Visualization\", type=\"pil\")\n",
        "\n",
        "    final_output = gr.Textbox(label=\"Final Answer\", placeholder=\"The final answer will appear here...\", lines=5)\n",
        "    logs_output = gr.HTML(label=\"Full Thinking Process\")\n",
        "\n",
        "    run_button.click(\n",
        "        fn=run_query_generator_with_visualization,\n",
        "        inputs=[query_input, sample_dropdown],\n",
        "        outputs=[final_output, logs_output, visualization_output]\n",
        "    )\n",
        "\n",
        "demo.launch()"
      ]
    },
    {
      "cell_type": "code",
      "execution_count": null,
      "metadata": {
        "id": "qosqICr4qe20"
      },
      "outputs": [],
      "source": []
    },
    {
      "cell_type": "code",
      "execution_count": null,
      "metadata": {
        "id": "XVjAgbdEqe20"
      },
      "outputs": [],
      "source": []
    }
  ],
  "metadata": {
    "accelerator": "GPU",
    "colab": {
      "collapsed_sections": [
        "L4nmLCFf3HoC",
        "hoyxgmOz3CwF",
        "vrB4FpB63yEF",
        "5fsZEyyh3F87",
        "VE6lCtDb6KGw"
      ],
      "gpuType": "T4",
      "provenance": []
    },
    "kernelspec": {
      "display_name": "Python 3 (ipykernel)",
      "language": "python",
      "name": "python3"
    },
    "language_info": {
      "codemirror_mode": {
        "name": "ipython",
        "version": 3
      },
      "file_extension": ".py",
      "mimetype": "text/x-python",
      "name": "python",
      "nbconvert_exporter": "python",
      "pygments_lexer": "ipython3",
      "version": "3.12.9"
    }
  },
  "nbformat": 4,
  "nbformat_minor": 0
}